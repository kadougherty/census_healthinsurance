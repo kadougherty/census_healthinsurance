{
 "cells": [
  {
   "cell_type": "markdown",
   "id": "b4884408",
   "metadata": {},
   "source": [
    "# predicting health coverage in the US"
   ]
  },
  {
   "cell_type": "markdown",
   "id": "c0ea8d50",
   "metadata": {},
   "source": [
    "This project will call data from the American Community Survey Public Use MicroSample(PUMS) API. The most recent survey publicly availble at this API is from 2019. (Note data from 2020 are available to download in csv files).\n",
    "\n",
    "This project uses the Census Bureau Data API but is not endorsed or certified by the Census Bureau.\n",
    "\n",
    "1. American Community Survey (ACS) (census.gov).\n",
    "https://www.census.gov/programs-surveys/acs/\n",
    "2. American Community Survey Data via API (census.gov).\n",
    "https://www.census.gov/programs-surveys/acs/data/data-via-api.html\n",
    "\n",
    "The goal of this project is to predict whether an individual has health insurance (or not) based on demographic data in the PUMS. "
   ]
  },
  {
   "cell_type": "code",
   "execution_count": 1,
   "id": "df6eba72",
   "metadata": {},
   "outputs": [],
   "source": [
    "# import libraries\n",
    "import os\n",
    "import pandas as pd\n",
    "import matplotlib.pyplot as plt\n",
    "import seaborn as sns\n",
    "import ppscore as pps\n",
    "import numpy as np\n",
    "from dotenv import load_dotenv\n",
    "import utils"
   ]
  },
  {
   "cell_type": "markdown",
   "id": "ad29b9d4",
   "metadata": {},
   "source": [
    "Load the cleaned data from csv file and the code dictionary for the column names."
   ]
  },
  {
   "cell_type": "code",
   "execution_count": 2,
   "id": "6ba54e76",
   "metadata": {},
   "outputs": [],
   "source": [
    "datadir = os.path.join(os.getcwd(),\"raw_data\")\n",
    "interimdatadir = os.path.join(os.getcwd(),\"interim_data\")\n",
    "figdir = os.path.join(os.getcwd(),\"plots\")"
   ]
  },
  {
   "cell_type": "code",
   "execution_count": 3,
   "id": "1cc4cc28",
   "metadata": {},
   "outputs": [
    {
     "data": {
      "text/html": [
       "<div>\n",
       "<style scoped>\n",
       "    .dataframe tbody tr th:only-of-type {\n",
       "        vertical-align: middle;\n",
       "    }\n",
       "\n",
       "    .dataframe tbody tr th {\n",
       "        vertical-align: top;\n",
       "    }\n",
       "\n",
       "    .dataframe thead th {\n",
       "        text-align: right;\n",
       "    }\n",
       "</style>\n",
       "<table border=\"1\" class=\"dataframe\">\n",
       "  <thead>\n",
       "    <tr style=\"text-align: right;\">\n",
       "      <th></th>\n",
       "      <th>Unnamed: 0</th>\n",
       "      <th>index</th>\n",
       "      <th>HHLANP</th>\n",
       "      <th>FBATHP</th>\n",
       "      <th>DRIVESP</th>\n",
       "      <th>FWATP</th>\n",
       "      <th>FBROADBNDP</th>\n",
       "      <th>FWKWNP</th>\n",
       "      <th>HOTWAT</th>\n",
       "      <th>FWKHP</th>\n",
       "      <th>...</th>\n",
       "      <th>SOCP</th>\n",
       "      <th>FSMOCP</th>\n",
       "      <th>FDOUTP</th>\n",
       "      <th>PERNP</th>\n",
       "      <th>SCH</th>\n",
       "      <th>WKL</th>\n",
       "      <th>TEL</th>\n",
       "      <th>TEN</th>\n",
       "      <th>BST</th>\n",
       "      <th>STATE</th>\n",
       "    </tr>\n",
       "  </thead>\n",
       "  <tbody>\n",
       "    <tr>\n",
       "      <th>0</th>\n",
       "      <td>0</td>\n",
       "      <td>24495</td>\n",
       "      <td>9500</td>\n",
       "      <td>0</td>\n",
       "      <td>0</td>\n",
       "      <td>0</td>\n",
       "      <td>0</td>\n",
       "      <td>0</td>\n",
       "      <td>9</td>\n",
       "      <td>0</td>\n",
       "      <td>...</td>\n",
       "      <td>472031</td>\n",
       "      <td>0</td>\n",
       "      <td>0</td>\n",
       "      <td>1200</td>\n",
       "      <td>1</td>\n",
       "      <td>1</td>\n",
       "      <td>1</td>\n",
       "      <td>3</td>\n",
       "      <td>1</td>\n",
       "      <td>AL</td>\n",
       "    </tr>\n",
       "    <tr>\n",
       "      <th>1</th>\n",
       "      <td>1</td>\n",
       "      <td>18440</td>\n",
       "      <td>9500</td>\n",
       "      <td>0</td>\n",
       "      <td>1</td>\n",
       "      <td>0</td>\n",
       "      <td>0</td>\n",
       "      <td>0</td>\n",
       "      <td>9</td>\n",
       "      <td>0</td>\n",
       "      <td>...</td>\n",
       "      <td>1910XX</td>\n",
       "      <td>0</td>\n",
       "      <td>0</td>\n",
       "      <td>40700</td>\n",
       "      <td>1</td>\n",
       "      <td>1</td>\n",
       "      <td>1</td>\n",
       "      <td>1</td>\n",
       "      <td>1</td>\n",
       "      <td>AL</td>\n",
       "    </tr>\n",
       "    <tr>\n",
       "      <th>2</th>\n",
       "      <td>2</td>\n",
       "      <td>24661</td>\n",
       "      <td>9500</td>\n",
       "      <td>0</td>\n",
       "      <td>0</td>\n",
       "      <td>0</td>\n",
       "      <td>0</td>\n",
       "      <td>0</td>\n",
       "      <td>9</td>\n",
       "      <td>0</td>\n",
       "      <td>...</td>\n",
       "      <td>-1</td>\n",
       "      <td>0</td>\n",
       "      <td>0</td>\n",
       "      <td>-10001</td>\n",
       "      <td>2</td>\n",
       "      <td>0</td>\n",
       "      <td>1</td>\n",
       "      <td>1</td>\n",
       "      <td>1</td>\n",
       "      <td>AL</td>\n",
       "    </tr>\n",
       "    <tr>\n",
       "      <th>3</th>\n",
       "      <td>3</td>\n",
       "      <td>21273</td>\n",
       "      <td>9500</td>\n",
       "      <td>0</td>\n",
       "      <td>0</td>\n",
       "      <td>0</td>\n",
       "      <td>0</td>\n",
       "      <td>0</td>\n",
       "      <td>9</td>\n",
       "      <td>0</td>\n",
       "      <td>...</td>\n",
       "      <td>-1</td>\n",
       "      <td>0</td>\n",
       "      <td>0</td>\n",
       "      <td>0</td>\n",
       "      <td>1</td>\n",
       "      <td>3</td>\n",
       "      <td>1</td>\n",
       "      <td>3</td>\n",
       "      <td>1</td>\n",
       "      <td>AL</td>\n",
       "    </tr>\n",
       "    <tr>\n",
       "      <th>4</th>\n",
       "      <td>4</td>\n",
       "      <td>12532</td>\n",
       "      <td>9500</td>\n",
       "      <td>1</td>\n",
       "      <td>0</td>\n",
       "      <td>1</td>\n",
       "      <td>0</td>\n",
       "      <td>0</td>\n",
       "      <td>9</td>\n",
       "      <td>0</td>\n",
       "      <td>...</td>\n",
       "      <td>533030</td>\n",
       "      <td>1</td>\n",
       "      <td>1</td>\n",
       "      <td>0</td>\n",
       "      <td>1</td>\n",
       "      <td>2</td>\n",
       "      <td>1</td>\n",
       "      <td>1</td>\n",
       "      <td>1</td>\n",
       "      <td>AL</td>\n",
       "    </tr>\n",
       "    <tr>\n",
       "      <th>...</th>\n",
       "      <td>...</td>\n",
       "      <td>...</td>\n",
       "      <td>...</td>\n",
       "      <td>...</td>\n",
       "      <td>...</td>\n",
       "      <td>...</td>\n",
       "      <td>...</td>\n",
       "      <td>...</td>\n",
       "      <td>...</td>\n",
       "      <td>...</td>\n",
       "      <td>...</td>\n",
       "      <td>...</td>\n",
       "      <td>...</td>\n",
       "      <td>...</td>\n",
       "      <td>...</td>\n",
       "      <td>...</td>\n",
       "      <td>...</td>\n",
       "      <td>...</td>\n",
       "      <td>...</td>\n",
       "      <td>...</td>\n",
       "      <td>...</td>\n",
       "    </tr>\n",
       "    <tr>\n",
       "      <th>10195</th>\n",
       "      <td>10195</td>\n",
       "      <td>4765</td>\n",
       "      <td>9500</td>\n",
       "      <td>0</td>\n",
       "      <td>0</td>\n",
       "      <td>0</td>\n",
       "      <td>0</td>\n",
       "      <td>0</td>\n",
       "      <td>9</td>\n",
       "      <td>0</td>\n",
       "      <td>...</td>\n",
       "      <td>-1</td>\n",
       "      <td>0</td>\n",
       "      <td>0</td>\n",
       "      <td>0</td>\n",
       "      <td>1</td>\n",
       "      <td>3</td>\n",
       "      <td>1</td>\n",
       "      <td>1</td>\n",
       "      <td>56</td>\n",
       "      <td>WY</td>\n",
       "    </tr>\n",
       "    <tr>\n",
       "      <th>10196</th>\n",
       "      <td>10196</td>\n",
       "      <td>2936</td>\n",
       "      <td>9500</td>\n",
       "      <td>0</td>\n",
       "      <td>0</td>\n",
       "      <td>0</td>\n",
       "      <td>0</td>\n",
       "      <td>0</td>\n",
       "      <td>9</td>\n",
       "      <td>0</td>\n",
       "      <td>...</td>\n",
       "      <td>-1</td>\n",
       "      <td>0</td>\n",
       "      <td>0</td>\n",
       "      <td>0</td>\n",
       "      <td>1</td>\n",
       "      <td>3</td>\n",
       "      <td>1</td>\n",
       "      <td>3</td>\n",
       "      <td>56</td>\n",
       "      <td>WY</td>\n",
       "    </tr>\n",
       "    <tr>\n",
       "      <th>10197</th>\n",
       "      <td>10197</td>\n",
       "      <td>4673</td>\n",
       "      <td>9500</td>\n",
       "      <td>0</td>\n",
       "      <td>1</td>\n",
       "      <td>0</td>\n",
       "      <td>0</td>\n",
       "      <td>0</td>\n",
       "      <td>9</td>\n",
       "      <td>0</td>\n",
       "      <td>...</td>\n",
       "      <td>395094</td>\n",
       "      <td>1</td>\n",
       "      <td>0</td>\n",
       "      <td>45000</td>\n",
       "      <td>1</td>\n",
       "      <td>1</td>\n",
       "      <td>1</td>\n",
       "      <td>1</td>\n",
       "      <td>56</td>\n",
       "      <td>WY</td>\n",
       "    </tr>\n",
       "    <tr>\n",
       "      <th>10198</th>\n",
       "      <td>10198</td>\n",
       "      <td>4121</td>\n",
       "      <td>9500</td>\n",
       "      <td>0</td>\n",
       "      <td>2</td>\n",
       "      <td>1</td>\n",
       "      <td>0</td>\n",
       "      <td>1</td>\n",
       "      <td>9</td>\n",
       "      <td>0</td>\n",
       "      <td>...</td>\n",
       "      <td>352010</td>\n",
       "      <td>0</td>\n",
       "      <td>0</td>\n",
       "      <td>12700</td>\n",
       "      <td>2</td>\n",
       "      <td>1</td>\n",
       "      <td>1</td>\n",
       "      <td>3</td>\n",
       "      <td>56</td>\n",
       "      <td>WY</td>\n",
       "    </tr>\n",
       "    <tr>\n",
       "      <th>10199</th>\n",
       "      <td>10199</td>\n",
       "      <td>2883</td>\n",
       "      <td>1200</td>\n",
       "      <td>0</td>\n",
       "      <td>1</td>\n",
       "      <td>0</td>\n",
       "      <td>0</td>\n",
       "      <td>0</td>\n",
       "      <td>9</td>\n",
       "      <td>0</td>\n",
       "      <td>...</td>\n",
       "      <td>4520XX</td>\n",
       "      <td>0</td>\n",
       "      <td>0</td>\n",
       "      <td>30000</td>\n",
       "      <td>1</td>\n",
       "      <td>1</td>\n",
       "      <td>1</td>\n",
       "      <td>4</td>\n",
       "      <td>56</td>\n",
       "      <td>WY</td>\n",
       "    </tr>\n",
       "  </tbody>\n",
       "</table>\n",
       "<p>10200 rows × 282 columns</p>\n",
       "</div>"
      ],
      "text/plain": [
       "       Unnamed: 0  index  HHLANP  FBATHP  DRIVESP  FWATP  FBROADBNDP  FWKWNP  \\\n",
       "0               0  24495    9500       0        0      0           0       0   \n",
       "1               1  18440    9500       0        1      0           0       0   \n",
       "2               2  24661    9500       0        0      0           0       0   \n",
       "3               3  21273    9500       0        0      0           0       0   \n",
       "4               4  12532    9500       1        0      1           0       0   \n",
       "...           ...    ...     ...     ...      ...    ...         ...     ...   \n",
       "10195       10195   4765    9500       0        0      0           0       0   \n",
       "10196       10196   2936    9500       0        0      0           0       0   \n",
       "10197       10197   4673    9500       0        1      0           0       0   \n",
       "10198       10198   4121    9500       0        2      1           0       1   \n",
       "10199       10199   2883    1200       0        1      0           0       0   \n",
       "\n",
       "       HOTWAT  FWKHP  ...    SOCP  FSMOCP  FDOUTP  PERNP  SCH  WKL  TEL  TEN  \\\n",
       "0           9      0  ...  472031       0       0   1200    1    1    1    3   \n",
       "1           9      0  ...  1910XX       0       0  40700    1    1    1    1   \n",
       "2           9      0  ...      -1       0       0 -10001    2    0    1    1   \n",
       "3           9      0  ...      -1       0       0      0    1    3    1    3   \n",
       "4           9      0  ...  533030       1       1      0    1    2    1    1   \n",
       "...       ...    ...  ...     ...     ...     ...    ...  ...  ...  ...  ...   \n",
       "10195       9      0  ...      -1       0       0      0    1    3    1    1   \n",
       "10196       9      0  ...      -1       0       0      0    1    3    1    3   \n",
       "10197       9      0  ...  395094       1       0  45000    1    1    1    1   \n",
       "10198       9      0  ...  352010       0       0  12700    2    1    1    3   \n",
       "10199       9      0  ...  4520XX       0       0  30000    1    1    1    4   \n",
       "\n",
       "       BST  STATE  \n",
       "0        1     AL  \n",
       "1        1     AL  \n",
       "2        1     AL  \n",
       "3        1     AL  \n",
       "4        1     AL  \n",
       "...    ...    ...  \n",
       "10195   56     WY  \n",
       "10196   56     WY  \n",
       "10197   56     WY  \n",
       "10198   56     WY  \n",
       "10199   56     WY  \n",
       "\n",
       "[10200 rows x 282 columns]"
      ]
     },
     "execution_count": 3,
     "metadata": {},
     "output_type": "execute_result"
    }
   ],
   "source": [
    "_,_,_,nsamples = utils.getVars()\n",
    "fname    = os.path.join(interimdatadir,'allstates_subsample' + str(nsamples) + '.csv')\n",
    "df       = pd.read_csv(fname,low_memory=False)\n",
    "fname = os.path.join(interimdatadir,str(nsamples) + 'targets_oi.csv')\n",
    "targ_oi  = pd.read_csv(fname)\n",
    "codedict,code = utils.getCodeDictionary()\n",
    "target   = targ_oi['healthcodes'][1]\n",
    "df"
   ]
  },
  {
   "cell_type": "code",
   "execution_count": 4,
   "id": "eb83b5de",
   "metadata": {},
   "outputs": [],
   "source": [
    "df.drop('Unnamed: 0',axis=1,inplace=True)"
   ]
  },
  {
   "cell_type": "markdown",
   "id": "9f9a2b55",
   "metadata": {},
   "source": [
    "We know that there are a number of categorical variables in the dataset, as well as numerical variables. We can use the predictive power score (pps) to estimate the predictive power of each variable for our target variable. However, to use the predictive power score, we need to convert categorical variables to data type 'category.' "
   ]
  },
  {
   "cell_type": "code",
   "execution_count": 5,
   "id": "a1119ce1",
   "metadata": {},
   "outputs": [
    {
     "data": {
      "image/png": "[encoded data removed]",
      "text/plain": [
       "<Figure size 720x432 with 4 Axes>"
      ]
     },
     "metadata": {
      "needs_background": "light"
     },
     "output_type": "display_data"
    }
   ],
   "source": [
    "#try to identify categorical variables by considering number of unique values?\n",
    "plt.figure(figsize=(10,6))\n",
    "plt.subplot(2,2,1)\n",
    "plt.hist(df.nunique()) \n",
    "plt.ylabel('N vars')\n",
    "plt.title('')\n",
    "sns.despine()\n",
    "\n",
    "plt.subplot(2,2,2)\n",
    "plt.hist(df.nunique()[df.nunique().between(1,1500)])\n",
    "sns.despine()\n",
    "\n",
    "plt.subplot(2,2,3)\n",
    "plt.hist(df.nunique()[df.nunique().between(1,500)])\n",
    "sns.despine()\n",
    "plt.xlabel('n unique values in column')\n",
    "plt.ylabel('N columns')\n",
    "\n",
    "plt.subplot(2,2,4)\n",
    "plt.hist(df.nunique()[df.nunique().between(4,100)])\n",
    "sns.despine()\n",
    "plt.xlabel('n unique values in column')\n",
    "plt.show()"
   ]
  },
  {
   "cell_type": "markdown",
   "id": "8829fda1",
   "metadata": {},
   "source": [
    "Spot check info available for a variable that is very likely categorical (<=3 unique values)"
   ]
  },
  {
   "cell_type": "code",
   "execution_count": 6,
   "id": "fcf2d630",
   "metadata": {},
   "outputs": [
    {
     "name": "stdout",
     "output_type": "stream",
     "text": [
      "Bathtub or shower allocation flag\n",
      "values:\n",
      "{'1': 'Yes', '0': 'No', '-1': 'N/A (GQ)'}\n"
     ]
    }
   ],
   "source": [
    "cols = df.columns[df.nunique().between(2,3)]\n",
    "dets = utils.variableDetails(cols[0])\n",
    "print(dets['label'])\n",
    "print('values:')\n",
    "print(dets['values']['item'])"
   ]
  },
  {
   "cell_type": "markdown",
   "id": "f0abfa7b",
   "metadata": {},
   "source": [
    "Spot check info available for a variable that is very likely numerical (> 500 unique values)"
   ]
  },
  {
   "cell_type": "code",
   "execution_count": 7,
   "id": "33b8f1b9",
   "metadata": {},
   "outputs": [
    {
     "name": "stdout",
     "output_type": "stream",
     "text": [
      "Total person's income (signed, use ADJINC to adjust to constant dollars)\n",
      "values:\n",
      "{'-19999': 'N/A (less than 15 years old)', '-19998': 'Loss of $19998 or more (Rounded and bottom-coded components)', '0': 'None'}\n"
     ]
    }
   ],
   "source": [
    "cols = df.columns[df.nunique().gt(800)]\n",
    "dets = utils.variableDetails(cols[1])\n",
    "print(dets['label'])\n",
    "print('values:')\n",
    "print(dets['values']['item'])"
   ]
  },
  {
   "cell_type": "markdown",
   "id": "ceaa80a7",
   "metadata": {},
   "source": [
    "We know that the index column comes from the index in the row from our api call. It is categorical and at this point we do not need it, so we can drop. "
   ]
  },
  {
   "cell_type": "code",
   "execution_count": 8,
   "id": "7f3d17ff",
   "metadata": {},
   "outputs": [],
   "source": [
    "df.drop('index',axis=1,inplace=True)"
   ]
  },
  {
   "cell_type": "markdown",
   "id": "d48e733c",
   "metadata": {},
   "source": [
    "It looks like info on numerical values (like in the immediate cell above) includes a 'range' key to indicate the min and max of that numerical variable, while categorical variables do not include that information. Maybe we can use this to identify categorical/numerical variables. "
   ]
  },
  {
   "cell_type": "markdown",
   "id": "b2b65e5b",
   "metadata": {},
   "source": [
    "Call API for states in loop and save csv locally if it doesn't exist yet"
   ]
  },
  {
   "cell_type": "code",
   "execution_count": 9,
   "id": "c2b1dc3f",
   "metadata": {},
   "outputs": [],
   "source": [
    "column_list = df.columns.tolist()\n",
    "column_list.remove('STATE')\n",
    "fname = os.path.join(interimdatadir,'datatype_ncol' + str(df.shape[1]) + '.csv')\n",
    "if os.path.exists(fname) == False:  \n",
    "    range_key = list()\n",
    "    info_from_api = list()\n",
    "    n_unq_vals = list()\n",
    "    for column in column_list:\n",
    "        try: \n",
    "            dets = utils.variableDetails(column)\n",
    "            range_key.append('range' in dets['values'].keys())\n",
    "            info_from_api.append(True)\n",
    "            n_unq_vals.append(df[column].nunique())\n",
    "        except:\n",
    "            range_key.append(False)\n",
    "            info_from_api.append(False)\n",
    "            n_unq_vals.append(df[column].nunique())\n",
    "    datatype = pd.DataFrame({'var_name':column_list,'range_key':range_key,'n_unq_vals':n_unq_vals,'info_from_api':info_from_api})\n",
    "    datatype.to_csv(fname)\n",
    "else:\n",
    "    datatype = pd.read_csv(fname)"
   ]
  },
  {
   "cell_type": "code",
   "execution_count": 10,
   "id": "61da165f",
   "metadata": {},
   "outputs": [
    {
     "name": "stdout",
     "output_type": "stream",
     "text": [
      "The number of columns in our main df should equal the number of rows in our datatype dataframe: \n",
      "df column N:4\n",
      "datatype rows N:279\n",
      "The only vars where numerical info is not from the api:\n",
      "159          ST\n",
      "178    SERIALNO\n",
      "278         BST\n",
      "Name: var_name, dtype: object\n"
     ]
    }
   ],
   "source": [
    "print('The number of columns in our main df should equal the number of rows in our datatype dataframe: ')\n",
    "print('df column N:' + str(datatype.shape[1]))\n",
    "print('datatype rows N:' + str(datatype.shape[0]))\n",
    "print('The only vars where numerical info is not from the api:')\n",
    "print(datatype[datatype.info_from_api == False]['var_name'])"
   ]
  },
  {
   "cell_type": "markdown",
   "id": "40859bd1",
   "metadata": {},
   "source": [
    "We can do another check to see if this approach is adding up. Are there any variables coming out as categorical that have a very high number of unique values? Are any coming out as numerical that have very few unique values? "
   ]
  },
  {
   "cell_type": "code",
   "execution_count": 11,
   "id": "fbd666a2",
   "metadata": {
    "scrolled": true
   },
   "outputs": [
    {
     "data": {
      "image/png": "[encoded data removed]",
      "text/plain": [
       "<Figure size 720x288 with 2 Axes>"
      ]
     },
     "metadata": {
      "needs_background": "light"
     },
     "output_type": "display_data"
    }
   ],
   "source": [
    "plt.figure(figsize=(10,4))\n",
    "plt.subplot(1,2,1)\n",
    "plt.hist(datatype['n_unq_vals'].loc[datatype['range_key']==False],bins=100) \n",
    "\n",
    "plt.ylabel('N vars')\n",
    "plt.xlabel('n unique values')\n",
    "plt.title('categorical')\n",
    "sns.despine()\n",
    "\n",
    "plt.subplot(1,2,2)\n",
    "plt.hist(datatype['n_unq_vals'].loc[datatype['range_key']==True],bins=100) \n",
    "plt.xlabel('n unique values')\n",
    "plt.ylabel('N vars')\n",
    "\n",
    "plt.title('numerical')\n",
    "sns.despine()\n",
    "\n",
    "plt.show()"
   ]
  },
  {
   "cell_type": "markdown",
   "id": "b5b2c005",
   "metadata": {},
   "source": [
    "We can check our vars that lie on the unexpected extremes (low unique N, numerical)"
   ]
  },
  {
   "cell_type": "code",
   "execution_count": 12,
   "id": "f0b0c47e",
   "metadata": {},
   "outputs": [
    {
     "data": {
      "text/plain": [
       "var_name         RACNUM\n",
       "range_key          True\n",
       "n_unq_vals            5\n",
       "info_from_api      True\n",
       "Name: 87, dtype: object"
      ]
     },
     "execution_count": 12,
     "metadata": {},
     "output_type": "execute_result"
    }
   ],
   "source": [
    "min_cat_row = datatype.iloc[datatype['n_unq_vals'].loc[datatype['range_key']==True].idxmin()]\n",
    "min_cat_row"
   ]
  },
  {
   "cell_type": "code",
   "execution_count": 13,
   "id": "9280a4d9",
   "metadata": {},
   "outputs": [
    {
     "name": "stdout",
     "output_type": "stream",
     "text": [
      "var with min number of unique values that may be numerical:\n",
      "{'name': 'RACNUM', 'label': 'Number of major race groups represented', 'predicateType': 'int', 'group': 'N/A', 'limit': 0, 'suggested-weight': 'PWGTP', 'values': {'range': [{'min': '1', 'max': '6', 'description': 'Race groups'}]}}\n"
     ]
    }
   ],
   "source": [
    "print('var with min number of unique values that may be numerical:') \n",
    "min_cat_row = datatype.iloc[datatype['n_unq_vals'].loc[datatype['range_key']==True].idxmin()]\n",
    "\n",
    "dets = utils.variableDetails(min_cat_row['var_name'])\n",
    "print(dets)"
   ]
  },
  {
   "cell_type": "markdown",
   "id": "a2a073b1",
   "metadata": {},
   "source": [
    "This is numerical, so the approach may be working.."
   ]
  },
  {
   "cell_type": "markdown",
   "id": "15fc2136",
   "metadata": {},
   "source": [
    "We can check our vars that lie on the unexpected extremes (high unique N, categorical)"
   ]
  },
  {
   "cell_type": "code",
   "execution_count": 14,
   "id": "d5be2a1a",
   "metadata": {},
   "outputs": [
    {
     "name": "stdout",
     "output_type": "stream",
     "text": [
      "var with max number of unique values that may be categorical:\n",
      "var_name         SERIALNO\n",
      "range_key           False\n",
      "n_unq_vals          10114\n",
      "info_from_api       False\n",
      "Name: 178, dtype: object\n",
      "{'name': 'SERIALNO', 'label': 'Housing unit/GQ person serial number', 'predicateType': 'int', 'group': 'N/A', 'limit': 0, 'suggested-weight': 'PWGTP'}\n"
     ]
    }
   ],
   "source": [
    "print('var with max number of unique values that may be categorical:') \n",
    "max_cat_row = datatype.iloc[datatype['n_unq_vals'].loc[datatype['range_key']==False].idxmax()]\n",
    "\n",
    "print(max_cat_row)\n",
    "\n",
    "# get deets:\n",
    "dets = utils.variableDetails(max_cat_row['var_name'])\n",
    "print(dets)"
   ]
  },
  {
   "cell_type": "markdown",
   "id": "f8b9ba5e",
   "metadata": {},
   "source": [
    "This one also checks out. Now we can convert the datatypes in the main df."
   ]
  },
  {
   "cell_type": "code",
   "execution_count": 15,
   "id": "4c782260",
   "metadata": {},
   "outputs": [],
   "source": [
    "datatype.set_index('var_name',inplace=True)"
   ]
  },
  {
   "cell_type": "code",
   "execution_count": 16,
   "id": "3d8663e3",
   "metadata": {},
   "outputs": [
    {
     "name": "stdout",
     "output_type": "stream",
     "text": [
      "converting data types...\n"
     ]
    }
   ],
   "source": [
    "print('converting data types...')\n",
    "for index in datatype.index:\n",
    "    if datatype.loc[index].range_key == False:\n",
    "        df[index] = df[index].astype('category')"
   ]
  },
  {
   "cell_type": "code",
   "execution_count": 22,
   "id": "c9c388b5",
   "metadata": {},
   "outputs": [],
   "source": [
    "# save new data frames\n",
    "new_df_fname = os.path.join(interimdatadir,'allstates_subsample' + str(nsamples) + '_defvars_df.pkl')\n",
    "df.to_pickle(new_df_fname)"
   ]
  }
 ],
 "metadata": {
  "kernelspec": {
   "display_name": "Python 3 (ipykernel)",
   "language": "python",
   "name": "python3"
  },
  "language_info": {
   "codemirror_mode": {
    "name": "ipython",
    "version": 3
   },
   "file_extension": ".py",
   "mimetype": "text/x-python",
   "name": "python",
   "nbconvert_exporter": "python",
   "pygments_lexer": "ipython3",
   "version": "3.9.12"
  }
 },
 "nbformat": 4,
 "nbformat_minor": 5
}
