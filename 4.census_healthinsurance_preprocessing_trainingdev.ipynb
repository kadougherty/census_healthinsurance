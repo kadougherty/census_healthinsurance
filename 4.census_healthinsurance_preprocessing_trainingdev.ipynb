{
 "cells": [
  {
   "cell_type": "markdown",
   "id": "ba7fcf8d",
   "metadata": {},
   "source": [
    "# predicting health coverage in the US"
   ]
  },
  {
   "cell_type": "markdown",
   "id": "8beb30e4",
   "metadata": {},
   "source": [
    "This project will call data from the American Community Survey Public Use MicroSample(PUMS) API. The most recent survey publicly availble at this API is from 2019. (Note data from 2020 are available to download in csv files).\n",
    "\n",
    "This project uses the Census Bureau Data API but is not endorsed or certified by the Census Bureau.\n",
    "\n",
    "1. American Community Survey (ACS) (census.gov).\n",
    "https://www.census.gov/programs-surveys/acs/\n",
    "2. American Community Survey Data via API (census.gov).\n",
    "https://www.census.gov/programs-surveys/acs/data/data-via-api.html\n",
    "\n",
    "The goal of this project is to predict whether an individual has health insurance (or not) based on demographic data in the PUMS. "
   ]
  },
  {
   "cell_type": "code",
   "execution_count": 1,
   "id": "731bd621",
   "metadata": {},
   "outputs": [],
   "source": [
    "# import libraries\n",
    "import os\n",
    "import pandas as pd\n",
    "import numpy as np\n",
    "import matplotlib.pyplot as plt\n",
    "import seaborn as sns\n",
    "import utils"
   ]
  },
  {
   "cell_type": "markdown",
   "id": "59cde207",
   "metadata": {},
   "source": [
    "Load in data files saved after EDA."
   ]
  },
  {
   "cell_type": "code",
   "execution_count": 2,
   "id": "ed2cd3da",
   "metadata": {},
   "outputs": [],
   "source": [
    "nsamples = 500\n",
    "datadir  = os.path.join(os.getcwd(),\"data\")\n",
    "\n",
    "\n",
    "new_df_fname = os.path.join(datadir,'allstates_subsample' + str(nsamples) + '_eda_df.pkl')\n",
    "df = pd.read_pickle(new_df_fname)\n",
    "\n",
    "verbdf_fname = os.path.join(datadir,'allstates_subsample' + str(nsamples) + '_eda_verbdf.pkl')\n",
    "verbdf = pd.read_pickle(verbdf_fname)\n",
    "\n",
    "preddf_fname = os.path.join(datadir,'allstates_subsample' + str(nsamples) + '_eda_preddf.pkl')\n",
    "predictors_df = pd.read_pickle(preddf_fname)\n",
    "\n",
    "fname = os.path.join(datadir,str(nsamples) + 'targets_oi.csv')\n",
    "targ_oi  = pd.read_csv(fname)\n",
    "targname = targ_oi['healthcodes'][1]"
   ]
  },
  {
   "cell_type": "code",
   "execution_count": 3,
   "id": "353e9a23",
   "metadata": {},
   "outputs": [
    {
     "data": {
      "text/html": [
       "<div>\n",
       "<style scoped>\n",
       "    .dataframe tbody tr th:only-of-type {\n",
       "        vertical-align: middle;\n",
       "    }\n",
       "\n",
       "    .dataframe tbody tr th {\n",
       "        vertical-align: top;\n",
       "    }\n",
       "\n",
       "    .dataframe thead th {\n",
       "        text-align: right;\n",
       "    }\n",
       "</style>\n",
       "<table border=\"1\" class=\"dataframe\">\n",
       "  <thead>\n",
       "    <tr style=\"text-align: right;\">\n",
       "      <th></th>\n",
       "      <th>HHLANP</th>\n",
       "      <th>FBATHP</th>\n",
       "      <th>WGTP23</th>\n",
       "      <th>WGTP22</th>\n",
       "      <th>WGTP25</th>\n",
       "      <th>WGTP24</th>\n",
       "      <th>FWATP</th>\n",
       "      <th>WGTP21</th>\n",
       "      <th>WGTP20</th>\n",
       "      <th>WGTP27</th>\n",
       "      <th>...</th>\n",
       "      <th>FHINCP</th>\n",
       "      <th>COMPOTHX</th>\n",
       "      <th>FSINKP</th>\n",
       "      <th>FHFLP</th>\n",
       "      <th>FSMXSP</th>\n",
       "      <th>PLMPRP</th>\n",
       "      <th>ACCESS</th>\n",
       "      <th>FSMOCP</th>\n",
       "      <th>TEL</th>\n",
       "      <th>TEN</th>\n",
       "    </tr>\n",
       "  </thead>\n",
       "  <tbody>\n",
       "    <tr>\n",
       "      <th>0</th>\n",
       "      <td>9500</td>\n",
       "      <td>0</td>\n",
       "      <td>225</td>\n",
       "      <td>61</td>\n",
       "      <td>246</td>\n",
       "      <td>81</td>\n",
       "      <td>0</td>\n",
       "      <td>310</td>\n",
       "      <td>291</td>\n",
       "      <td>297</td>\n",
       "      <td>...</td>\n",
       "      <td>1</td>\n",
       "      <td>2</td>\n",
       "      <td>0</td>\n",
       "      <td>0</td>\n",
       "      <td>0</td>\n",
       "      <td>9</td>\n",
       "      <td>3</td>\n",
       "      <td>1</td>\n",
       "      <td>1</td>\n",
       "      <td>3</td>\n",
       "    </tr>\n",
       "    <tr>\n",
       "      <th>1</th>\n",
       "      <td>9500</td>\n",
       "      <td>0</td>\n",
       "      <td>48</td>\n",
       "      <td>55</td>\n",
       "      <td>42</td>\n",
       "      <td>16</td>\n",
       "      <td>0</td>\n",
       "      <td>108</td>\n",
       "      <td>51</td>\n",
       "      <td>61</td>\n",
       "      <td>...</td>\n",
       "      <td>0</td>\n",
       "      <td>2</td>\n",
       "      <td>0</td>\n",
       "      <td>0</td>\n",
       "      <td>0</td>\n",
       "      <td>9</td>\n",
       "      <td>1</td>\n",
       "      <td>0</td>\n",
       "      <td>1</td>\n",
       "      <td>1</td>\n",
       "    </tr>\n",
       "    <tr>\n",
       "      <th>2</th>\n",
       "      <td>9500</td>\n",
       "      <td>1</td>\n",
       "      <td>91</td>\n",
       "      <td>132</td>\n",
       "      <td>93</td>\n",
       "      <td>160</td>\n",
       "      <td>1</td>\n",
       "      <td>104</td>\n",
       "      <td>176</td>\n",
       "      <td>188</td>\n",
       "      <td>...</td>\n",
       "      <td>0</td>\n",
       "      <td>2</td>\n",
       "      <td>0</td>\n",
       "      <td>0</td>\n",
       "      <td>0</td>\n",
       "      <td>9</td>\n",
       "      <td>1</td>\n",
       "      <td>0</td>\n",
       "      <td>1</td>\n",
       "      <td>3</td>\n",
       "    </tr>\n",
       "    <tr>\n",
       "      <th>3</th>\n",
       "      <td>9500</td>\n",
       "      <td>0</td>\n",
       "      <td>60</td>\n",
       "      <td>77</td>\n",
       "      <td>53</td>\n",
       "      <td>57</td>\n",
       "      <td>0</td>\n",
       "      <td>55</td>\n",
       "      <td>16</td>\n",
       "      <td>53</td>\n",
       "      <td>...</td>\n",
       "      <td>1</td>\n",
       "      <td>2</td>\n",
       "      <td>0</td>\n",
       "      <td>0</td>\n",
       "      <td>0</td>\n",
       "      <td>9</td>\n",
       "      <td>3</td>\n",
       "      <td>1</td>\n",
       "      <td>1</td>\n",
       "      <td>2</td>\n",
       "    </tr>\n",
       "    <tr>\n",
       "      <th>4</th>\n",
       "      <td>9500</td>\n",
       "      <td>0</td>\n",
       "      <td>25</td>\n",
       "      <td>94</td>\n",
       "      <td>123</td>\n",
       "      <td>34</td>\n",
       "      <td>0</td>\n",
       "      <td>188</td>\n",
       "      <td>120</td>\n",
       "      <td>41</td>\n",
       "      <td>...</td>\n",
       "      <td>0</td>\n",
       "      <td>2</td>\n",
       "      <td>0</td>\n",
       "      <td>0</td>\n",
       "      <td>0</td>\n",
       "      <td>9</td>\n",
       "      <td>1</td>\n",
       "      <td>0</td>\n",
       "      <td>1</td>\n",
       "      <td>3</td>\n",
       "    </tr>\n",
       "  </tbody>\n",
       "</table>\n",
       "<p>5 rows × 201 columns</p>\n",
       "</div>"
      ],
      "text/plain": [
       "  HHLANP FBATHP  WGTP23  WGTP22  WGTP25  WGTP24 FWATP  WGTP21  WGTP20  WGTP27  \\\n",
       "0   9500      0     225      61     246      81     0     310     291     297   \n",
       "1   9500      0      48      55      42      16     0     108      51      61   \n",
       "2   9500      1      91     132      93     160     1     104     176     188   \n",
       "3   9500      0      60      77      53      57     0      55      16      53   \n",
       "4   9500      0      25      94     123      34     0     188     120      41   \n",
       "\n",
       "   ...  FHINCP  COMPOTHX  FSINKP FHFLP FSMXSP PLMPRP  ACCESS  FSMOCP  TEL  TEN  \n",
       "0  ...       1         2       0     0      0      9       3       1    1    3  \n",
       "1  ...       0         2       0     0      0      9       1       0    1    1  \n",
       "2  ...       0         2       0     0      0      9       1       0    1    3  \n",
       "3  ...       1         2       0     0      0      9       3       1    1    2  \n",
       "4  ...       0         2       0     0      0      9       1       0    1    3  \n",
       "\n",
       "[5 rows x 201 columns]"
      ]
     },
     "execution_count": 3,
     "metadata": {},
     "output_type": "execute_result"
    }
   ],
   "source": [
    "df.head()"
   ]
  },
  {
   "cell_type": "markdown",
   "id": "4bf7f36e",
   "metadata": {},
   "source": [
    "define the target variable, separate from predictor variables."
   ]
  },
  {
   "cell_type": "code",
   "execution_count": 4,
   "id": "b3226932",
   "metadata": {},
   "outputs": [],
   "source": [
    "target_y = df[targname]\n",
    "X = df.drop(targname,axis=1)"
   ]
  },
  {
   "cell_type": "markdown",
   "id": "51702d21",
   "metadata": {},
   "source": [
    "separate categortical variables from numerical variables"
   ]
  },
  {
   "cell_type": "code",
   "execution_count": 5,
   "id": "a9573f79",
   "metadata": {},
   "outputs": [
    {
     "name": "stdout",
     "output_type": "stream",
     "text": [
      "category columns: 105\n",
      "numerical columns: 95\n"
     ]
    }
   ],
   "source": [
    "catdf = X.select_dtypes('category')\n",
    "numdf = X.select_dtypes('int')\n",
    "\n",
    "if (catdf.shape[1] + numdf.shape[1] + 1) != df.shape[1]:\n",
    "    print('missing column/data type not covered above')\n",
    "print('category columns: ' + str(catdf.shape[1]))\n",
    "print('numerical columns: ' + str(numdf.shape[1]))"
   ]
  },
  {
   "cell_type": "markdown",
   "id": "c31b41fa",
   "metadata": {},
   "source": [
    "one-hot encode all categorical variables"
   ]
  },
  {
   "cell_type": "code",
   "execution_count": 6,
   "id": "dd275245",
   "metadata": {},
   "outputs": [
    {
     "name": "stdout",
     "output_type": "stream",
     "text": [
      "category columns after one-hot encoding: 552\n"
     ]
    }
   ],
   "source": [
    "dummydf = pd.get_dummies(catdf)\n",
    "print('category columns after one-hot encoding: ' + str(dummydf.shape[1]))"
   ]
  },
  {
   "cell_type": "markdown",
   "id": "2f3dc604",
   "metadata": {},
   "source": [
    "Below we will fit the scaler to the training data and apply this same scaler to both the training and test data. To do this, we can put our dummy variables back with the numerical variables, train/test/split the dataframe, and then pull out the numerical variables from the training set to scale the data."
   ]
  },
  {
   "cell_type": "code",
   "execution_count": 7,
   "id": "df093c64",
   "metadata": {},
   "outputs": [],
   "source": [
    "numdumdf = pd.concat([numdf,dummydf],axis=1)"
   ]
  },
  {
   "cell_type": "code",
   "execution_count": 8,
   "id": "a20113cb",
   "metadata": {},
   "outputs": [],
   "source": [
    "from sklearn.model_selection import train_test_split \n",
    "X_train,X_test,y_train,y_test = train_test_split(numdumdf,target_y,test_size=0.3,random_state=123,stratify=target_y)\n",
    "\n",
    "X_train.to_pickle('X_train.pkl')\n",
    "X_test.to_pickle('X_test.pkl')\n",
    "y_train.to_pickle('y_train.pkl')\n",
    "y_test.to_pickle('y_test.pkl')"
   ]
  },
  {
   "cell_type": "code",
   "execution_count": 9,
   "id": "1e0faa15",
   "metadata": {},
   "outputs": [],
   "source": [
    "# pull out numerical columns from X_train and scale\n",
    "from sklearn.preprocessing import StandardScaler\n",
    "numeric_x_train_cols = X_train.select_dtypes('int').columns\n",
    "SS = StandardScaler()\n",
    "SS.fit(X_train[numeric_x_train_cols])\n",
    "\n",
    "X_scaled_train = X_train.copy()\n",
    "X_scaled_test = X_test.copy()\n",
    "\n",
    "X_scaled_train[numeric_x_train_cols] = SS.transform(X_train[numeric_x_train_cols])\n",
    "X_scaled_test[numeric_x_train_cols]  = SS.transform(X_test[numeric_x_train_cols])"
   ]
  },
  {
   "cell_type": "code",
   "execution_count": 10,
   "id": "a7d7ae90",
   "metadata": {},
   "outputs": [
    {
     "name": "stdout",
     "output_type": "stream",
     "text": [
      "(17850, 647)\n",
      "(17850, 647)\n"
     ]
    }
   ],
   "source": [
    "print(X_scaled_train.shape)\n",
    "print(X_train.shape)"
   ]
  },
  {
   "cell_type": "code",
   "execution_count": 11,
   "id": "1abe8345",
   "metadata": {},
   "outputs": [],
   "source": [
    "X_scaled_train.to_pickle('X_scaled_train.pkl')\n",
    "X_scaled_test.to_pickle('X_scaled_test.pkl')"
   ]
  },
  {
   "cell_type": "code",
   "execution_count": 12,
   "id": "6c947284",
   "metadata": {},
   "outputs": [
    {
     "data": {
      "image/png": "[encoded data removed]",
      "text/plain": [
       "<Figure size 432x288 with 2 Axes>"
      ]
     },
     "metadata": {
      "needs_background": "light"
     },
     "output_type": "display_data"
    }
   ],
   "source": [
    "fig,ax= plt.subplots(nrows=1,ncols=2)\n",
    "ax[0].hist(X_scaled_train.mean())\n",
    "ax[0].set_title('means after scaling')\n",
    "ax[0].set_xlabel('column mean after scaling')\n",
    "ax[0].set_ylabel('n columns')\n",
    "ax[1].hist(X_scaled_train.std())\n",
    "ax[1].set_title('standard devs after scaling')\n",
    "ax[1].set_xlabel('column std after scaling')\n",
    "\n",
    "sns.despine()\n",
    "plt.show()"
   ]
  },
  {
   "cell_type": "code",
   "execution_count": 13,
   "id": "e430c297",
   "metadata": {},
   "outputs": [
    {
     "data": {
      "text/plain": [
       "dict_values(['With private health insurance coverage', 'Without private health insurance coverage'])"
      ]
     },
     "execution_count": 13,
     "metadata": {},
     "output_type": "execute_result"
    }
   ],
   "source": [
    "details = utils.variableDetails(targname)\n",
    "targlabels = details['values']['item']\n",
    "targlabels.values()"
   ]
  },
  {
   "cell_type": "code",
   "execution_count": 14,
   "id": "da985955",
   "metadata": {},
   "outputs": [
    {
     "data": {
      "image/png": "[encoded data removed]",
      "text/plain": [
       "<Figure size 432x288 with 2 Axes>"
      ]
     },
     "metadata": {
      "needs_background": "light"
     },
     "output_type": "display_data"
    }
   ],
   "source": [
    "details = utils.variableDetails(targname)\n",
    "targlabels = details['values']['item']\n",
    "\n",
    "y_df = pd.DataFrame({'train':y_train,'test':y_test})\n",
    "fig,ax=plt.subplots(nrows=1,ncols=2)\n",
    "ax[0].bar(x=[0,1],height=y_df['train'].value_counts(normalize=True))\n",
    "ax[0].set_title(\"y train data\")\n",
    "ax[0].set_xticks([0,1])\n",
    "ax[0].set_xticklabels(labels=targlabels.values(),rotation=90)\n",
    "ax[0].set_ylabel('prop. of data')\n",
    "ax[1].bar(x=[0,1],height=y_df['test'].value_counts(normalize=True))\n",
    "ax[1].set_xticks([0,1])\n",
    "ax[1].set_xticklabels(labels=targlabels.values(),rotation=90)\n",
    "ax[1].set_title('y test data')\n",
    "sns.despine()\n",
    "plt.show()"
   ]
  }
 ],
 "metadata": {
  "kernelspec": {
   "display_name": "Python 3 (ipykernel)",
   "language": "python",
   "name": "python3"
  },
  "language_info": {
   "codemirror_mode": {
    "name": "ipython",
    "version": 3
   },
   "file_extension": ".py",
   "mimetype": "text/x-python",
   "name": "python",
   "nbconvert_exporter": "python",
   "pygments_lexer": "ipython3",
   "version": "3.9.12"
  }
 },
 "nbformat": 4,
 "nbformat_minor": 5
}
