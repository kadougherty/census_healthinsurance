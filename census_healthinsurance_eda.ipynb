{
 "cells": [
  {
   "cell_type": "markdown",
   "id": "b4884408",
   "metadata": {},
   "source": [
    "# predicting the health uninsured in the US"
   ]
  },
  {
   "cell_type": "markdown",
   "id": "c0ea8d50",
   "metadata": {},
   "source": [
    "This project will call data from the American Community Survey Public Use MicroSample(PUMS) API. The most recent survey publicly availble at this API is from 2019. (Note data from 2020 are available to download in csv files).\n",
    "\n",
    "This project uses the Census Bureau Data API but is not endorsed or certified by the Census Bureau.\n",
    "\n",
    "1. American Community Survey (ACS) (census.gov).\n",
    "https://www.census.gov/programs-surveys/acs/\n",
    "2. American Community Survey Data via API (census.gov).\n",
    "https://www.census.gov/programs-surveys/acs/data/data-via-api.html\n",
    "\n",
    "The goal of this project is to predict whether an individual has health insurance (or not) based on demographic data in the PUMS. "
   ]
  },
  {
   "cell_type": "code",
   "execution_count": 1,
   "id": "df6eba72",
   "metadata": {},
   "outputs": [],
   "source": [
    "# import libraries\n",
    "import os\n",
    "import glob\n",
    "import pandas as pd\n",
    "import requests\n",
    "import time\n",
    "import matplotlib.pyplot as plt\n",
    "import seaborn as sns\n",
    "import ppscore as pps\n",
    "import numpy as np\n",
    "from dotenv import load_dotenv"
   ]
  },
  {
   "cell_type": "code",
   "execution_count": 2,
   "id": "17e42287",
   "metadata": {},
   "outputs": [],
   "source": [
    "# call api for more details on a specific variable\n",
    "load_dotenv()\n",
    "API_KEY  = os.getenv('CENSUS_API_KEY')\n",
    "def variableDetails(codename):\n",
    "    host     = 'https://api.census.gov/data'\n",
    "    year     = 2019\n",
    "    dataset  = 'acs/acs1/pums/variables'\n",
    "    query    = '?get='\n",
    "    base_url = \"/\".join([host, str(year), dataset, codename + '.json']) \n",
    "    r        = requests.get(base_url)\n",
    "    detail   = r.json()\n",
    "    return detail"
   ]
  },
  {
   "cell_type": "markdown",
   "id": "ad29b9d4",
   "metadata": {},
   "source": [
    "Load the cleaned data from csv file. "
   ]
  },
  {
   "cell_type": "code",
   "execution_count": 3,
   "id": "1cc4cc28",
   "metadata": {},
   "outputs": [],
   "source": [
    "nsamples = 500\n",
    "datadir  = os.path.join(os.getcwd(),\"data\")\n",
    "fname    = os.path.join(datadir,'allstates_subsample' + str(nsamples) + '.csv')\n",
    "df       = pd.read_csv(fname)"
   ]
  },
  {
   "cell_type": "code",
   "execution_count": 4,
   "id": "eb83b5de",
   "metadata": {},
   "outputs": [
    {
     "name": "stdout",
     "output_type": "stream",
     "text": [
      "(25500, 458)\n",
      "<class 'pandas.core.frame.DataFrame'>\n",
      "RangeIndex: 25500 entries, 0 to 25499\n",
      "Columns: 458 entries, Unnamed: 0 to STATE\n",
      "dtypes: float64(2), int64(455), object(1)\n",
      "memory usage: 89.1+ MB\n",
      "None\n",
      "STATE    object\n",
      "dtype: object\n"
     ]
    }
   ],
   "source": [
    "print(df.shape)\n",
    "print(df.info())\n",
    "df.drop('Unnamed: 0',axis=1,inplace=True)\n",
    "print(df.dtypes[df.dtypes == 'object'])"
   ]
  },
  {
   "cell_type": "markdown",
   "id": "9f9a2b55",
   "metadata": {},
   "source": [
    "We know that there are a number of categorical variables in the dataset, as well as numerical variables. We can use the predictive power score (pps) to estimate the predictive power of each variable for our target variable. However, to use the predictive power score, we need to convert categorical variables to data type 'category.' "
   ]
  },
  {
   "cell_type": "code",
   "execution_count": 5,
   "id": "a1119ce1",
   "metadata": {},
   "outputs": [
    {
     "data": {
      "image/png": "[encoded data removed]",
      "text/plain": [
       "<Figure size 432x288 with 4 Axes>"
      ]
     },
     "metadata": {
      "needs_background": "light"
     },
     "output_type": "display_data"
    }
   ],
   "source": [
    "#try to identify categorical variables by considering number of unique values?\n",
    "plt.figure()\n",
    "plt.subplot(2,2,1)\n",
    "plt.hist(df.nunique()) \n",
    "plt.ylabel('N vars')\n",
    "plt.title('')\n",
    "sns.despine()\n",
    "\n",
    "plt.subplot(2,2,2)\n",
    "plt.hist(df.nunique()[df.nunique().between(1,1500)])\n",
    "sns.despine()\n",
    "\n",
    "plt.subplot(2,2,3)\n",
    "plt.hist(df.nunique()[df.nunique().between(1,500)])\n",
    "sns.despine()\n",
    "plt.xlabel('n unique values')\n",
    "plt.ylabel('N vars')\n",
    "\n",
    "plt.subplot(2,2,4)\n",
    "plt.hist(df.nunique()[df.nunique().between(4,100)])\n",
    "sns.despine()\n",
    "plt.xlabel('n unique values')\n",
    "plt.show()"
   ]
  },
  {
   "cell_type": "code",
   "execution_count": 6,
   "id": "fcf2d630",
   "metadata": {},
   "outputs": [
    {
     "name": "stdout",
     "output_type": "stream",
     "text": [
      "Bathtub or shower allocation flag\n",
      "{'item': {'1': 'Yes', '0': 'No', '-1': 'N/A (GQ)'}}\n"
     ]
    }
   ],
   "source": [
    "# spot check info available for a variable that is very likely categorical (<=3 unique values)\n",
    "cols = df.columns[df.nunique().between(2,3)]\n",
    "dets = variableDetails(cols[0])\n",
    "print(dets['label'])\n",
    "print(dets['values'])"
   ]
  },
  {
   "cell_type": "code",
   "execution_count": 7,
   "id": "33b8f1b9",
   "metadata": {},
   "outputs": [
    {
     "name": "stdout",
     "output_type": "stream",
     "text": [
      "Total person's income (signed, use ADJINC to adjust to constant dollars)\n",
      "{'item': {'-19999': 'N/A (less than 15 years old)', '-19998': 'Loss of $19998 or more (Rounded and bottom-coded components)', '0': 'None'}, 'range': [{'min': '-19997', 'max': '-1', 'description': 'Loss $1 to $19997 (Rounded components)'}, {'min': '1', 'max': '4209995', 'description': '$1 to $4209995 (Rounded and top-coded components)'}]}\n"
     ]
    }
   ],
   "source": [
    "# spot check info available for a variable that is very likely numerical (> 500 unique values)\n",
    "cols = df.columns[df.nunique().gt(800)]\n",
    "dets = variableDetails(cols[1])\n",
    "print(dets['label'])\n",
    "print(dets['values'])"
   ]
  },
  {
   "cell_type": "markdown",
   "id": "ceaa80a7",
   "metadata": {},
   "source": [
    "We know that the index column comes from the index in the row from our api call. It is categorical and at this point we do not need it, so we can drop. "
   ]
  },
  {
   "cell_type": "code",
   "execution_count": 8,
   "id": "7f3d17ff",
   "metadata": {},
   "outputs": [],
   "source": [
    "df.drop('index',axis=1,inplace=True)"
   ]
  },
  {
   "cell_type": "markdown",
   "id": "d48e733c",
   "metadata": {},
   "source": [
    "It looks like info on numerical values (like in the immediate cell above) includes a 'range' key to indicate the min and max of that numerical variable, while categorical variables do not include that information. Maybe we can use this to identify categorical/numerical variables. "
   ]
  },
  {
   "cell_type": "code",
   "execution_count": 9,
   "id": "c2b1dc3f",
   "metadata": {},
   "outputs": [],
   "source": [
    "# is 'range' key (numerical) in information for each variable from the api?\n",
    "# call API for states in loop and save csv locally if it doesn't exist yet:\n",
    "fname = os.path.join(datadir,'datatype_ncol' + str(df.shape[1]) + '.csv')\n",
    "if os.path.exists(fname) == False:  \n",
    "    flag_columns = ['STATE']\n",
    "    range_key = list()\n",
    "    info_from_api = list()\n",
    "    var_name = list()\n",
    "    n_unq_vals = list()\n",
    "    for column in df:\n",
    "        try: \n",
    "            var_name.append(column)\n",
    "            if column in flag_columns:\n",
    "                range_key.append(False)\n",
    "                info_from_api.append(False)\n",
    "                n_unq_vals.append(df[column].nunique())\n",
    "            else:\n",
    "                dets = variableDetails(column)\n",
    "                range_key.append('range' in dets['values'].keys())\n",
    "                info_from_api.append(True)\n",
    "                n_unq_vals.append(df[column].nunique())\n",
    "        except:\n",
    "            var_name.append(column)\n",
    "            range_key.append(False)\n",
    "            info_from_api.append(False)\n",
    "            n_unq_vals.append(df[column].nunique())\n",
    "            print('check this variable again: ' + column)\n",
    "    datatype = pd.DataFrame({'var_name':var_name,'range_key':range_key,'n_unq_vals':n_unq_vals,'info_from_api':info_from_api})\n",
    "    datatype.to_csv(fname)\n",
    "else:\n",
    "    datatype = pd.read_csv(fname)"
   ]
  },
  {
   "cell_type": "code",
   "execution_count": 10,
   "id": "61da165f",
   "metadata": {},
   "outputs": [
    {
     "name": "stdout",
     "output_type": "stream",
     "text": [
      "The number of columns in our main df should equal the number of rows in our datatype dataframe: \n",
      "df column N:5\n",
      "datatype rows N:456\n",
      "The only vars where numerical info is not from the api:\n",
      "455    STATE\n",
      "Name: var_name, dtype: object\n"
     ]
    }
   ],
   "source": [
    "print('The number of columns in our main df should equal the number of rows in our datatype dataframe: ')\n",
    "print('df column N:' + str(datatype.shape[1]))\n",
    "print('datatype rows N:' + str(datatype.shape[0]))\n",
    "print('The only vars where numerical info is not from the api:')\n",
    "print(datatype[datatype.info_from_api == False]['var_name'])"
   ]
  },
  {
   "cell_type": "markdown",
   "id": "40859bd1",
   "metadata": {},
   "source": [
    "We can do another check to see if this approach is adding up. Are there any variables coming out as categorical that have a very high number of unique values? Are any coming out as numerical that have very few unique values? "
   ]
  },
  {
   "cell_type": "code",
   "execution_count": 11,
   "id": "fbd666a2",
   "metadata": {},
   "outputs": [
    {
     "data": {
      "image/png": "[encoded data removed]",
      "text/plain": [
       "<Figure size 720x360 with 2 Axes>"
      ]
     },
     "metadata": {
      "needs_background": "light"
     },
     "output_type": "display_data"
    }
   ],
   "source": [
    "# now we can look at the distributions of N unique values for our columns again with our categorical/numerical labels\n",
    "plt.figure(figsize=(10,5))\n",
    "plt.subplot(2,1,1)\n",
    "#plt.hist(df.iloc[:,datatype['range_key'].loc[datatype['range_key']==False].index].nunique(),bins=100) \n",
    "plt.hist(datatype['n_unq_vals'].loc[datatype['range_key']==False],bins=100) \n",
    "\n",
    "plt.ylabel('N vars')\n",
    "plt.xlabel('n unique values')\n",
    "plt.title('categorical')\n",
    "sns.despine()\n",
    "\n",
    "plt.subplot(2,1,2)\n",
    "#plt.hist(df.iloc[:,datatype['range_key'].loc[datatype['range_key']==True].index].nunique(),bins=100)\n",
    "plt.hist(datatype['n_unq_vals'].loc[datatype['range_key']==True],bins=100) \n",
    "plt.xlabel('n unique values')\n",
    "plt.ylabel('N vars')\n",
    "\n",
    "plt.title('numerical')\n",
    "sns.despine()\n",
    "\n",
    "plt.show()"
   ]
  },
  {
   "cell_type": "code",
   "execution_count": 12,
   "id": "9280a4d9",
   "metadata": {},
   "outputs": [
    {
     "name": "stdout",
     "output_type": "stream",
     "text": [
      "var with min number of unique values that may be numerical:\n",
      "{'name': 'RACNUM', 'label': 'Number of major race groups represented', 'predicateType': 'int', 'group': 'N/A', 'limit': 0, 'suggested-weight': 'PWGTP', 'values': {'range': [{'min': '1', 'max': '6', 'description': 'Race groups'}]}}\n"
     ]
    }
   ],
   "source": [
    "# we can check our vars that lie on the unexpected extremes (low unique N, numerical):\n",
    "print('var with min number of unique values that may be numerical:') \n",
    "min_cat_row = datatype.iloc[datatype['n_unq_vals'].loc[datatype['range_key']==True].idxmin()]\n",
    "\n",
    "# get deets:\n",
    "dets = variableDetails(min_cat_row['var_name'])\n",
    "print(dets)"
   ]
  },
  {
   "cell_type": "markdown",
   "id": "a2a073b1",
   "metadata": {},
   "source": [
    "This is numerical, so the approach may be working.."
   ]
  },
  {
   "cell_type": "code",
   "execution_count": 13,
   "id": "d5be2a1a",
   "metadata": {},
   "outputs": [
    {
     "name": "stdout",
     "output_type": "stream",
     "text": [
      "var with max number of unique values that may be categorical:\n",
      "Unnamed: 0         218\n",
      "var_name          OCCP\n",
      "range_key        False\n",
      "n_unq_vals         512\n",
      "info_from_api     True\n",
      "Name: 218, dtype: object\n",
      "{'name': 'OCCP', 'label': 'Occupation recode for 2018 and later based on 2018 OCC codes', 'predicateType': 'int', 'group': 'N/A', 'limit': 0, 'suggested-weight': 'PWGTP', 'values': {'item': {'4020': 'EAT-Cooks', '4130': 'EAT-Dining Room And Cafeteria Attendants And Bartender Helpers', '5150': 'OFF-Procurement Clerks', '5340': 'OFF-New Accounts Clerks', '5730': 'OFF-Medical Secretaries and Administrative Assistants', '6530': 'CON-Structural Iron And Steel Workers', '7140': 'RPR-Aircraft Mechanics And Service Technicians', '9040': 'TRN-Air Traffic Controllers And Airfield Operations Specialists', '9': 'N/A (less than 16 years old/NILF who last worked more than 5 years ago or never worked)', '0420': 'MGR-Social And Community Service Managers', '1541': 'ENG-Architectural And Civil Drafters', '1800': 'SCI-Economists', '2320': 'EDU-Secondary School Teachers', '0820': 'FIN-Budget Analysts', '2300': 'EDU-Preschool And Kindergarten Teachers', '3603': 'HLS-Nursing Assistants', '3870': 'PRT-Police Officers', '5250': 'OFF-Eligibility Interviewers, Government Programs', '7130': 'RPR-Security And Fire Alarm Systems Installers', '8025': 'PRD-Other Machine Tool Setters, Operators, And Tenders, Metal and Plastic', '2905': 'ENT-Other Media And Communication Equipment Workers', '3220': 'MED-Respiratory Therapists', '3620': 'HLS-Physical Therapist Assistants And Aides', '3646': 'HLS-Medical Transcriptionists', '3647': 'HLS-Pharmacy Aides', '4340': 'PRS-Animal Trainers', '4940': 'SAL-Telemarketers', '5330': 'OFF-Loan Interviewers And Clerks', '8710': 'PRD-Cutting Workers', '0640': 'BUS-Compensation, Benefits, And Job Analysis Specialists', '2310': 'EDU-Elementary And Middle School Teachers', '3324': 'MED-Magnetic Resonance Imaging Technologists', '3802': 'PRT-Correctional Officers and Jailers', '3910': 'PRT-Private Detectives And Investigators', '4110': 'EAT-Waiters And Waitresses', '5840': 'OFF-Insurance Claims And Policy Processing Clerks', '7750': 'PRD-Other Assemblers And Fabricators', '7925': 'PRD-Forming Machine Setters, Operators, And Tenders, Metal And Plastic', '8225': 'PRD-Other Metal Workers And Plastic Workers', '8610': 'PRD-Stationary Engineers And Boiler Operators', '8930': 'PRD-Paper Goods Machine Setters, Operators, And Tenders', '9570': 'TRN-Conveyor, Dredge, And Hoist and Winch Operators', '0160': 'MGR-Transportation, Storage, And Distribution Managers', '1010': 'CMM-Computer Programmers', '1032': 'CMM-Web And Digital Interface Designers', '1305': 'ENG-Architects, Except Landscape And Naval', '2003': 'CMS-Marriage And Family Therapists', '2060': 'CMS-Religious Workers, All Other', '2640': 'ENT-Other Designers', '3945': 'PRT-Transportation Security Screeners', '5420': 'OFF-Other Information And Records Clerks', '7730': 'PRD-Engine And Other Machine Assemblers', '9630': 'TRN-Machine Feeders And Offbearers', '0500': 'BUS-Agents And Business Managers Of Artists, Performers, And Athletes', '0705': 'BUS-Project Management Specialists', '3545': 'MED-Miscellaneous Health Technologists and Technicians', '4540': 'PRS-Tour And Travel Guides', '4800': 'SAL-Advertising Sales Agents', '5020': 'OFF-Telephone Operators', '8950': 'PRD-Helpers--Production Workers', '1410': 'ENG-Electrical And Electronics Engineers', '1450': 'ENG-Materials Engineers', '2865': 'ENT-Media And Communication Workers, All Other', '3421': 'MED-Pharmacy Technicians', '4240': 'CLN-Pest Control Workers', '5630': 'OFF-Weighers, Measurers, Checkers, And Samplers, Recordkeeping', '2810': 'ENT-News Analysts, Reporters, And Journalists', '3720': 'PRT-First-Line Supervisors Of Firefighting And Prevention Workers', '7120': 'RPR-Audiovisual Equipment Installers And Repairers', '0425': 'MGR-Emergency Management Directors', '1105': 'CMM-Network And Computer Systems Administrators', '1720': 'SCI-Chemists And Materials Scientists', '3430': 'MED-Dietetic Technicians And Ophthalmic Medical Technicians', '4465': 'PRS-Morticians, Undertakers, And Funeral Arrangers', '5140': 'OFF-Payroll And Timekeeping Clerks', '5610': 'OFF-Shipping, Receiving, And Inventory Clerks', '8250': 'PRD-Prepress Technicians And Workers', '8600': 'PRD-Power Plant Operators, Distributors, And Dispatchers', '8750': 'PRD-Jewelers And Precious Stone And Metal Workers', '8810': 'PRD-Painting Workers', '3655': 'HLS-Other Healthcare Support Workers', '7260': 'RPR-Miscellaneous Vehicle And Mobile Equipment Mechanics, Installers, And Repairers', '2633': 'ENT-Floral Designers', '0960': 'FIN-Other Financial Specialists', '1007': 'CMM-Information Security Analysts', '1022': 'CMM-Software Quality Assurance Analysts and Testers', '2006': 'CMS-Counselors, All Other', '2011': 'CMS-Child, Family, And School Social Workers', '3840': 'PRT-Fish And Game Wardens And Parking Enforcement Officers', '5400': 'OFF-Receptionists And Information Clerks', '0010': 'MGR-Chief Executives And Legislators', '2721': 'ENT-Athletes and Sports Competitors', '4160': 'EAT-Food Preparation and Serving Related Workers, All Other', '5040': 'OFF-Communications Equipment Operators, All Other', '5860': 'OFF-Office Clerks, General', '8310': 'PRD-Pressers, Textile, Garment, And Related Materials', '1860': 'SCI-Other Social Scientists', '2015': 'CMS-Probation Officers And Correctional Treatment Specialists', '2755': 'ENT-Disc Jockeys, Except Radio', '2850': 'ENT-Writers And Authors', '3150': 'MED-Occupational Therapists', '6240': 'CON-Carpet, Floor, And Tile Installers And Finishers', '7360': 'RPR-Millwrights', '9415': 'TRN-Passenger Attendants', '0102': 'MGR-Facilities Managers', '0335': 'MGR-Entertainment and Recreation Managers', '1900': 'SCI-Agricultural And Food Science Technicians', '3640': 'HLS-Dental Assistants', '4252': 'CLN-Tree Trimmers and Pruners', '4522': 'PRS-Skincare Specialists', '6740': 'CON-Rail-Track Laying And Maintenance Equipment Operators', '7200': 'RPR-Automotive Service Technicians And Mechanics', '0630': 'BUS-Human Resources Workers', '1005': 'CMM-Computer And Information Research Scientists', '3649': 'HLS-Phlebotomists', '4055': 'EAT-Fast Food And Counter Workers', '4200': 'CLN-First-Line Supervisors Of Housekeeping And Janitorial Workers', '6355': 'CON-Electricians', '6850': 'EXT-Underground Mining Machine Operators', '7020': 'RPR-Radio And Telecommunications Equipment Installers And Repairers', '8140': 'PRD-Welding, Soldering, And Brazing Workers', '8555': 'PRD-Other Woodworkers', '0340': 'MGR-Lodging Managers', '3200': 'MED-Radiation Therapists', '3750': 'PRT-Fire Inspectors', '3946': 'PRT-School Bus Monitors', '4120': 'EAT-Food Servers, Nonrestaurant', '4720': 'SAL-Cashiers', '5710': 'OFF-Executive Secretaries And Executive Administrative Assistants', '6010': 'FFF-Agricultural Inspectors', '6800': 'EXT-Derrick, Rotary Drill, And Service Unit Operators, And Roustabouts, Oil, Gas, And Mining', '7350': 'RPR-Maintenance Workers, Machinery', '4600': 'PRS-Childcare Workers', '3725': 'PRT-Miscellaneous First-Line Supervisors, Protective Service Workers', '9350': 'TRN-Parking Attendants', '2180': 'LGL-Legal Support Workers, All Other', '2910': 'ENT-Photographers', '3630': 'HLS-Massage Therapists', '4622': 'PRS-Recreation Workers', '6825': 'EXT-Surface Mining Machine Operators And Earth Drillers', '8030': 'PRD-Machinists', '2723': 'ENT-Umpires, Referees, And Other Sports Officials', '3140': 'MED-Audiologists', '5160': 'OFF-Tellers', '7150': 'RPR-Automotive Body And Related Repairers', '1530': 'ENG-Other Engineers', '0140': 'MGR-Industrial Production Managers', '0150': 'MGR-Purchasing Managers', '0845': 'FIN-Financial And Investment Analysts', '1310': 'ENG-Surveyors, Cartographers, And Photogrammetrists', '4030': 'EAT-Food Preparation Workers', '5240': 'OFF-Customer Service Representatives', '5320': 'OFF-Library Assistants, Clerical', '5510': 'OFF-Couriers And Messengers', '6050': 'FFF-Other Agricultural Workers', '6130': 'FFF-Logging Workers', '6410': 'CON-Painters and Paperhangers', '7560': 'RPR-Riggers', '0110': 'MGR-Computer And Information Systems Managers', '3160': 'MED-Physical Therapists', '3422': 'MED-Psychiatric Technicians', '3740': 'PRT-Firefighters', '4750': 'SAL-Parts Salespersons', '5300': 'OFF-Hotel, Motel, And Resort Desk Clerks', '5500': 'OFF-Cargo And Freight Agents', '6005': 'FFF-First-Line Supervisors Of Farming, Fishing, And Forestry Workers', '9510': 'TRN-Crane And Tower Operators', '0726': 'BUS-Fundraisers', '1750': 'SCI-Geoscientists And Hydrologists, Except Geographers', '2545': 'EDU-Teaching Assistants', '3256': 'MED-Nurse Anesthetists', '4210': 'CLN-First-Line Supervisors Of Landscaping, Lawn Service, And Groundskeeping Workers', '4965': 'SAL-Sales And Related Workers, All Other', '7315': 'RPR-Heating, Air Conditioning, And Refrigeration Mechanics And Installers', '6220': 'CON-Brickmasons, Blockmasons, Stonemasons, And Reinforcing Iron And Rebar Workers', '0137': 'MGR-Training And Development Managers', '2004': 'CMS-Mental Health Counselors', '3605': 'HLS-Orderlies and Psychiatric Aides', '3820': 'PRT-Detectives And Criminal Investigators', '4810': 'SAL-Insurance Sales Agents', '6115': 'FFF-Fishing And Hunting Workers', '0510': 'BUS-Buyers And Purchasing Agents, Farm Products', '0650': 'BUS-Training And Development Specialists', '0850': 'FIN-Personal Financial Advisors', '1420': 'ENG-Environmental Engineers', '1822': 'SCI-School Psychologists', '2205': 'EDU-Postsecondary Teachers', '5820': 'OFF-Word Processors And Typists', '6600': 'CON-Helpers, Construction Trades', '8320': 'PRD-Sewing Machine Operators', '9600': 'TRN-Industrial Truck And Tractor Operators', '2861': 'ENT-Interpreters and Translators', '4010': 'EAT-First-Line Supervisors Of Food Preparation And Serving Workers', '5521': 'OFF-Public Safety Telecommunicators', '5540': 'OFF-Postal Service Clerks', '6120': 'FFF-Forest And Conservation Workers', '6305': 'CON-Construction Equipment Operators', '9141': 'TRN-Shuttle Drivers And Chauffeurs', '9265': 'TRN-Other Rail Transportation Workers', '9365': 'TRN-Transportation Service Attendants', '9410': 'TRN-Transportation Inspectors', '2330': 'EDU-Special Education Teachers', '2631': 'ENT-Commercial And Industrial Designers', '3960': 'PRT-Other Protective Service Workers', '8620': 'PRD-Water And Wastewater Treatment Plant And System Operators', '9122': 'TRN-Bus Drivers, Transit And Intercity', '4850': 'SAL-Sales Representatives, Wholesale And Manufacturing', '5360': 'OFF-Human Resources Assistants, Except Payroll And Timekeeping', '6400': 'CON-Insulation Workers', '8630': 'PRD-Miscellaneous Plant And System Operators', '8640': 'PRD-Chemical Processing Machine Setters, Operators, And Tenders', '8720': 'PRD-Extruding, Forming, Pressing, And Compacting Machine Setters, Operators, And Tenders', '1545': 'ENG-Other Drafters', '1710': 'SCI-Atmospheric And Space Scientists', '2040': 'CMS-Clergy', '0440': 'MGR-Other Managers', '0530': 'BUS-Purchasing Agents, Except Wholesale, Retail, And Farm Products', '0600': 'BUS-Cost Estimators', '1430': 'ENG-Industrial Engineers, Including Health And Safety', '1460': 'ENG-Mechanical Engineers', '3550': 'MED-Other Healthcare Practitioners and Technical Occupations', '6515': 'CON-Roofers', '7330': 'RPR-Industrial And Refractory Machinery Mechanics', '9150': 'TRN-Motor Vehicle Operators, All Other', '2920': 'ENT-Television, Video, And Film Camera Operators And Editors', '0205': 'MGR-Farmers, Ranchers, And Other Agricultural Managers', '0700': 'BUS-Logisticians', '2555': 'EDU-Other Educational Instruction and Library Workers', '2740': 'ENT-Dancers And Choreographers', '4820': 'SAL-Securities, Commodities, And Financial Services Sales Agents', '4830': 'SAL-Travel Agents', '7540': 'RPR-Locksmiths And Safe Repairers', '7720': 'PRD-Electrical, Electronics, And Electromechanical Assemblers', '8465': 'PRD-Other Textile, Apparel, And Furnishings Workers', '0360': 'MGR-Natural Sciences Managers', '2013': 'CMS-Mental Health And Substance Abuse Social Workers', '2710': 'ENT-Producers And Directors', '2805': 'ENT-Broadcast Announcers And Radio Disc Jockeys', '8740': 'PRD-Inspectors, Testers, Sorters, Samplers, And Weighers', '8990': 'PRD-Miscellaneous Production Workers, Including Equipment Operators And Tenders', '9610': 'TRN-Cleaners Of Vehicles And Equipment', '1610': 'SCI-Biological Scientists', '1821': 'SCI-Clinical And Counseling Psychologists', '1825': 'SCI-Other Psychologists', '2005': 'CMS-Rehabilitation Counselors', '3050': 'MED-Pharmacists', '4350': 'PRS-Animal Caretakers', '4760': 'SAL-Retail Salespersons', '5110': 'OFF-Billing And Posting Clerks', '6710': 'CON-Fence Erectors', '7640': 'RPR-Other Installation, Maintenance, And Repair Workers', '9240': 'TRN-Railroad Conductors And Yardmasters', '0900': 'FIN-Financial Examiners', '3310': 'MED-Dental Hygienists', '3424': 'MED-Veterinary Technologists and Technicians', '5350': 'OFF-Correspondence Clerks And Order Clerks', '8920': 'PRD-Molders, Shapers, And Casters, Except Metal And Plastic', '9110': 'TRN-Ambulance Drivers And Attendants, Except Emergency Medical Technicians', '9760': 'TRN-Other Material Moving Workers', '2025': 'CMS-Other Community and Social Service Specialists', '2632': 'ENT-Fashion Designers', '3040': 'MED-Optometrists', '4621': 'PRS-Exercise Trainers And Group Fitness Instructors', '5260': 'OFF-File Clerks', '6260': 'CON-Construction Laborers', '8130': 'PRD-Tool And Die Makers', '2752': 'ENT-Musicians and Singers', '3323': 'MED-Radiologic Technologists And Technicians', '3900': 'PRT-Animal Control Workers', '3940': 'PRT-Crossing Guards And Flaggers', '4640': 'PRS-Residential Advisors', '6230': 'CON-Carpenters', '7160': 'RPR-Automotive Glass Installers And Repairers', '3648': 'HLS-Veterinary Assistants And Laboratory Animal Caretakers', '4220': 'CLN-Janitors And Building Cleaners', '6520': 'CON-Sheet Metal Workers', '7220': 'RPR-Heavy Vehicle And Mobile Equipment Service Technicians And Mechanics', '7800': 'PRD-Bakers', '9142': 'TRN-Taxi Drivers', '9645': 'TRN-Stockers And Order Fillers', '1320': 'ENG-Aerospace Engineers', '1600': 'SCI-Agricultural And Food Scientists', '2700': 'ENT-Actors', '4040': 'EAT-Bartenders', '9005': 'TRN-Supervisors Of Transportation And Material Moving Workers', '0725': 'BUS-Meeting, Convention, And Event Planners', '5522': 'OFF-Dispatchers, Except Police, Fire, And Ambulance', '6950': 'EXT-Other Extraction Workers', '7040': 'RPR-Electric Motor, Power Tool, And Related Repairers', '8500': 'PRD-Cabinetmakers And Bench Carpenters', '7100': 'RPR-Other Electrical And Electronic Equipment Mechanics, Installers, And Repairers', '2400': 'EDU-Archivists, Curators, And Museum Technicians', '2440': 'EDU-Library Technicians', '6540': 'CON-Solar Photovoltaic Installers', '7430': 'RPR-Precision Instrument And Equipment Repairers', '8040': 'PRD-Metal Furnace Operators, Tenders, Pourers, And Casters', '9300': 'TRN-Sailors And Marine Oilers, And Ship Engineers', '9640': 'TRN-Packers And Packagers, Hand', '9825': 'MIL-Military Enlisted Tactical Operations And Air/Weapons Specialists And Crew Members', '0136': 'MGR-Human Resources Managers', '0830': 'FIN-Credit Analysts', '3010': 'MED-Dentists', '3300': 'MED-Clinical Laboratory Technologists And Technicians', '4255': 'CLN-Other Grounds Maintenance Workers', '4655': 'PRS-Personal Care and Service Workers, All Other', '4900': 'SAL-Models, Demonstrators, And Product Promoters', '5900': 'OFF-Office Machine Operators, Except Computer', '8530': 'PRD-Sawing Machine Setters, Operators, And Tenders, Wood', '1551': 'ENG-Electrical And Electronic Engineering Technologists And Technicians', '1006': 'CMM-Computer Systems Analysts', '2014': 'CMS-Social Workers, All Other', '3610': 'HLS-Occupational Therapy Assistants And Aides', '4530': 'PRS-Baggage Porters, Bellhops, And Concierges', '5230': 'OFF-Credit Authorizers, Checkers, And Clerks', '3930': 'PRT-Security Guards And Gambling Surveillance Officers', '1220': 'CMM-Operations Research Analysts', '1340': 'ENG-Biomedical And Agricultural Engineers', '1520': 'ENG-Petroleum, Mining And Geological Engineers, Including Mining Safety Engineers', '2360': 'EDU-Other Teachers and Instructors', '2722': 'ENT-Coaches and Scouts', '3090': 'MED-Physicians', '3322': 'MED-Diagnostic Medical Sonographers', '3423': 'MED-Surgical Technologists', '4251': 'CLN-Landscaping And Groundskeeping Workers', '5550': 'OFF-Postal Service Mail Carriers', '6360': 'CON-Glaziers', '7855': 'PRD-Food Processing Workers, All Other', '1555': 'ENG-Other Engineering Technologists And Technicians, Except Drafters', '1440': 'ENG-Marine Engineers And Naval Architects', '1745': 'SCI-Environmental Scientists And Specialists, Including Health', '2170': 'LGL-Title Examiners, Abstractors, and Searchers', '2830': 'ENT-Editors', '2840': 'ENT-Technical Writers', '3100': 'MED-Surgeons', '3645': 'HLS-Medical Assistants', '4230': 'CLN-Maids And Housekeeping Cleaners', '5100': 'OFF-Bill And Account Collectors', '6330': 'CON-Drywall Installers, Ceiling Tile Installers, And Tapers', '7320': 'RPR-Home Appliance Repairers', '8510': 'PRD-Furniture Finishers', '8940': 'PRD-Tire Builders', '3030': 'MED-Dietitians And Nutritionists', '3700': 'PRT-First-Line Supervisors Of Correctional Officers', '4330': 'PRS-Supervisors Of Personal Care And Service Workers', '4740': 'SAL-Counter And Rental Clerks', '6441': 'CON-Pipelayers', '6765': 'CON-Other Construction And Related Workers', '9050': 'TRN-Flight Attendants', '2636': 'ENT-Merchandise Displayer And Windows Trimmers', '0101': 'MGR-Administrative Services Managers', '1980': 'SCI-Occupational Health And Safety Specialists and Technicians', '1106': 'CMM-Computer Network Architects', '1360': 'ENG-Civil Engineers', '1700': 'SCI-Astronomers And Physicists', '2012': 'CMS-Healthcare Social Workers', '2635': 'ENT-Interior Designers', '3230': 'MED-Speech-Language Pathologists', '6460': 'CON-Plasterers And Stucco Masons', '9130': 'TRN-Driver/Sales Workers And Truck Drivers', '9310': 'TRN-Ship And Boat Captains And Operators', '9810': 'MIL-First-Line Enlisted Military Supervisors', '0120': 'MGR-Financial Managers', '5410': 'OFF-Reservation And Transportation Ticket Agents And Travel Clerks', '7740': 'PRD-Structural Metal Fabricators And Fitters', '8910': 'PRD-Etchers And Engravers', '0350': 'MGR-Medical And Health Services Managers', '1050': 'CMM-Computer Support Specialists', '3801': 'PRT-Bailiffs', '7700': 'PRD-First-Line Supervisors Of Production And Operating Workers', '8730': 'PRD-Furnace, Kiln, Oven, Drier, And Kettle Operators And Tenders', '9720': 'TRN-Refuse And Recyclable Material Collectors', '0810': 'FIN-Property Appraisers and Assessors', '2001': 'CMS-Substance Abuse And Behavioral Disorder Counselors', '5165': 'OFF-Other Financial Clerks', '8540': 'PRD-Woodworking Machine Setters, Operators, And Tenders, Except Sawing', '9210': 'TRN-Locomotive Engineers And Operators', '0020': 'MGR-General And Operations Managers', '1840': 'SCI-Urban And Regional Planners', '3000': 'MED-Chiropractors', '3110': 'MED-Physician Assistants', '3270': 'MED-Healthcare Diagnosing Or Treating Practitioners, All Other', '3321': 'MED-Cardiovascular Technologists and Technicians', '3401': 'MED-Emergency Medical Technicians', '5600': 'OFF-Production, Planning, And Expediting Clerks', '5810': 'OFF-Data Entry Keyers', '8255': 'PRD-Printing Press Operators', '8650': 'PRD-Crushing, Grinding, Polishing, Mixing, And Blending Workers', '0060': 'MGR-Public Relations And Fundraising Managers', '1031': 'CMM-Web Developers', '1240': 'CMM-Other Mathematical Science Occupations', '1650': 'SCI-Other Life Scientists', '3210': 'MED-Recreational Therapists', '4510': 'PRS-Hairdressers, Hairstylists, And Cosmetologists', '7240': 'RPR-Small Engine Mechanics', '0750': 'BUS-Business Operations Specialists, All Other', '4400': 'PRS-Gambling Services Workers', '5720': 'OFF-Legal Secretaries and Administrative Assistants', '7950': 'PRD-Cutting, Punching, And Press Machine Setters, Operators, And Tenders, Metal And Plastic', '3255': 'MED-Registered Nurses', '4700': 'SAL-First-Line Supervisors Of Retail Sales Workers', '4930': 'SAL-Sales Engineers', '5220': 'OFF-Court, Municipal, And License Clerks', '5920': 'OFF-Statistical Assistants', '7340': 'RPR-Maintenance And Repair Workers, General', '7510': 'RPR-Coin, Vending, And Amusement Machine Servicers And Repairers', '9620': 'TRN-Laborers And Freight, Stock, And Material Movers, Hand', '1021': 'CMM-Software Developers', '1560': 'ENG-Surveying And Mapping Technicians', '2100': 'LGL-Lawyers, And Judges, Magistrates, And Other Judicial Workers', '2105': 'LGL-Judicial Law Clerks', '1400': 'ENG-Computer Hardware Engineers', '3120': 'MED-Podiatrists', '3515': 'MED-Medical Records Specialists', '3602': 'HLS-Personal Care Aides', '3710': 'PRT-First-Line Supervisors Of Police And Detectives', '4840': 'SAL-Sales Representatives Of Services, Except Advertising, Insurance, Financial Services, And Travel', '5010': 'OFF-Switchboard Operators, Including Answering Service', '5120': 'OFF-Bookkeeping, Accounting, And Auditing Clerks', '6835': 'EXT-Explosives Workers, Ordnance Handling Experts, and Blasters', '8800': 'PRD-Packaging And Filling Machine Operators And Tenders', '9920': 'Unemployed, With No Work Experience In The Last 5 Years Or Earlier Or Never Worked', '5740': 'OFF-Secretaries And Administrative Assistants, Except Legal, Medical, And Executive', '0310': 'MGR-Food Service Managers', '3330': 'MED-Nuclear Medicine Technologists and Medical Dosimetrists', '4500': 'PRS-Barbers', '6200': 'CON-First-Line Supervisors Of Construction Trades And Extraction Workers', '0051': 'MGR-Marketing Managers', '0052': 'MGR-Sales Managers', '1350': 'ENG-Chemical Engineers', '2016': 'CMS-Social And Human Service Assistants', '2050': 'CMS-Directors, Religious Activities And Education', '2770': 'ENT-Entertainers And Performers, Sports and Related Workers, All Other', '3520': 'MED-Opticians, Dispensing', '4000': 'EAT-Chefs And Head Cooks', '4150': 'EAT-Hosts And Hostesses, Restaurant, Lounge, And Coffee Shop', '7830': 'PRD-Food And Tobacco Roasting, Baking, And Drying Machine Operators And Tenders', '8256': 'PRD-Print Binding And Finishing Workers', '9430': 'TRN-Other Transportation Workers', '0300': 'MGR-Architectural And Engineering Managers', '0735': 'BUS-Market Research Analysts And Marketing Specialists', '1760': 'SCI-Physical Scientists, All Other', '2600': 'ENT-Artists And Related Workers', '4140': 'EAT-Dishwashers', '4920': 'SAL-Real Estate Brokers And Sales Agents', '5000': 'OFF-First-Line Supervisors Of Office And Administrative Support Workers', '6250': 'CON-Cement Masons, Concrete Finishers, And Terrazzo Workers', '7030': 'RPR-Avionics Technicians', '9800': 'MIL-Military Officer Special And Tactical Operations Leaders', '0540': 'BUS-Claims Adjusters, Appraisers, Examiners, And Investigators', '2634': 'ENT-Graphic Designers', '4420': 'PRS-Ushers, Lobby Attendants, And Ticket Takers', '6210': 'CON-Boilermakers', '7000': 'RPR-First-Line Supervisors Of Mechanics, Installers, And Repairers', '7410': 'RPR-Electrical Power-Line Installers And Repairers', '0040': 'MGR-Advertising And Promotions Managers', '0860': 'FIN-Insurance Underwriters', '0940': 'FIN-Tax Preparers', '2435': 'EDU-Librarians And Media Collections Specialists', '2825': 'ENT-Public Relations Specialists', '3500': 'MED-Licensed Practical And Licensed Vocational Nurses', '4950': 'SAL-Door-To-Door Sales Workers, News And Street Vendors, And Related Workers', '7010': 'RPR-Computer, Automated Teller, And Office Machine Repairers', '6700': 'CON-Elevator And Escalator Installers And Repairers', '8000': 'PRD-Grinding, Lapping, Polishing, And Buffing Machine Tool Setters, Operators, And Tenders, Metal And Plastic', '0800': 'FIN-Accountants And Auditors', '2751': 'ENT-Music Directors and Composers', '6442': 'CON-Plumbers, Pipefitters, And Steamfitters', '6730': 'CON-Highway Maintenance Workers', '7210': 'RPR-Bus And Truck Mechanics And Diesel Engine Specialists', '7840': 'PRD-Food Batchmakers', '8350': 'PRD-Tailors, Dressmakers, And Sewers', '3402': 'MED-Paramedics', '4525': 'PRS-Other Personal Appearance Workers', '4710': 'SAL-First-Line Supervisors Of Non-Retail Sales Workers', '7420': 'RPR-Telecommunications Line Installers And Repairers', '8100': 'PRD-Model Makers, Patternmakers, And Molding Machine Setters, Metal And Plastic', '8830': 'PRD-Photographic Process Workers And Processing Machine Operators', '8850': 'PRD-Adhesive Bonding Machine Operators And Tenders', '1935': 'SCI-Environmental Science and Geoscience Technicians, And Nuclear Technicians', '2350': 'EDU-Tutors', '0220': 'MGR-Construction Managers', '0930': 'FIN-Tax Examiners And Collectors, And Revenue Agents', '1306': 'ENG-Landscape Architects', '3245': 'MED-Other Therapists', '4521': 'PRS-Manicurists And Pedicurists', '7300': 'RPR-Control And Valve Installers And Repairers', '9121': 'TRN-Bus Drivers, School', '0230': 'MGR-Education And Childcare Administrators', '0410': 'MGR-Property, Real Estate, And Community Association Managers', '3261': 'MED-Acupuncturists', '5850': 'OFF-Mail Clerks And Mail Machine Operators, Except Postal Service', '6720': 'CON-Hazardous Materials Removal Workers', '1108': 'CMM-Computer Occupations, All Other', '1640': 'SCI-Conservation Scientists And Foresters', '1910': 'SCI-Biological Technicians', '3601': 'HLS-Home Health Aides', '5530': 'OFF-Meter Readers, Utilities', '5560': 'OFF-Postal Service Mail Sorters, Processors, And Processing Machine Operators', '5910': 'OFF-Proofreaders And Copy Markers', '8760': 'PRD-Dental And Ophthalmic Laboratory Technicians And Medical Appliance Technicians', '4461': 'PRS-Embalmers, Crematory Operators And Funeral Attendants', '0565': 'BUS-Compliance Officers', '0910': 'FIN-Credit Counselors And Loan Officers', '1920': 'SCI-Chemical Technicians', '2145': 'LGL-Paralegals And Legal Assistants', '3250': 'MED-Veterinarians', '3258': 'MED-Nurse Practitioners, And Nurse Midwives', '5940': 'OFF-Other Office And Administrative Support Workers', '6040': 'FFF-Graders And Sorters, Agricultural Products', '7610': 'RPR-Helpers--Installation, Maintenance, And Repair Workers', '7850': 'PRD-Food Cooking Machine Operators And Tenders', '7905': 'PRD-Computer Numerically Controlled Tool Operators And Programmers', '8300': 'PRD-Laundry And Dry-Cleaning Workers', '2002': 'CMS-Educational, Guidance, And Career Counselors And Advisors', '2862': 'ENT-Court Reporters and Simultaneous Captioners', '6660': 'CON-Construction And Building Inspectors', '7810': 'PRD-Butchers And Other Meat, Poultry, And Fish Processing Workers', '8450': 'PRD-Upholsterers', '0710': 'BUS-Management Analysts', '1200': 'CMM-Actuaries', '4435': 'PRS-Other Entertainment Attendants And Related Workers', '8365': 'PRD-Textile Machine Setters, Operators, And Tenders', '9030': 'TRN-Aircraft Pilots And Flight Engineers', '9830': 'MIL-Military, Rank Not Specified', '0135': 'MGR-Compensation And Benefits Managers', '0520': 'BUS-Wholesale And Retail Buyers, Except Farm Products', '1065': 'CMM-Database Administrators and Architects', '1970': 'SCI-Other Life, Physical, And Social Science Technicians', '5310': 'OFF-Interviewers, Except Eligibility And Loan', '8335': 'PRD-Shoe And Leather Workers', '9650': 'TRN-Pumping Station Operators'}}}\n"
     ]
    }
   ],
   "source": [
    "# we can check our vars that lie on the unexpected extremes (high unique N, categorical)::\n",
    "print('var with max number of unique values that may be categorical:') \n",
    "max_cat_row = datatype.iloc[datatype['n_unq_vals'].loc[datatype['range_key']==False].idxmax()]\n",
    "\n",
    "print(max_cat_row)\n",
    "\n",
    "# get deets:\n",
    "dets = variableDetails(max_cat_row['var_name'])\n",
    "print(dets)"
   ]
  },
  {
   "cell_type": "markdown",
   "id": "f8b9ba5e",
   "metadata": {},
   "source": [
    "This one also checks out. Now we can convert the datatypes in the main df."
   ]
  },
  {
   "cell_type": "code",
   "execution_count": 14,
   "id": "4c782260",
   "metadata": {},
   "outputs": [],
   "source": [
    "datatype.set_index('var_name',inplace=True)"
   ]
  },
  {
   "cell_type": "code",
   "execution_count": 15,
   "id": "3d8663e3",
   "metadata": {},
   "outputs": [
    {
     "name": "stdout",
     "output_type": "stream",
     "text": [
      "converting data types...\n"
     ]
    }
   ],
   "source": [
    "#convert the datatypes\n",
    "print('converting data types...')\n",
    "for index in datatype.index:\n",
    "    if datatype.loc[index].range_key == False:\n",
    "        df[index] = df[index].astype('category')"
   ]
  },
  {
   "cell_type": "code",
   "execution_count": 16,
   "id": "810140d6",
   "metadata": {},
   "outputs": [
    {
     "data": {
      "text/plain": [
       "HHLANP     category\n",
       "FBATHP     category\n",
       "DRIVESP    category\n",
       "WGTP23        int64\n",
       "WGTP22        int64\n",
       "             ...   \n",
       "PERNP         int64\n",
       "SCH        category\n",
       "TEL        category\n",
       "TEN        category\n",
       "STATE      category\n",
       "Length: 456, dtype: object"
      ]
     },
     "execution_count": 16,
     "metadata": {},
     "output_type": "execute_result"
    }
   ],
   "source": [
    "df.dtypes"
   ]
  },
  {
   "cell_type": "markdown",
   "id": "72b7c499",
   "metadata": {},
   "source": [
    "Now with our columns converted into appropriate data types, we can compute the predictive power score between each column and our target variable, (health insured or not). "
   ]
  },
  {
   "cell_type": "code",
   "execution_count": 17,
   "id": "3191c6f6",
   "metadata": {},
   "outputs": [
    {
     "data": {
      "text/html": [
       "<div>\n",
       "<style scoped>\n",
       "    .dataframe tbody tr th:only-of-type {\n",
       "        vertical-align: middle;\n",
       "    }\n",
       "\n",
       "    .dataframe tbody tr th {\n",
       "        vertical-align: top;\n",
       "    }\n",
       "\n",
       "    .dataframe thead th {\n",
       "        text-align: right;\n",
       "    }\n",
       "</style>\n",
       "<table border=\"1\" class=\"dataframe\">\n",
       "  <thead>\n",
       "    <tr style=\"text-align: right;\">\n",
       "      <th></th>\n",
       "      <th>y</th>\n",
       "      <th>ppscore</th>\n",
       "      <th>case</th>\n",
       "      <th>is_valid_score</th>\n",
       "      <th>metric</th>\n",
       "      <th>baseline_score</th>\n",
       "      <th>model_score</th>\n",
       "      <th>model</th>\n",
       "    </tr>\n",
       "    <tr>\n",
       "      <th>x</th>\n",
       "      <th></th>\n",
       "      <th></th>\n",
       "      <th></th>\n",
       "      <th></th>\n",
       "      <th></th>\n",
       "      <th></th>\n",
       "      <th></th>\n",
       "      <th></th>\n",
       "    </tr>\n",
       "  </thead>\n",
       "  <tbody>\n",
       "    <tr>\n",
       "      <th>FPRIVCOVP</th>\n",
       "      <td>FHICOVP</td>\n",
       "      <td>0.972462</td>\n",
       "      <td>classification</td>\n",
       "      <td>True</td>\n",
       "      <td>weighted F1</td>\n",
       "      <td>0.750933</td>\n",
       "      <td>0.993141</td>\n",
       "      <td>DecisionTreeClassifier()</td>\n",
       "    </tr>\n",
       "    <tr>\n",
       "      <th>FPUBCOVP</th>\n",
       "      <td>FHICOVP</td>\n",
       "      <td>0.560144</td>\n",
       "      <td>classification</td>\n",
       "      <td>True</td>\n",
       "      <td>weighted F1</td>\n",
       "      <td>0.750933</td>\n",
       "      <td>0.890446</td>\n",
       "      <td>DecisionTreeClassifier()</td>\n",
       "    </tr>\n",
       "    <tr>\n",
       "      <th>FHINS7P</th>\n",
       "      <td>FHICOVP</td>\n",
       "      <td>0.476870</td>\n",
       "      <td>classification</td>\n",
       "      <td>True</td>\n",
       "      <td>weighted F1</td>\n",
       "      <td>0.750933</td>\n",
       "      <td>0.869705</td>\n",
       "      <td>DecisionTreeClassifier()</td>\n",
       "    </tr>\n",
       "    <tr>\n",
       "      <th>FHINS6P</th>\n",
       "      <td>FHICOVP</td>\n",
       "      <td>0.466229</td>\n",
       "      <td>classification</td>\n",
       "      <td>True</td>\n",
       "      <td>weighted F1</td>\n",
       "      <td>0.750933</td>\n",
       "      <td>0.867055</td>\n",
       "      <td>DecisionTreeClassifier()</td>\n",
       "    </tr>\n",
       "    <tr>\n",
       "      <th>FHINS1P</th>\n",
       "      <td>FHICOVP</td>\n",
       "      <td>0.437580</td>\n",
       "      <td>classification</td>\n",
       "      <td>True</td>\n",
       "      <td>weighted F1</td>\n",
       "      <td>0.750933</td>\n",
       "      <td>0.859920</td>\n",
       "      <td>DecisionTreeClassifier()</td>\n",
       "    </tr>\n",
       "  </tbody>\n",
       "</table>\n",
       "</div>"
      ],
      "text/plain": [
       "                 y   ppscore            case  is_valid_score       metric  \\\n",
       "x                                                                           \n",
       "FPRIVCOVP  FHICOVP  0.972462  classification            True  weighted F1   \n",
       "FPUBCOVP   FHICOVP  0.560144  classification            True  weighted F1   \n",
       "FHINS7P    FHICOVP  0.476870  classification            True  weighted F1   \n",
       "FHINS6P    FHICOVP  0.466229  classification            True  weighted F1   \n",
       "FHINS1P    FHICOVP  0.437580  classification            True  weighted F1   \n",
       "\n",
       "           baseline_score  model_score                     model  \n",
       "x                                                                 \n",
       "FPRIVCOVP        0.750933     0.993141  DecisionTreeClassifier()  \n",
       "FPUBCOVP         0.750933     0.890446  DecisionTreeClassifier()  \n",
       "FHINS7P          0.750933     0.869705  DecisionTreeClassifier()  \n",
       "FHINS6P          0.750933     0.867055  DecisionTreeClassifier()  \n",
       "FHINS1P          0.750933     0.859920  DecisionTreeClassifier()  "
      ]
     },
     "execution_count": 17,
     "metadata": {},
     "output_type": "execute_result"
    }
   ],
   "source": [
    "# try predictive power score to see if there's a relationship between our target var and other columns\n",
    "target = 'FHICOVP'\n",
    "predictors_df = pps.predictors(df, y=target,sorted=True,random_seed=123)\n",
    "predictors_df.set_index('x',inplace=True)\n",
    "predictors_df.head()"
   ]
  },
  {
   "cell_type": "code",
   "execution_count": 18,
   "id": "5dac809e",
   "metadata": {},
   "outputs": [],
   "source": [
    "def ecdf(x):\n",
    "    y = list()\n",
    "    for i in x:\n",
    "        y.append(sum(x <= i)/len(x))\n",
    "    return x,y"
   ]
  },
  {
   "cell_type": "code",
   "execution_count": 19,
   "id": "ab87ee41",
   "metadata": {},
   "outputs": [
    {
     "name": "stdout",
     "output_type": "stream",
     "text": [
      "(25500, 456)\n",
      "(455, 8)\n"
     ]
    }
   ],
   "source": [
    "print(df.shape)\n",
    "print(predictors_df.shape) # the number of rows in predictors_df is off by one from the main df because it excludes our target variable"
   ]
  },
  {
   "cell_type": "code",
   "execution_count": 20,
   "id": "cf9cdcfe",
   "metadata": {},
   "outputs": [
    {
     "data": {
      "image/png": "[encoded data removed]",
      "text/plain": [
       "<Figure size 720x432 with 1 Axes>"
      ]
     },
     "metadata": {
      "needs_background": "light"
     },
     "output_type": "display_data"
    }
   ],
   "source": [
    "fig,ax=plt.subplots(figsize=(10,6))\n",
    "\n",
    "x,y=ecdf(predictors_df['ppscore'])\n",
    "ax.plot(x,y,marker='.',linestyle='None',color='None',markerfacecolor='blue',alpha=0.3)\n",
    "sns.despine()\n",
    "sns.color_palette('hls',8)\n",
    "ax.set_xlabel('predictive power score')\n",
    "ax.set_ylabel('prop. of columns <= x (pps)')\n",
    "\n",
    "#sns.barplot(data=predictors_df,x='index',y='ppscore',ax=ax[1],alpha=0.9)\n",
    "#ax[1].set(xlim=(0,sum(predictors_df['ppscore'] > 0)))\n",
    "#plt.xticks(rotation='vertical',ticks=np.round(np.linspace(0,sum(predictors_df['ppscore'] > 0),num = 20)),labels=int(np.round(np.linspace(0,sum(predictors_df['ppscore'] > 0),num = 20))))\n",
    "plt.show()"
   ]
  },
  {
   "cell_type": "code",
   "execution_count": 21,
   "id": "c1289d07",
   "metadata": {},
   "outputs": [
    {
     "name": "stdout",
     "output_type": "stream",
     "text": [
      "The proportion of points with a predictive power score of 0 is 0.35604395604395606.\n",
      "We can move forward by dropping the bottom 162 columns right off the bat.\n"
     ]
    }
   ],
   "source": [
    "print('The proportion of points with a predictive power score of 0 is ' + str(y[len(y)-1]) + '.')\n",
    "print('We can move forward by dropping the bottom ' + str(int(y[len(y)-1]*len(y))) + ' columns right off the bat.')"
   ]
  },
  {
   "cell_type": "code",
   "execution_count": 22,
   "id": "3b17d6ae",
   "metadata": {},
   "outputs": [
    {
     "name": "stdout",
     "output_type": "stream",
     "text": [
      "(25500, 294)\n",
      "(25500, 294)\n",
      "(293, 8)\n"
     ]
    }
   ],
   "source": [
    "pps_0 = predictors_df[predictors_df['ppscore'] == 0].index\n",
    "predictors_df = predictors_df.drop(index=pps_0,axis=0)\n",
    "df = df.drop(pps_0,axis=1)\n",
    "print(df.shape)\n",
    "print(df.shape)\n",
    "print(predictors_df.shape)"
   ]
  },
  {
   "cell_type": "markdown",
   "id": "75ee0619",
   "metadata": {},
   "source": [
    "Now we can find a threshold from our predictive power scores to set to land on a dataframe with more informative datacolumns overall."
   ]
  },
  {
   "cell_type": "code",
   "execution_count": 23,
   "id": "72598847",
   "metadata": {},
   "outputs": [
    {
     "data": {
      "image/png": "[encoded data removed]",
      "text/plain": [
       "<Figure size 720x432 with 1 Axes>"
      ]
     },
     "metadata": {
      "needs_background": "light"
     },
     "output_type": "display_data"
    }
   ],
   "source": [
    "# now let's try the ecdf again\n",
    "fig,ax=plt.subplots(figsize=(10,6))\n",
    "\n",
    "x,y=ecdf(predictors_df['ppscore'])\n",
    "ax.plot(x,y,marker='.',linestyle='None',color='None',markerfacecolor='blue',alpha=0.3)\n",
    "ax.axvline(0.03)\n",
    "sns.despine()\n",
    "sns.color_palette('hls',8)\n",
    "ax.set_xlabel('predictive power score')\n",
    "ax.set_ylabel('prop. of columns <= x (pps)')\n",
    "plt.show()"
   ]
  },
  {
   "cell_type": "code",
   "execution_count": 24,
   "id": "a39656cf",
   "metadata": {},
   "outputs": [
    {
     "name": "stdout",
     "output_type": "stream",
     "text": [
      "There are still 8 columns. We can probably drop more with the lower pp scores based on this distribution.\n",
      "x\n",
      "FPLMP        1.568109e-07\n",
      "YBL          1.576281e-07\n",
      "FKITP        1.576281e-07\n",
      "FPAP         1.576281e-07\n",
      "FHISPEEDP    1.576281e-07\n",
      "Name: ppscore, dtype: float64\n",
      "We can see a natural break in the distribution from the ecdf as well, near a pps ~-0.03\n"
     ]
    }
   ],
   "source": [
    "print('There are still ' + str(predictors_df.shape[1]) + ' columns. We can probably drop more with the lower pp scores based on this distribution.')\n",
    "print(predictors_df['ppscore'].sort_values().head())\n",
    "print('We can see a natural break in the distribution from the ecdf as well, near a pps ~-0.03')"
   ]
  },
  {
   "cell_type": "code",
   "execution_count": 25,
   "id": "7ee459ba",
   "metadata": {},
   "outputs": [
    {
     "name": "stdout",
     "output_type": "stream",
     "text": [
      "(25500, 31)\n",
      "(30, 8)\n"
     ]
    }
   ],
   "source": [
    "pps_0 = predictors_df[predictors_df['ppscore'] < 0.03].index\n",
    "predictors_df = predictors_df.drop(index=pps_0,axis=0)\n",
    "df = df.drop(pps_0,axis=1)\n",
    "print(df.shape)\n",
    "print(predictors_df.shape)"
   ]
  },
  {
   "cell_type": "markdown",
   "id": "0c6bbd48",
   "metadata": {},
   "source": [
    "It looks like one or two columns have a very high pps--going to check that there are not other medical insurance related columns being used as potential predictors. "
   ]
  },
  {
   "cell_type": "code",
   "execution_count": 26,
   "id": "bef12f02",
   "metadata": {},
   "outputs": [
    {
     "name": "stdout",
     "output_type": "stream",
     "text": [
      "PUBCOV : public health coverage recode\n",
      "PRIVCOV : private health insurance coverage recode\n",
      "FINSP : fire, hazard, flood insurance (yearly amount) allocation flag\n",
      "FMRGIP : first mortgage payment includes fire, hazard, flood insurance allocation flag\n",
      "HICOV : health insurance coverage recode\n",
      "FPUBCOVP : public health coverage recode allocation flag\n",
      "MRGI : first mortgage payment includes fire/hazard/flood insurance\n",
      "FHICOVP : health insurance coverage recode allocation flag\n",
      "FPRIVCOVP : private health insurance coverage recode allocation flag\n",
      "FHINS7P : indian health service allocation flag\n",
      "FHINS6P : va (enrolled for va health care) allocation flag\n",
      "INSP : fire/hazard/flood insurance (yearly amount, use adjhsg to adjust insp to constant dollars)\n",
      "HINS6 : va (enrolled for va health care)\n",
      "HINS7 : indian health service\n",
      "HINS1 : insurance through a current or former employer or union\n",
      "HINS2 : insurance purchased directly from an insurance company\n",
      "HINS3 : medicare, for people 65 and older, or people with certain disabilities\n",
      "HINS4 : medicaid, medical assistance, or any kind of government-assistance plan for those with low incomes o\n",
      "HINS5 : tricare or other military health care\n",
      "FHINS5P : tricare or other military health care allocation flag\n",
      "FHINS4P : medicaid, medical assistance, or any kind of government-assistance plan for people with low incomes or a disability allocation flag\n",
      "FHINS4C : medicaid coverage given through the eligibility coverage edit\n",
      "FHINS3P : medicare, for people 65 or older, or people with certain disabilities allocation flag\n",
      "FHINS3C : medicare coverage given through the eligibility coverage edit\n",
      "FHINS2P : insurance purchased directly from an insurance company allocation flag\n",
      "FHINS1P : insurance through a current or former employer or union allocation flag\n"
     ]
    }
   ],
   "source": [
    "# load variable names from census PUMS (public use microsample) API\n",
    "load_dotenv()\n",
    "API_KEY  = os.getenv('CENSUS_API_KEY')\n",
    "host     = 'https://api.census.gov/data'\n",
    "year     = 2019\n",
    "dataset  = 'acs/acs1/pums/variables'\n",
    "base_url = \"/\".join([host, str(year), dataset]) \n",
    "r        = requests.get(base_url)\n",
    "rlists   = r.json()\n",
    "code     = [item[0] for item in rlists if item[0].isupper()] #code in API\n",
    "label    = [item[1].lower() for item in rlists if item[0].isupper()] # description for each code\n",
    "nsamples = 500\n",
    "\n",
    "codedict = {} # redudant with code, label but may make life easier later on\n",
    "count    = 0\n",
    "for lab in label:\n",
    "    codedict[code[count]] = lab\n",
    "    count += 1\n",
    "# check for target variable (health insured or not):\n",
    "insurance_columns = list()\n",
    "for key, value in codedict.items():\n",
    "    if value.__contains__('insurance'):\n",
    "        print(key + \" : \" + value)\n",
    "        insurance_columns.append(key)\n",
    "    if value.__contains__('health care'):\n",
    "        print(key + \" : \" + value)\n",
    "        insurance_columns.append(key)\n",
    "    if value.__contains__('health service'):\n",
    "        print(key + \" : \" + value)\n",
    "        insurance_columns.append(key)\n",
    "    if value.__contains__('health coverage'):\n",
    "        print(key + \" : \" + value)\n",
    "        insurance_columns.append(key)\n",
    "    if value.__contains__('medi'):\n",
    "        print(key + \" : \" + value)\n",
    "        insurance_columns.append(key)         "
   ]
  },
  {
   "cell_type": "markdown",
   "id": "9cada75e",
   "metadata": {},
   "source": [
    "If a medical insurance column other than our target exists in our main dataframe we should drop it because in theory we shouldn't have this information."
   ]
  },
  {
   "cell_type": "code",
   "execution_count": 27,
   "id": "ad29ce63",
   "metadata": {},
   "outputs": [],
   "source": [
    "# FHICOVP is our target, so not a predictor\n",
    "# we already dropped 'HICOV' in data cleaning but we can check the other two vars\n",
    "for i in insurance_columns:\n",
    "    if i != target:\n",
    "        if i in df.columns:\n",
    "            df.drop(i,axis=1,inplace=True)\n",
    "            predictors_df.drop(i,axis=0,inplace=True)"
   ]
  },
  {
   "cell_type": "code",
   "execution_count": 28,
   "id": "b5cb0b5a",
   "metadata": {},
   "outputs": [
    {
     "data": {
      "image/png": "[encoded data removed]",
      "text/plain": [
       "<Figure size 720x432 with 1 Axes>"
      ]
     },
     "metadata": {
      "needs_background": "light"
     },
     "output_type": "display_data"
    }
   ],
   "source": [
    "# now let's try the ecdf again (again)\n",
    "fig,ax=plt.subplots(figsize=(10,6))\n",
    "\n",
    "x,y=ecdf(predictors_df['ppscore'])\n",
    "ax.plot(x,y,marker='.',linestyle='None',color='None',markerfacecolor='blue',alpha=0.5)\n",
    "ax.axvline(0.03)\n",
    "sns.despine()\n",
    "sns.color_palette('hls',8)\n",
    "ax.set_xlabel('predictive power score')\n",
    "ax.set_ylabel('prop. of columns <= x (pps)')\n",
    "plt.show()"
   ]
  },
  {
   "cell_type": "markdown",
   "id": "b036b87e",
   "metadata": {},
   "source": [
    "Looks much better. What are the dimensions of the df now? And what are these variables with the highest pp scores, out of curiousity?"
   ]
  },
  {
   "cell_type": "code",
   "execution_count": 29,
   "id": "0d5e6741",
   "metadata": {},
   "outputs": [
    {
     "name": "stdout",
     "output_type": "stream",
     "text": [
      "There are now 22 columns.\n"
     ]
    }
   ],
   "source": [
    "print('There are now ' + str(df.shape[1]) + ' columns.')"
   ]
  },
  {
   "cell_type": "code",
   "execution_count": 30,
   "id": "2612ee30",
   "metadata": {},
   "outputs": [
    {
     "data": {
      "text/html": [
       "<div>\n",
       "<style scoped>\n",
       "    .dataframe tbody tr th:only-of-type {\n",
       "        vertical-align: middle;\n",
       "    }\n",
       "\n",
       "    .dataframe tbody tr th {\n",
       "        vertical-align: top;\n",
       "    }\n",
       "\n",
       "    .dataframe thead th {\n",
       "        text-align: right;\n",
       "    }\n",
       "</style>\n",
       "<table border=\"1\" class=\"dataframe\">\n",
       "  <thead>\n",
       "    <tr style=\"text-align: right;\">\n",
       "      <th></th>\n",
       "      <th>y</th>\n",
       "      <th>ppscore</th>\n",
       "      <th>case</th>\n",
       "      <th>is_valid_score</th>\n",
       "      <th>metric</th>\n",
       "      <th>baseline_score</th>\n",
       "      <th>model_score</th>\n",
       "      <th>model</th>\n",
       "    </tr>\n",
       "    <tr>\n",
       "      <th>x</th>\n",
       "      <th></th>\n",
       "      <th></th>\n",
       "      <th></th>\n",
       "      <th></th>\n",
       "      <th></th>\n",
       "      <th></th>\n",
       "      <th></th>\n",
       "      <th></th>\n",
       "    </tr>\n",
       "  </thead>\n",
       "  <tbody>\n",
       "    <tr>\n",
       "      <th>FDISP</th>\n",
       "      <td>FHICOVP</td>\n",
       "      <td>0.288286</td>\n",
       "      <td>classification</td>\n",
       "      <td>True</td>\n",
       "      <td>weighted F1</td>\n",
       "      <td>0.750933</td>\n",
       "      <td>0.822735</td>\n",
       "      <td>DecisionTreeClassifier()</td>\n",
       "    </tr>\n",
       "    <tr>\n",
       "      <th>FDEYEP</th>\n",
       "      <td>FHICOVP</td>\n",
       "      <td>0.280266</td>\n",
       "      <td>classification</td>\n",
       "      <td>True</td>\n",
       "      <td>weighted F1</td>\n",
       "      <td>0.750933</td>\n",
       "      <td>0.820738</td>\n",
       "      <td>DecisionTreeClassifier()</td>\n",
       "    </tr>\n",
       "    <tr>\n",
       "      <th>FCITP</th>\n",
       "      <td>FHICOVP</td>\n",
       "      <td>0.265163</td>\n",
       "      <td>classification</td>\n",
       "      <td>True</td>\n",
       "      <td>weighted F1</td>\n",
       "      <td>0.750933</td>\n",
       "      <td>0.816976</td>\n",
       "      <td>DecisionTreeClassifier()</td>\n",
       "    </tr>\n",
       "    <tr>\n",
       "      <th>FSCHP</th>\n",
       "      <td>FHICOVP</td>\n",
       "      <td>0.258924</td>\n",
       "      <td>classification</td>\n",
       "      <td>True</td>\n",
       "      <td>weighted F1</td>\n",
       "      <td>0.750933</td>\n",
       "      <td>0.815422</td>\n",
       "      <td>DecisionTreeClassifier()</td>\n",
       "    </tr>\n",
       "    <tr>\n",
       "      <th>FMIGP</th>\n",
       "      <td>FHICOVP</td>\n",
       "      <td>0.246948</td>\n",
       "      <td>classification</td>\n",
       "      <td>True</td>\n",
       "      <td>weighted F1</td>\n",
       "      <td>0.750933</td>\n",
       "      <td>0.812439</td>\n",
       "      <td>DecisionTreeClassifier()</td>\n",
       "    </tr>\n",
       "  </tbody>\n",
       "</table>\n",
       "</div>"
      ],
      "text/plain": [
       "              y   ppscore            case  is_valid_score       metric  \\\n",
       "x                                                                        \n",
       "FDISP   FHICOVP  0.288286  classification            True  weighted F1   \n",
       "FDEYEP  FHICOVP  0.280266  classification            True  weighted F1   \n",
       "FCITP   FHICOVP  0.265163  classification            True  weighted F1   \n",
       "FSCHP   FHICOVP  0.258924  classification            True  weighted F1   \n",
       "FMIGP   FHICOVP  0.246948  classification            True  weighted F1   \n",
       "\n",
       "        baseline_score  model_score                     model  \n",
       "x                                                              \n",
       "FDISP         0.750933     0.822735  DecisionTreeClassifier()  \n",
       "FDEYEP        0.750933     0.820738  DecisionTreeClassifier()  \n",
       "FCITP         0.750933     0.816976  DecisionTreeClassifier()  \n",
       "FSCHP         0.750933     0.815422  DecisionTreeClassifier()  \n",
       "FMIGP         0.750933     0.812439  DecisionTreeClassifier()  "
      ]
     },
     "execution_count": 30,
     "metadata": {},
     "output_type": "execute_result"
    }
   ],
   "source": [
    "predictors_df.head()"
   ]
  },
  {
   "cell_type": "code",
   "execution_count": 35,
   "id": "c2b8b894",
   "metadata": {},
   "outputs": [
    {
     "name": "stdout",
     "output_type": "stream",
     "text": [
      "Disability recode allocation flag : 0.2882856804376422\n",
      "Vision difficulty allocation flag : 0.2802663315677021\n",
      "Citizenship allocation flag : 0.2651632800831527\n"
     ]
    }
   ],
   "source": [
    "for i in range(3):\n",
    "    dets = variableDetails(predictors_df.index[i])\n",
    "    print(dets['label'] + ' : ' + str(predictors_df.ppscore[i]))"
   ]
  },
  {
   "cell_type": "markdown",
   "id": "f29f5e1c",
   "metadata": {},
   "source": [
    "Now we can plot the distributions of our variables."
   ]
  },
  {
   "cell_type": "code",
   "execution_count": 36,
   "id": "735c1e53",
   "metadata": {},
   "outputs": [
    {
     "data": {
      "text/plain": [
       "array([CategoricalDtype(categories=[0, 1], ordered=False),\n",
       "       CategoricalDtype(categories=[-1, 0, 1], ordered=False)],\n",
       "      dtype=object)"
      ]
     },
     "execution_count": 36,
     "metadata": {},
     "output_type": "execute_result"
    }
   ],
   "source": [
    "#what kind of variables are left? \n",
    "df.dtypes.unique()"
   ]
  },
  {
   "cell_type": "markdown",
   "id": "28f929b8",
   "metadata": {},
   "source": [
    "Looks like they're all categorical at this point, with 0, 1 or missing values (-1). We can look at the counts of each variable separated by our target variable. "
   ]
  },
  {
   "cell_type": "code",
   "execution_count": 37,
   "id": "96c32a53",
   "metadata": {},
   "outputs": [
    {
     "data": {
      "text/html": [
       "<div>\n",
       "<style scoped>\n",
       "    .dataframe tbody tr th:only-of-type {\n",
       "        vertical-align: middle;\n",
       "    }\n",
       "\n",
       "    .dataframe tbody tr th {\n",
       "        vertical-align: top;\n",
       "    }\n",
       "\n",
       "    .dataframe thead th {\n",
       "        text-align: right;\n",
       "    }\n",
       "</style>\n",
       "<table border=\"1\" class=\"dataframe\">\n",
       "  <thead>\n",
       "    <tr style=\"text-align: right;\">\n",
       "      <th></th>\n",
       "      <th></th>\n",
       "      <th>FPOBP</th>\n",
       "      <th>FSCHP</th>\n",
       "      <th>FMARHWP</th>\n",
       "      <th>FTELP</th>\n",
       "      <th>FDISP</th>\n",
       "      <th>FTENP</th>\n",
       "      <th>FDEYEP</th>\n",
       "      <th>FCITP</th>\n",
       "      <th>FRWATP</th>\n",
       "      <th>FHICOVP</th>\n",
       "      <th>...</th>\n",
       "      <th>FLANXP</th>\n",
       "      <th>FDDRSP</th>\n",
       "      <th>FDEARP</th>\n",
       "      <th>FMIGP</th>\n",
       "      <th>FESRP</th>\n",
       "      <th>FDREMP</th>\n",
       "      <th>FDPHYP</th>\n",
       "      <th>FMILSP</th>\n",
       "      <th>FMARP</th>\n",
       "      <th>FDOUTP</th>\n",
       "    </tr>\n",
       "    <tr>\n",
       "      <th>FHICOVP</th>\n",
       "      <th></th>\n",
       "      <th></th>\n",
       "      <th></th>\n",
       "      <th></th>\n",
       "      <th></th>\n",
       "      <th></th>\n",
       "      <th></th>\n",
       "      <th></th>\n",
       "      <th></th>\n",
       "      <th></th>\n",
       "      <th></th>\n",
       "      <th></th>\n",
       "      <th></th>\n",
       "      <th></th>\n",
       "      <th></th>\n",
       "      <th></th>\n",
       "      <th></th>\n",
       "      <th></th>\n",
       "      <th></th>\n",
       "      <th></th>\n",
       "      <th></th>\n",
       "      <th></th>\n",
       "    </tr>\n",
       "  </thead>\n",
       "  <tbody>\n",
       "    <tr>\n",
       "      <th rowspan=\"2\" valign=\"top\">0</th>\n",
       "      <th>0</th>\n",
       "      <td>0.936926</td>\n",
       "      <td>0.964375</td>\n",
       "      <td>0.974273</td>\n",
       "      <td>0.942617</td>\n",
       "      <td>0.940369</td>\n",
       "      <td>0.941039</td>\n",
       "      <td>0.961075</td>\n",
       "      <td>0.971787</td>\n",
       "      <td>0.946299</td>\n",
       "      <td>1.0</td>\n",
       "      <td>...</td>\n",
       "      <td>0.962988</td>\n",
       "      <td>0.949216</td>\n",
       "      <td>0.953711</td>\n",
       "      <td>0.956915</td>\n",
       "      <td>0.950411</td>\n",
       "      <td>0.955719</td>\n",
       "      <td>0.954093</td>\n",
       "      <td>0.963227</td>\n",
       "      <td>0.971595</td>\n",
       "      <td>0.961792</td>\n",
       "    </tr>\n",
       "    <tr>\n",
       "      <th>1</th>\n",
       "      <td>0.063074</td>\n",
       "      <td>0.035625</td>\n",
       "      <td>0.025727</td>\n",
       "      <td>0.005069</td>\n",
       "      <td>0.059631</td>\n",
       "      <td>0.006647</td>\n",
       "      <td>0.038925</td>\n",
       "      <td>0.028213</td>\n",
       "      <td>0.001721</td>\n",
       "      <td>0.0</td>\n",
       "      <td>...</td>\n",
       "      <td>0.037012</td>\n",
       "      <td>0.050784</td>\n",
       "      <td>0.046289</td>\n",
       "      <td>0.043085</td>\n",
       "      <td>0.049589</td>\n",
       "      <td>0.044281</td>\n",
       "      <td>0.045907</td>\n",
       "      <td>0.036773</td>\n",
       "      <td>0.028405</td>\n",
       "      <td>0.038208</td>\n",
       "    </tr>\n",
       "    <tr>\n",
       "      <th rowspan=\"2\" valign=\"top\">1</th>\n",
       "      <th>0</th>\n",
       "      <td>0.718614</td>\n",
       "      <td>0.759372</td>\n",
       "      <td>0.848082</td>\n",
       "      <td>0.930907</td>\n",
       "      <td>0.665867</td>\n",
       "      <td>0.920445</td>\n",
       "      <td>0.715998</td>\n",
       "      <td>0.761116</td>\n",
       "      <td>0.923496</td>\n",
       "      <td>0.0</td>\n",
       "      <td>...</td>\n",
       "      <td>0.748256</td>\n",
       "      <td>0.768309</td>\n",
       "      <td>0.755231</td>\n",
       "      <td>0.745859</td>\n",
       "      <td>0.772014</td>\n",
       "      <td>0.747602</td>\n",
       "      <td>0.749564</td>\n",
       "      <td>0.805144</td>\n",
       "      <td>0.849826</td>\n",
       "      <td>0.793156</td>\n",
       "    </tr>\n",
       "    <tr>\n",
       "      <th>1</th>\n",
       "      <td>0.281386</td>\n",
       "      <td>0.240628</td>\n",
       "      <td>0.151918</td>\n",
       "      <td>0.029425</td>\n",
       "      <td>0.334133</td>\n",
       "      <td>0.039887</td>\n",
       "      <td>0.284002</td>\n",
       "      <td>0.238884</td>\n",
       "      <td>0.035963</td>\n",
       "      <td>1.0</td>\n",
       "      <td>...</td>\n",
       "      <td>0.251744</td>\n",
       "      <td>0.231691</td>\n",
       "      <td>0.244769</td>\n",
       "      <td>0.254141</td>\n",
       "      <td>0.227986</td>\n",
       "      <td>0.252398</td>\n",
       "      <td>0.250436</td>\n",
       "      <td>0.194856</td>\n",
       "      <td>0.150174</td>\n",
       "      <td>0.206844</td>\n",
       "    </tr>\n",
       "  </tbody>\n",
       "</table>\n",
       "<p>4 rows × 22 columns</p>\n",
       "</div>"
      ],
      "text/plain": [
       "              FPOBP     FSCHP   FMARHWP     FTELP     FDISP     FTENP  \\\n",
       "FHICOVP                                                                 \n",
       "0       0  0.936926  0.964375  0.974273  0.942617  0.940369  0.941039   \n",
       "        1  0.063074  0.035625  0.025727  0.005069  0.059631  0.006647   \n",
       "1       0  0.718614  0.759372  0.848082  0.930907  0.665867  0.920445   \n",
       "        1  0.281386  0.240628  0.151918  0.029425  0.334133  0.039887   \n",
       "\n",
       "             FDEYEP     FCITP    FRWATP  FHICOVP  ...    FLANXP    FDDRSP  \\\n",
       "FHICOVP                                           ...                       \n",
       "0       0  0.961075  0.971787  0.946299      1.0  ...  0.962988  0.949216   \n",
       "        1  0.038925  0.028213  0.001721      0.0  ...  0.037012  0.050784   \n",
       "1       0  0.715998  0.761116  0.923496      0.0  ...  0.748256  0.768309   \n",
       "        1  0.284002  0.238884  0.035963      1.0  ...  0.251744  0.231691   \n",
       "\n",
       "             FDEARP     FMIGP     FESRP    FDREMP    FDPHYP    FMILSP  \\\n",
       "FHICOVP                                                                 \n",
       "0       0  0.953711  0.956915  0.950411  0.955719  0.954093  0.963227   \n",
       "        1  0.046289  0.043085  0.049589  0.044281  0.045907  0.036773   \n",
       "1       0  0.755231  0.745859  0.772014  0.747602  0.749564  0.805144   \n",
       "        1  0.244769  0.254141  0.227986  0.252398  0.250436  0.194856   \n",
       "\n",
       "              FMARP    FDOUTP  \n",
       "FHICOVP                        \n",
       "0       0  0.971595  0.961792  \n",
       "        1  0.028405  0.038208  \n",
       "1       0  0.849826  0.793156  \n",
       "        1  0.150174  0.206844  \n",
       "\n",
       "[4 rows x 22 columns]"
      ]
     },
     "execution_count": 37,
     "metadata": {},
     "output_type": "execute_result"
    }
   ],
   "source": [
    "df1 = pd.DataFrame(columns=df.columns)\n",
    "df2 = pd.DataFrame(columns=df.columns)\n",
    "\n",
    "for column in df.columns:\n",
    "    df1[column] = df.groupby(target)[column].value_counts(normalize=True)  # normalized counts\n",
    "    df2[column] = df.groupby(target)[column].value_counts(normalize=False) #counts\n",
    "df1.head()"
   ]
  },
  {
   "cell_type": "code",
   "execution_count": 38,
   "id": "488591fa",
   "metadata": {},
   "outputs": [
    {
     "data": {
      "text/plain": [
       "Text(0.5, 0, 'predictors')"
      ]
     },
     "execution_count": 38,
     "metadata": {},
     "output_type": "execute_result"
    },
    {
     "data": {
      "image/png": "[encoded data removed]",
      "text/plain": [
       "<Figure size 864x432 with 1 Axes>"
      ]
     },
     "metadata": {
      "needs_background": "light"
     },
     "output_type": "display_data"
    }
   ],
   "source": [
    "# we know the absolute counts of health insured are greater than uninsured but we can look at the raw numbers to start:\n",
    "df2.T.plot.bar(figsize=(12,6))\n",
    "sns.despine()\n",
    "plt.rc('font', size=12)\n",
    "plt.ylabel('N grouped by insured or not(FHICOVP = 0, 1 respectively))')\n",
    "plt.xlabel('predictors')"
   ]
  },
  {
   "cell_type": "code",
   "execution_count": 39,
   "id": "729120b7",
   "metadata": {},
   "outputs": [
    {
     "data": {
      "text/plain": [
       "Text(0.5, 0, 'predictors')"
      ]
     },
     "execution_count": 39,
     "metadata": {},
     "output_type": "execute_result"
    },
    {
     "data": {
      "image/png": "[encoded data removed]",
      "text/plain": [
       "<Figure size 864x432 with 1 Axes>"
      ]
     },
     "metadata": {
      "needs_background": "light"
     },
     "output_type": "display_data"
    }
   ],
   "source": [
    "# now we can look at it by proportions\n",
    "df1.T.plot.bar(figsize=(12,6))\n",
    "sns.despine()\n",
    "plt.rc('font', size=12)\n",
    "plt.ylabel('N grouped by insured or not (FHICOVP = 0, 1 respectively))')\n",
    "plt.xlabel('predictors')"
   ]
  }
 ],
 "metadata": {
  "kernelspec": {
   "display_name": "Python 3 (ipykernel)",
   "language": "python",
   "name": "python3"
  },
  "language_info": {
   "codemirror_mode": {
    "name": "ipython",
    "version": 3
   },
   "file_extension": ".py",
   "mimetype": "text/x-python",
   "name": "python",
   "nbconvert_exporter": "python",
   "pygments_lexer": "ipython3",
   "version": "3.9.7"
  }
 },
 "nbformat": 4,
 "nbformat_minor": 5
}
