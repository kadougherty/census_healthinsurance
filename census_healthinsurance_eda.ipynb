{
 "cells": [
  {
   "cell_type": "markdown",
   "id": "b4884408",
   "metadata": {},
   "source": [
    "# predicting the health uninsured in the US"
   ]
  },
  {
   "cell_type": "markdown",
   "id": "c0ea8d50",
   "metadata": {},
   "source": [
    "This project will call data from the American Community Survey Public Use MicroSample(PUMS) API. The most recent survey publicly availble at this API is from 2019. (Note data from 2020 are available to download in csv files).\n",
    "\n",
    "This project uses the Census Bureau Data API but is not endorsed or certified by the Census Bureau.\n",
    "\n",
    "1. American Community Survey (ACS) (census.gov).\n",
    "https://www.census.gov/programs-surveys/acs/\n",
    "2. American Community Survey Data via API (census.gov).\n",
    "https://www.census.gov/programs-surveys/acs/data/data-via-api.html\n",
    "\n",
    "The goal of this project is to predict whether an individual has health insurance (or not) based on demographic data in the PUMS. "
   ]
  },
  {
   "cell_type": "code",
   "execution_count": 1,
   "id": "df6eba72",
   "metadata": {},
   "outputs": [],
   "source": [
    "# import libraries\n",
    "import os\n",
    "import glob\n",
    "import pandas as pd\n",
    "import requests\n",
    "import time\n",
    "import matplotlib.pyplot as plt\n",
    "import seaborn as sns\n",
    "import ppscore as pps\n",
    "import numpy as np\n",
    "from dotenv import load_dotenv\n",
    "from statsmodels.graphics.mosaicplot import mosaic\n",
    "import utils"
   ]
  },
  {
   "cell_type": "markdown",
   "id": "ad29b9d4",
   "metadata": {},
   "source": [
    "Load the cleaned data from csv file and the code dictionary for the column names."
   ]
  },
  {
   "cell_type": "code",
   "execution_count": 2,
   "id": "1cc4cc28",
   "metadata": {},
   "outputs": [
    {
     "data": {
      "text/html": [
       "<div>\n",
       "<style scoped>\n",
       "    .dataframe tbody tr th:only-of-type {\n",
       "        vertical-align: middle;\n",
       "    }\n",
       "\n",
       "    .dataframe tbody tr th {\n",
       "        vertical-align: top;\n",
       "    }\n",
       "\n",
       "    .dataframe thead th {\n",
       "        text-align: right;\n",
       "    }\n",
       "</style>\n",
       "<table border=\"1\" class=\"dataframe\">\n",
       "  <thead>\n",
       "    <tr style=\"text-align: right;\">\n",
       "      <th></th>\n",
       "      <th>Unnamed: 0</th>\n",
       "      <th>index</th>\n",
       "      <th>HHLANP</th>\n",
       "      <th>FBATHP</th>\n",
       "      <th>DRIVESP</th>\n",
       "      <th>WGTP23</th>\n",
       "      <th>WGTP22</th>\n",
       "      <th>WGTP25</th>\n",
       "      <th>WGTP24</th>\n",
       "      <th>FWATP</th>\n",
       "      <th>...</th>\n",
       "      <th>FOD1P</th>\n",
       "      <th>FMARP</th>\n",
       "      <th>SOCP</th>\n",
       "      <th>FSMOCP</th>\n",
       "      <th>FDOUTP</th>\n",
       "      <th>PERNP</th>\n",
       "      <th>SCH</th>\n",
       "      <th>TEL</th>\n",
       "      <th>TEN</th>\n",
       "      <th>STATE</th>\n",
       "    </tr>\n",
       "  </thead>\n",
       "  <tbody>\n",
       "    <tr>\n",
       "      <th>0</th>\n",
       "      <td>0</td>\n",
       "      <td>35900</td>\n",
       "      <td>9500</td>\n",
       "      <td>0</td>\n",
       "      <td>0</td>\n",
       "      <td>225</td>\n",
       "      <td>61</td>\n",
       "      <td>246</td>\n",
       "      <td>81</td>\n",
       "      <td>0</td>\n",
       "      <td>...</td>\n",
       "      <td>2304</td>\n",
       "      <td>0</td>\n",
       "      <td>151299</td>\n",
       "      <td>1</td>\n",
       "      <td>0</td>\n",
       "      <td>29200</td>\n",
       "      <td>1</td>\n",
       "      <td>1</td>\n",
       "      <td>3</td>\n",
       "      <td>AL</td>\n",
       "    </tr>\n",
       "    <tr>\n",
       "      <th>1</th>\n",
       "      <td>1</td>\n",
       "      <td>13014</td>\n",
       "      <td>9500</td>\n",
       "      <td>0</td>\n",
       "      <td>0</td>\n",
       "      <td>48</td>\n",
       "      <td>55</td>\n",
       "      <td>42</td>\n",
       "      <td>16</td>\n",
       "      <td>0</td>\n",
       "      <td>...</td>\n",
       "      <td>1099</td>\n",
       "      <td>0</td>\n",
       "      <td>-1</td>\n",
       "      <td>0</td>\n",
       "      <td>0</td>\n",
       "      <td>-10001</td>\n",
       "      <td>2</td>\n",
       "      <td>1</td>\n",
       "      <td>1</td>\n",
       "      <td>AL</td>\n",
       "    </tr>\n",
       "    <tr>\n",
       "      <th>2</th>\n",
       "      <td>2</td>\n",
       "      <td>44316</td>\n",
       "      <td>9500</td>\n",
       "      <td>1</td>\n",
       "      <td>0</td>\n",
       "      <td>91</td>\n",
       "      <td>132</td>\n",
       "      <td>93</td>\n",
       "      <td>160</td>\n",
       "      <td>1</td>\n",
       "      <td>...</td>\n",
       "      <td>1099</td>\n",
       "      <td>0</td>\n",
       "      <td>412010</td>\n",
       "      <td>0</td>\n",
       "      <td>0</td>\n",
       "      <td>2600</td>\n",
       "      <td>2</td>\n",
       "      <td>1</td>\n",
       "      <td>3</td>\n",
       "      <td>AL</td>\n",
       "    </tr>\n",
       "    <tr>\n",
       "      <th>3</th>\n",
       "      <td>3</td>\n",
       "      <td>26573</td>\n",
       "      <td>9500</td>\n",
       "      <td>0</td>\n",
       "      <td>0</td>\n",
       "      <td>60</td>\n",
       "      <td>77</td>\n",
       "      <td>53</td>\n",
       "      <td>57</td>\n",
       "      <td>0</td>\n",
       "      <td>...</td>\n",
       "      <td>1099</td>\n",
       "      <td>0</td>\n",
       "      <td>-1</td>\n",
       "      <td>1</td>\n",
       "      <td>0</td>\n",
       "      <td>0</td>\n",
       "      <td>1</td>\n",
       "      <td>1</td>\n",
       "      <td>2</td>\n",
       "      <td>AL</td>\n",
       "    </tr>\n",
       "    <tr>\n",
       "      <th>4</th>\n",
       "      <td>4</td>\n",
       "      <td>27452</td>\n",
       "      <td>9500</td>\n",
       "      <td>0</td>\n",
       "      <td>0</td>\n",
       "      <td>25</td>\n",
       "      <td>94</td>\n",
       "      <td>123</td>\n",
       "      <td>34</td>\n",
       "      <td>0</td>\n",
       "      <td>...</td>\n",
       "      <td>1099</td>\n",
       "      <td>0</td>\n",
       "      <td>-1</td>\n",
       "      <td>0</td>\n",
       "      <td>0</td>\n",
       "      <td>-10001</td>\n",
       "      <td>3</td>\n",
       "      <td>1</td>\n",
       "      <td>3</td>\n",
       "      <td>AL</td>\n",
       "    </tr>\n",
       "    <tr>\n",
       "      <th>...</th>\n",
       "      <td>...</td>\n",
       "      <td>...</td>\n",
       "      <td>...</td>\n",
       "      <td>...</td>\n",
       "      <td>...</td>\n",
       "      <td>...</td>\n",
       "      <td>...</td>\n",
       "      <td>...</td>\n",
       "      <td>...</td>\n",
       "      <td>...</td>\n",
       "      <td>...</td>\n",
       "      <td>...</td>\n",
       "      <td>...</td>\n",
       "      <td>...</td>\n",
       "      <td>...</td>\n",
       "      <td>...</td>\n",
       "      <td>...</td>\n",
       "      <td>...</td>\n",
       "      <td>...</td>\n",
       "      <td>...</td>\n",
       "      <td>...</td>\n",
       "    </tr>\n",
       "    <tr>\n",
       "      <th>25495</th>\n",
       "      <td>25495</td>\n",
       "      <td>1642</td>\n",
       "      <td>9500</td>\n",
       "      <td>0</td>\n",
       "      <td>1</td>\n",
       "      <td>152</td>\n",
       "      <td>146</td>\n",
       "      <td>127</td>\n",
       "      <td>146</td>\n",
       "      <td>0</td>\n",
       "      <td>...</td>\n",
       "      <td>1099</td>\n",
       "      <td>0</td>\n",
       "      <td>513091</td>\n",
       "      <td>0</td>\n",
       "      <td>0</td>\n",
       "      <td>35000</td>\n",
       "      <td>2</td>\n",
       "      <td>1</td>\n",
       "      <td>2</td>\n",
       "      <td>WY</td>\n",
       "    </tr>\n",
       "    <tr>\n",
       "      <th>25496</th>\n",
       "      <td>25496</td>\n",
       "      <td>1443</td>\n",
       "      <td>9500</td>\n",
       "      <td>0</td>\n",
       "      <td>0</td>\n",
       "      <td>64</td>\n",
       "      <td>68</td>\n",
       "      <td>60</td>\n",
       "      <td>123</td>\n",
       "      <td>0</td>\n",
       "      <td>...</td>\n",
       "      <td>1099</td>\n",
       "      <td>0</td>\n",
       "      <td>119013</td>\n",
       "      <td>0</td>\n",
       "      <td>0</td>\n",
       "      <td>10000</td>\n",
       "      <td>1</td>\n",
       "      <td>1</td>\n",
       "      <td>3</td>\n",
       "      <td>WY</td>\n",
       "    </tr>\n",
       "    <tr>\n",
       "      <th>25497</th>\n",
       "      <td>25497</td>\n",
       "      <td>2470</td>\n",
       "      <td>9500</td>\n",
       "      <td>0</td>\n",
       "      <td>1</td>\n",
       "      <td>452</td>\n",
       "      <td>344</td>\n",
       "      <td>300</td>\n",
       "      <td>301</td>\n",
       "      <td>0</td>\n",
       "      <td>...</td>\n",
       "      <td>1099</td>\n",
       "      <td>0</td>\n",
       "      <td>439061</td>\n",
       "      <td>1</td>\n",
       "      <td>0</td>\n",
       "      <td>25600</td>\n",
       "      <td>1</td>\n",
       "      <td>2</td>\n",
       "      <td>4</td>\n",
       "      <td>WY</td>\n",
       "    </tr>\n",
       "    <tr>\n",
       "      <th>25498</th>\n",
       "      <td>25498</td>\n",
       "      <td>3255</td>\n",
       "      <td>9500</td>\n",
       "      <td>0</td>\n",
       "      <td>0</td>\n",
       "      <td>159</td>\n",
       "      <td>155</td>\n",
       "      <td>40</td>\n",
       "      <td>38</td>\n",
       "      <td>0</td>\n",
       "      <td>...</td>\n",
       "      <td>1099</td>\n",
       "      <td>0</td>\n",
       "      <td>-1</td>\n",
       "      <td>0</td>\n",
       "      <td>0</td>\n",
       "      <td>0</td>\n",
       "      <td>1</td>\n",
       "      <td>1</td>\n",
       "      <td>1</td>\n",
       "      <td>WY</td>\n",
       "    </tr>\n",
       "    <tr>\n",
       "      <th>25499</th>\n",
       "      <td>25499</td>\n",
       "      <td>4463</td>\n",
       "      <td>9500</td>\n",
       "      <td>0</td>\n",
       "      <td>0</td>\n",
       "      <td>97</td>\n",
       "      <td>61</td>\n",
       "      <td>19</td>\n",
       "      <td>14</td>\n",
       "      <td>0</td>\n",
       "      <td>...</td>\n",
       "      <td>5200</td>\n",
       "      <td>0</td>\n",
       "      <td>259040</td>\n",
       "      <td>0</td>\n",
       "      <td>0</td>\n",
       "      <td>45000</td>\n",
       "      <td>2</td>\n",
       "      <td>1</td>\n",
       "      <td>2</td>\n",
       "      <td>WY</td>\n",
       "    </tr>\n",
       "  </tbody>\n",
       "</table>\n",
       "<p>25500 rows × 457 columns</p>\n",
       "</div>"
      ],
      "text/plain": [
       "       Unnamed: 0  index  HHLANP  FBATHP  DRIVESP  WGTP23  WGTP22  WGTP25  \\\n",
       "0               0  35900    9500       0        0     225      61     246   \n",
       "1               1  13014    9500       0        0      48      55      42   \n",
       "2               2  44316    9500       1        0      91     132      93   \n",
       "3               3  26573    9500       0        0      60      77      53   \n",
       "4               4  27452    9500       0        0      25      94     123   \n",
       "...           ...    ...     ...     ...      ...     ...     ...     ...   \n",
       "25495       25495   1642    9500       0        1     152     146     127   \n",
       "25496       25496   1443    9500       0        0      64      68      60   \n",
       "25497       25497   2470    9500       0        1     452     344     300   \n",
       "25498       25498   3255    9500       0        0     159     155      40   \n",
       "25499       25499   4463    9500       0        0      97      61      19   \n",
       "\n",
       "       WGTP24  FWATP  ...  FOD1P  FMARP    SOCP  FSMOCP  FDOUTP  PERNP  SCH  \\\n",
       "0          81      0  ...   2304      0  151299       1       0  29200    1   \n",
       "1          16      0  ...   1099      0      -1       0       0 -10001    2   \n",
       "2         160      1  ...   1099      0  412010       0       0   2600    2   \n",
       "3          57      0  ...   1099      0      -1       1       0      0    1   \n",
       "4          34      0  ...   1099      0      -1       0       0 -10001    3   \n",
       "...       ...    ...  ...    ...    ...     ...     ...     ...    ...  ...   \n",
       "25495     146      0  ...   1099      0  513091       0       0  35000    2   \n",
       "25496     123      0  ...   1099      0  119013       0       0  10000    1   \n",
       "25497     301      0  ...   1099      0  439061       1       0  25600    1   \n",
       "25498      38      0  ...   1099      0      -1       0       0      0    1   \n",
       "25499      14      0  ...   5200      0  259040       0       0  45000    2   \n",
       "\n",
       "       TEL  TEN  STATE  \n",
       "0        1    3     AL  \n",
       "1        1    1     AL  \n",
       "2        1    3     AL  \n",
       "3        1    2     AL  \n",
       "4        1    3     AL  \n",
       "...    ...  ...    ...  \n",
       "25495    1    2     WY  \n",
       "25496    1    3     WY  \n",
       "25497    2    4     WY  \n",
       "25498    1    1     WY  \n",
       "25499    1    2     WY  \n",
       "\n",
       "[25500 rows x 457 columns]"
      ]
     },
     "execution_count": 2,
     "metadata": {},
     "output_type": "execute_result"
    }
   ],
   "source": [
    "nsamples = 500\n",
    "datadir  = os.path.join(os.getcwd(),\"data\")\n",
    "fname    = os.path.join(datadir,'allstates_subsample' + str(nsamples) + '.csv')\n",
    "df       = pd.read_csv(fname,low_memory=False)\n",
    "codedict = utils.getCodeDictionary()\n",
    "df"
   ]
  },
  {
   "cell_type": "code",
   "execution_count": 3,
   "id": "eb83b5de",
   "metadata": {},
   "outputs": [],
   "source": [
    "df.drop('Unnamed: 0',axis=1,inplace=True)"
   ]
  },
  {
   "cell_type": "markdown",
   "id": "9f9a2b55",
   "metadata": {},
   "source": [
    "We know that there are a number of categorical variables in the dataset, as well as numerical variables. We can use the predictive power score (pps) to estimate the predictive power of each variable for our target variable. However, to use the predictive power score, we need to convert categorical variables to data type 'category.' "
   ]
  },
  {
   "cell_type": "code",
   "execution_count": 4,
   "id": "a1119ce1",
   "metadata": {},
   "outputs": [
    {
     "data": {
      "image/png": "[encoded data removed]",
      "text/plain": [
       "<Figure size 720x432 with 4 Axes>"
      ]
     },
     "metadata": {
      "needs_background": "light"
     },
     "output_type": "display_data"
    }
   ],
   "source": [
    "#try to identify categorical variables by considering number of unique values?\n",
    "plt.figure(figsize=(10,6))\n",
    "plt.subplot(2,2,1)\n",
    "plt.hist(df.nunique()) \n",
    "plt.ylabel('N vars')\n",
    "plt.title('')\n",
    "sns.despine()\n",
    "\n",
    "plt.subplot(2,2,2)\n",
    "plt.hist(df.nunique()[df.nunique().between(1,1500)])\n",
    "sns.despine()\n",
    "\n",
    "plt.subplot(2,2,3)\n",
    "plt.hist(df.nunique()[df.nunique().between(1,500)])\n",
    "sns.despine()\n",
    "plt.xlabel('n unique values in column')\n",
    "plt.ylabel('N columns')\n",
    "\n",
    "plt.subplot(2,2,4)\n",
    "plt.hist(df.nunique()[df.nunique().between(4,100)])\n",
    "sns.despine()\n",
    "plt.xlabel('n unique values in column')\n",
    "plt.show()"
   ]
  },
  {
   "cell_type": "code",
   "execution_count": 5,
   "id": "fcf2d630",
   "metadata": {},
   "outputs": [
    {
     "name": "stdout",
     "output_type": "stream",
     "text": [
      "Bathtub or shower allocation flag\n",
      "values:\n",
      "{'1': 'Yes', '0': 'No', '-1': 'N/A (GQ)'}\n"
     ]
    }
   ],
   "source": [
    "# spot check info available for a variable that is very likely categorical (<=3 unique values)\n",
    "cols = df.columns[df.nunique().between(2,3)]\n",
    "dets = utils.variableDetails(cols[0])\n",
    "print(dets['label'])\n",
    "print('values:')\n",
    "print(dets['values']['item'])"
   ]
  },
  {
   "cell_type": "code",
   "execution_count": 6,
   "id": "33b8f1b9",
   "metadata": {},
   "outputs": [
    {
     "name": "stdout",
     "output_type": "stream",
     "text": [
      "Total person's income (signed, use ADJINC to adjust to constant dollars)\n",
      "values:\n",
      "{'-19999': 'N/A (less than 15 years old)', '-19998': 'Loss of $19998 or more (Rounded and bottom-coded components)', '0': 'None'}\n"
     ]
    }
   ],
   "source": [
    "# spot check info available for a variable that is very likely numerical (> 500 unique values)\n",
    "cols = df.columns[df.nunique().gt(800)]\n",
    "dets = utils.variableDetails(cols[1])\n",
    "print(dets['label'])\n",
    "print('values:')\n",
    "print(dets['values']['item'])"
   ]
  },
  {
   "cell_type": "markdown",
   "id": "ceaa80a7",
   "metadata": {},
   "source": [
    "We know that the index column comes from the index in the row from our api call. It is categorical and at this point we do not need it, so we can drop. "
   ]
  },
  {
   "cell_type": "code",
   "execution_count": 7,
   "id": "7f3d17ff",
   "metadata": {},
   "outputs": [],
   "source": [
    "df.drop('index',axis=1,inplace=True)"
   ]
  },
  {
   "cell_type": "markdown",
   "id": "d48e733c",
   "metadata": {},
   "source": [
    "It looks like info on numerical values (like in the immediate cell above) includes a 'range' key to indicate the min and max of that numerical variable, while categorical variables do not include that information. Maybe we can use this to identify categorical/numerical variables. "
   ]
  },
  {
   "cell_type": "code",
   "execution_count": 8,
   "id": "c2b1dc3f",
   "metadata": {},
   "outputs": [
    {
     "name": "stdout",
     "output_type": "stream",
     "text": [
      "\n"
     ]
    }
   ],
   "source": [
    "# call API for states in loop and save csv locally if it doesn't exist yet:\n",
    "column_list = df.columns.tolist()\n",
    "column_list.remove('STATE')\n",
    "fname = os.path.join(datadir,'datatype_ncol' + str(df.shape[1]) + '.csv')\n",
    "if os.path.exists(fname) == False:  \n",
    "    range_key = list()\n",
    "    info_from_api = list()\n",
    "    n_unq_vals = list()\n",
    "    for column in column_list:\n",
    "        try: \n",
    "            dets = utils.variableDetails(column)\n",
    "            range_key.append('range' in dets['values'].keys())\n",
    "            info_from_api.append(True)\n",
    "            n_unq_vals.append(df[column].nunique())\n",
    "        except:\n",
    "            range_key.append(False)\n",
    "            info_from_api.append(False)\n",
    "            n_unq_vals.append(df[column].nunique())\n",
    "    datatype = pd.DataFrame({'var_name':column_list,'range_key':range_key,'n_unq_vals':n_unq_vals,'info_from_api':info_from_api})\n",
    "    datatype.to_csv(fname)\n",
    "else:\n",
    "    print('')\n",
    "    datatype = pd.read_csv(fname)"
   ]
  },
  {
   "cell_type": "code",
   "execution_count": 9,
   "id": "61da165f",
   "metadata": {},
   "outputs": [
    {
     "name": "stdout",
     "output_type": "stream",
     "text": [
      "The number of columns in our main df should equal the number of rows in our datatype dataframe: \n",
      "df column N:5\n",
      "datatype rows N:454\n",
      "The only vars where numerical info is not from the api:\n",
      "339    SERIALNO\n",
      "Name: var_name, dtype: object\n"
     ]
    }
   ],
   "source": [
    "print('The number of columns in our main df should equal the number of rows in our datatype dataframe: ')\n",
    "print('df column N:' + str(datatype.shape[1]))\n",
    "print('datatype rows N:' + str(datatype.shape[0]))\n",
    "print('The only vars where numerical info is not from the api:')\n",
    "print(datatype[datatype.info_from_api == False]['var_name'])"
   ]
  },
  {
   "cell_type": "markdown",
   "id": "40859bd1",
   "metadata": {},
   "source": [
    "We can do another check to see if this approach is adding up. Are there any variables coming out as categorical that have a very high number of unique values? Are any coming out as numerical that have very few unique values? "
   ]
  },
  {
   "cell_type": "code",
   "execution_count": 10,
   "id": "fbd666a2",
   "metadata": {
    "scrolled": true
   },
   "outputs": [
    {
     "data": {
      "image/png": "[encoded data removed]",
      "text/plain": [
       "<Figure size 720x360 with 2 Axes>"
      ]
     },
     "metadata": {
      "needs_background": "light"
     },
     "output_type": "display_data"
    }
   ],
   "source": [
    "# now we can look at the distributions of N unique values for our columns again with our categorical/numerical labels\n",
    "plt.figure(figsize=(10,5))\n",
    "plt.subplot(2,1,1)\n",
    "plt.hist(datatype['n_unq_vals'].loc[datatype['range_key']==False],bins=100) \n",
    "\n",
    "plt.ylabel('N vars')\n",
    "plt.xlabel('n unique values')\n",
    "plt.title('categorical')\n",
    "sns.despine()\n",
    "\n",
    "plt.subplot(2,1,2)\n",
    "plt.hist(datatype['n_unq_vals'].loc[datatype['range_key']==True],bins=100) \n",
    "plt.xlabel('n unique values')\n",
    "plt.ylabel('N vars')\n",
    "\n",
    "plt.title('numerical')\n",
    "sns.despine()\n",
    "\n",
    "plt.show()"
   ]
  },
  {
   "cell_type": "code",
   "execution_count": 11,
   "id": "9280a4d9",
   "metadata": {},
   "outputs": [
    {
     "name": "stdout",
     "output_type": "stream",
     "text": [
      "var with min number of unique values that may be numerical:\n",
      "{'name': 'RACNUM', 'label': 'Number of major race groups represented', 'predicateType': 'int', 'group': 'N/A', 'limit': 0, 'suggested-weight': 'PWGTP', 'values': {'range': [{'min': '1', 'max': '6', 'description': 'Race groups'}]}}\n"
     ]
    }
   ],
   "source": [
    "# we can check our vars that lie on the unexpected extremes (low unique N, numerical):\n",
    "print('var with min number of unique values that may be numerical:') \n",
    "min_cat_row = datatype.iloc[datatype['n_unq_vals'].loc[datatype['range_key']==True].idxmin()]\n",
    "\n",
    "# get deets:\n",
    "dets = utils.variableDetails(min_cat_row['var_name'])\n",
    "print(dets)"
   ]
  },
  {
   "cell_type": "markdown",
   "id": "a2a073b1",
   "metadata": {},
   "source": [
    "This is numerical, so the approach may be working.."
   ]
  },
  {
   "cell_type": "code",
   "execution_count": 12,
   "id": "d5be2a1a",
   "metadata": {},
   "outputs": [
    {
     "name": "stdout",
     "output_type": "stream",
     "text": [
      "var with max number of unique values that may be categorical:\n",
      "Unnamed: 0            339\n",
      "var_name         SERIALNO\n",
      "range_key           False\n",
      "n_unq_vals          24974\n",
      "info_from_api       False\n",
      "Name: 339, dtype: object\n",
      "{'name': 'SERIALNO', 'label': 'Housing unit/GQ person serial number', 'predicateType': 'int', 'group': 'N/A', 'limit': 0, 'suggested-weight': 'PWGTP'}\n"
     ]
    }
   ],
   "source": [
    "# we can check our vars that lie on the unexpected extremes (high unique N, categorical)::\n",
    "print('var with max number of unique values that may be categorical:') \n",
    "max_cat_row = datatype.iloc[datatype['n_unq_vals'].loc[datatype['range_key']==False].idxmax()]\n",
    "\n",
    "print(max_cat_row)\n",
    "\n",
    "# get deets:\n",
    "dets = utils.variableDetails(max_cat_row['var_name'])\n",
    "print(dets)"
   ]
  },
  {
   "cell_type": "markdown",
   "id": "f8b9ba5e",
   "metadata": {},
   "source": [
    "This one also checks out. Now we can convert the datatypes in the main df."
   ]
  },
  {
   "cell_type": "code",
   "execution_count": 13,
   "id": "4c782260",
   "metadata": {},
   "outputs": [],
   "source": [
    "datatype.set_index('var_name',inplace=True)"
   ]
  },
  {
   "cell_type": "code",
   "execution_count": 14,
   "id": "3d8663e3",
   "metadata": {},
   "outputs": [
    {
     "name": "stdout",
     "output_type": "stream",
     "text": [
      "converting data types...\n"
     ]
    }
   ],
   "source": [
    "#convert the datatypes\n",
    "print('converting data types...')\n",
    "for index in datatype.index:\n",
    "    if datatype.loc[index].range_key == False:\n",
    "        df[index] = df[index].astype('category')"
   ]
  },
  {
   "cell_type": "code",
   "execution_count": 15,
   "id": "810140d6",
   "metadata": {},
   "outputs": [
    {
     "data": {
      "text/plain": [
       "HHLANP     category\n",
       "FBATHP     category\n",
       "DRIVESP    category\n",
       "WGTP23        int64\n",
       "WGTP22        int64\n",
       "             ...   \n",
       "PERNP         int64\n",
       "SCH        category\n",
       "TEL        category\n",
       "TEN        category\n",
       "STATE        object\n",
       "Length: 455, dtype: object"
      ]
     },
     "execution_count": 15,
     "metadata": {},
     "output_type": "execute_result"
    }
   ],
   "source": [
    "df.dtypes"
   ]
  },
  {
   "cell_type": "markdown",
   "id": "f3c19222",
   "metadata": {},
   "source": [
    "Now we can make a copy of 'data_all' but this time fill in columns and values with more descriptive info."
   ]
  },
  {
   "cell_type": "code",
   "execution_count": 16,
   "id": "59193216",
   "metadata": {},
   "outputs": [],
   "source": [
    "verbdf = df.copy()\n",
    "for column in verbdf:\n",
    "    if column in codedict.keys():\n",
    "        verbdf.rename(columns={column:codedict[column]},inplace=True)"
   ]
  },
  {
   "cell_type": "code",
   "execution_count": 32,
   "id": "31e60847",
   "metadata": {
    "scrolled": false
   },
   "outputs": [
    {
     "ename": "RuntimeError",
     "evalue": "dictionary keys changed during iteration",
     "output_type": "error",
     "traceback": [
      "\u001b[1;31m---------------------------------------------------------------------------\u001b[0m",
      "\u001b[1;31mRuntimeError\u001b[0m                              Traceback (most recent call last)",
      "Input \u001b[1;32mIn [32]\u001b[0m, in \u001b[0;36m<cell line: 1>\u001b[1;34m()\u001b[0m\n\u001b[0;32m      6\u001b[0m mapdict \u001b[38;5;241m=\u001b[39m dets[\u001b[38;5;124m'\u001b[39m\u001b[38;5;124mvalues\u001b[39m\u001b[38;5;124m'\u001b[39m][\u001b[38;5;124m'\u001b[39m\u001b[38;5;124mitem\u001b[39m\u001b[38;5;124m'\u001b[39m]\n\u001b[0;32m      7\u001b[0m key_list \u001b[38;5;241m=\u001b[39m mapdict\u001b[38;5;241m.\u001b[39mkeys()\n\u001b[1;32m----> 8\u001b[0m \u001b[38;5;28;01mfor\u001b[39;00m key \u001b[38;5;129;01min\u001b[39;00m key_list:\n\u001b[0;32m      9\u001b[0m     values \u001b[38;5;241m=\u001b[39m mapdict[key]\n\u001b[0;32m     10\u001b[0m     mapdict\u001b[38;5;241m.\u001b[39mpop(key)\n",
      "\u001b[1;31mRuntimeError\u001b[0m: dictionary keys changed during iteration"
     ]
    }
   ],
   "source": [
    "for column in df:\n",
    "    if df[column].dtype == 'category':\n",
    "        dets = utils.variableDetails(column)\n",
    "        if 'values' in dets.keys():\n",
    "            newname = codedict[column]\n",
    "            mapdict = dets['values']['item']\n",
    "            key_list = mapdict.keys().astype(\"\")\n",
    "            for key in key_list:\n",
    "                values = mapdict[key]\n",
    "                mapdict.pop(key)\n",
    "                mapdict[int(key)]=values\n",
    "            verbdf[newname] = verbdf[newname].replace(mapdict)"
   ]
  },
  {
   "cell_type": "code",
   "execution_count": 31,
   "id": "291b9012",
   "metadata": {},
   "outputs": [
    {
     "data": {
      "text/plain": [
       "{3: 'Rented',\n",
       " 2: 'Owned Free And Clear',\n",
       " 1: 'Owned with mortgage or loan (include home equity loans)',\n",
       " 0: 'N/A  (GQ/vacant)',\n",
       " 4: 'Occupied without payment of rent'}"
      ]
     },
     "execution_count": 31,
     "metadata": {},
     "output_type": "execute_result"
    }
   ],
   "source": []
  },
  {
   "cell_type": "code",
   "execution_count": 30,
   "id": "818a4eea",
   "metadata": {},
   "outputs": [
    {
     "ename": "RuntimeError",
     "evalue": "dictionary keys changed during iteration",
     "output_type": "error",
     "traceback": [
      "\u001b[1;31m---------------------------------------------------------------------------\u001b[0m",
      "\u001b[1;31mRuntimeError\u001b[0m                              Traceback (most recent call last)",
      "Input \u001b[1;32mIn [30]\u001b[0m, in \u001b[0;36m<cell line: 2>\u001b[1;34m()\u001b[0m\n\u001b[0;32m      1\u001b[0m key_list \u001b[38;5;241m=\u001b[39m mapdict\u001b[38;5;241m.\u001b[39mkeys()\n\u001b[1;32m----> 2\u001b[0m \u001b[38;5;28;01mfor\u001b[39;00m key \u001b[38;5;129;01min\u001b[39;00m key_list:\n\u001b[0;32m      3\u001b[0m     values \u001b[38;5;241m=\u001b[39m mapdict[key]\n\u001b[0;32m      4\u001b[0m     mapdict\u001b[38;5;241m.\u001b[39mpop(key)\n",
      "\u001b[1;31mRuntimeError\u001b[0m: dictionary keys changed during iteration"
     ]
    }
   ],
   "source": []
  },
  {
   "cell_type": "markdown",
   "id": "72b7c499",
   "metadata": {},
   "source": [
    "Now with our columns converted into appropriate data types, we can compute the predictive power score between each column and our target variable, (health insured or not). "
   ]
  },
  {
   "cell_type": "code",
   "execution_count": 17,
   "id": "3191c6f6",
   "metadata": {},
   "outputs": [
    {
     "data": {
      "text/html": [
       "<div>\n",
       "<style scoped>\n",
       "    .dataframe tbody tr th:only-of-type {\n",
       "        vertical-align: middle;\n",
       "    }\n",
       "\n",
       "    .dataframe tbody tr th {\n",
       "        vertical-align: top;\n",
       "    }\n",
       "\n",
       "    .dataframe thead th {\n",
       "        text-align: right;\n",
       "    }\n",
       "</style>\n",
       "<table border=\"1\" class=\"dataframe\">\n",
       "  <thead>\n",
       "    <tr style=\"text-align: right;\">\n",
       "      <th></th>\n",
       "      <th>y</th>\n",
       "      <th>ppscore</th>\n",
       "      <th>case</th>\n",
       "      <th>is_valid_score</th>\n",
       "      <th>metric</th>\n",
       "      <th>baseline_score</th>\n",
       "      <th>model_score</th>\n",
       "      <th>model</th>\n",
       "    </tr>\n",
       "    <tr>\n",
       "      <th>x</th>\n",
       "      <th></th>\n",
       "      <th></th>\n",
       "      <th></th>\n",
       "      <th></th>\n",
       "      <th></th>\n",
       "      <th></th>\n",
       "      <th></th>\n",
       "      <th></th>\n",
       "    </tr>\n",
       "  </thead>\n",
       "  <tbody>\n",
       "    <tr>\n",
       "      <th>FPRIVCOVP</th>\n",
       "      <td>FHICOVP</td>\n",
       "      <td>0.972462</td>\n",
       "      <td>classification</td>\n",
       "      <td>True</td>\n",
       "      <td>weighted F1</td>\n",
       "      <td>0.750933</td>\n",
       "      <td>0.993141</td>\n",
       "      <td>DecisionTreeClassifier()</td>\n",
       "    </tr>\n",
       "    <tr>\n",
       "      <th>FPUBCOVP</th>\n",
       "      <td>FHICOVP</td>\n",
       "      <td>0.560144</td>\n",
       "      <td>classification</td>\n",
       "      <td>True</td>\n",
       "      <td>weighted F1</td>\n",
       "      <td>0.750933</td>\n",
       "      <td>0.890446</td>\n",
       "      <td>DecisionTreeClassifier()</td>\n",
       "    </tr>\n",
       "    <tr>\n",
       "      <th>FHINS7P</th>\n",
       "      <td>FHICOVP</td>\n",
       "      <td>0.476870</td>\n",
       "      <td>classification</td>\n",
       "      <td>True</td>\n",
       "      <td>weighted F1</td>\n",
       "      <td>0.750933</td>\n",
       "      <td>0.869705</td>\n",
       "      <td>DecisionTreeClassifier()</td>\n",
       "    </tr>\n",
       "    <tr>\n",
       "      <th>FHINS6P</th>\n",
       "      <td>FHICOVP</td>\n",
       "      <td>0.466229</td>\n",
       "      <td>classification</td>\n",
       "      <td>True</td>\n",
       "      <td>weighted F1</td>\n",
       "      <td>0.750933</td>\n",
       "      <td>0.867055</td>\n",
       "      <td>DecisionTreeClassifier()</td>\n",
       "    </tr>\n",
       "    <tr>\n",
       "      <th>FHINS1P</th>\n",
       "      <td>FHICOVP</td>\n",
       "      <td>0.437580</td>\n",
       "      <td>classification</td>\n",
       "      <td>True</td>\n",
       "      <td>weighted F1</td>\n",
       "      <td>0.750933</td>\n",
       "      <td>0.859920</td>\n",
       "      <td>DecisionTreeClassifier()</td>\n",
       "    </tr>\n",
       "  </tbody>\n",
       "</table>\n",
       "</div>"
      ],
      "text/plain": [
       "                 y   ppscore            case  is_valid_score       metric  \\\n",
       "x                                                                           \n",
       "FPRIVCOVP  FHICOVP  0.972462  classification            True  weighted F1   \n",
       "FPUBCOVP   FHICOVP  0.560144  classification            True  weighted F1   \n",
       "FHINS7P    FHICOVP  0.476870  classification            True  weighted F1   \n",
       "FHINS6P    FHICOVP  0.466229  classification            True  weighted F1   \n",
       "FHINS1P    FHICOVP  0.437580  classification            True  weighted F1   \n",
       "\n",
       "           baseline_score  model_score                     model  \n",
       "x                                                                 \n",
       "FPRIVCOVP        0.750933     0.993141  DecisionTreeClassifier()  \n",
       "FPUBCOVP         0.750933     0.890446  DecisionTreeClassifier()  \n",
       "FHINS7P          0.750933     0.869705  DecisionTreeClassifier()  \n",
       "FHINS6P          0.750933     0.867055  DecisionTreeClassifier()  \n",
       "FHINS1P          0.750933     0.859920  DecisionTreeClassifier()  "
      ]
     },
     "execution_count": 17,
     "metadata": {},
     "output_type": "execute_result"
    }
   ],
   "source": [
    "# try predictive power score to see if there's a relationship between our target variable and other columns\n",
    "target = 'HICOV'\n",
    "predictors_df = pps.predictors(df, y=target,sorted=True,random_seed=123)\n",
    "predictors_df.set_index('x',inplace=True)\n",
    "predictors_df.head()"
   ]
  },
  {
   "cell_type": "code",
   "execution_count": 18,
   "id": "ab87ee41",
   "metadata": {},
   "outputs": [
    {
     "name": "stdout",
     "output_type": "stream",
     "text": [
      "(25500, 456)\n",
      "(455, 8)\n"
     ]
    }
   ],
   "source": [
    "print(df.shape)\n",
    "print(predictors_df.shape) # the number of rows in predictors_df is off by one from the main df because it excludes our target variable"
   ]
  },
  {
   "cell_type": "code",
   "execution_count": 19,
   "id": "5dac809e",
   "metadata": {},
   "outputs": [],
   "source": [
    "def ecdf(x):\n",
    "    y = list()\n",
    "    for i in x:\n",
    "        y.append(sum(x <= i)/len(x))\n",
    "    return x,y"
   ]
  },
  {
   "cell_type": "code",
   "execution_count": 20,
   "id": "cf9cdcfe",
   "metadata": {},
   "outputs": [
    {
     "data": {
      "image/png": "[encoded data removed]",
      "text/plain": [
       "<Figure size 720x432 with 1 Axes>"
      ]
     },
     "metadata": {
      "needs_background": "light"
     },
     "output_type": "display_data"
    },
    {
     "name": "stdout",
     "output_type": "stream",
     "text": [
      "455\n",
      "455\n"
     ]
    }
   ],
   "source": [
    "fig,ax=plt.subplots(figsize=(10,6))\n",
    "\n",
    "x,y=ecdf(predictors_df['ppscore'])\n",
    "ax.plot(x,y,marker='.',linestyle='None',color='None',markerfacecolor='blue',alpha=0.3)\n",
    "sns.despine()\n",
    "sns.color_palette('hls',8)\n",
    "ax.set_xlabel('predictive power score')\n",
    "ax.set_ylabel('prop. of columns <= x (pps)')\n",
    "\n",
    "plt.show()\n",
    "\n",
    "print(len(x))\n",
    "print(len(y))"
   ]
  },
  {
   "cell_type": "code",
   "execution_count": 21,
   "id": "c1289d07",
   "metadata": {},
   "outputs": [
    {
     "name": "stdout",
     "output_type": "stream",
     "text": [
      "The proportion of points with a predictive power score of 0 is 0.35604395604395606.\n",
      "We can move forward by dropping the bottom 162 columns right off the bat.\n"
     ]
    }
   ],
   "source": [
    "print('The proportion of points with a predictive power score of 0 is ' + str(y[len(y)-1]) + '.')\n",
    "print('We can move forward by dropping the bottom ' + str(int(y[len(y)-1]*len(y))) + ' columns right off the bat.')"
   ]
  },
  {
   "cell_type": "code",
   "execution_count": 22,
   "id": "3b17d6ae",
   "metadata": {},
   "outputs": [
    {
     "name": "stdout",
     "output_type": "stream",
     "text": [
      "(25500, 456)\n",
      "(25500, 294)\n",
      "(293, 8)\n"
     ]
    }
   ],
   "source": [
    "pps_0 = predictors_df[predictors_df['ppscore'] == 0].index\n",
    "predictors_df = predictors_df.drop(index=pps_0,axis=0)\n",
    "datatype = datatype.drop(index=pps_0,axis=0)\n",
    "print(df.shape)\n",
    "df = df.drop(pps_0,axis=1)\n",
    "print(df.shape)\n",
    "print(predictors_df.shape)"
   ]
  },
  {
   "cell_type": "markdown",
   "id": "0c6bbd48",
   "metadata": {},
   "source": [
    "It looks like one or two columns have a very high pps--going to check that there are not other medical insurance related columns being used as potential predictors. "
   ]
  },
  {
   "cell_type": "code",
   "execution_count": 23,
   "id": "bef12f02",
   "metadata": {},
   "outputs": [
    {
     "name": "stdout",
     "output_type": "stream",
     "text": [
      "PUBCOV : public health coverage recode\n",
      "PRIVCOV : private health insurance coverage recode\n",
      "FINSP : fire, hazard, flood insurance (yearly amount) allocation flag\n",
      "FMRGIP : first mortgage payment includes fire, hazard, flood insurance allocation flag\n",
      "HICOV : health insurance coverage recode\n",
      "FPUBCOVP : public health coverage recode allocation flag\n",
      "MRGI : first mortgage payment includes fire/hazard/flood insurance\n",
      "FHICOVP : health insurance coverage recode allocation flag\n",
      "FPRIVCOVP : private health insurance coverage recode allocation flag\n",
      "FHINS7P : indian health service allocation flag\n",
      "FHINS6P : va (enrolled for va health care) allocation flag\n",
      "INSP : fire/hazard/flood insurance (yearly amount, use adjhsg to adjust insp to constant dollars)\n",
      "HINS6 : va (enrolled for va health care)\n",
      "HINS7 : indian health service\n",
      "HINS1 : insurance through a current or former employer or union\n",
      "HINS2 : insurance purchased directly from an insurance company\n",
      "HINS3 : medicare, for people 65 and older, or people with certain disabilities\n",
      "HINS4 : medicaid, medical assistance, or any kind of government-assistance plan for those with low incomes o\n",
      "HINS5 : tricare or other military health care\n",
      "FHINS5P : tricare or other military health care allocation flag\n",
      "FHINS4P : medicaid, medical assistance, or any kind of government-assistance plan for people with low incomes or a disability allocation flag\n",
      "FHINS4C : medicaid coverage given through the eligibility coverage edit\n",
      "FHINS3P : medicare, for people 65 or older, or people with certain disabilities allocation flag\n",
      "FHINS3C : medicare coverage given through the eligibility coverage edit\n",
      "FHINS2P : insurance purchased directly from an insurance company allocation flag\n",
      "FHINS1P : insurance through a current or former employer or union allocation flag\n"
     ]
    }
   ],
   "source": [
    "# check for target variable (health insured or not):\n",
    "insurance_columns = list()\n",
    "for key, value in codedict.items():\n",
    "    if value.__contains__('insurance'):\n",
    "        print(key + \" : \" + value)\n",
    "        insurance_columns.append(key)\n",
    "    if value.__contains__('health care'):\n",
    "        print(key + \" : \" + value)\n",
    "        insurance_columns.append(key)\n",
    "    if value.__contains__('health service'):\n",
    "        print(key + \" : \" + value)\n",
    "        insurance_columns.append(key)\n",
    "    if value.__contains__('health coverage'):\n",
    "        print(key + \" : \" + value)\n",
    "        insurance_columns.append(key)\n",
    "    if value.__contains__('medi'):\n",
    "        print(key + \" : \" + value)\n",
    "        insurance_columns.append(key)         "
   ]
  },
  {
   "cell_type": "markdown",
   "id": "9cada75e",
   "metadata": {},
   "source": [
    "If a medical insurance column other than our target exists in our main dataframe we should drop it because in theory we shouldn't have this information."
   ]
  },
  {
   "cell_type": "code",
   "execution_count": 24,
   "id": "ad29ce63",
   "metadata": {},
   "outputs": [],
   "source": [
    "# FHICOVP is our target, so not a predictor\n",
    "# we already dropped 'HICOV' in data cleaning but we can check the other two vars\n",
    "for i in insurance_columns:\n",
    "    if i != target:\n",
    "        if i in df.columns:\n",
    "            df.drop(i,axis=1,inplace=True)\n",
    "            predictors_df.drop(i,axis=0,inplace=True)\n",
    "            datatype.drop(i,axis=0,inplace=True)"
   ]
  },
  {
   "cell_type": "code",
   "execution_count": 25,
   "id": "572f9ad6",
   "metadata": {},
   "outputs": [
    {
     "data": {
      "image/png": "[encoded data removed]",
      "text/plain": [
       "<Figure size 432x288 with 1 Axes>"
      ]
     },
     "metadata": {
      "needs_background": "light"
     },
     "output_type": "display_data"
    }
   ],
   "source": [
    "from sklearn.cluster import KMeans\n",
    "from sklearn.metrics import silhouette_score\n",
    "\n",
    "pps = predictors_df[['ppscore']]\n",
    "ks = [2,3,4,5]\n",
    "silh_score = []\n",
    "for k in ks:\n",
    "    kmeans = KMeans(n_clusters=k)\n",
    "    kmeans.fit(pps)\n",
    "    silh_score.append(silhouette_score(pps,kmeans.predict(pps)))\n",
    "plt.plot(ks,silh_score,marker='D')\n",
    "plt.xlabel(\"k\")\n",
    "plt.ylabel('silhouette score')\n",
    "sns.despine()\n",
    "plt.show()"
   ]
  },
  {
   "cell_type": "code",
   "execution_count": 26,
   "id": "7dc71d79",
   "metadata": {},
   "outputs": [],
   "source": [
    "k_best = ks[silh_score.index(max(silh_score))]\n",
    "kmeans = KMeans(n_clusters=k_best)\n",
    "kmeans.fit(pps)\n",
    "clust = kmeans.labels_"
   ]
  },
  {
   "cell_type": "code",
   "execution_count": 27,
   "id": "5f825551",
   "metadata": {},
   "outputs": [
    {
     "data": {
      "image/png": "[encoded data removed]",
      "text/plain": [
       "<Figure size 432x288 with 1 Axes>"
      ]
     },
     "metadata": {
      "needs_background": "light"
     },
     "output_type": "display_data"
    }
   ],
   "source": [
    "from matplotlib import cm\n",
    "cmap=cm.get_cmap('viridis_r', k_best)\n",
    "colors = cmap.colors\n",
    "\n",
    "fig,ax=plt.subplots()\n",
    "x,y=ecdf(predictors_df['ppscore'])\n",
    "for i in range(len(x)):\n",
    "    ax.plot(x[i],y[i],marker='.',linestyle='None',color=colors[clust[i]],markerfacecolor=colors[clust[i]],alpha=0.6)\n",
    "sns.despine()\n",
    "ax.set_xlabel('predictive power score')\n",
    "ax.set_ylabel('prop. of columns <= x (pps)')\n",
    "ax.set_title('pps: clusters labeled')\n",
    "plt.show()"
   ]
  },
  {
   "cell_type": "code",
   "execution_count": 28,
   "id": "0d376a46",
   "metadata": {},
   "outputs": [],
   "source": [
    "# check which cluster corresponds to higher pps\n",
    "predictors_df['clust'] = clust\n",
    "srtdf = predictors_df.groupby('clust').mean().sort_values('ppscore',ascending=True)"
   ]
  },
  {
   "cell_type": "code",
   "execution_count": 29,
   "id": "8a2e5a45",
   "metadata": {},
   "outputs": [],
   "source": [
    "worst_clust = srtdf.index[0]"
   ]
  },
  {
   "cell_type": "markdown",
   "id": "b036b87e",
   "metadata": {},
   "source": [
    "What are the dimensions of the df now? And what are these variables with the highest pp scores, out of curiousity?"
   ]
  },
  {
   "cell_type": "code",
   "execution_count": 30,
   "id": "7ee459ba",
   "metadata": {},
   "outputs": [
    {
     "name": "stdout",
     "output_type": "stream",
     "text": [
      "(14, 9)\n",
      "(25500, 273)\n",
      "(25500, 15)\n"
     ]
    }
   ],
   "source": [
    "pps_0 = predictors_df['ppscore'][clust==worst_clust].index\n",
    "predictors_df = predictors_df.drop(index=pps_0,axis=1)\n",
    "datatype = datatype.drop(index=pps_0,axis=1)\n",
    "#print(predictors_df.shape)\n",
    "#print(df.shape)\n",
    "ndf = df.drop(pps_0,axis=1)\n",
    "#print(ndf.shape)"
   ]
  },
  {
   "cell_type": "code",
   "execution_count": null,
   "id": "36cd3c06",
   "metadata": {},
   "outputs": [],
   "source": []
  },
  {
   "cell_type": "code",
   "execution_count": null,
   "id": "b130a770",
   "metadata": {},
   "outputs": [],
   "source": []
  },
  {
   "cell_type": "code",
   "execution_count": null,
   "id": "7591c2a9",
   "metadata": {},
   "outputs": [],
   "source": []
  },
  {
   "cell_type": "code",
   "execution_count": null,
   "id": "b57ef84e",
   "metadata": {},
   "outputs": [],
   "source": []
  },
  {
   "cell_type": "code",
   "execution_count": 31,
   "id": "8dbf598a",
   "metadata": {},
   "outputs": [],
   "source": [
    "ndf.shape\n",
    "ndf.rename(columns={'FHICOVP':'not_insured'},inplace=True)\n",
    "datatype.rename(index={'FHICOVP':'not_insured'},inplace=True)\n",
    "\n",
    "for column in ndf:\n",
    "    if column == 'not_insured':\n",
    "        continue\n",
    "    else:\n",
    "        ndf.rename(columns={column:codedict[column]},inplace=True)"
   ]
  },
  {
   "cell_type": "code",
   "execution_count": 32,
   "id": "d98b562a",
   "metadata": {},
   "outputs": [],
   "source": [
    "for index in datatype.index:\n",
    "    if index == 'not_insured':\n",
    "        continue\n",
    "    else:\n",
    "        ndf.rename(index={index:codedict[index]},inplace=True)"
   ]
  },
  {
   "cell_type": "code",
   "execution_count": 33,
   "id": "336b7436",
   "metadata": {},
   "outputs": [],
   "source": [
    "ndf['insured']=ndf['not_insured'].map({0:1,1:0})\n",
    "ndf.drop(columns=['not_insured'],inplace=True)"
   ]
  },
  {
   "cell_type": "code",
   "execution_count": 34,
   "id": "5ea301d2",
   "metadata": {},
   "outputs": [],
   "source": [
    "# save new data frame and predictors_df:\n",
    "new_df_fname = os.path.join(datadir,'allstates_subsample' + str(nsamples) + '_select_columns.csv')\n",
    "ndf.to_csv(new_df_fname)\n",
    "pred_df_fname = os.path.join(datadir,'allstates_subsample' + str(nsamples) + '_select_columns_predictors_df.csv')\n",
    "predictors_df.to_csv(pred_df_fname)\n",
    "datatype_fname = os.path.join(datadir,'allstates_subsample' + str(nsamples) + '_select_columns_datatype.csv')\n",
    "datatype.to_csv(datatype_fname)"
   ]
  },
  {
   "cell_type": "code",
   "execution_count": 35,
   "id": "0d5e6741",
   "metadata": {},
   "outputs": [
    {
     "name": "stdout",
     "output_type": "stream",
     "text": [
      "There are now 15 columns.\n"
     ]
    }
   ],
   "source": [
    "print('There are now ' + str(ndf.shape[1]) + ' columns.')"
   ]
  },
  {
   "cell_type": "code",
   "execution_count": 36,
   "id": "2612ee30",
   "metadata": {},
   "outputs": [
    {
     "name": "stdout",
     "output_type": "stream",
     "text": [
      "(14, 9)\n",
      "(15, 4)\n",
      "(25500, 15)\n"
     ]
    }
   ],
   "source": [
    "print(predictors_df.shape)\n",
    "print(datatype.shape)\n",
    "print(ndf.shape)"
   ]
  },
  {
   "cell_type": "markdown",
   "id": "f29f5e1c",
   "metadata": {},
   "source": [
    "Now we can plot the distributions of our variables."
   ]
  },
  {
   "cell_type": "code",
   "execution_count": 37,
   "id": "735c1e53",
   "metadata": {},
   "outputs": [
    {
     "data": {
      "text/plain": [
       "array([CategoricalDtype(categories=[0, 1], ordered=False)], dtype=object)"
      ]
     },
     "execution_count": 37,
     "metadata": {},
     "output_type": "execute_result"
    }
   ],
   "source": [
    "#what kind of variables are left? \n",
    "ndf.dtypes.unique()"
   ]
  },
  {
   "cell_type": "markdown",
   "id": "28f929b8",
   "metadata": {},
   "source": [
    "Looks like they're all categorical at this point, with 0, 1 values. We can look at the counts of each variable separated by our target variable. "
   ]
  },
  {
   "cell_type": "code",
   "execution_count": 38,
   "id": "96c32a53",
   "metadata": {},
   "outputs": [
    {
     "data": {
      "text/html": [
       "<div>\n",
       "<style scoped>\n",
       "    .dataframe tbody tr th:only-of-type {\n",
       "        vertical-align: middle;\n",
       "    }\n",
       "\n",
       "    .dataframe tbody tr th {\n",
       "        vertical-align: top;\n",
       "    }\n",
       "\n",
       "    .dataframe thead th {\n",
       "        text-align: right;\n",
       "    }\n",
       "</style>\n",
       "<table border=\"1\" class=\"dataframe\">\n",
       "  <thead>\n",
       "    <tr style=\"text-align: right;\">\n",
       "      <th></th>\n",
       "      <th></th>\n",
       "      <th>place of birth allocation flag</th>\n",
       "      <th>school enrollment allocation flag</th>\n",
       "      <th>widowed in the past 12 months allocation flag</th>\n",
       "      <th>disability recode allocation flag</th>\n",
       "      <th>vision difficulty allocation flag</th>\n",
       "      <th>citizenship allocation flag</th>\n",
       "      <th>place of work state allocation flag</th>\n",
       "      <th>language other than english allocation flag</th>\n",
       "      <th>self-care difficulty allocation flag</th>\n",
       "      <th>hearing difficulty allocation flag</th>\n",
       "      <th>mobility status allocation flag</th>\n",
       "      <th>cognitive difficulty allocation flag</th>\n",
       "      <th>ambulatory difficulty allocation flag</th>\n",
       "      <th>independent living difficulty allocation flag</th>\n",
       "      <th>insured</th>\n",
       "    </tr>\n",
       "    <tr>\n",
       "      <th>insured</th>\n",
       "      <th></th>\n",
       "      <th></th>\n",
       "      <th></th>\n",
       "      <th></th>\n",
       "      <th></th>\n",
       "      <th></th>\n",
       "      <th></th>\n",
       "      <th></th>\n",
       "      <th></th>\n",
       "      <th></th>\n",
       "      <th></th>\n",
       "      <th></th>\n",
       "      <th></th>\n",
       "      <th></th>\n",
       "      <th></th>\n",
       "      <th></th>\n",
       "    </tr>\n",
       "  </thead>\n",
       "  <tbody>\n",
       "    <tr>\n",
       "      <th rowspan=\"2\" valign=\"top\">1</th>\n",
       "      <th>0</th>\n",
       "      <td>0.936926</td>\n",
       "      <td>0.964375</td>\n",
       "      <td>0.974273</td>\n",
       "      <td>0.940369</td>\n",
       "      <td>0.961075</td>\n",
       "      <td>0.971787</td>\n",
       "      <td>0.963131</td>\n",
       "      <td>0.962988</td>\n",
       "      <td>0.949216</td>\n",
       "      <td>0.953711</td>\n",
       "      <td>0.956915</td>\n",
       "      <td>0.955719</td>\n",
       "      <td>0.954093</td>\n",
       "      <td>0.961792</td>\n",
       "      <td>0.0</td>\n",
       "    </tr>\n",
       "    <tr>\n",
       "      <th>1</th>\n",
       "      <td>0.063074</td>\n",
       "      <td>0.035625</td>\n",
       "      <td>0.025727</td>\n",
       "      <td>0.059631</td>\n",
       "      <td>0.038925</td>\n",
       "      <td>0.028213</td>\n",
       "      <td>0.036869</td>\n",
       "      <td>0.037012</td>\n",
       "      <td>0.050784</td>\n",
       "      <td>0.046289</td>\n",
       "      <td>0.043085</td>\n",
       "      <td>0.044281</td>\n",
       "      <td>0.045907</td>\n",
       "      <td>0.038208</td>\n",
       "      <td>1.0</td>\n",
       "    </tr>\n",
       "    <tr>\n",
       "      <th rowspan=\"2\" valign=\"top\">0</th>\n",
       "      <th>0</th>\n",
       "      <td>0.718614</td>\n",
       "      <td>0.759372</td>\n",
       "      <td>0.848082</td>\n",
       "      <td>0.665867</td>\n",
       "      <td>0.715998</td>\n",
       "      <td>0.761116</td>\n",
       "      <td>0.814080</td>\n",
       "      <td>0.748256</td>\n",
       "      <td>0.768309</td>\n",
       "      <td>0.755231</td>\n",
       "      <td>0.745859</td>\n",
       "      <td>0.747602</td>\n",
       "      <td>0.749564</td>\n",
       "      <td>0.793156</td>\n",
       "      <td>1.0</td>\n",
       "    </tr>\n",
       "    <tr>\n",
       "      <th>1</th>\n",
       "      <td>0.281386</td>\n",
       "      <td>0.240628</td>\n",
       "      <td>0.151918</td>\n",
       "      <td>0.334133</td>\n",
       "      <td>0.284002</td>\n",
       "      <td>0.238884</td>\n",
       "      <td>0.185920</td>\n",
       "      <td>0.251744</td>\n",
       "      <td>0.231691</td>\n",
       "      <td>0.244769</td>\n",
       "      <td>0.254141</td>\n",
       "      <td>0.252398</td>\n",
       "      <td>0.250436</td>\n",
       "      <td>0.206844</td>\n",
       "      <td>0.0</td>\n",
       "    </tr>\n",
       "  </tbody>\n",
       "</table>\n",
       "</div>"
      ],
      "text/plain": [
       "           place of birth allocation flag  school enrollment allocation flag  \\\n",
       "insured                                                                        \n",
       "1       0                        0.936926                           0.964375   \n",
       "        1                        0.063074                           0.035625   \n",
       "0       0                        0.718614                           0.759372   \n",
       "        1                        0.281386                           0.240628   \n",
       "\n",
       "           widowed in the past 12 months allocation flag  \\\n",
       "insured                                                    \n",
       "1       0                                       0.974273   \n",
       "        1                                       0.025727   \n",
       "0       0                                       0.848082   \n",
       "        1                                       0.151918   \n",
       "\n",
       "           disability recode allocation flag  \\\n",
       "insured                                        \n",
       "1       0                           0.940369   \n",
       "        1                           0.059631   \n",
       "0       0                           0.665867   \n",
       "        1                           0.334133   \n",
       "\n",
       "           vision difficulty allocation flag  citizenship allocation flag  \\\n",
       "insured                                                                     \n",
       "1       0                           0.961075                     0.971787   \n",
       "        1                           0.038925                     0.028213   \n",
       "0       0                           0.715998                     0.761116   \n",
       "        1                           0.284002                     0.238884   \n",
       "\n",
       "           place of work state allocation flag  \\\n",
       "insured                                          \n",
       "1       0                             0.963131   \n",
       "        1                             0.036869   \n",
       "0       0                             0.814080   \n",
       "        1                             0.185920   \n",
       "\n",
       "           language other than english allocation flag  \\\n",
       "insured                                                  \n",
       "1       0                                     0.962988   \n",
       "        1                                     0.037012   \n",
       "0       0                                     0.748256   \n",
       "        1                                     0.251744   \n",
       "\n",
       "           self-care difficulty allocation flag  \\\n",
       "insured                                           \n",
       "1       0                              0.949216   \n",
       "        1                              0.050784   \n",
       "0       0                              0.768309   \n",
       "        1                              0.231691   \n",
       "\n",
       "           hearing difficulty allocation flag  \\\n",
       "insured                                         \n",
       "1       0                            0.953711   \n",
       "        1                            0.046289   \n",
       "0       0                            0.755231   \n",
       "        1                            0.244769   \n",
       "\n",
       "           mobility status allocation flag  \\\n",
       "insured                                      \n",
       "1       0                         0.956915   \n",
       "        1                         0.043085   \n",
       "0       0                         0.745859   \n",
       "        1                         0.254141   \n",
       "\n",
       "           cognitive difficulty allocation flag  \\\n",
       "insured                                           \n",
       "1       0                              0.955719   \n",
       "        1                              0.044281   \n",
       "0       0                              0.747602   \n",
       "        1                              0.252398   \n",
       "\n",
       "           ambulatory difficulty allocation flag  \\\n",
       "insured                                            \n",
       "1       0                               0.954093   \n",
       "        1                               0.045907   \n",
       "0       0                               0.749564   \n",
       "        1                               0.250436   \n",
       "\n",
       "           independent living difficulty allocation flag  insured  \n",
       "insured                                                            \n",
       "1       0                                       0.961792      0.0  \n",
       "        1                                       0.038208      1.0  \n",
       "0       0                                       0.793156      1.0  \n",
       "        1                                       0.206844      0.0  "
      ]
     },
     "execution_count": 38,
     "metadata": {},
     "output_type": "execute_result"
    }
   ],
   "source": [
    "df1 = pd.DataFrame(columns=ndf.columns)\n",
    "df2 = pd.DataFrame(columns=ndf.columns)\n",
    "\n",
    "for column in ndf.columns:\n",
    "    df1[column] = ndf.groupby('insured')[column].value_counts(normalize=True)  # normalized counts\n",
    "    df2[column] = ndf.groupby('insured')[column].value_counts(normalize=False) # counts\n",
    "df1.head(10)"
   ]
  },
  {
   "cell_type": "code",
   "execution_count": 84,
   "id": "04d1c827",
   "metadata": {},
   "outputs": [
    {
     "data": {
      "text/html": [
       "<div>\n",
       "<style scoped>\n",
       "    .dataframe tbody tr th:only-of-type {\n",
       "        vertical-align: middle;\n",
       "    }\n",
       "\n",
       "    .dataframe tbody tr th {\n",
       "        vertical-align: top;\n",
       "    }\n",
       "\n",
       "    .dataframe thead th {\n",
       "        text-align: right;\n",
       "    }\n",
       "</style>\n",
       "<table border=\"1\" class=\"dataframe\">\n",
       "  <thead>\n",
       "    <tr style=\"text-align: right;\">\n",
       "      <th>place of birth allocation flag</th>\n",
       "      <th>no</th>\n",
       "      <th>yes</th>\n",
       "    </tr>\n",
       "    <tr>\n",
       "      <th>insured</th>\n",
       "      <th></th>\n",
       "      <th></th>\n",
       "    </tr>\n",
       "  </thead>\n",
       "  <tbody>\n",
       "    <tr>\n",
       "      <th>yes</th>\n",
       "      <td>19593</td>\n",
       "      <td>1319</td>\n",
       "    </tr>\n",
       "    <tr>\n",
       "      <th>no</th>\n",
       "      <td>3297</td>\n",
       "      <td>1291</td>\n",
       "    </tr>\n",
       "  </tbody>\n",
       "</table>\n",
       "</div>"
      ],
      "text/plain": [
       "place of birth allocation flag     no   yes\n",
       "insured                                    \n",
       "yes                             19593  1319\n",
       "no                               3297  1291"
      ]
     },
     "execution_count": 84,
     "metadata": {},
     "output_type": "execute_result"
    }
   ],
   "source": [
    "cs = pd.crosstab(ndf['insured'],ndf['place of birth allocation flag'])\n",
    "cs.rename(columns={1:'yes',0:'no'},index={1:'yes',0:'no'},inplace=True)\n",
    "cs"
   ]
  },
  {
   "cell_type": "code",
   "execution_count": 88,
   "id": "ce74be80",
   "metadata": {},
   "outputs": [
    {
     "data": {
      "image/png": "[encoded data removed]",
      "text/plain": [
       "<Figure size 360x360 with 3 Axes>"
      ]
     },
     "metadata": {
      "needs_background": "light"
     },
     "output_type": "display_data"
    }
   ],
   "source": [
    "plt.rcParams[\"figure.figsize\"] = (5,5)\n",
    "mosaic(cs.stack(),gap=.05)\n",
    "plt.show()"
   ]
  },
  {
   "cell_type": "code",
   "execution_count": 89,
   "id": "b0f4326b",
   "metadata": {},
   "outputs": [],
   "source": [
    "# import libraries\n",
    "import os\n",
    "import glob\n",
    "import requests\n",
    "import time\n",
    "from dotenv import load_dotenv\n",
    "# load variable names from census PUMS (public use microsample) API\n",
    "load_dotenv()\n",
    "API_KEY  = os.getenv('CENSUS_API_KEY')\n",
    "host     = 'https://api.census.gov/data'\n",
    "year     = 2019\n",
    "dataset  = 'acs/acs1/pums/variables'\n",
    "base_url = \"/\".join([host, str(year), dataset]) \n",
    "r        = requests.get(base_url)\n",
    "rlists   = r.json()\n",
    "code     = [item[0] for item in rlists if item[0].isupper()] #code in API\n",
    "label    = [item[1].lower() for item in rlists if item[0].isupper()] # description for each code\n",
    "nsamples = 500\n",
    "\n",
    "codedict = {} # redudant with code, label but may make life easier later on\n",
    "count    = 0\n",
    "for lab in label:\n",
    "    codedict[code[count]] = lab\n",
    "    count += 1\n",
    "# function to get data from Census API, Public Access MicroData Samples using list of codes (max 50), state id number \n",
    "def callCensusApi(API_KEY,year,select_codes,stateid):\n",
    "    host     = 'https://api.census.gov/data'\n",
    "    dataset  = 'acs/acs1/pums'\n",
    "    query    = '?get='\n",
    "    variable = ','.join(select_codes)\n",
    "    base_url = \"/\".join([host, str(year), dataset]) + query + variable + '&for=state:' + stateid + '&key=' + API_KEY\n",
    "    callbeg  = time.time()\n",
    "    r        = requests.get(base_url) \n",
    "    colnames = variable.split(',')\n",
    "    colnames.append('state')\n",
    "    df       = pd.DataFrame(columns=colnames, data=r.json()[1:]) \n",
    "    tElapsed = time.time()-callbeg\n",
    "    return (tElapsed,df)\n",
    "\n",
    "# call api for more details on a specific variable\n",
    "def variableDetails(codename):\n",
    "    base_url = \"/\".join([host, str(year), dataset, codename + '.json']) \n",
    "    r        = requests.get(base_url)\n",
    "    detail   = r.json()\n",
    "    return detail\n",
    "def get_keys_from_value(d, val):\n",
    "    return [k for k, v in d.items() if v == val]"
   ]
  },
  {
   "cell_type": "code",
   "execution_count": 103,
   "id": "a030babf",
   "metadata": {},
   "outputs": [
    {
     "name": "stdout",
     "output_type": "stream",
     "text": [
      "<class 'str'>\n"
     ]
    }
   ],
   "source": [
    "codename = get_keys_from_value(codedict,'place of birth allocation flag')\n",
    "codename = codename[0]"
   ]
  },
  {
   "cell_type": "code",
   "execution_count": 105,
   "id": "dbbedb96",
   "metadata": {},
   "outputs": [
    {
     "name": "stdout",
     "output_type": "stream",
     "text": [
      "from FPOBP\n",
      "1 : Yes\n",
      "0 : No\n",
      "from FSCHP\n",
      "0 : No\n",
      "1 : Yes\n",
      "from FMARHWP\n",
      "0 : No\n",
      "1 : Yes\n",
      "from FDISP\n",
      "0 : No\n",
      "1 : Yes\n",
      "from FDEYEP\n",
      "0 : No\n",
      "1 : Yes\n",
      "from FCITP\n",
      "0 : No\n",
      "1 : Yes\n",
      "from FPOWSP\n",
      "1 : Yes\n",
      "0 : No\n",
      "from FLANXP\n",
      "0 : No\n",
      "1 : Yes\n",
      "from FDDRSP\n",
      "0 : No\n",
      "1 : Yes\n",
      "from FDEARP\n",
      "1 : Yes\n",
      "0 : No\n",
      "from FMIGP\n",
      "1 : Yes\n",
      "0 : No\n",
      "from FDREMP\n",
      "1 : Yes\n",
      "0 : No\n",
      "from FDPHYP\n",
      "0 : No\n",
      "1 : Yes\n",
      "from FDOUTP\n",
      "1 : Yes\n",
      "0 : No\n"
     ]
    },
    {
     "ename": "IndexError",
     "evalue": "list index out of range",
     "output_type": "error",
     "traceback": [
      "\u001b[1;31m---------------------------------------------------------------------------\u001b[0m",
      "\u001b[1;31mIndexError\u001b[0m                                Traceback (most recent call last)",
      "Input \u001b[1;32mIn [105]\u001b[0m, in \u001b[0;36m<cell line: 1>\u001b[1;34m()\u001b[0m\n\u001b[0;32m      1\u001b[0m \u001b[38;5;28;01mfor\u001b[39;00m column \u001b[38;5;129;01min\u001b[39;00m ndf:\n\u001b[0;32m      2\u001b[0m     codename \u001b[38;5;241m=\u001b[39m get_keys_from_value(codedict,column)\n\u001b[1;32m----> 3\u001b[0m     codename \u001b[38;5;241m=\u001b[39m \u001b[43mcodename\u001b[49m\u001b[43m[\u001b[49m\u001b[38;5;241;43m0\u001b[39;49m\u001b[43m]\u001b[49m\n\u001b[0;32m      4\u001b[0m     details \u001b[38;5;241m=\u001b[39m variableDetails(codename)\n\u001b[0;32m      5\u001b[0m     \u001b[38;5;28mprint\u001b[39m(\u001b[38;5;124m'\u001b[39m\u001b[38;5;124mfrom \u001b[39m\u001b[38;5;124m'\u001b[39m \u001b[38;5;241m+\u001b[39m codename)\n",
      "\u001b[1;31mIndexError\u001b[0m: list index out of range"
     ]
    }
   ],
   "source": [
    "for column in ndf:\n",
    "    codename = get_keys_from_value(codedict,column)\n",
    "    codename = codename[0]\n",
    "    details = variableDetails(codename)\n",
    "    print('from ' + codename)\n",
    "    for key,value in details['values']['item'].items():\n",
    "        print(key, ':', value)"
   ]
  },
  {
   "cell_type": "code",
   "execution_count": null,
   "id": "8f813517",
   "metadata": {},
   "outputs": [],
   "source": []
  }
 ],
 "metadata": {
  "kernelspec": {
   "display_name": "Python 3 (ipykernel)",
   "language": "python",
   "name": "python3"
  },
  "language_info": {
   "codemirror_mode": {
    "name": "ipython",
    "version": 3
   },
   "file_extension": ".py",
   "mimetype": "text/x-python",
   "name": "python",
   "nbconvert_exporter": "python",
   "pygments_lexer": "ipython3",
   "version": "3.9.12"
  }
 },
 "nbformat": 4,
 "nbformat_minor": 5
}
