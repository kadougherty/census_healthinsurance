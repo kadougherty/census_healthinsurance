{
 "cells": [
  {
   "cell_type": "markdown",
   "id": "1091f69f",
   "metadata": {},
   "source": [
    "# predicting health coverage in the US"
   ]
  },
  {
   "cell_type": "markdown",
   "id": "9199b793",
   "metadata": {},
   "source": [
    "This project will call data from the American Community Survey Public Use MicroSample(PUMS) API. The most recent survey publicly availble at this API is from 2019. (Note data from 2020 are available to download in csv files).\n",
    "\n",
    "This project uses the Census Bureau Data API but is not endorsed or certified by the Census Bureau.\n",
    "\n",
    "1. American Community Survey (ACS) (census.gov).\n",
    "https://www.census.gov/programs-surveys/acs/\n",
    "2. American Community Survey Data via API (census.gov).\n",
    "https://www.census.gov/programs-surveys/acs/data/data-via-api.html\n",
    "\n",
    "The goal of this project is to predict whether an individual has health insurance (or not) based on demographic data in the PUMS. "
   ]
  },
  {
   "cell_type": "code",
   "execution_count": 1,
   "id": "4f0b4228",
   "metadata": {},
   "outputs": [],
   "source": [
    "# import libraries\n",
    "import os\n",
    "import pandas as pd\n",
    "import numpy as np\n",
    "import utils\n",
    "from datetime import datetime,timedelta\n",
    "import seaborn as sns\n",
    "import matplotlib.pyplot as plt\n",
    "\n",
    "from sklearn.model_selection import GridSearchCV, KFold\n",
    "from sklearn.metrics import accuracy_score,classification_report,confusion_matrix,ConfusionMatrixDisplay\n",
    "from sklearn.metrics import roc_curve,roc_auc_score, auc, f1_score, precision_recall_curve"
   ]
  },
  {
   "cell_type": "markdown",
   "id": "8af09f89",
   "metadata": {},
   "source": [
    "To predict which kind of insurance (if any) an individual has based on other attributes available in the census record, we can use supervised learning algorithms. Below we will try and compare logistic regression, SVM, and a random forest model."
   ]
  },
  {
   "cell_type": "code",
   "execution_count": 2,
   "id": "ad164f99",
   "metadata": {},
   "outputs": [],
   "source": [
    "# load pre-processed/scaled training data:\n",
    "X_train  = pd.read_pickle('X_scaled_train.pkl')\n",
    "y_train  = pd.read_pickle('y_train.pkl')\n",
    "\n",
    "X_test  = pd.read_pickle('X_scaled_test.pkl')\n",
    "y_test  = pd.read_pickle('y_test.pkl')"
   ]
  },
  {
   "cell_type": "code",
   "execution_count": 3,
   "id": "1764ac5a",
   "metadata": {},
   "outputs": [],
   "source": [
    "nsamples = 500\n",
    "datadir  = os.path.join(os.getcwd(),\"data\")\n",
    "\n",
    "fname = os.path.join(datadir,str(nsamples) + 'targets_oi.csv')\n",
    "targ_oi  = pd.read_csv(fname)\n",
    "targname = targ_oi['healthcodes'][1]\n",
    "\n",
    "details = utils.variableDetails(targname)\n",
    "targlabels = details['values']['item'].values()"
   ]
  },
  {
   "cell_type": "markdown",
   "id": "39c9a0de",
   "metadata": {},
   "source": [
    "First, let's try logistic regression. We have many numerical variables though. Maybe we can use PCA to reduce dimensions on the numeric variables?"
   ]
  },
  {
   "cell_type": "code",
   "execution_count": 4,
   "id": "d5f861e8",
   "metadata": {},
   "outputs": [
    {
     "data": {
      "image/png": "[encoded data removed]",
      "text/plain": [
       "<Figure size 432x288 with 1 Axes>"
      ]
     },
     "metadata": {
      "needs_background": "light"
     },
     "output_type": "display_data"
    }
   ],
   "source": [
    "from sklearn.decomposition import PCA\n",
    "\n",
    "num_train = X_train.select_dtypes('float')\n",
    "num_test  = X_test.select_dtypes('float')\n",
    "\n",
    "pc   = PCA().fit(num_train)\n",
    "\n",
    "pc_train = pc.transform(num_train)\n",
    "pc_test  = pc.transform(num_test)\n",
    "\n",
    "\n",
    "plt.plot(pc.explained_variance_ratio_,marker='D',mfc='red')\n",
    "sns.despine()\n",
    "plt.ylabel('prop. explained variance')\n",
    "plt.xlabel('principal component number')\n",
    "plt.show()"
   ]
  },
  {
   "cell_type": "code",
   "execution_count": 5,
   "id": "b338ca9c",
   "metadata": {},
   "outputs": [],
   "source": [
    "# piece together categorical vars + first two principal components (from numerical columns)\n",
    "pc_Xtrain = X_train.select_dtypes('uint8')\n",
    "pc_Xtrain['pc_1'] = pc_train[:,0]\n",
    "pc_Xtrain['pc_2'] = pc_train[:,1]\n",
    "\n",
    "pc_Xtest= X_test.select_dtypes('uint8')\n",
    "pc_Xtest['pc_1'] = pc_test[:,0]\n",
    "pc_Xtest['pc_2'] = pc_test[:,1]"
   ]
  },
  {
   "cell_type": "code",
   "execution_count": 6,
   "id": "5417f063",
   "metadata": {},
   "outputs": [
    {
     "name": "stdout",
     "output_type": "stream",
     "text": [
      "logistic regression results:\n",
      "overall accuracy: 0.7379084967320262\n"
     ]
    },
    {
     "data": {
      "image/png": "[encoded data removed]",
      "text/plain": [
       "<Figure size 432x288 with 2 Axes>"
      ]
     },
     "metadata": {
      "needs_background": "light"
     },
     "output_type": "display_data"
    }
   ],
   "source": [
    "# logistic regression \n",
    "from sklearn.linear_model import LogisticRegression\n",
    "\n",
    "Cs= [0.01, 0.1, 1, 10, 100]\n",
    "params = {'C':Cs}\n",
    "logreg = LogisticRegression(solver='liblinear') \n",
    "lr_cv  = GridSearchCV(logreg,params,cv=KFold(5))\n",
    "lr_cv.fit(pc_Xtrain,y_train)\n",
    "\n",
    "y_pred=lr_cv.predict(pc_Xtest)\n",
    "ac = accuracy_score(y_test, y_pred)\n",
    "print('logistic regression results:')\n",
    "print('overall accuracy: ' + str(ac))\n",
    "disp = ConfusionMatrixDisplay.from_predictions(y_test,y_pred,normalize='true')"
   ]
  },
  {
   "cell_type": "code",
   "execution_count": 7,
   "id": "1c4b1105",
   "metadata": {},
   "outputs": [
    {
     "name": "stdout",
     "output_type": "stream",
     "text": [
      "random forest model results:\n",
      "overall accuracy: 0.7551633986928105\n"
     ]
    },
    {
     "data": {
      "image/png": "[encoded data removed]",
      "text/plain": [
       "<Figure size 432x288 with 2 Axes>"
      ]
     },
     "metadata": {
      "needs_background": "light"
     },
     "output_type": "display_data"
    }
   ],
   "source": [
    "# random forest model\n",
    "from sklearn.ensemble import RandomForestClassifier\n",
    "\n",
    "params = {'n_estimators':[10,100,300,500,1000]}\n",
    "rf_mdl = RandomForestClassifier()\n",
    "rf_cv  = GridSearchCV(estimator=rf_mdl,param_grid=params,cv=KFold(5))\n",
    "rf_cv.fit(X_train,y_train)\n",
    "y_pred = rf_cv.predict(X_test)\n",
    "ac = accuracy_score(y_test, y_pred)\n",
    "print('random forest model results:')\n",
    "\n",
    "print('overall accuracy: ' + str(ac))\n",
    "disp = ConfusionMatrixDisplay.from_predictions(y_test,y_pred,normalize='true')"
   ]
  }
 ],
 "metadata": {
  "kernelspec": {
   "display_name": "Python 3 (ipykernel)",
   "language": "python",
   "name": "python3"
  },
  "language_info": {
   "codemirror_mode": {
    "name": "ipython",
    "version": 3
   },
   "file_extension": ".py",
   "mimetype": "text/x-python",
   "name": "python",
   "nbconvert_exporter": "python",
   "pygments_lexer": "ipython3",
   "version": "3.9.12"
  }
 },
 "nbformat": 4,
 "nbformat_minor": 5
}
