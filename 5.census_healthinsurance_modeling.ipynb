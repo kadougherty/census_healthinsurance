{
 "cells": [
  {
   "cell_type": "markdown",
   "id": "1091f69f",
   "metadata": {},
   "source": [
    "# predicting health coverage in the US"
   ]
  },
  {
   "cell_type": "markdown",
   "id": "9199b793",
   "metadata": {},
   "source": [
    "This project will call data from the American Community Survey Public Use MicroSample(PUMS) API. The most recent survey publicly availble at this API is from 2019. (Note data from 2020 are available to download in csv files).\n",
    "\n",
    "This project uses the Census Bureau Data API but is not endorsed or certified by the Census Bureau.\n",
    "\n",
    "1. American Community Survey (ACS) (census.gov).\n",
    "https://www.census.gov/programs-surveys/acs/\n",
    "2. American Community Survey Data via API (census.gov).\n",
    "https://www.census.gov/programs-surveys/acs/data/data-via-api.html\n",
    "\n",
    "The goal of this project is to predict whether an individual has private health insurance (or not) based on demographic data in the PUMS. "
   ]
  },
  {
   "cell_type": "code",
   "execution_count": 1,
   "id": "4f0b4228",
   "metadata": {},
   "outputs": [],
   "source": [
    "# import libraries\n",
    "import os\n",
    "import pandas as pd\n",
    "import numpy as np\n",
    "import utils\n",
    "from datetime import datetime,timedelta\n",
    "import seaborn as sns\n",
    "import matplotlib.pyplot as plt\n",
    "\n",
    "import pickle\n",
    "import imblearn\n",
    "from sklearn.model_selection import GridSearchCV, KFold\n",
    "from sklearn.metrics import accuracy_score,f1_score,precision_score,recall_score,confusion_matrix,ConfusionMatrixDisplay"
   ]
  },
  {
   "cell_type": "code",
   "execution_count": 2,
   "id": "fc143f0a",
   "metadata": {},
   "outputs": [],
   "source": [
    "datadir = os.path.join(os.getcwd(),\"raw_data\")\n",
    "interimdatadir = os.path.join(os.getcwd(),\"interim_data\")\n",
    "figdir = os.path.join(os.getcwd(),\"plots\")\n",
    "modeldir = os.path.join(os.getcwd(),\"models\")"
   ]
  },
  {
   "cell_type": "markdown",
   "id": "8af09f89",
   "metadata": {},
   "source": [
    "To predict which kind of insurance (if any) an individual has based on other attributes available in the census record, we can use supervised learning algorithms. Below we will try and compare logistic regression, random forest, gradient boosting (xgboost), k-nearest neighbors, and SVM models."
   ]
  },
  {
   "cell_type": "code",
   "execution_count": 3,
   "id": "ad164f99",
   "metadata": {},
   "outputs": [],
   "source": [
    "# load pre-processed/scaled training data:\n",
    "X_train  = pd.read_pickle(os.path.join(interimdatadir,'X_scaled_train.pkl'))\n",
    "y_train  = pd.read_pickle(os.path.join(interimdatadir,'y_train.pkl'))\n",
    "\n",
    "X_test  = pd.read_pickle(os.path.join(interimdatadir,'X_scaled_test.pkl'))\n",
    "y_test  = pd.read_pickle(os.path.join(interimdatadir,'y_test.pkl'))\n",
    "model_scores = {}"
   ]
  },
  {
   "cell_type": "code",
   "execution_count": 4,
   "id": "1764ac5a",
   "metadata": {},
   "outputs": [],
   "source": [
    "# name target variable\n",
    "_,_,_,nsamples = utils.getVars()\n",
    "\n",
    "fname = os.path.join(interimdatadir,str(nsamples) + 'targets_oi.csv')\n",
    "targ_oi  = pd.read_csv(fname)\n",
    "targname = targ_oi['healthcodes'][1]\n",
    "\n",
    "details = utils.variableDetails(targname)\n",
    "targlabels = details['values']['item'].values()"
   ]
  },
  {
   "cell_type": "markdown",
   "id": "39c9a0de",
   "metadata": {},
   "source": [
    "Using PCA below to reduce dimensions for numeric variables"
   ]
  },
  {
   "cell_type": "code",
   "execution_count": 5,
   "id": "d5f861e8",
   "metadata": {},
   "outputs": [
    {
     "data": {
      "image/png": "[encoded data removed]",
      "text/plain": [
       "<Figure size 432x288 with 1 Axes>"
      ]
     },
     "metadata": {
      "needs_background": "light"
     },
     "output_type": "display_data"
    }
   ],
   "source": [
    "from sklearn.decomposition import PCA\n",
    "\n",
    "num_train = X_train.select_dtypes('float')\n",
    "num_test  = X_test.select_dtypes('float')\n",
    "\n",
    "pc   = PCA().fit(num_train)\n",
    "\n",
    "pc_train = pc.transform(num_train)\n",
    "pc_test  = pc.transform(num_test)\n",
    "\n",
    "\n",
    "plt.plot(pc.explained_variance_ratio_,marker='D',mfc='red')\n",
    "sns.despine()\n",
    "plt.ylabel('prop. explained variance')\n",
    "plt.xlabel('principal component number')\n",
    "plt.show()\n",
    "\n",
    "# piece together categorical vars + first two principal components (from numerical columns)\n",
    "pc_Xtrain = X_train.select_dtypes('uint8')\n",
    "pc_Xtrain['pc_1'] = pc_train[:,0]\n",
    "pc_Xtrain['pc_2'] = pc_train[:,1]\n",
    "\n",
    "pc_Xtest= X_test.select_dtypes('uint8')\n",
    "pc_Xtest['pc_1'] = pc_test[:,0]\n",
    "pc_Xtest['pc_2'] = pc_test[:,1]"
   ]
  },
  {
   "cell_type": "markdown",
   "id": "5027d333",
   "metadata": {},
   "source": [
    "Write function that takes model object, a list of hyperparameters to tune, and train/test data. Fit, predict, score and save the model object."
   ]
  },
  {
   "cell_type": "code",
   "execution_count": 6,
   "id": "4bdb2096",
   "metadata": {},
   "outputs": [],
   "source": [
    "def runModelandEvaluate(mdl,params,X_train,y_train,X_test,y_test):\n",
    "    start_time = datetime.now()\n",
    "    \n",
    "    if mdl.__class__.__name__ == 'LogisticRegression':\n",
    "        mdl_fname = os.path.join(modeldir,mdl.__class__.__name__ + '_' + mdl.solver)\n",
    "    elif mdl.__class__.__name__ == 'DummyClassifier':\n",
    "        mdl_fname = os.path.join(modeldir,mdl.__class__.__name__ + '_' + mdl.strategy)\n",
    "    else:\n",
    "        mdl_fname = os.path.join(modeldir,mdl.__class__.__name__)\n",
    "    \n",
    "    if os.path.exists(mdl_fname) == True:\n",
    "        # open model object if already fit:\n",
    "        mdl_cv = pd.read_pickle(mdl_fname)\n",
    "        y_pred = mdl_cv.predict(X_test)\n",
    "    else:\n",
    "        if mdl.__class__.__name__ == 'DummyClassifier':\n",
    "            mdl.fit(X_train,y_train)\n",
    "            with open(mdl_fname, \"wb\") as f:\n",
    "                pickle.dump(mdl, f)\n",
    "            y_pred = mdl.predict(X_test)\n",
    "        else:\n",
    "            # or fit model\n",
    "            mdl_cv  = GridSearchCV(mdl,params,cv=KFold(5),verbose=1,scoring='f1')\n",
    "            mdl_cv.fit(X_train,y_train)\n",
    "            with open(mdl_fname, \"wb\") as f:\n",
    "                pickle.dump(mdl_cv, f)\n",
    "            y_pred = mdl_cv.predict(X_test)\n",
    "\n",
    "    delta_time = datetime.now()-start_time\n",
    "    print(str(delta_time.seconds/60) + ' minutes')\n",
    "    \n",
    "    if mdl.__class__.__name__  == 'XGBClassifier':\n",
    "        # flip positive and negative class to match neg/positive class of other models/this will make\n",
    "        # comparing scores based on the positive class comparable\n",
    "        y_pred = np.where(y_pred == 0,2,1)\n",
    "        y_pred = np.where(y_pred==1,0,2)\n",
    "        y_pred = np.where(y_pred==2,1,0)\n",
    "        y_test = np.where(y_test== 0,2,1)\n",
    "        y_test = np.where(y_test==1,0,2)\n",
    "        y_test = np.where(y_test==2,1,0)\n",
    "        \n",
    "    mdlname = mdl.__class__.__name__ \n",
    "    disp = ConfusionMatrixDisplay.from_predictions(y_test,y_pred,normalize='true')    \n",
    "    ac = accuracy_score(y_test, y_pred)\n",
    "    f1 = f1_score(y_test,y_pred)\n",
    "    pr = precision_score(y_test,y_pred,zero_division=0)\n",
    "    re = recall_score(y_test,y_pred)\n",
    "    model_scores[mdlname] = [pr,f1,ac,re]"
   ]
  },
  {
   "cell_type": "markdown",
   "id": "f7217254",
   "metadata": {},
   "source": [
    "In this case, we want to peform binary classification. Our target variable is categorical (private health insurance or not), and our predictors are both numeric and categorical variables.\n",
    "\n",
    "First, we can fit a logistic regression model to the data, and see how well it can classify if someone has private health insurance. Since the data are strongly imbalanced, we can randomly under sample our majority sample (has private health insurance). For logistic regression, we also want to reduce dimensions where possible, so we can use the first two principal components of the numerical variables in place of all numeric variables. "
   ]
  },
  {
   "cell_type": "code",
   "execution_count": 7,
   "id": "5b0f56f7",
   "metadata": {},
   "outputs": [
    {
     "name": "stdout",
     "output_type": "stream",
     "text": [
      "0.0 minutes\n"
     ]
    },
    {
     "data": {
      "image/png": "[encoded data removed]",
      "text/plain": [
       "<Figure size 432x288 with 2 Axes>"
      ]
     },
     "metadata": {
      "needs_background": "light"
     },
     "output_type": "display_data"
    }
   ],
   "source": [
    "# logistic regression with random under-sampling\n",
    "from sklearn.linear_model import LogisticRegression\n",
    "from imblearn.under_sampling import RandomUnderSampler\n",
    "\n",
    "rus = RandomUnderSampler()\n",
    "\n",
    "X_train_rus,y_train_rus = rus.fit_resample(pc_Xtrain,y_train)\n",
    "\n",
    "Cs     = [0.01, 0.1, 1, 10, 100]\n",
    "params = {'C':Cs}\n",
    "mdl = LogisticRegression(solver='liblinear')\n",
    "\n",
    "runModelandEvaluate(mdl,params,X_train_rus,y_train_rus,pc_Xtest,y_test)"
   ]
  },
  {
   "cell_type": "markdown",
   "id": "e986a964",
   "metadata": {},
   "source": [
    "The second model we will fit for this binary classification problem is K-nearest neighbors. It makes sense again to use principal components to reduce dimensions, and to try to counteract the imbalanced data with random under sampling of the majority group."
   ]
  },
  {
   "cell_type": "code",
   "execution_count": 8,
   "id": "728d2e46",
   "metadata": {},
   "outputs": [
    {
     "name": "stdout",
     "output_type": "stream",
     "text": [
      "0.0 minutes\n"
     ]
    },
    {
     "data": {
      "image/png": "[encoded data removed]",
      "text/plain": [
       "<Figure size 432x288 with 2 Axes>"
      ]
     },
     "metadata": {
      "needs_background": "light"
     },
     "output_type": "display_data"
    }
   ],
   "source": [
    "# knn\n",
    "from sklearn.neighbors import KNeighborsClassifier\n",
    "\n",
    "rus = RandomUnderSampler()\n",
    "\n",
    "X_train_rus,y_train_rus = rus.fit_resample(pc_Xtrain,y_train)\n",
    "\n",
    "params = {'n_neighbors':[2,3,4,5,6,7,8,9,10],'weights':['uniform','distance']}\n",
    "\n",
    "mdl = KNeighborsClassifier()\n",
    "\n",
    "runModelandEvaluate(mdl,params,X_train_rus,y_train_rus,pc_Xtest,y_test)"
   ]
  },
  {
   "cell_type": "markdown",
   "id": "aae1b8c7",
   "metadata": {},
   "source": [
    "The third model we can fit for binary classification is a random forest model. In this case, we can use random under sampling again on the majority class to counteract the imbalanced data. For Random Forest models, we may want to use the numeric variables themselves instead of the top principal components from those variables because random forest models offer more interepratibility. If we use the PCs, we may lose useful information with respect to which features specifically are driving certain results."
   ]
  },
  {
   "cell_type": "code",
   "execution_count": 9,
   "id": "4b66eb3f",
   "metadata": {},
   "outputs": [
    {
     "name": "stdout",
     "output_type": "stream",
     "text": [
      "0.0 minutes\n"
     ]
    },
    {
     "data": {
      "image/png": "[encoded data removed]",
      "text/plain": [
       "<Figure size 432x288 with 2 Axes>"
      ]
     },
     "metadata": {
      "needs_background": "light"
     },
     "output_type": "display_data"
    }
   ],
   "source": [
    "# random forest with random under-sampling\n",
    "from sklearn.ensemble import RandomForestClassifier\n",
    "\n",
    "rus = RandomUnderSampler()\n",
    "\n",
    "X_train_rus,y_train_rus = rus.fit_resample(X_train,y_train)\n",
    "\n",
    "params = {'n_estimators':[100,500,1000,1500], \n",
    "         'max_depth':[5, 10, 30, 50, None],\n",
    "         'bootstrap':[True,False],\n",
    "         'min_samples_leaf': [1, 2, 4],\n",
    "         'min_samples_split': [2, 5, 10],\n",
    "         'max_features': ['auto', 'sqrt']}\n",
    "\n",
    "mdl = RandomForestClassifier()\n",
    "\n",
    "runModelandEvaluate(mdl,params,X_train_rus,y_train_rus,X_test,y_test)"
   ]
  },
  {
   "cell_type": "markdown",
   "id": "c9772336",
   "metadata": {},
   "source": [
    "The fourth model we will fit for this classification is an (extreme) gradient boosting model, with xgboost. This model is based on tree models, so again we can use the numeric variables themselves for interpretability. We also do not need to do random undersampling this time. Instead, we can tune a hyper-parameter (scale_pos_weight) that will 'weigh' the error term of the minority class more greatly so that these under-represented points are appropriately accounted for. "
   ]
  },
  {
   "cell_type": "code",
   "execution_count": 10,
   "id": "331315cc",
   "metadata": {},
   "outputs": [
    {
     "name": "stdout",
     "output_type": "stream",
     "text": [
      "0.0 minutes\n"
     ]
    },
    {
     "data": {
      "image/png": "[encoded data removed]",
      "text/plain": [
       "<Figure size 432x288 with 2 Axes>"
      ]
     },
     "metadata": {
      "needs_background": "light"
     },
     "output_type": "display_data"
    }
   ],
   "source": [
    "import xgboost as xgb\n",
    "\n",
    "# for xgboost let's flip the values for the target variable (0-no private insurance: 1, 1-private insurance: 0)--so that the \n",
    "# majority class is set to 0 (the positive weight parameter will apply to the minority class--no private insurance)\n",
    "\n",
    "y_train_xgb = y_train.replace({0:2,1:0,2:1})\n",
    "y_test_xgb = y_test.replace({0:2,1:0,2:1})\n",
    "\n",
    "# rule of thumb for scaling the minority class: \n",
    "guess_weight = round(sum(y_train_xgb == 0)/sum(y_train_xgb==1),0)\n",
    "\n",
    "mdl = xgb.XGBClassifier(objective='binary:logistic')\n",
    "\n",
    "params = {\"learning_rate\": [0.4, 0.2, 0.1],\n",
    "              \"subsample\":[0.8,1.0],\n",
    "    \"scale_pos_weight\": [guess_weight-1,guess_weight,guess_weight+1],\n",
    "    \"colsample_bytree\":[0.7,1.0],\n",
    "    'max_depth':[5, 10, 30, None],\n",
    "}\n",
    "\n",
    "runModelandEvaluate(mdl,params,X_train,y_train_xgb,X_test,y_test_xgb)"
   ]
  },
  {
   "cell_type": "markdown",
   "id": "732d4570",
   "metadata": {},
   "source": [
    "The fifth model we will fit for this binary classification is a support vector machine (SVM) model. Similar to KNN and logistic regression, we want to both reduce dimensions (use the PCs for numeric variables) and randomly under sample the majority class to counteract the imbalanced data."
   ]
  },
  {
   "cell_type": "code",
   "execution_count": 11,
   "id": "1f4c33c2",
   "metadata": {},
   "outputs": [
    {
     "name": "stdout",
     "output_type": "stream",
     "text": [
      "0.0 minutes\n"
     ]
    },
    {
     "data": {
      "image/png": "[encoded data removed]",
      "text/plain": [
       "<Figure size 432x288 with 2 Axes>"
      ]
     },
     "metadata": {
      "needs_background": "light"
     },
     "output_type": "display_data"
    }
   ],
   "source": [
    "# svm\n",
    "from sklearn.svm import SVC\n",
    "\n",
    "rus = RandomUnderSampler()\n",
    "\n",
    "X_train_rus,y_train_rus = rus.fit_resample(pc_Xtrain,y_train)\n",
    "\n",
    "params = {'C': [0.1, 1, 10, 100],\n",
    "        'gamma': [0.1,1,10, 100],\n",
    "        'kernel': ['linear','rbf']}\n",
    " \n",
    "mdl = SVC()\n",
    "\n",
    "runModelandEvaluate(mdl,params,X_train_rus,y_train_rus,pc_Xtest,y_test)"
   ]
  },
  {
   "cell_type": "markdown",
   "id": "b1c34881",
   "metadata": {},
   "source": [
    "Lastly, we'll run a dummy classifier. This model fit will serve us in evaluating the performance of the models above. How much better do our models perform over a classifer that does not take into account the training data?"
   ]
  },
  {
   "cell_type": "code",
   "execution_count": 12,
   "id": "a258be90",
   "metadata": {},
   "outputs": [
    {
     "name": "stdout",
     "output_type": "stream",
     "text": [
      "0.0 minutes\n"
     ]
    },
    {
     "data": {
      "image/png": "[encoded data removed]",
      "text/plain": [
       "<Figure size 432x288 with 2 Axes>"
      ]
     },
     "metadata": {
      "needs_background": "light"
     },
     "output_type": "display_data"
    }
   ],
   "source": [
    "from sklearn.dummy import DummyClassifier\n",
    "\n",
    "mdl = DummyClassifier(strategy=\"stratified\")\n",
    "\n",
    "runModelandEvaluate(mdl,[],X_train,y_train,pc_Xtest,y_test)"
   ]
  },
  {
   "cell_type": "code",
   "execution_count": 13,
   "id": "f4f7d8c7",
   "metadata": {},
   "outputs": [
    {
     "data": {
      "image/png": "[encoded data removed]",
      "text/plain": [
       "<Figure size 576x360 with 1 Axes>"
      ]
     },
     "metadata": {
      "needs_background": "light"
     },
     "output_type": "display_data"
    },
    {
     "data": {
      "text/html": [
       "<div>\n",
       "<style scoped>\n",
       "    .dataframe tbody tr th:only-of-type {\n",
       "        vertical-align: middle;\n",
       "    }\n",
       "\n",
       "    .dataframe tbody tr th {\n",
       "        vertical-align: top;\n",
       "    }\n",
       "\n",
       "    .dataframe thead th {\n",
       "        text-align: right;\n",
       "    }\n",
       "</style>\n",
       "<table border=\"1\" class=\"dataframe\">\n",
       "  <thead>\n",
       "    <tr style=\"text-align: right;\">\n",
       "      <th></th>\n",
       "      <th>precision</th>\n",
       "      <th>f1</th>\n",
       "      <th>accuracy</th>\n",
       "      <th>recall</th>\n",
       "    </tr>\n",
       "  </thead>\n",
       "  <tbody>\n",
       "    <tr>\n",
       "      <th>XGBClassifier</th>\n",
       "      <td>0.869048</td>\n",
       "      <td>0.800598</td>\n",
       "      <td>0.738562</td>\n",
       "      <td>0.742144</td>\n",
       "    </tr>\n",
       "    <tr>\n",
       "      <th>RandomForestClassifier</th>\n",
       "      <td>0.864792</td>\n",
       "      <td>0.796910</td>\n",
       "      <td>0.733660</td>\n",
       "      <td>0.738909</td>\n",
       "    </tr>\n",
       "    <tr>\n",
       "      <th>LogisticRegression</th>\n",
       "      <td>0.854970</td>\n",
       "      <td>0.786017</td>\n",
       "      <td>0.719935</td>\n",
       "      <td>0.727357</td>\n",
       "    </tr>\n",
       "    <tr>\n",
       "      <th>SVC</th>\n",
       "      <td>0.851533</td>\n",
       "      <td>0.786975</td>\n",
       "      <td>0.719935</td>\n",
       "      <td>0.731516</td>\n",
       "    </tr>\n",
       "    <tr>\n",
       "      <th>KNeighborsClassifier</th>\n",
       "      <td>0.817837</td>\n",
       "      <td>0.807116</td>\n",
       "      <td>0.730719</td>\n",
       "      <td>0.796673</td>\n",
       "    </tr>\n",
       "    <tr>\n",
       "      <th>DummyClassifier</th>\n",
       "      <td>0.708760</td>\n",
       "      <td>0.705800</td>\n",
       "      <td>0.585621</td>\n",
       "      <td>0.702865</td>\n",
       "    </tr>\n",
       "  </tbody>\n",
       "</table>\n",
       "</div>"
      ],
      "text/plain": [
       "                        precision        f1  accuracy    recall\n",
       "XGBClassifier            0.869048  0.800598  0.738562  0.742144\n",
       "RandomForestClassifier   0.864792  0.796910  0.733660  0.738909\n",
       "LogisticRegression       0.854970  0.786017  0.719935  0.727357\n",
       "SVC                      0.851533  0.786975  0.719935  0.731516\n",
       "KNeighborsClassifier     0.817837  0.807116  0.730719  0.796673\n",
       "DummyClassifier          0.708760  0.705800  0.585621  0.702865"
      ]
     },
     "execution_count": 13,
     "metadata": {},
     "output_type": "execute_result"
    }
   ],
   "source": [
    "scores = pd.DataFrame(model_scores).T\n",
    "new_names = ['precision','f1','accuracy','recall']\n",
    "cnt = 0\n",
    "for i in new_names:\n",
    "    scores.rename(columns={cnt:i},inplace=True)\n",
    "    cnt += 1\n",
    "ax = scores.T.plot(kind='bar',figsize=(8,5),fontsize=20)\n",
    "sns.despine()\n",
    "plt.ylabel('score',fontsize=20)\n",
    "\n",
    "ax.legend(loc='lower left', bbox_to_anchor= (0.0, 1.01), ncol=2,\n",
    "            borderaxespad=0, frameon=False)\n",
    "plt.show()\n",
    "\n",
    "figname = os.path.join(figdir,'modelscores_bar.png')\n",
    "fig = ax.get_figure()\n",
    "fig.savefig(figname,dpi=1200,orientation='portrait', transparent=True,bbox_inches='tight')\n",
    "\n",
    "scores.sort_values('precision',ascending=False)"
   ]
  },
  {
   "cell_type": "markdown",
   "id": "9926c004",
   "metadata": {},
   "source": [
    "precision, tp/ (tp + fp): ability of classifier to identify true positives and keep out true negatives from pos class\n",
    "recall, tp / (tp + fn): ability of classifier to find the positives\n",
    "f1: mean of precision and recall, weigh keeping out true negs from positive class and finding positives equally\n",
    "\n",
    "In this case, if we want to make sure that we do not miss an individual with private health insurance and we are okay with sometimes advertising to people who do not have private health insurance, we would want to priortize the recall score, find all the positives we can.\n",
    "\n",
    "If we really did not want to advertise to anyone who does not already have private health insurance, we would want to priotize the precision score. \n",
    "\n",
    "If we want something in the middle, we can use the f1 score, which takes into account both of these goals. \n",
    "\n",
    "The extreme gradient boosting model is the best of those we tested if we want something in the middle (if we don't want to miss those with private insurance and we want to keep out those who do not have insurance), based on the f1 score. This model would also be good to use if we want to not advertise to those who do not have private health insurance (based on the precision score, though the Random Forest model performed equally well). \n",
    "\n",
    "If we wanted to make sure we didn't miss anyone with private health insurance already, we may want to use the KNN model because it outperformed the other models in terms of recall scores.\n",
    "\n",
    "Note all models tested outperformed the best dummy classifiers.\n",
    "\n",
    "In this case, the extreme gradient boosting model is our best bet. "
   ]
  }
 ],
 "metadata": {
  "kernelspec": {
   "display_name": "Python 3 (ipykernel)",
   "language": "python",
   "name": "python3"
  },
  "language_info": {
   "codemirror_mode": {
    "name": "ipython",
    "version": 3
   },
   "file_extension": ".py",
   "mimetype": "text/x-python",
   "name": "python",
   "nbconvert_exporter": "python",
   "pygments_lexer": "ipython3",
   "version": "3.9.12"
  }
 },
 "nbformat": 4,
 "nbformat_minor": 5
}
