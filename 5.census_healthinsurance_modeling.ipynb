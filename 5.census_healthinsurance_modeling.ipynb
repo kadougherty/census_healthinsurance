{
 "cells": [
  {
   "cell_type": "markdown",
   "id": "1091f69f",
   "metadata": {},
   "source": [
    "# predicting health coverage in the US"
   ]
  },
  {
   "cell_type": "markdown",
   "id": "9199b793",
   "metadata": {},
   "source": [
    "This project will call data from the American Community Survey Public Use MicroSample(PUMS) API. The most recent survey publicly availble at this API is from 2019. (Note data from 2020 are available to download in csv files).\n",
    "\n",
    "This project uses the Census Bureau Data API but is not endorsed or certified by the Census Bureau.\n",
    "\n",
    "1. American Community Survey (ACS) (census.gov).\n",
    "https://www.census.gov/programs-surveys/acs/\n",
    "2. American Community Survey Data via API (census.gov).\n",
    "https://www.census.gov/programs-surveys/acs/data/data-via-api.html\n",
    "\n",
    "The goal of this project is to predict whether an individual has private health insurance (or not) based on demographic data in the PUMS. "
   ]
  },
  {
   "cell_type": "code",
   "execution_count": 1,
   "id": "4f0b4228",
   "metadata": {},
   "outputs": [],
   "source": [
    "# import libraries\n",
    "import os\n",
    "import pandas as pd\n",
    "import numpy as np\n",
    "import utils\n",
    "from datetime import datetime,timedelta\n",
    "import seaborn as sns\n",
    "import matplotlib.pyplot as plt\n",
    "\n",
    "import pickle\n",
    "import imblearn\n",
    "from sklearn.model_selection import GridSearchCV, KFold\n",
    "from sklearn.metrics import accuracy_score,f1_score,precision_score,recall_score,confusion_matrix,ConfusionMatrixDisplay"
   ]
  },
  {
   "cell_type": "markdown",
   "id": "8af09f89",
   "metadata": {},
   "source": [
    "To predict which kind of insurance (if any) an individual has based on other attributes available in the census record, we can use supervised learning algorithms. Below we will try and compare logistic regression, a random forest model, and gradient boosting (xgboost)."
   ]
  },
  {
   "cell_type": "code",
   "execution_count": 2,
   "id": "ad164f99",
   "metadata": {},
   "outputs": [],
   "source": [
    "# load pre-processed/scaled training data:\n",
    "X_train  = pd.read_pickle('X_scaled_train.pkl')\n",
    "y_train  = pd.read_pickle('y_train.pkl')\n",
    "\n",
    "X_test  = pd.read_pickle('X_scaled_test.pkl')\n",
    "y_test  = pd.read_pickle('y_test.pkl')\n",
    "model_scores = {}"
   ]
  },
  {
   "cell_type": "code",
   "execution_count": 3,
   "id": "1764ac5a",
   "metadata": {},
   "outputs": [],
   "source": [
    "# name target variable\n",
    "_,_,_,nsamples = utils.getVars()\n",
    "datadir  = os.path.join(os.getcwd(),\"small_data\")\n",
    "\n",
    "fname = os.path.join(datadir,str(nsamples) + 'targets_oi.csv')\n",
    "targ_oi  = pd.read_csv(fname)\n",
    "targname = targ_oi['healthcodes'][1]\n",
    "\n",
    "details = utils.variableDetails(targname)\n",
    "targlabels = details['values']['item'].values()"
   ]
  },
  {
   "cell_type": "markdown",
   "id": "39c9a0de",
   "metadata": {},
   "source": [
    "Using PCA below to reduce dimensions for numeric variables"
   ]
  },
  {
   "cell_type": "code",
   "execution_count": 4,
   "id": "d5f861e8",
   "metadata": {},
   "outputs": [
    {
     "data": {
      "image/png": "[encoded data removed]",
      "text/plain": [
       "<Figure size 432x288 with 1 Axes>"
      ]
     },
     "metadata": {
      "needs_background": "light"
     },
     "output_type": "display_data"
    }
   ],
   "source": [
    "from sklearn.decomposition import PCA\n",
    "\n",
    "num_train = X_train.select_dtypes('float')\n",
    "num_test  = X_test.select_dtypes('float')\n",
    "\n",
    "pc   = PCA().fit(num_train)\n",
    "\n",
    "pc_train = pc.transform(num_train)\n",
    "pc_test  = pc.transform(num_test)\n",
    "\n",
    "\n",
    "plt.plot(pc.explained_variance_ratio_,marker='D',mfc='red')\n",
    "sns.despine()\n",
    "plt.ylabel('prop. explained variance')\n",
    "plt.xlabel('principal component number')\n",
    "plt.show()\n",
    "\n",
    "# piece together categorical vars + first two principal components (from numerical columns)\n",
    "pc_Xtrain = X_train.select_dtypes('uint8')\n",
    "pc_Xtrain['pc_1'] = pc_train[:,0]\n",
    "pc_Xtrain['pc_2'] = pc_train[:,1]\n",
    "\n",
    "pc_Xtest= X_test.select_dtypes('uint8')\n",
    "pc_Xtest['pc_1'] = pc_test[:,0]\n",
    "pc_Xtest['pc_2'] = pc_test[:,1]"
   ]
  },
  {
   "cell_type": "markdown",
   "id": "069be452",
   "metadata": {},
   "source": [
    "Write function that takes model object, a list of hyperparameters to tune, and train/test data. Fit, predict, score and save the model object."
   ]
  },
  {
   "cell_type": "code",
   "execution_count": 5,
   "id": "4bdb2096",
   "metadata": {},
   "outputs": [],
   "source": [
    "def runModelandEvaluate(mdl,params,X_train,y_train,X_test,y_test):\n",
    "    start_time = datetime.now()\n",
    "    \n",
    "    if mdl.__class__.__name__ == 'LogisticRegression':\n",
    "        mdl_fname = mdl.__class__.__name__ + '_' + mdl.solver\n",
    "    else:\n",
    "        mdl_fname = mdl.__class__.__name__ \n",
    "    \n",
    "    if os.path.exists(mdl_fname) == True:\n",
    "        # open model object if already fit:\n",
    "        mdl_cv = pd.read_pickle(mdl_fname)\n",
    "    else:\n",
    "        # or fit model\n",
    "        mdl_cv  = GridSearchCV(mdl,params,cv=KFold(5),verbose=1,scoring='f1')\n",
    "        mdl_cv.fit(X_train,y_train)\n",
    "        with open(mdl_fname, \"wb\") as f:\n",
    "            pickle.dump(mdl_cv, f)\n",
    "    \n",
    "    y_pred = mdl_cv.predict(X_test)\n",
    "\n",
    "    delta_time = datetime.now()-start_time\n",
    "    print(str(delta_time.seconds/60) + ' minutes')\n",
    "    \n",
    "    ac = accuracy_score(y_test, y_pred)\n",
    "    disp = ConfusionMatrixDisplay.from_predictions(y_test,y_pred,normalize='true')\n",
    "\n",
    "    ac = accuracy_score(y_test, y_pred)\n",
    "    f1 = f1_score(y_test,y_pred)\n",
    "    pr = precision_score(y_test,y_pred)\n",
    "    re = recall_score(y_test,y_pred)\n",
    "    model_scores[mdl.__class__.__name__] = [ac,f1,pr,re]"
   ]
  },
  {
   "cell_type": "code",
   "execution_count": null,
   "id": "6e9160c6",
   "metadata": {},
   "outputs": [],
   "source": [
    "mdl"
   ]
  },
  {
   "cell_type": "markdown",
   "id": "084f8f2b",
   "metadata": {},
   "source": [
    "In this case, we want to peform binary classification. Our target variable is categorical (private health insurance or not), and our predictors are both numeric and categorical variables.\n",
    "\n",
    "First, we can fit a logistic regression model to the data, and see how well it can classify if someone has private health insurance. Since the data are strongly imbalanced, we can randomly under sample our majority sample (has private health insurance). For logistic regression, we also want to reduce dimensions where possible, so we can use the first two principal components of the numerical variables in place of all numeric variables. "
   ]
  },
  {
   "cell_type": "code",
   "execution_count": 6,
   "id": "5b0f56f7",
   "metadata": {},
   "outputs": [
    {
     "name": "stdout",
     "output_type": "stream",
     "text": [
      "Fitting 5 folds for each of 5 candidates, totalling 25 fits\n",
      "0.05 minutes\n"
     ]
    },
    {
     "data": {
      "image/png": "[encoded data removed]",
      "text/plain": [
       "<Figure size 432x288 with 2 Axes>"
      ]
     },
     "metadata": {
      "needs_background": "light"
     },
     "output_type": "display_data"
    }
   ],
   "source": [
    "# logistic regression with random under-sampling\n",
    "from sklearn.linear_model import LogisticRegression\n",
    "from imblearn.under_sampling import RandomUnderSampler\n",
    "\n",
    "rus = RandomUnderSampler()\n",
    "\n",
    "X_train_rus,y_train_rus = rus.fit_resample(pc_Xtrain,y_train)\n",
    "\n",
    "Cs     = [0.01, 0.1, 1, 10, 100]\n",
    "params = {'C':Cs}\n",
    "mdl = LogisticRegression(solver='liblinear')\n",
    "\n",
    "runModelandEvaluate(mdl,params,X_train_rus,y_train_rus,pc_Xtest,y_test)"
   ]
  },
  {
   "cell_type": "markdown",
   "id": "f0c551ef",
   "metadata": {},
   "source": [
    "The second model we will fit for this binary classification problem is K-nearest neighbors. It makes sense again to use principal components to reduce dimensions, and to try to counteract the imbalanced data with random under sampling of the majority group."
   ]
  },
  {
   "cell_type": "code",
   "execution_count": 9,
   "id": "ba7611bd",
   "metadata": {},
   "outputs": [
    {
     "name": "stdout",
     "output_type": "stream",
     "text": [
      "Fitting 5 folds for each of 18 candidates, totalling 90 fits\n",
      "0.13333333333333333 minutes\n"
     ]
    },
    {
     "data": {
      "image/png": "[encoded data removed]",
      "text/plain": [
       "<Figure size 432x288 with 2 Axes>"
      ]
     },
     "metadata": {
      "needs_background": "light"
     },
     "output_type": "display_data"
    }
   ],
   "source": [
    "# knn\n",
    "from sklearn.neighbors import KNeighborsClassifier\n",
    "\n",
    "rus = RandomUnderSampler()\n",
    "\n",
    "X_train_rus,y_train_rus = rus.fit_resample(pc_Xtrain,y_train)\n",
    "\n",
    "params = {'n_neighbors':[2,3,4,5,6,7,8,9,10],'weights':['uniform','distance']}\n",
    "\n",
    "mdl = KNeighborsClassifier()\n",
    "\n",
    "runModelandEvaluate(mdl,params,X_train_rus,y_train_rus,pc_Xtest,y_test)"
   ]
  },
  {
   "cell_type": "markdown",
   "id": "f66066c7",
   "metadata": {},
   "source": [
    "The third model we can fit for binary classification is a random forest model. In this case, we can use random under sampling again on the majority class to counteract the imbalanced data. For Random Forest models, we may want to use the numeric variables themselves instead of the top principal components from those variables because random forest models offer more interepratibility. If we use the PCs, we may lose useful information with respect to which features specifically are driving certain results."
   ]
  },
  {
   "cell_type": "code",
   "execution_count": 10,
   "id": "4b66eb3f",
   "metadata": {},
   "outputs": [
    {
     "name": "stdout",
     "output_type": "stream",
     "text": [
      "Fitting 5 folds for each of 720 candidates, totalling 3600 fits\n",
      "394.25 minutes\n"
     ]
    },
    {
     "data": {
      "image/png": "[encoded data removed]",
      "text/plain": [
       "<Figure size 432x288 with 2 Axes>"
      ]
     },
     "metadata": {
      "needs_background": "light"
     },
     "output_type": "display_data"
    }
   ],
   "source": [
    "# random forest with random under-sampling\n",
    "from sklearn.ensemble import RandomForestClassifier\n",
    "\n",
    "rus = RandomUnderSampler()\n",
    "\n",
    "X_train_rus,y_train_rus = rus.fit_resample(X_train,y_train)\n",
    "\n",
    "params = {'n_estimators':[100,500,1000,1500], \n",
    "         'max_depth':[5, 10, 30, 50, None],\n",
    "         'bootstrap':[True,False],\n",
    "         'min_samples_leaf': [1, 2, 4],\n",
    "         'min_samples_split': [2, 5, 10],\n",
    "         'max_features': ['auto', 'sqrt']}\n",
    "\n",
    "mdl = RandomForestClassifier()\n",
    "\n",
    "runModelandEvaluate(mdl,params,X_train_rus,y_train_rus,X_test,y_test)"
   ]
  },
  {
   "cell_type": "markdown",
   "id": "b37acec3",
   "metadata": {},
   "source": [
    "The fourth model we will fit for this classification is an (extreme) gradient boosting model, with xgboost. In this case, we do not "
   ]
  },
  {
   "cell_type": "code",
   "execution_count": 12,
   "id": "331315cc",
   "metadata": {},
   "outputs": [
    {
     "name": "stdout",
     "output_type": "stream",
     "text": [
      "Fitting 5 folds for each of 144 candidates, totalling 720 fits\n",
      "76.55 minutes\n"
     ]
    },
    {
     "data": {
      "image/png": "[encoded data removed]",
      "text/plain": [
       "<Figure size 432x288 with 2 Axes>"
      ]
     },
     "metadata": {
      "needs_background": "light"
     },
     "output_type": "display_data"
    }
   ],
   "source": [
    "import xgboost as xgb\n",
    "\n",
    "# for xgboost let's flip the values for the target variable (0-no private insurance: 1, 1-private insurance: 0)--so that the \n",
    "# majority class is set to 0 (the positive weight parameter will apply to the minority class--no private insurance)\n",
    "\n",
    "y_train_xgb = y_train.replace({0:2,1:0,2:1})\n",
    "y_test_xgb = y_test.replace({0:2,1:0,2:1})\n",
    "\n",
    "# rule of thumb for scaling the minority class: \n",
    "guess_weight = round(sum(y_train_xgb == 0)/sum(y_train_xgb==1),0)\n",
    "\n",
    "mdl = xgb.XGBClassifier(objective='binary:logistic')\n",
    "\n",
    "params = {\"learning_rate\": [0.4, 0.2, 0.1],\n",
    "              \"subsample\":[0.8,1.0],\n",
    "    \"scale_pos_weight\": [guess_weight-1,guess_weight,guess_weight+1],\n",
    "    \"colsample_bytree\":[0.7,1.0],\n",
    "    'max_depth':[5, 10, 30, None],\n",
    "}\n",
    "\n",
    "runModelandEvaluate(mdl,params,X_train,y_train_xgb,X_test,y_test_xgb)"
   ]
  },
  {
   "cell_type": "code",
   "execution_count": 15,
   "id": "35fa6eba",
   "metadata": {},
   "outputs": [
    {
     "name": "stdout",
     "output_type": "stream",
     "text": [
      "Fitting 5 folds for each of 32 candidates, totalling 160 fits\n",
      "141.51666666666668 minutes\n"
     ]
    },
    {
     "data": {
      "image/png": "[encoded data removed]",
      "text/plain": [
       "<Figure size 432x288 with 2 Axes>"
      ]
     },
     "metadata": {
      "needs_background": "light"
     },
     "output_type": "display_data"
    }
   ],
   "source": [
    "# svm\n",
    "from sklearn.svm import SVC\n",
    "\n",
    "rus = RandomUnderSampler()\n",
    "\n",
    "X_train_rus,y_train_rus = rus.fit_resample(pc_Xtrain,y_train)\n",
    "\n",
    "#params = {'n_neighbors':,'weights',}\n",
    "\n",
    "params = {'C': [0.1, 1, 10, 100],\n",
    "        'gamma': [0.1,1,10, 100],\n",
    "        'kernel': ['linear','rbf']}\n",
    " \n",
    "mdl = SVC()\n",
    "\n",
    "runModelandEvaluate(mdl,params,X_train_rus,y_train_rus,pc_Xtest,y_test)"
   ]
  },
  {
   "cell_type": "code",
   "execution_count": null,
   "id": "a258be90",
   "metadata": {},
   "outputs": [
    {
     "name": "stdout",
     "output_type": "stream",
     "text": [
      "Fitting 5 folds for each of 32 candidates, totalling 160 fits\n"
     ]
    }
   ],
   "source": [
    "from sklearn.dummy import DummyClassifier\n",
    "\n",
    "rus = RandomUnderSampler()\n",
    "\n",
    "X_train_rus,y_train_rus = rus.fit_resample(pc_Xtrain,y_train)\n",
    "\n",
    "dummy_clf = DummyClassifier(strategy=\"most_frequent\")\n",
    "runModelandEvaluate(mdl,params,X_train_rus,y_train_rus,pc_Xtest,y_test)"
   ]
  },
  {
   "cell_type": "code",
   "execution_count": null,
   "id": "fb348382",
   "metadata": {},
   "outputs": [],
   "source": [
    "scores = pd.DataFrame(model_scores).T\n",
    "new_names = ['accuracy','f1','precision','recall']\n",
    "cnt = 0\n",
    "for i in new_names:\n",
    "    scores.rename(columns={cnt:i},inplace=True)\n",
    "    cnt += 1\n",
    "scores.bar()"
   ]
  }
 ],
 "metadata": {
  "kernelspec": {
   "display_name": "Python 3 (ipykernel)",
   "language": "python",
   "name": "python3"
  },
  "language_info": {
   "codemirror_mode": {
    "name": "ipython",
    "version": 3
   },
   "file_extension": ".py",
   "mimetype": "text/x-python",
   "name": "python",
   "nbconvert_exporter": "python",
   "pygments_lexer": "ipython3",
   "version": "3.9.12"
  }
 },
 "nbformat": 4,
 "nbformat_minor": 5
}
