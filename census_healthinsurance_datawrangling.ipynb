{
 "cells": [
  {
   "cell_type": "markdown",
   "id": "5c9f8b5e",
   "metadata": {},
   "source": [
    "## predicting the health uninsured in the US"
   ]
  },
  {
   "cell_type": "markdown",
   "id": "1cd32d19",
   "metadata": {},
   "source": [
    "This project will call data from the American Community Survey Public Use MicroSample(PUMS) API. The most recent survey publicly availble at this API is from 2019. (Note data from 2020 are available to download in csv files).\n",
    "\n",
    "This project uses the Census Bureau Data API but is not endorsed or certified by the Census Bureau.\n",
    "\n",
    "1. American Community Survey (ACS) (census.gov).\n",
    "https://www.census.gov/programs-surveys/acs/\n",
    "2. American Community Survey Data via API (census.gov).\n",
    "https://www.census.gov/programs-surveys/acs/data/data-via-api.html\n",
    "\n",
    "The goal of this project is to predict whether an individual has health insurance (or not) based on demographic data in the PUMS. "
   ]
  },
  {
   "cell_type": "code",
   "execution_count": 1,
   "id": "43aba595",
   "metadata": {},
   "outputs": [],
   "source": [
    "# import libraries\n",
    "import os\n",
    "import glob\n",
    "import pandas as pd\n",
    "import requests\n",
    "import time\n",
    "import matplotlib.pyplot as plt\n",
    "import seaborn as sns\n",
    "from dotenv import load_dotenv"
   ]
  },
  {
   "cell_type": "markdown",
   "id": "4afcc313",
   "metadata": {},
   "source": [
    "There are hundreds of variables in the PUMS dataset. Load in the variable names (code) and their descriptions (label) from the API."
   ]
  },
  {
   "cell_type": "code",
   "execution_count": 2,
   "id": "bbb68293",
   "metadata": {},
   "outputs": [],
   "source": [
    "# load variable names from census PUMS (public use microsample) API\n",
    "load_dotenv()\n",
    "API_KEY  = os.getenv('CENSUS_API_KEY')\n",
    "host     = 'https://api.census.gov/data'\n",
    "year     = 2019\n",
    "dataset  = 'acs/acs1/pums/variables'\n",
    "base_url = \"/\".join([host, str(year), dataset]) \n",
    "r        = requests.get(base_url)\n",
    "rlists   = r.json()\n",
    "code     = [item[0] for item in rlists if item[0].isupper()] #code in API\n",
    "label    = [item[1].lower() for item in rlists if item[0].isupper()] # description for each code\n",
    "nsamples = 500\n",
    "\n",
    "codedict = {} # redudant with code, label but may make life easier later on\n",
    "count    = 0\n",
    "for lab in label:\n",
    "    codedict[code[count]] = lab\n",
    "    count += 1"
   ]
  },
  {
   "cell_type": "code",
   "execution_count": 3,
   "id": "79e8a560",
   "metadata": {},
   "outputs": [
    {
     "name": "stdout",
     "output_type": "stream",
     "text": [
      "    BST STATE\n",
      "47   53    WA\n",
      "48   54    WV\n",
      "49   55    WI\n",
      "50   56    WY\n",
      "51   72    PR\n",
      "    BST STATE\n",
      "46   51    VA\n",
      "47   53    WA\n",
      "48   54    WV\n",
      "49   55    WI\n",
      "50   56    WY\n"
     ]
    }
   ],
   "source": [
    "# this link leads to info on the codes for each state + DC which we need for our api calls\n",
    "stateinfo = pd.read_csv('https://www2.census.gov/programs-surveys/acs/tech_docs/pums/top_coded_values/2019_pums_top_and_bottom_coded_values.csv')\n",
    "stateinfo = stateinfo.loc[:, stateinfo.columns.isin(['BST','STATE'])]\n",
    "print(stateinfo.tail())\n",
    "# Drop Puerto Rico for simplicity\n",
    "stateinfo = stateinfo[stateinfo.STATE != 'PR']\n",
    "print(stateinfo.tail())"
   ]
  },
  {
   "cell_type": "markdown",
   "id": "5bf2cf3c",
   "metadata": {},
   "source": [
    "When calling the Census API, a maximum of 50 variables can be requested at one time. The data are also easily accessed state-by-state. The PUMS represents ~1% of the population. If we want to use data from all states, we could start by subsampling from availbable records. Set the number of samples (nsamples) in getCensusDataByState().\n",
    "\n",
    "One approach is to request data from a list of variables for a specific state in one call. The function callCensusAPI() below is meant to return a dataframe with variables in 'select_codes' from one state ('stateid'). A second function, getCensusDataByState() is meant to request data for all variables for one state in multiple calls and merge that data into one single dataframe for that state."
   ]
  },
  {
   "cell_type": "code",
   "execution_count": 4,
   "id": "ba650502",
   "metadata": {},
   "outputs": [],
   "source": [
    "# function to get data from Census API, Public Access MicroData Samples using list of codes (max 50), state id number \n",
    "def callCensusApi(API_KEY,year,select_codes,stateid):\n",
    "    host     = 'https://api.census.gov/data'\n",
    "    dataset  = 'acs/acs1/pums'\n",
    "    query    = '?get='\n",
    "    variable = ','.join(select_codes)\n",
    "    base_url = \"/\".join([host, str(year), dataset]) + query + variable + '&for=state:' + stateid + '&key=' + API_KEY\n",
    "    callbeg  = time.time()\n",
    "    r        = requests.get(base_url) \n",
    "    colnames = variable.split(',')\n",
    "    colnames.append('state')\n",
    "    df       = pd.DataFrame(columns=colnames, data=r.json()[1:]) \n",
    "    tElapsed = time.time()-callbeg\n",
    "    return (tElapsed,df)"
   ]
  },
  {
   "cell_type": "code",
   "execution_count": 5,
   "id": "cbfc0277",
   "metadata": {},
   "outputs": [],
   "source": [
    "# get full dataframe (all variables in code) for one state. uses callCensusAPI function above\n",
    "def getCensusDataByState(state_id):\n",
    "    max_var_call = 50\n",
    "    start_var_n  = 0\n",
    "    end_var_n = start_var_n + max_var_call\n",
    "    totalTime = 0\n",
    "    while end_var_n <= len(code): \n",
    "        tElapsed, hdf = callCensusApi(API_KEY,year,code[start_var_n:end_var_n],state_id)\n",
    "        if start_var_n == 0:\n",
    "            df = hdf.sample(nsamples)\n",
    "            rowid = df.index\n",
    "            df = df.reset_index()\n",
    "        else:\n",
    "            sub = hdf.iloc[rowid]\n",
    "            sub = sub.reset_index()\n",
    "            df = pd.merge(df,sub,how='left',on='index')\n",
    "            del sub\n",
    "        totalTime = totalTime + tElapsed\n",
    "        start_var_n = end_var_n + 1\n",
    "        end_var_n = start_var_n + max_var_call\n",
    "    if df.shape[1] < len(code):\n",
    "        tElapsed, hdf = callCensusApi(API_KEY,year,code[start_var_n:len(code)],state_id)\n",
    "        sub = hdf.iloc[rowid]\n",
    "        sub = sub.reset_index()\n",
    "        df  = pd.merge(df,sub,how='left',on='index')      \n",
    "        totalTime = totalTime + tElapsed\n",
    "        del hdf\n",
    "    return (df,totalTime)"
   ]
  },
  {
   "cell_type": "markdown",
   "id": "995f40c3",
   "metadata": {},
   "source": [
    "With the functions above, we can loop through our states of interest and save a dataframe for each if it does not exist locally yet."
   ]
  },
  {
   "cell_type": "code",
   "execution_count": 6,
   "id": "25b02dff",
   "metadata": {},
   "outputs": [
    {
     "name": "stdout",
     "output_type": "stream",
     "text": [
      "directory already exists\n"
     ]
    }
   ],
   "source": [
    "datadir = os.path.join(os.getcwd(),\"data\")\n",
    "try:\n",
    "    os.mkdir(datadir)\n",
    "except:\n",
    "    print('directory already exists')"
   ]
  },
  {
   "cell_type": "code",
   "execution_count": 7,
   "id": "8c8e53cc",
   "metadata": {},
   "outputs": [],
   "source": [
    "# call API for states in loop and save csv locally if it doesn't exist yet:\n",
    "for state in stateinfo['BST']:\n",
    "    state_id  =  f\"{state:02}\"\n",
    "    fname = os.path.join(datadir,'state' + state_id + '_subsample' + str(nsamples) + '.csv')\n",
    "    if os.path.exists(fname) == False:\n",
    "        df,totalTime = getCensusDataByState(state_id)\n",
    "        # save the data to a new csv file\n",
    "        df.to_csv(fname)\n",
    "        print('state' + state_id + ': ' + str(totalTime))\n",
    "        del df\n",
    "        del fname\n",
    "        del state_id"
   ]
  },
  {
   "cell_type": "code",
   "execution_count": 8,
   "id": "aae5be19",
   "metadata": {},
   "outputs": [],
   "source": [
    "# load saved csv files:\n",
    "filenames = glob.glob(os.path.join(datadir,'state' + '*' + str(nsamples) + '.csv'))\n",
    "data_all = pd.concat((pd.read_csv(file) for file in filenames)).reset_index(drop = True) # Import"
   ]
  },
  {
   "cell_type": "code",
   "execution_count": 9,
   "id": "ad63158f",
   "metadata": {},
   "outputs": [
    {
     "name": "stdout",
     "output_type": "stream",
     "text": [
      "shape of the subsampled dataframe: 25500 by 518\n",
      "   Unnamed: 0  index  HHLANP  FBATHP  DRIVESP  WGTP23  WGTP22  WGTP25  WGTP24  \\\n",
      "0           0  35900    9500       0        0     225      61     246      81   \n",
      "1           1  13014    9500       0        0      48      55      42      16   \n",
      "2           2  44316    9500       1        0      91     132      93     160   \n",
      "3           3  26573    9500       0        0      60      77      53      57   \n",
      "4           4  27452    9500       0        0      25      94     123      34   \n",
      "\n",
      "   RACNH  ...  FDOUTP  PERNP  SCH  state_y.4  TEL  TEN  MLPI  MLPJ  MLPK  \\\n",
      "0      0  ...       0  29200    1          1    1    3    -1    -1    -1   \n",
      "1      0  ...       0 -10001    2          1    1    1    -1    -1    -1   \n",
      "2      0  ...       0   2600    2          1    1    3    -1    -1    -1   \n",
      "3      0  ...       0      0    1          1    1    2    -1    -1    -1   \n",
      "4      0  ...       0 -10001    3          1    1    3     0     0     0   \n",
      "\n",
      "   state  \n",
      "0      1  \n",
      "1      1  \n",
      "2      1  \n",
      "3      1  \n",
      "4      1  \n",
      "\n",
      "[5 rows x 518 columns]\n"
     ]
    }
   ],
   "source": [
    "# check basic attributes of saved data:\n",
    "print('shape of the subsampled dataframe: ' + str(data_all.shape[0]) + ' by ' + str(data_all.shape[1]))\n",
    "print(data_all.head())"
   ]
  },
  {
   "cell_type": "code",
   "execution_count": 10,
   "id": "b2f7dcb5",
   "metadata": {},
   "outputs": [],
   "source": [
    "# call api for more details on a specific variable\n",
    "def variableDetails(codename):\n",
    "    base_url = \"/\".join([host, str(year), dataset, codename + '.json']) \n",
    "    r        = requests.get(base_url)\n",
    "    detail   = r.json()\n",
    "    return detail"
   ]
  },
  {
   "cell_type": "code",
   "execution_count": 11,
   "id": "1611b6c8",
   "metadata": {},
   "outputs": [
    {
     "name": "stdout",
     "output_type": "stream",
     "text": [
      "keeping Unnamed: 0\n",
      "keeping index\n",
      "keeping state_x\n",
      "keeping state_y\n",
      "keeping state\n",
      "(25500, 510)\n"
     ]
    }
   ],
   "source": [
    "# check for extra columns that may have appeared from the dataframe merger:\n",
    "for column in data_all:\n",
    "    if column not in codedict.keys():\n",
    "        if column.__contains__('.'):\n",
    "            data_all.drop(column,axis=1,inplace=True)\n",
    "        else:\n",
    "            print('keeping ' + column)\n",
    "\n",
    "print(data_all.shape)"
   ]
  },
  {
   "cell_type": "code",
   "execution_count": 12,
   "id": "a7730ac5",
   "metadata": {},
   "outputs": [],
   "source": [
    "# based on the way we merged state_x and state_y should be redundant\n",
    "if data_all['state_x'].equals(data_all['state_y']):\n",
    "    data_all.drop('state_y',inplace=True,axis=1)"
   ]
  },
  {
   "cell_type": "code",
   "execution_count": 13,
   "id": "f37cfc12",
   "metadata": {},
   "outputs": [],
   "source": [
    "# the state column should be incomplete based on the way we merged, drop if it has more missing values than 'state_x'\n",
    "if data_all['state'].isna().sum() > data_all['state_x'].isna().sum():\n",
    "    data_all.drop('state',axis=1,inplace=True)\n",
    "# drop Unnamed: 0 because it's not useful at this point (from old indices)\n",
    "data_all.drop('Unnamed: 0',axis=1,inplace=True)"
   ]
  },
  {
   "cell_type": "code",
   "execution_count": 14,
   "id": "6ef517c9",
   "metadata": {},
   "outputs": [],
   "source": [
    "# add state name from stateinfo to data_all for ease\n",
    "data_all = data_all.merge(stateinfo,left_on='state_x',right_on='BST')"
   ]
  },
  {
   "cell_type": "code",
   "execution_count": 15,
   "id": "f6bf2e9c",
   "metadata": {},
   "outputs": [],
   "source": [
    "if data_all['state'].equals(data_all['BST']):\n",
    "    data_all = data_all.drop('state',axis=1)"
   ]
  },
  {
   "cell_type": "code",
   "execution_count": 16,
   "id": "db5c37e9",
   "metadata": {},
   "outputs": [
    {
     "data": {
      "text/html": [
       "<div>\n",
       "<style scoped>\n",
       "    .dataframe tbody tr th:only-of-type {\n",
       "        vertical-align: middle;\n",
       "    }\n",
       "\n",
       "    .dataframe tbody tr th {\n",
       "        vertical-align: top;\n",
       "    }\n",
       "\n",
       "    .dataframe thead th {\n",
       "        text-align: right;\n",
       "    }\n",
       "</style>\n",
       "<table border=\"1\" class=\"dataframe\">\n",
       "  <thead>\n",
       "    <tr style=\"text-align: right;\">\n",
       "      <th></th>\n",
       "      <th>state_x</th>\n",
       "      <th>STATE</th>\n",
       "    </tr>\n",
       "  </thead>\n",
       "  <tbody>\n",
       "    <tr>\n",
       "      <th>0</th>\n",
       "      <td>1</td>\n",
       "      <td>AL</td>\n",
       "    </tr>\n",
       "    <tr>\n",
       "      <th>1</th>\n",
       "      <td>1</td>\n",
       "      <td>AL</td>\n",
       "    </tr>\n",
       "    <tr>\n",
       "      <th>2</th>\n",
       "      <td>1</td>\n",
       "      <td>AL</td>\n",
       "    </tr>\n",
       "    <tr>\n",
       "      <th>3</th>\n",
       "      <td>1</td>\n",
       "      <td>AL</td>\n",
       "    </tr>\n",
       "    <tr>\n",
       "      <th>4</th>\n",
       "      <td>1</td>\n",
       "      <td>AL</td>\n",
       "    </tr>\n",
       "  </tbody>\n",
       "</table>\n",
       "</div>"
      ],
      "text/plain": [
       "   state_x STATE\n",
       "0        1    AL\n",
       "1        1    AL\n",
       "2        1    AL\n",
       "3        1    AL\n",
       "4        1    AL"
      ]
     },
     "execution_count": 16,
     "metadata": {},
     "output_type": "execute_result"
    }
   ],
   "source": [
    "data_all[['state_x','STATE']].head()"
   ]
  },
  {
   "cell_type": "markdown",
   "id": "ccfdbde1",
   "metadata": {},
   "source": [
    "Looks like we can just drop 'state_x' actually because the abbreviation should be good enough for us. "
   ]
  },
  {
   "cell_type": "code",
   "execution_count": 17,
   "id": "5feb6e0c",
   "metadata": {},
   "outputs": [],
   "source": [
    "data_all.drop(['state_x','BST','ST'],axis=1,inplace=True)"
   ]
  },
  {
   "cell_type": "code",
   "execution_count": 18,
   "id": "362932c0",
   "metadata": {},
   "outputs": [
    {
     "name": "stdout",
     "output_type": "stream",
     "text": [
      "PRIVCOV : private health insurance coverage recode\n",
      "HICOV : health insurance coverage recode\n",
      "FHICOVP : health insurance coverage recode allocation flag\n",
      "FPRIVCOVP : private health insurance coverage recode allocation flag\n"
     ]
    }
   ],
   "source": [
    "# check for target variable (health insured or not):\n",
    "for key, value in codedict.items():\n",
    "    if value.__contains__('health insurance'):\n",
    "        print(key + \" : \" + value)"
   ]
  },
  {
   "cell_type": "markdown",
   "id": "4c4a3332",
   "metadata": {},
   "source": [
    "let's check details on health insurance coverage recode, and \"...allocation flag\""
   ]
  },
  {
   "cell_type": "code",
   "execution_count": 19,
   "id": "f9caa335",
   "metadata": {},
   "outputs": [
    {
     "name": "stdout",
     "output_type": "stream",
     "text": [
      "from HICOV : \n",
      "2 : No health insurance coverage\n",
      "1 : With health insurance coverage\n",
      "from FHICOVP : \n",
      "0 : No\n",
      "1 : Yes\n"
     ]
    }
   ],
   "source": [
    "codename = 'HICOV'\n",
    "details = variableDetails(codename)\n",
    "print('from ' + codename + ' : ')\n",
    "for key,value in details['values']['item'].items():\n",
    "    print(key, ':', value)\n",
    "\n",
    "codename = 'FHICOVP'\n",
    "print('from ' + codename + ' : ')\n",
    "details = variableDetails(codename)\n",
    "for key,value in details['values']['item'].items():\n",
    "    print(key, ':', value)"
   ]
  },
  {
   "cell_type": "code",
   "execution_count": 20,
   "id": "9016952a",
   "metadata": {
    "scrolled": true
   },
   "outputs": [
    {
     "name": "stdout",
     "output_type": "stream",
     "text": [
      "(25500, 506)\n",
      "(25500, 505)\n"
     ]
    }
   ],
   "source": [
    "# we can drop the HICOV column, since HICOV and FHICOVP have the same info\n",
    "print(data_all.shape)\n",
    "data_all.drop('HICOV',axis=1,inplace=True)\n",
    "print(data_all.shape)"
   ]
  },
  {
   "cell_type": "code",
   "execution_count": 21,
   "id": "abd9242c",
   "metadata": {},
   "outputs": [
    {
     "name": "stdout",
     "output_type": "stream",
     "text": [
      "MHP\n",
      "MLPCD\n",
      "MLPFG\n",
      "MLPE\n",
      "MLPH\n",
      "MLPA\n",
      "MLPB\n",
      "MLPI\n",
      "MLPJ\n",
      "MLPK\n"
     ]
    }
   ],
   "source": [
    "# what else can we drop? \n",
    "# check for variables with lots of -1 (+ check this means N/A):\n",
    "missing_val = -1\n",
    "thresh      = .33\n",
    "for column in data_all:\n",
    "    if any(data_all[column].isin([missing_val])):\n",
    "        if data_all[column].isin([missing_val]).sum()/len(data_all[column]) > thresh:\n",
    "            dets = variableDetails(column)\n",
    "            if dets['values']['item']['-1'].__contains__('N/A'):\n",
    "                print(column)\n",
    "                data_all.drop(column,axis=1,inplace=True)           "
   ]
  },
  {
   "cell_type": "code",
   "execution_count": 22,
   "id": "b2ae0f3b",
   "metadata": {
    "scrolled": true
   },
   "outputs": [
    {
     "name": "stdout",
     "output_type": "stream",
     "text": [
      "these are the label descriptions for non-numerical codes:\n",
      "ADJHSG : Adjustment factor for housing dollar amounts (6 implied decimal places)\n",
      "NAICSP : North American Industry Classification System (NAICS) recode for 2018 and later based on 2017 NAICS codes\n",
      "FPLMP : Complete plumbing facilities allocation flag\n",
      "RT : Record type\n",
      "SERIALNO : Housing unit/GQ person serial number\n",
      "ADJINC : Adjustment factor for income and earnings dollar amounts (6 implied decimal places)\n",
      "SOCP : Standard Occupational Classification (SOC) codes for 2018 and later based on 2018 SOC codes\n"
     ]
    }
   ],
   "source": [
    "# check data types\n",
    "select_out = data_all.select_dtypes(exclude=['int64'])\n",
    "select_out.head()\n",
    "print('these are the label descriptions for non-numerical codes:')\n",
    "for column in select_out:\n",
    "    if column != 'STATE':\n",
    "        dets = variableDetails(column)\n",
    "        print(column + ' : ' + dets['label'])"
   ]
  },
  {
   "cell_type": "code",
   "execution_count": 23,
   "id": "639085cb",
   "metadata": {},
   "outputs": [],
   "source": [
    "# we can probably drop NAICSP since it's a re-mapping for old code names, i.e will still have information on the industry an individual works in\n",
    "data_all.drop('NAICSP',axis=1,inplace=True)\n",
    "# we can also drop a serialno because we can rely on indices:\n",
    "data_all.drop('SERIALNO',axis=1,inplace=True)"
   ]
  },
  {
   "cell_type": "code",
   "execution_count": 24,
   "id": "d232b882",
   "metadata": {},
   "outputs": [
    {
     "name": "stdout",
     "output_type": "stream",
     "text": [
      "{'name': 'FPLMP', 'label': 'Complete plumbing facilities allocation flag', 'predicateType': 'int', 'group': 'N/A', 'limit': 0, 'suggested-weight': 'WGTP', 'values': {'item': {'0': 'No', '-1': 'N/A (GQ)', '1': 'Yes'}}}\n",
      "0      23499\n",
      "-1      1238\n",
      "0        467\n",
      "1        263\n",
      "-1        21\n",
      "3          4\n",
      "1          3\n",
      "7          1\n",
      "4          1\n",
      "5          1\n",
      "2          1\n",
      "3-1        1\n",
      "Name: FPLMP, dtype: int64\n",
      " 0.0    23966\n",
      "-1.0     1259\n",
      " 1.0      266\n",
      " 3.0        4\n",
      " 7.0        1\n",
      " 4.0        1\n",
      " 5.0        1\n",
      " 2.0        1\n",
      "Name: FPLMP, dtype: int64\n"
     ]
    }
   ],
   "source": [
    "dets = variableDetails('FPLMP')\n",
    "print(dets)\n",
    "# change FPLMP to numerical variable:\n",
    "print(data_all['FPLMP'].value_counts())\n",
    "data_all['FPLMP'] = pd.to_numeric(data_all['FPLMP'],errors='coerce')\n",
    "print(data_all['FPLMP'].value_counts())"
   ]
  },
  {
   "cell_type": "code",
   "execution_count": 25,
   "id": "13143043",
   "metadata": {},
   "outputs": [
    {
     "name": "stdout",
     "output_type": "stream",
     "text": [
      "{'name': 'SOCP', 'label': 'Standard Occupational Classification (SOC) codes for 2018 and later based on 2018 SOC codes', 'predicateType': 'string', 'group': 'N/A', 'limit': 0, 'suggested-weight': 'PWGTP', 'values': {'item': {'119021': 'MGR-Construction Managers', '151251': 'CMM-Computer Programmers', '292035': 'MED-Magnetic Resonance Imaging Technologists', '319096': 'HLS-Veterinary Assistants And Laboratory Animal Caretakers', '412021': 'SAL-Counter And Rental Clerks', '519197': 'PRD-Tire Builders', '551010': 'MIL-Military Officer Special And Tactical Operations Leaders', '274030': 'ENT-Television, Video, And Film Camera Operators And Editors', '1320XX': 'FIN-Other Financial Specialists', '151252': 'CMM-Software Developers', '173023': 'ENG-Electrical and Electronic Engineering Technologists And Technicians', '272099': 'ENT-Entertainers And Performers, Sports And Related Workers, All Other', '319094': 'HLS-Medical Transcriptionists', '359031': 'EAT-Hosts And Hostesses, Restaurant, Lounge, And Coffee Shop', '513099': 'PRD-Food Processing Workers, All Other', '514120': 'PRD-Welding, Soldering, And Brazing Workers', '519041': 'PRD-Extruding, Forming, Pressing, And Compacting Machine Setters, Operators, And Tenders', '112021': 'MGR-Marketing Managers', '113013': 'MGR-Facilities Managers', '192041': 'SCI-Environmental Scientists And Specialists, Including Health', '291081': 'MED-Podiatrists', '29203X': 'MED-Nuclear Medicine Technologists And Medical Dosimetrists', '434051': 'OFF-Customer Service Representatives', '5170XX': 'PRD-Other Woodworkers', '211013': 'CMS-Marriage And Family Therapists', '434171': 'OFF-Receptionists And Information Clerks', '272021': 'ENT-Athletes And Sports Competitors', '292034': 'MED-Radiologic Technologists And Technicians', '339021': 'PRT-Private Detectives And Investigators', '397010': 'PRS-Tour And Travel Guides', '433031': 'OFF-Bookkeeping, Accounting, And Auditing Clerks', '472152': 'CON-Plumbers, Pipefitters, And Steamfitters', '536030': 'TRN-Transportation Service Attendants', '319095': 'HLS-Pharmacy Aides', '434081': 'OFF-Hotel, Motel, And Resort Desk Clerks', '519010': 'PRD-Chemical Processing Machine Setters, Operators, And Tenders', '537065': 'TRN-Stockers And Order Fillers', '172051': 'ENG-Civil Engineers', '113131': 'MGR-Training And Development Managers', '29205X': 'MED-Dietetic Technicians And Ophthalmic Medical Technicians', '332020': 'PRT-Fire Inspectors', '392011': 'PRS-Animal Trainers', '472061': 'CON-Construction Laborers', '499031': 'RPR-Home Appliance Repairers', '3940XX': 'PRS-Embalmers, Crematory Operators And Funeral Attendants', '434041': 'OFF-Credit Authorizers, Checkers, And Clerks', '514050': 'PRD-Metal Furnace Operators, Tenders, Pourers, And Casters', '516011': 'PRD-Laundry And Dry-Cleaning Workers', '536061': 'TRN-Passenger Attendants', '492097': 'RPR-Audiovisual Equipment Installers And Repairers', '119111': 'MGR-Medical And Health Services Managers', '131141': 'BUS-Compensation, Benefits, And Job Analysis Specialists', '172070': 'ENG-Electrical And Electronics Engineers', '271021': 'ENT-Commercial And Industrial Designers', '273043': 'ENT-Writers And Authors', '353023': 'EAT-Fast Food And Counter Workers', '119070': 'MGR-Entertainment And Recreation Managers', '274021': 'ENT-Photographers', '292042': 'MED-Emergency Medical Technicians', '439XXX': 'OFF-Other Office And Administrative Support Workers', '519020': 'PRD-Crushing, Grinding, Polishing, Mixing, And Blending Workers', '131199': 'BUS-Business Operations Specialists, All Other', '193033': 'SCI-Clinical And Counseling Psychologists', '419099': 'SAL-Sales And Related Workers, All Other', '533052': 'TRN-Bus Drivers, Transit And Intercity', '474021': 'CON-Elevator And Escalator Installers And Repairers', '119013': 'MGR-Farmers, Ranchers, And Other Agricultural Managers', '113012': 'MGR-Administrative Services Managers', '113121': 'MGR-Human Resources Managers', '151253': 'CMM-Software Quality Assurance Analysts And Testers', '193051': 'SCI-Urban And Regional Planners', '272030': 'ENT-Dancers And Choreographers', '533051': 'TRN-Bus Drivers, School', '537062': 'TRN-Laborers And Freight, Stock, And Material Movers, Hand', '1910XX': 'SCI-Other Life Scientists', '252020': 'EDU-Elementary And Middle School Teachers', '472231': 'CON-Solar Photovoltaic Installers', '49209X': 'RPR-Other Electrical And Electronic Equipment Mechanics, Installers, and Repairers', '499094': 'RPR-Locksmiths And Safe Repairers', '211029': 'CMS-Social Workers, All Other', '172141': 'ENG-Mechanical Engineers', '291031': 'MED-Dietitians And Nutritionists', '291051': 'MED-Pharmacists', '291151': 'MED-Nurse Anesthetists', '353011': 'EAT-Bartenders', '419091': 'SAL-Door-To-Door Sales Workers, News And Street Vendors, And Related Workers', '472181': 'CON-Roofers', '311121': 'HLS-Home Health Aides', '371012': 'CLN-First-Line Supervisors Of Landscaping, Lawn Service, And Groundskeeping Workers', '518021': 'PRD-Stationary Engineers And Boiler Operators', '999920': 'Unemployed, With No Work Experience In The Last 5 Years Or Earlier Or Never Worked', '15124X': 'CMM-Database Administrators And Architects', '272041': 'ENT-Music Directors And Composers', '113061': 'MGR-Purchasing Managers', '119030': 'MGR-Education And Childcare Administrators', '132061': 'FIN-Financial Examiners', '272091': 'ENT-Disc Jockeys, Except Radio', '31113X': 'HLS-Orderlies And Psychiatric Aides', '351011': 'EAT-Chefs And Head Cooks', '451011': 'FFF-First-Line Supervisors Of Farming, Fishing, And Forestry Workers', '533030': 'TRN-Driver/Sales Workers And Truck Drivers', '271026': 'ENT-Merchandise Displayer And Windows Trimmers', '475020': 'EXT-Surface Mining Machine Operators And Earth Drillers', '413041': 'SAL-Travel Agents', '439041': 'OFF-Insurance Claims And Policy Processing Clerks', '473010': 'CON-Helpers, Construction Trades', '475040': 'EXT-Underground Mining Machine Operators', '493090': 'RPR-Miscellaneous Vehicle And Mobile Equipment Mechanics, Installers, And Repairers', '5140XX': 'PRD-Model Makers, Patternmakers, And Molding Machine Setters, Metal And Plastic', '131022': 'BUS-Wholesale And Retail Buyers, Except Farm Products', '172011': 'ENG-Aerospace Engineers', '172081': 'ENG-Environmental Engineers', '27102X': 'ENT-Other Designers', '131023': 'BUS-Purchasing Agents, Except Wholesale, Retail, And Farm Products', '191030': 'SCI-Conservation Scientists And Foresters', '211015': 'CMS-Rehabilitation Counselors', '435021': 'OFF-Couriers And Messengers', '435061': 'OFF-Production, Planning, And Expediting Clerks', '472031': 'CON-Carpenters', '499060': 'RPR-Precision Instrument And Equipment Repairers', '537051': 'TRN-Industrial Truck And Tractor Operators', '537063': 'TRN-Machine Feeders And Offbearers', '1930XX': 'SCI-Other Social Scientists', '411012': 'SAL-First-Line Supervisors Of Non-Retail Sales Workers', '413091': 'SAL-Sales Representatives Of Services, Except Advertising, Insurance, Financial Services, And Travel', '492020': 'RPR-Radio And Telecommunications Equipment Installers And Repairers', '131070': 'BUS-Human Resources Workers', '113051': 'MGR-Industrial Production Managers', '119161': 'MGR-Emergency Management Directors', '292031': 'MED-Cardiovascular Technologists And Technicians', '4330XX': 'OFF-Other Financial Clerks', '434XXX': 'OFF-Correspondence Clerks And Order Clerks', '493022': 'RPR-Automotive Glass Installers And Repairers', '516050': 'PRD-Tailors, Dressmakers, And Sewers', '518010': 'PRD-Power Plant Operators, Distributors, And Dispatchers', '5191XX': 'PRD-Miscellaneous Production Workers, Including Equipment Operators and Tenders', '533011': 'TRN-Ambulance Drivers And Attendants, Except Emergency Medical Technicians', '132031': 'FIN-Budget Analysts', '1720XX': 'ENG-Biomedical And Agricultural Engineers', '273011': 'ENT-Broadcast Announcers And Radio Disc Jockeys', '291124': 'MED-Radiation Therapists', '291292': 'MED-Dental Hygienists', '472121': 'CON-Glaziers', '493050': 'RPR-Small Engine Mechanics', '171020': 'ENG-Surveyors, Cartographers, And Photogrammetrists', '172131': 'ENG-Materials Engineers', '271024': 'ENT-Graphic Designers', '272011': 'ENT-Actors', '273041': 'ENT-Editors', '433011': 'OFF-Bill And Account Collectors', '499051': 'RPR-Electrical Power-Line Installers And Repairers', '515111': 'PRD-Prepress Technicians And Workers', '2740XX': 'ENT-Other Media And Communication Equipment Workers', '291291': 'MED-Acupuncturists', '353031': 'EAT-Waiters And Waitresses', '432021': 'OFF-Telephone Operators', '432099': 'OFF-Communications Equipment Operators, All Other', '439071': 'OFF-Office Machine Operators, Except Computer', '454020': 'FFF-Logging Workers', '474051': 'CON-Highway Maintenance Workers', '519051': 'PRD-Furnace, Kiln, Oven, Drier, And Kettle Operators And Tenders', '131121': 'BUS-Meeting, Convention, And Event Planners', '359099': 'EAT-Food Preparation And Serving Related Workers, All Other', '514033': 'PRD-Grinding, Lapping, Polishing, And Buffing Machine Tool Setters, Operators, And Tenders, Metal and Plastic', '132011': 'FIN-Accountants And Auditors', '151230': 'CMM-Computer Support Specialists', '132020': 'FIN-Property Appraisers And Assessors', '291127': 'MED-Speech-Language Pathologists', '291131': 'MED-Veterinarians', '434071': 'OFF-File Clerks', '439081': 'OFF-Proofreaders And Copy Markers', '51609X': 'PRD-Other Textile, Apparel, And Furnishings Workers', '-1': 'N/A (less than 16 years old/NILF who last worked more than 5 years ago or never worked)', '395092': 'PRS-Manicurists and Pedicurists', '435031': 'OFF-Public Safety Telecommunicators', '513092': 'PRD-Food Batchmakers', '532010': 'TRN-Aircraft Pilots And Flight Engineers', '119051': 'MGR-Food Service Managers', '1191XX': 'MGR-Other Managers', '19303X': 'SCI-Other Psychologists', '272012': 'ENT-Producers And Directors', '339011': 'PRT-Animal Control Workers', '119081': 'MGR-Lodging Managers', '17301X': 'ENG-Other Drafters', '211023': 'CMS-Mental Health And Substance Abuse Social Workers', '291123': 'MED-Physical Therapists', '292090': 'MED-Miscellaneous Health Technologists And Technicians', '434161': 'OFF-Human Resources Assistants, Except Payroll And Timekeeping', '436012': 'OFF-Legal Secretaries And Administrative Assistants', '515112': 'PRD-Printing Press Operators', '273099': 'ENT-Media And Communication Workers, All Other', '132081': 'FIN-Tax Examiners And Collectors, And Revenue Agents', '172121': 'ENG-Marine Engineers And Naval Architects', '232011': 'LGL-Paralegals And Legal Assistants', '291299': 'MED-Healthcare Diagnosing Or Treating Practitioners, All Other', '331011': 'PRT-First-Line Supervisors Of Correctional Officers', '395012': 'PRS-Hairdressers, Hairstylists, And Cosmetologists', '439051': 'OFF-Mail Clerks And Mail Machine Operators, Except Postal Service', '472111': 'CON-Electricians', '518090': 'PRD-Miscellaneous Plant And System Operators', '5340XX': 'TRN-Other Rail Transportation Workers', '194010': 'SCI-Agricultural And Food Science Technicians', '113111': 'MGR-Compensation And Benefits Managers', '132052': 'FIN-Personal Financial Advisors', '193034': 'SCI-School Psychologists', '2310XX': 'LGL-Lawyers, And Judges, Magistrates, And Other Judicial Workers', '272042': 'ENT-Musicians And Singers', '291041': 'MED-Optometrists', '291122': 'MED-Occupational Therapists', '372021': 'CLN-Pest Control Workers', '3930XX': 'PRS-Other Entertainment Attendants And Related Workers', '433051': 'OFF-Payroll And Timekeeping Clerks', '499098': 'RPR-Helpers--Installation, Maintenance, And Repair Workers', '533053': 'TRN-Shuttle Drivers and Chauffeurs', '537064': 'TRN-Packers And Packagers, Hand', '119141': 'MGR-Property, Real Estate, And Community Association Managers', '131131': 'BUS-Fundraisers', '212099': 'CMS-Religious Workers, All Other', '291181': 'MED-Audiologists', '434031': 'OFF-Court, Municipal, And License Clerks', '472040': 'CON-Carpet, Floor, And Tile Installers And Finishers', '472050': 'CON-Cement Masons, Concrete Finishers, And Terrazzo Workers', '435071': 'OFF-Shipping, Receiving, And Inventory Clerks', '132070': 'FIN-Credit Counselors And Loan Officers', '193011': 'SCI-Economists', '33909X': 'PRT-Other Protective Service Workers', '492091': 'RPR-Avionics Technicians', '514031': 'PRD-Cutting, Punching, And Press Machine Setters, Operators, And Tenders, Metal And Plastic', '436014': 'OFF-Secretaries And Administrative Assistants, Except Legal, Medical, And Executive', '339093': 'PRT-Transportation Security Screeners', '413021': 'SAL-Insurance Sales Agents', '434181': 'OFF-Reservation And Transportation Ticket Agents And Travel Clerks', '452041': 'FFF-Graders And Sorters, Agricultural Products', '519151': 'PRD-Photographic Process Workers And Processing Machine Operators', '131151': 'BUS-Training And Development Specialists', '259040': 'EDU-Teaching Assistants', '273023': 'ENT-News Analysts, Reporters, And Journalists', '291210': 'MED-Physicians', '292032': 'MED-Diagnostic Medical Sonographers', '292043': 'MED-Paramedics', '333021': 'PRT-Detectives And Criminal Investigators', '413031': 'SAL-Securities, Commodities, And Financial Services Sales Agents', '472211': 'CON-Sheet Metal Workers', '536021': 'TRN-Parking Attendants', '435052': 'OFF-Postal Service Mail Carriers', '499091': 'RPR-Coin, Vending, And Amusement Machine Servicers And Repairers', '132041': 'FIN-Credit Analysts', '292056': 'MED-Veterinary Technologists And Technicians', '311131': 'HLS-Nursing Assistants', '1721XX': 'ENG-Petroleum, Mining And Geological Engineers, Including Mining Safety Engineers', '271025': 'ENT-Interior Designers', '31909X': 'HLS-Other Healthcare Support Workers', '351012': 'EAT-First-Line Supervisors Of Food Preparation And Serving Workers', '399032': 'PRS-Recreation Workers', '435111': 'OFF-Weighers, Measurers, Checkers, And Samplers, Recordkeeping', '472130': 'CON-Insulation Workers', '513011': 'PRD-Bakers', '516040': 'PRD-Shoe And Leather Workers', '192021': 'SCI-Atmospheric And Space Scientists', '212021': 'CMS-Directors, Religious Activities And Education', '232093': 'LGL-Title Examiners, Abstractors, And Searchers', '453031': 'FFF-Fishing And Hunting Workers', '4750YY': 'EXT-Derrick, Rotary Drill, And Service Unit Operators, And Roustabouts, Oil, Gas, And Mining', '493023': 'RPR-Automotive Service Technicians And Mechanics', '499096': 'RPR-Riggers', '517011': 'PRD-Cabinetmakers And Bench Carpenters', '519191': 'PRD-Adhesive Bonding Machine Operators And Tenders', '537021': 'TRN-Crane And Tower Operators', '2911XX': 'MED-Nurse Practitioners, And Nurse Midwives', '131161': 'BUS-Market Research Analysts And Marketing Specialists', '211021': 'CMS-Child, Family, And School Social Workers', '252030': 'EDU-Secondary School Teachers', '273092': 'ENT-Court Reporters And Simultaneous Captioners', '395094': 'PRS-Skincare Specialists', '435053': 'OFF-Postal Service Mail Sorters, Processors, And Processing Machine Operators', '436013': 'OFF-Medical Secretaries And Administrative Assistants', '4520XX': 'FFF-Other Agricultural Workers', '516021': 'PRD-Pressers, Textile, Garment, And Related Materials', '173031': 'ENG-Surveying And Mapping Technicians', '331012': 'PRT-First-Line Supervisors Of Police And Detectives', '433061': 'OFF-Procurement Clerks', '434141': 'OFF-New Accounts Clerks', '435051': 'OFF-Postal Service Clerks', '519030': 'PRD-Cutting Workers', '151241': 'CMM-Computer Network Architects', '1520XX': 'CMM-Other Mathematical Science Occupations', '212011': 'CMS-Clergy', '272023': 'ENT-Umpires, Referees, And Other Sports Officials', '414010': 'SAL-Sales Representatives, Wholesale And Manufacturing', '439021': 'OFF-Data Entry Keyers', '519196': 'PRD-Paper Goods Machine Setters, Operators, And Tenders', '531000': 'TRN-Supervisors Of Transportation And Material Moving Workers', '132051': 'FIN-Financial And Investment Analysts', '292055': 'MED-Surgical Technologists', '292081': 'MED-Opticians, Dispensing', '359021': 'EAT-Dishwashers', '399099': 'PRS-Personal Care And Service Workers, All Other', '434YYY': 'OFF-Other Information And Records Clerks', '436011': 'OFF-Executive Secretaries And Executive Administrative Assistants', '512041': 'PRD-Structural Metal Fabricators And Fitters', '532031': 'TRN-Flight Attendants', '119041': 'MGR-Architectural And Engineering Managers', '131081': 'BUS-Logisticians', '172061': 'ENG-Computer Hardware Engineers', '172110': 'ENG-Industrial Engineers, Including Health And Safety', '192030': 'SCI-Chemists And Materials Scientists', '254010': 'EDU-Archivists, Curators, And Museum Technicians', '272022': 'ENT-Coaches And Scouts', '1721YY': 'ENG-Other Engineers', '17302X': 'ENG-Other Engineering Technologists And Technicians, Except Drafters', '192099': 'SCI-Physical Scientists, All Other', '211092': 'CMS-Probation Officers And Correctional Treatment Specialists', '292052': 'MED-Pharmacy Technicians', '319091': 'HLS-Dental Assistants', '411011': 'SAL-First-Line Supervisors Of Retail Sales Workers', '413011': 'SAL-Advertising Sales Agents', '434061': 'OFF-Eligibility Interviewers, Government Programs', '454011': 'FFF-Forest And Conservation Workers', '472XXX': 'CON-Brickmasons, Blockmasons, Stonemasons, And Reinforcing Iron And Rebar Workers', '514XXX': 'PRD-Other Metal Workers And Plastic Workers', '514041': 'PRD-Machinists', '519160': 'PRD-Computer Numerically Controlled Tool Operators And Programmers', '533099': 'TRN-Motor Vehicle Operators, All Other', '393031': 'PRS-Ushers, Lobby Attendants, And Ticket Takers', '39509X': 'PRS-Other Personal Appearance Workers', '412031': 'SAL-Retail Salespersons', '435011': 'OFF-Cargo And Freight Agents', '475032': 'EXT-Explosives Workers, Ordnance Handling Experts, And Blasters', '492092': 'RPR-Electric Motor, Power Tool, And Related Repairers', '552010': 'MIL-First-Line Enlisted Military Supervisors', '151254': 'CMM-Web Developers', '151244': 'CMM-Network And Computer Systems Administrators', '273042': 'ENT-Technical Writers', '3330XX': 'PRT-Fish And Game Wardens And Parking Enforcement Officers', '339091': 'PRT-Crossing Guards And Flaggers', '131051': 'BUS-Cost Estimators', '393010': 'PRS-Gambling Services Workers', '472080': 'CON-Drywall Installers, Ceiling Tile Installers, And Tapers', '493011': 'RPR-Aircraft Mechanics And Service Technicians', '499021': 'RPR-Heating, Air Conditioning, And Refrigeration Mechanics And Installers', '499052': 'RPR-Telecommunications Line Installers And Repairers', '194021': 'SCI-Biological Technicians', '2590XX': 'EDU-Other Educational Instruction and Library Workers', '311122': 'HLS-Personal Care Aides', '332011': 'PRT-Firefighters', '339094': 'PRT-School Bus Monitors', '353041': 'EAT-Food Servers, Nonrestaurant', '394031': 'PRS-Morticians, Undertakers, And Funeral Arrangers', '419041': 'SAL-Telemarketers', '432011': 'OFF-Switchboard Operators, Including Answering Service', '474061': 'CON-Rail-Track Laying And Maintenance Equipment Operators', '518031': 'PRD-Water And Wastewater Treatment Plant And System Operators', '519071': 'PRD-Jewelers And Precious Stone And Metal Workers', '331021': 'PRT-First-Line Supervisors Of Firefighting And Prevention Workers', '339030': 'PRT-Security Guards And Gambling Surveillance Officers', '359011': 'EAT-Dining Room And Cafeteria Attendants And Bartender Helpers', '131030': 'BUS-Claims Adjusters, Appraisers, Examiners, And Investigators', '517041': 'PRD-Sawing Machine Setters, Operators, And Tenders, Wood', '519111': 'PRD-Packaging And Filling Machine Operators And Tenders', '151299': 'CMM-Computer Occupations, All Other', '1940XX': 'SCI-Environmental Science And Geoscience Technicians, And Nuclear Technicians', '211012': 'CMS-Educational, Guidance, And Career Counselors And Advisors', '211019': 'CMS-Counselors, All Other', '292061': 'MED-Licensed Practical And Licensed Vocational Nurses', '333012': 'PRT-Correctional Officers And Jailers', '352010': 'EAT-Cooks', '434121': 'OFF-Library Assistants, Clerical', '4990XX': 'RPR-Other Installation, Maintenance, And Repair Workers', '519061': 'PRD-Inspectors, Testers, Sorters, Samplers, And Weighers', '119121': 'MGR-Natural Sciences Managers', '152011': 'CMM-Actuaries', '271010': 'ENT-Artists And Related Workers', '291011': 'MED-Chiropractors', '29112X': 'MED-Other Therapists', '291126': 'MED-Respiratory Therapists', '491011': 'RPR-First-Line Supervisors Of Mechanics, Installers, And Repairers', '5120XX': 'PRD-Other Assemblers and Fabricators', '513093': 'PRD-Food Cooking Machine Operators And Tenders', '333011': 'PRT-Bailiffs', '516093': 'PRD-Upholsterers', '519194': 'PRD-Etchers And Engravers', '532020': 'TRN-Air Traffic Controllers And Airfield Operations Specialists', '113031': 'MGR-Financial Managers', '211022': 'CMS-Healthcare Social Workers', '132053': 'FIN-Insurance Underwriters', '194031': 'SCI-Chemical Technicians', '271022': 'ENT-Fashion Designers', '291020': 'MED-Dentists', '435041': 'OFF-Meter Readers, Utilities', '439061': 'OFF-Office Clerks, General', '433071': 'OFF-Tellers', '434111': 'OFF-Interviewers, Except Eligibility And Loan', '439111': 'OFF-Statistical Assistants', '452011': 'FFF-Agricultural Inspectors', '472140': 'CON-Painters And Paperhangers', '4750XX': 'EXT-Other Extraction Workers', '512020': 'PRD-Electrical, Electronics, And Electromechanical Assemblers', '431011': 'OFF-First-Line Supervisors Of Office And Administrative Support Workers', '519080': 'PRD-Dental And Ophthalmic Laboratory Technicians And Medical Appliance Technicians', '171011': 'ENG-Architects, Except Landscape And Naval', '232099': 'LGL-Legal Support Workers, All Other', '319097': 'HLS-Phlebotomists', '131011': 'BUS-Agents And Business Managers Of Artists, Performers, And Athletes', '273031': 'ENT-Public Relations Specialists', '4740XX': 'CON-Other Construction And Related Workers', '131111': 'BUS-Management Analysts', '151221': 'CMM-Computer And Information Research Scientists', '251000': 'EDU-Postsecondary Teachers', '37201X': 'CLN-Janitors And Building Cleaners', '412022': 'SAL-Parts Salespersons', '472151': 'CON-Pipelayers', '5360XX': 'TRN-Other Transportation Workers', '111021': 'MGR-General And Operations Managers', '113021': 'MGR-Computer And Information Systems Managers', '173011': 'ENG-Architectural And Civil Drafters', '191010': 'SCI-Agricultural And Food Scientists', '299000': 'MED-Other Healthcare Practitioners And Technical Occupations', '373011': 'CLN-Landscaping And Groundskeeping Workers', '395011': 'PRS-Barbers', '519198': 'PRD-Helpers--Production Workers', '119151': 'MGR-Social And Community Service Managers', '513091': 'PRD-Food And Tobacco Roasting, Baking, And Drying Machine Operators And Tenders', '2530XX': 'EDU-Other Teachers And Instructors', '254022': 'EDU-Librarians And Media Collections Specialists', '291125': 'MED-Recreational Therapists', '319011': 'HLS-Massage Therapists', '474011': 'CON-Construction And Building Inspectors', '492011': 'RPR-Computer, Automated Teller, And Office Machine Repairers', '553010': 'MIL-Military Enlisted Tactical Operations And Air/Weapons Specialists And Crew Members', '396010': 'PRS-Baggage Porters, Bellhops, And Concierges', '399031': 'PRS-Exercise Trainers And Group Fitness Instructors', '412010': 'SAL-Cashiers', '515113': 'PRD-Print Binding And Finishing Workers', '559830': 'MIL-Military, Rank Not Specified', '152031': 'CMM-Operations Research Analysts', '352021': 'EAT-Food Preparation Workers', '419020': 'SAL-Real Estate Brokers And Sales Agents', '534031': 'TRN-Railroad Conductors And Yardmasters', '5350XX': 'TRN-Sailors And Marine Oilers, And Ship Engineers', '151255': 'CMM-Web And Digital Interface Designers', '399041': 'PRS-Residential Advisors', '471011': 'CON-First-Line Supervisors Of Construction Trades And Extraction Workers', '474031': 'CON-Fence Erectors', '474041': 'CON-Hazardous Materials Removal Workers', '535020': 'TRN-Ship And Boat Captains And Operators', '19204X': 'SCI-Geoscientists And Hydrologists, Except Geographers', '112011': 'MGR-Advertising And Promotions Managers', '151212': 'CMM-Information Security Analysts', '231012': 'LGL-Judicial Law Clerks', '252050': 'EDU-Special Education Teachers', '253041': 'EDU-Tutors', '312020': 'HLS-Physical Therapist Assistants And Aides', '211011': 'CMS-Substance Abuse And Behavioral Disorder Counselors', '211014': 'CMS-Mental Health Counselors', '292010': 'MED-Clinical Laboratory Technologists And Technicians', '371011': 'CLN-First-Line Supervisors Of Housekeeping And Janitorial Workers', '433021': 'OFF-Billing And Posting Clerks', '472221': 'CON-Structural Iron And Steel Workers', '493031': 'RPR-Bus And Truck Mechanics And Diesel Engine Specialists', '499010': 'RPR-Control And Valve Installers And Repairers', '512031': 'PRD-Engine And Other Machine Assemblers', '536051': 'TRN-Transportation Inspectors', '271023': 'ENT-Floral Designers', '292053': 'MED-Psychiatric Technicians', '492098': 'RPR-Security And Fire Alarm Systems Installers', '514111': 'PRD-Tool And Die Makers', '517042': 'PRD-Woodworking Machine Setters, Operators, And Tenders, Except Sawing', '191020': 'SCI-Biological Scientists', '192010': 'SCI-Astronomers And Physicists', '21109X': 'CMS-Other Community And Social Service Specialists', '273091': 'ENT-Interpreters And Translators', '37301X': 'CLN-Other Grounds Maintenance Workers', '493021': 'RPR-Automotive Body And Related Repairers', '493040': 'RPR-Heavy Vehicle And Mobile Equipment Service Technicians And Mechanics', '517021': 'PRD-Furniture Finishers', '5370XX': 'TRN-Conveyor, Dredge, And Hoist And Winch Operators', '112030': 'MGR-Public Relations And Fundraising Managers', '113071': 'MGR-Transportation, Storage, And Distribution Managers', '131021': 'BUS-Buyers And Purchasing Agents, Farm Products', '172041': 'ENG-Chemical Engineers', '439022': 'OFF-Word Processors And Typists', '472011': 'CON-Boilermakers', '499071': 'RPR-Maintenance And Repair Workers, General', '252010': 'EDU-Preschool And Kindergarten Teachers', '291071': 'MED-Physician Assistants', '312010': 'HLS-Occupational Therapy Assistants And Aides', '372012': 'CLN-Maids And Housekeeping Cleaners', '373013': 'CLN-Tree Trimmers And Pruners', '399011': 'PRS-Childcare Workers', '419010': 'SAL-Models, Demonstrators, And Product Promoters', '435032': 'OFF-Dispatchers, Except Police, Fire, And Ambulance', '472161': 'CON-Plasterers And Stucco Masons', '499043': 'RPR-Maintenance Workers, Machinery', '514020': 'PRD-Forming Machine Setters, Operators, And Tenders, Metal And Plastic', '533054': 'TRN-Taxi Drivers', '537070': 'TRN-Pumping Station Operators', '291240': 'MED-Surgeons', '292072': 'MED-Medical Records Specialists', '331090': 'PRT-Miscellaneous First-Line Supervisors, Protective Service Workers', '333050': 'PRT-Police Officers', '511011': 'PRD-First-Line Supervisors Of Production And Operating Workers', '516031': 'PRD-Sewing Machine Operators', '519120': 'PRD-Painting Workers', '5371XX': 'TRN-Other Material Moving Workers', '131082': 'BUS-Project Management Specialists', '171012': 'ENG-Landscape Architects', '1940YY': 'SCI-Other Life, Physical, And Social Science Technicians', '1110XX': 'MGR-Chief Executives And Legislators', '112022': 'MGR-Sales Managers', '195010': 'SCI-Occupational Health And Safety Specialists And Technicians', '254031': 'EDU-Library Technicians', '291141': 'MED-Registered Nurses', '392021': 'PRS-Animal Caretakers', '472070': 'CON-Construction Equipment Operators', '49904X': 'RPR-Industrial And Refractory Machinery Mechanics', '499044': 'RPR-Millwrights', '513020': 'PRD-Butchers And Other Meat, Poultry, And Fish Processing Workers', '516060': 'PRD-Textile Machine Setters, Operators, And Tenders', '519195': 'PRD-Molders, Shapers, And Casters, Except Metal And Plastic', '537061': 'TRN-Cleaners Of Vehicles And Equipment', '391000': 'PRS-Supervisors of Personal Care And Service Workers', '419031': 'SAL-Sales Engineers', '434131': 'OFF-Loan Interviewers And Clerks', '534010': 'TRN-Locomotive Engineers And Operators', '537081': 'TRN-Refuse And Recyclable Material Collectors', '51403X': 'PRD-Other Machine Tool Setters, Operators, And Tenders, Metal And Plastic', '131041': 'BUS-Compliance Officers', '132082': 'FIN-Tax Preparers', '151211': 'CMM-Computer Systems Analysts', '211093': 'CMS-Social And Human Service Assistants', '319092': 'HLS-Medical Assistants'}}}\n"
     ]
    }
   ],
   "source": [
    "dets = variableDetails('SOCP')\n",
    "print(dets)\n",
    "# convert to numeric\n",
    "data_all['SOCP'] = pd.to_numeric(data_all['SOCP'],errors='coerce')"
   ]
  },
  {
   "cell_type": "code",
   "execution_count": 26,
   "id": "f51080be",
   "metadata": {},
   "outputs": [],
   "source": [
    "# are most of the data the same (with very few records deviating?). if so, data may not be helpful/informative\n",
    "cnt = 0\n",
    "thresh = 0.97\n",
    "for column in data_all:\n",
    "    prop = data_all[column].value_counts(normalize=True)\n",
    "    if any(prop >= thresh):\n",
    "        data_all.drop(column,axis=1,inplace=True) "
   ]
  },
  {
   "cell_type": "code",
   "execution_count": 27,
   "id": "34588ff8",
   "metadata": {},
   "outputs": [
    {
     "data": {
      "text/plain": [
       "0    0.820078\n",
       "1    0.179922\n",
       "Name: FHICOVP, dtype: float64"
      ]
     },
     "execution_count": 27,
     "metadata": {},
     "output_type": "execute_result"
    }
   ],
   "source": [
    "data_all['FHICOVP'].value_counts(normalize=True)"
   ]
  },
  {
   "cell_type": "code",
   "execution_count": 28,
   "id": "0d1ba5a8",
   "metadata": {},
   "outputs": [
    {
     "data": {
      "text/html": [
       "<div>\n",
       "<style scoped>\n",
       "    .dataframe tbody tr th:only-of-type {\n",
       "        vertical-align: middle;\n",
       "    }\n",
       "\n",
       "    .dataframe tbody tr th {\n",
       "        vertical-align: top;\n",
       "    }\n",
       "\n",
       "    .dataframe thead th {\n",
       "        text-align: right;\n",
       "    }\n",
       "</style>\n",
       "<table border=\"1\" class=\"dataframe\">\n",
       "  <thead>\n",
       "    <tr style=\"text-align: right;\">\n",
       "      <th></th>\n",
       "      <th>count</th>\n",
       "      <th>%</th>\n",
       "    </tr>\n",
       "  </thead>\n",
       "  <tbody>\n",
       "    <tr>\n",
       "      <th>index</th>\n",
       "      <td>0</td>\n",
       "      <td>0.0</td>\n",
       "    </tr>\n",
       "    <tr>\n",
       "      <th>HHLANP</th>\n",
       "      <td>0</td>\n",
       "      <td>0.0</td>\n",
       "    </tr>\n",
       "    <tr>\n",
       "      <th>FBATHP</th>\n",
       "      <td>0</td>\n",
       "      <td>0.0</td>\n",
       "    </tr>\n",
       "    <tr>\n",
       "      <th>DRIVESP</th>\n",
       "      <td>0</td>\n",
       "      <td>0.0</td>\n",
       "    </tr>\n",
       "    <tr>\n",
       "      <th>WGTP23</th>\n",
       "      <td>0</td>\n",
       "      <td>0.0</td>\n",
       "    </tr>\n",
       "    <tr>\n",
       "      <th>...</th>\n",
       "      <td>...</td>\n",
       "      <td>...</td>\n",
       "    </tr>\n",
       "    <tr>\n",
       "      <th>PERNP</th>\n",
       "      <td>0</td>\n",
       "      <td>0.0</td>\n",
       "    </tr>\n",
       "    <tr>\n",
       "      <th>SCH</th>\n",
       "      <td>0</td>\n",
       "      <td>0.0</td>\n",
       "    </tr>\n",
       "    <tr>\n",
       "      <th>TEL</th>\n",
       "      <td>0</td>\n",
       "      <td>0.0</td>\n",
       "    </tr>\n",
       "    <tr>\n",
       "      <th>TEN</th>\n",
       "      <td>0</td>\n",
       "      <td>0.0</td>\n",
       "    </tr>\n",
       "    <tr>\n",
       "      <th>STATE</th>\n",
       "      <td>0</td>\n",
       "      <td>0.0</td>\n",
       "    </tr>\n",
       "  </tbody>\n",
       "</table>\n",
       "<p>457 rows × 2 columns</p>\n",
       "</div>"
      ],
      "text/plain": [
       "         count    %\n",
       "index        0  0.0\n",
       "HHLANP       0  0.0\n",
       "FBATHP       0  0.0\n",
       "DRIVESP      0  0.0\n",
       "WGTP23       0  0.0\n",
       "...        ...  ...\n",
       "PERNP        0  0.0\n",
       "SCH          0  0.0\n",
       "TEL          0  0.0\n",
       "TEN          0  0.0\n",
       "STATE        0  0.0\n",
       "\n",
       "[457 rows x 2 columns]"
      ]
     },
     "execution_count": 28,
     "metadata": {},
     "output_type": "execute_result"
    }
   ],
   "source": [
    "# check for other null or missing values\n",
    "missing = pd.concat([data_all.isnull().sum(), 100 * data_all.isnull().mean()], axis=1)\n",
    "missing.columns=['count', '%']\n",
    "missing.sort_values(by='count',ascending=False)\n",
    "missing"
   ]
  },
  {
   "cell_type": "code",
   "execution_count": 29,
   "id": "62afe100",
   "metadata": {},
   "outputs": [],
   "source": [
    "# save data_all to csv file\n",
    "fname = os.path.join(datadir,'allstates_subsample' + str(nsamples) + '.csv')\n",
    "data_all.to_csv(fname)"
   ]
  },
  {
   "cell_type": "markdown",
   "id": "22c3914a",
   "metadata": {},
   "source": [
    "Our subsample dataframe appears to be void of missing values. \n",
    "Now going to look more at our target variable, FHICOVP (has health insurance or does not have health insurance)"
   ]
  },
  {
   "cell_type": "code",
   "execution_count": 30,
   "id": "a913bce2",
   "metadata": {},
   "outputs": [
    {
     "data": {
      "text/plain": [
       "[Text(0, 0, 'health insured'), Text(0, 1, 'health uninsured')]"
      ]
     },
     "execution_count": 30,
     "metadata": {},
     "output_type": "execute_result"
    },
    {
     "data": {
      "image/png": "[encoded data removed]",
      "text/plain": [
       "<Figure size 432x288 with 1 Axes>"
      ]
     },
     "metadata": {
      "needs_background": "light"
     },
     "output_type": "display_data"
    }
   ],
   "source": [
    "#plot overall percentage insured and uninsured\n",
    "ax = data_all['FHICOVP'].value_counts(normalize=True).plot(kind='barh')\n",
    "plt.xlabel('proportion of sample')\n",
    "ax.set_yticks([0,1])\n",
    "ax.set_yticklabels(['health insured','health uninsured'])"
   ]
  },
  {
   "cell_type": "code",
   "execution_count": 31,
   "id": "dbeb52a5",
   "metadata": {},
   "outputs": [
    {
     "data": {
      "text/plain": [
       "(0.0, 100.0)"
      ]
     },
     "execution_count": 31,
     "metadata": {},
     "output_type": "execute_result"
    },
    {
     "data": {
      "image/png": "[encoded data removed]",
      "text/plain": [
       "<Figure size 1389.33x216 with 1 Axes>"
      ]
     },
     "metadata": {},
     "output_type": "display_data"
    }
   ],
   "source": [
    "#plot percentage insured and uninsured by state\n",
    "insdf  = data_all.groupby('STATE')['FHICOVP'].value_counts(normalize=True)\n",
    "insdf  = insdf.mul(100).rename('Percent').reset_index()\n",
    "sns.set(font_scale=1.5)\n",
    "g = sns.catplot(x='STATE', y='Percent',hue='FHICOVP', kind='bar', data=insdf, height=3,aspect=6)\n",
    "g.ax.set_ylim(0,100)"
   ]
  }
 ],
 "metadata": {
  "kernelspec": {
   "display_name": "Python 3 (ipykernel)",
   "language": "python",
   "name": "python3"
  },
  "language_info": {
   "codemirror_mode": {
    "name": "ipython",
    "version": 3
   },
   "file_extension": ".py",
   "mimetype": "text/x-python",
   "name": "python",
   "nbconvert_exporter": "python",
   "pygments_lexer": "ipython3",
   "version": "3.9.7"
  }
 },
 "nbformat": 4,
 "nbformat_minor": 5
}
