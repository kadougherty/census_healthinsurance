{
 "cells": [
  {
   "cell_type": "markdown",
   "id": "5c9f8b5e",
   "metadata": {},
   "source": [
    "## predicting health coverage in the US"
   ]
  },
  {
   "cell_type": "markdown",
   "id": "1cd32d19",
   "metadata": {},
   "source": [
    "This project will call data from the American Community Survey Public Use MicroSample(PUMS) API. The most recent survey publicly availble at this API is from 2019. (Note data from 2020 are available to download in csv files).\n",
    "\n",
    "This project uses the Census Bureau Data API but is not endorsed or certified by the Census Bureau.\n",
    "\n",
    "1. American Community Survey (ACS) (census.gov).\n",
    "https://www.census.gov/programs-surveys/acs/\n",
    "2. American Community Survey Data via API (census.gov).\n",
    "https://www.census.gov/programs-surveys/acs/data/data-via-api.html\n",
    "\n",
    "The goal of this project is to predict whether an individual has health insurance (or not) based on demographic data in the PUMS. "
   ]
  },
  {
   "cell_type": "code",
   "execution_count": 1,
   "id": "43aba595",
   "metadata": {},
   "outputs": [],
   "source": [
    "import os\n",
    "import glob\n",
    "import pandas as pd\n",
    "import requests\n",
    "import time\n",
    "import matplotlib.pyplot as plt\n",
    "import seaborn as sns\n",
    "from dotenv import load_dotenv\n",
    "import utils"
   ]
  },
  {
   "cell_type": "markdown",
   "id": "4afcc313",
   "metadata": {},
   "source": [
    "There are hundreds of variables in the PUMS dataset. Load in the variable names (code) and their descriptions (label) from the API."
   ]
  },
  {
   "cell_type": "code",
   "execution_count": 2,
   "id": "bbb68293",
   "metadata": {},
   "outputs": [],
   "source": [
    "# load variable names from census PUMS (public use microsample) API\n",
    "codedict = utils.getCodeDictionary()"
   ]
  },
  {
   "cell_type": "code",
   "execution_count": 3,
   "id": "79e8a560",
   "metadata": {},
   "outputs": [
    {
     "name": "stdout",
     "output_type": "stream",
     "text": [
      "    BST STATE\n",
      "47   53    WA\n",
      "48   54    WV\n",
      "49   55    WI\n",
      "50   56    WY\n",
      "51   72    PR\n"
     ]
    }
   ],
   "source": [
    "# load info on the codes for each state + DC that we need for our api calls\n",
    "stateinfo = pd.read_csv('https://www2.census.gov/programs-surveys/acs/tech_docs/pums/top_coded_values/2019_pums_top_and_bottom_coded_values.csv')\n",
    "stateinfo = stateinfo.loc[:, stateinfo.columns.isin(['BST','STATE'])]\n",
    "print(stateinfo.tail())\n",
    "\n",
    "# Drop Puerto Rico to keep it to 50 states\n",
    "stateinfo = stateinfo[stateinfo.STATE != 'PR']"
   ]
  },
  {
   "cell_type": "markdown",
   "id": "5bf2cf3c",
   "metadata": {},
   "source": [
    "When calling the Census API, a maximum of 50 variables can be requested at one time. The data are also easily accessed state-by-state. The PUMS represents ~1% of the population. If we want to use data from all states, we could start by subsampling from availbable records. Set the number of samples (nsamples) in getCensusDataByState().\n",
    "\n",
    "One approach is to request data from a list of variables for a specific state in one call. The function callCensusAPI() below is meant to return a dataframe with variables in 'select_codes' from one state ('stateid'). A second function, getCensusDataByState() is meant to request data for all variables for one state in multiple calls and merge that data into one single dataframe for that state."
   ]
  },
  {
   "cell_type": "markdown",
   "id": "995f40c3",
   "metadata": {},
   "source": [
    "With the functions above, we can loop through our states of interest and save a dataframe for each if it does not exist locally yet."
   ]
  },
  {
   "cell_type": "code",
   "execution_count": 4,
   "id": "25b02dff",
   "metadata": {},
   "outputs": [
    {
     "name": "stdout",
     "output_type": "stream",
     "text": [
      "\n"
     ]
    }
   ],
   "source": [
    "datadir = os.path.join(os.getcwd(),\"data\")\n",
    "try:\n",
    "    os.mkdir(datadir)\n",
    "except:\n",
    "    print('')"
   ]
  },
  {
   "cell_type": "markdown",
   "id": "2e2edece",
   "metadata": {},
   "source": [
    "Call API for states in loop and save csv locally if it doesn't exist yet"
   ]
  },
  {
   "cell_type": "code",
   "execution_count": 5,
   "id": "8c8e53cc",
   "metadata": {},
   "outputs": [],
   "source": [
    "nsamples = 500\n",
    "for state in stateinfo['BST']:\n",
    "    state_id  =  f\"{state:02}\"\n",
    "    fname = os.path.join(datadir,'state' + state_id + '_subsample' + str(nsamples) + '.csv')\n",
    "    if os.path.exists(fname) == False:\n",
    "        df,totalTime = utils.getCensusDataByState(state_id)\n",
    "        df.to_csv(fname)\n",
    "        print('state' + state_id + ': ' + str(totalTime))\n",
    "        del df\n",
    "        del fname\n",
    "        del state_id"
   ]
  },
  {
   "cell_type": "markdown",
   "id": "4ab112a3",
   "metadata": {},
   "source": [
    "Load saved csv files."
   ]
  },
  {
   "cell_type": "code",
   "execution_count": 6,
   "id": "aae5be19",
   "metadata": {},
   "outputs": [
    {
     "name": "stdout",
     "output_type": "stream",
     "text": [
      "shape of the subsampled dataframe: 25500 by 518\n"
     ]
    }
   ],
   "source": [
    "filenames = glob.glob(os.path.join(datadir,'state' + '*' + str(nsamples) + '.csv'))\n",
    "data_all  = pd.concat((pd.read_csv(file) for file in filenames)).reset_index(drop = True) # Import\n",
    "\n",
    "print('shape of the subsampled dataframe: ' + str(data_all.shape[0]) + ' by ' + str(data_all.shape[1]))"
   ]
  },
  {
   "cell_type": "code",
   "execution_count": 7,
   "id": "1611b6c8",
   "metadata": {},
   "outputs": [
    {
     "name": "stdout",
     "output_type": "stream",
     "text": [
      "keeping Unnamed: 0\n",
      "keeping index\n",
      "keeping state_x\n",
      "keeping state_y\n",
      "keeping state\n",
      "(25500, 510)\n"
     ]
    }
   ],
   "source": [
    "# check for extra columns that may have appeared from the dataframe merger:\n",
    "for column in data_all:\n",
    "    if column not in codedict.keys():\n",
    "        if column.__contains__('.'):\n",
    "            data_all.drop(column,axis=1,inplace=True)\n",
    "        else:\n",
    "            print('keeping ' + column)\n",
    "print(data_all.shape)"
   ]
  },
  {
   "cell_type": "code",
   "execution_count": 8,
   "id": "a7730ac5",
   "metadata": {},
   "outputs": [],
   "source": [
    "# based on the way we merged state_x and state_y should be redundant\n",
    "if data_all['state_x'].equals(data_all['state_y']):\n",
    "    data_all.drop('state_y',inplace=True,axis=1)\n",
    "# the state column should be incomplete based on the way we merged, drop if it has more missing values than 'state_x'\n",
    "if data_all['state'].isna().sum() > data_all['state_x'].isna().sum():\n",
    "    data_all.drop('state',axis=1,inplace=True)\n",
    "# drop Unnamed: 0 because it's not useful at this point (from old indices)\n",
    "data_all.drop('Unnamed: 0',axis=1,inplace=True)\n",
    "# add state name from stateinfo to data_all for ease\n",
    "data_all = data_all.merge(stateinfo,left_on='state_x',right_on='BST')\n",
    "if data_all['state'].equals(data_all['BST']):\n",
    "    data_all = data_all.drop('state',axis=1)"
   ]
  },
  {
   "cell_type": "code",
   "execution_count": 9,
   "id": "db5c37e9",
   "metadata": {},
   "outputs": [
    {
     "data": {
      "text/html": [
       "<div>\n",
       "<style scoped>\n",
       "    .dataframe tbody tr th:only-of-type {\n",
       "        vertical-align: middle;\n",
       "    }\n",
       "\n",
       "    .dataframe tbody tr th {\n",
       "        vertical-align: top;\n",
       "    }\n",
       "\n",
       "    .dataframe thead th {\n",
       "        text-align: right;\n",
       "    }\n",
       "</style>\n",
       "<table border=\"1\" class=\"dataframe\">\n",
       "  <thead>\n",
       "    <tr style=\"text-align: right;\">\n",
       "      <th></th>\n",
       "      <th>state_x</th>\n",
       "      <th>STATE</th>\n",
       "    </tr>\n",
       "  </thead>\n",
       "  <tbody>\n",
       "    <tr>\n",
       "      <th>0</th>\n",
       "      <td>1</td>\n",
       "      <td>AL</td>\n",
       "    </tr>\n",
       "    <tr>\n",
       "      <th>1</th>\n",
       "      <td>1</td>\n",
       "      <td>AL</td>\n",
       "    </tr>\n",
       "    <tr>\n",
       "      <th>2</th>\n",
       "      <td>1</td>\n",
       "      <td>AL</td>\n",
       "    </tr>\n",
       "    <tr>\n",
       "      <th>3</th>\n",
       "      <td>1</td>\n",
       "      <td>AL</td>\n",
       "    </tr>\n",
       "    <tr>\n",
       "      <th>4</th>\n",
       "      <td>1</td>\n",
       "      <td>AL</td>\n",
       "    </tr>\n",
       "  </tbody>\n",
       "</table>\n",
       "</div>"
      ],
      "text/plain": [
       "   state_x STATE\n",
       "0        1    AL\n",
       "1        1    AL\n",
       "2        1    AL\n",
       "3        1    AL\n",
       "4        1    AL"
      ]
     },
     "execution_count": 9,
     "metadata": {},
     "output_type": "execute_result"
    }
   ],
   "source": [
    "data_all[['state_x','STATE']].head()"
   ]
  },
  {
   "cell_type": "markdown",
   "id": "ccfdbde1",
   "metadata": {},
   "source": [
    "Looks like we can just drop 'state_x' actually because the abbreviation should be good enough for us. "
   ]
  },
  {
   "cell_type": "code",
   "execution_count": 10,
   "id": "5feb6e0c",
   "metadata": {},
   "outputs": [],
   "source": [
    "data_all.drop(['state_x','BST','ST'],axis=1,inplace=True)"
   ]
  },
  {
   "cell_type": "markdown",
   "id": "3299e598",
   "metadata": {},
   "source": [
    "Now look for our target variable name. We want to know whether individuals had health insurance or not."
   ]
  },
  {
   "cell_type": "code",
   "execution_count": 11,
   "id": "362932c0",
   "metadata": {},
   "outputs": [
    {
     "name": "stdout",
     "output_type": "stream",
     "text": [
      "PUBCOV : public health coverage recode\n",
      "PRIVCOV : private health insurance coverage recode\n",
      "HICOV : health insurance coverage recode\n",
      "FPUBCOVP : public health coverage recode allocation flag\n",
      "FHICOVP : health insurance coverage recode allocation flag\n",
      "FPRIVCOVP : private health insurance coverage recode allocation flag\n"
     ]
    }
   ],
   "source": [
    "insurance_related = list()\n",
    "for key, value in codedict.items():\n",
    "    if value.__contains__('health insurance') or value.__contains__('public health coverage'):\n",
    "        print(key + \" : \" + value)\n",
    "        insurance_related.append(key)"
   ]
  },
  {
   "cell_type": "markdown",
   "id": "4c4a3332",
   "metadata": {},
   "source": [
    "let's check details on health insurance coverage recode"
   ]
  },
  {
   "cell_type": "code",
   "execution_count": 12,
   "id": "bef060fd",
   "metadata": {},
   "outputs": [
    {
     "data": {
      "text/html": [
       "<div>\n",
       "<style scoped>\n",
       "    .dataframe tbody tr th:only-of-type {\n",
       "        vertical-align: middle;\n",
       "    }\n",
       "\n",
       "    .dataframe tbody tr th {\n",
       "        vertical-align: top;\n",
       "    }\n",
       "\n",
       "    .dataframe thead th {\n",
       "        text-align: right;\n",
       "    }\n",
       "</style>\n",
       "<table border=\"1\" class=\"dataframe\">\n",
       "  <thead>\n",
       "    <tr style=\"text-align: right;\">\n",
       "      <th></th>\n",
       "      <th>healthcodes</th>\n",
       "    </tr>\n",
       "  </thead>\n",
       "  <tbody>\n",
       "    <tr>\n",
       "      <th>0</th>\n",
       "      <td>HICOV</td>\n",
       "    </tr>\n",
       "    <tr>\n",
       "      <th>1</th>\n",
       "      <td>PRIVCOV</td>\n",
       "    </tr>\n",
       "    <tr>\n",
       "      <th>2</th>\n",
       "      <td>PUBCOV</td>\n",
       "    </tr>\n",
       "  </tbody>\n",
       "</table>\n",
       "</div>"
      ],
      "text/plain": [
       "  healthcodes\n",
       "0       HICOV\n",
       "1     PRIVCOV\n",
       "2      PUBCOV"
      ]
     },
     "execution_count": 12,
     "metadata": {},
     "output_type": "execute_result"
    }
   ],
   "source": [
    "targets_oi =  pd.DataFrame({'healthcodes':['HICOV','PRIVCOV','PUBCOV']})\n",
    "fname = os.path.join(datadir,str(nsamples) + 'targets_oi.csv')\n",
    "targets_oi.to_csv(fname)\n",
    "targets_oi"
   ]
  },
  {
   "cell_type": "code",
   "execution_count": 13,
   "id": "f9caa335",
   "metadata": {},
   "outputs": [
    {
     "name": "stdout",
     "output_type": "stream",
     "text": [
      "from PRIVCOV : \n",
      "1 : With private health insurance coverage\n",
      "2 : Without private health insurance coverage\n"
     ]
    }
   ],
   "source": [
    "targetname = targets_oi['healthcodes'][1]\n",
    "details = utils.variableDetails(targetname)\n",
    "print('from ' + targetname + ' : ')\n",
    "for key,value in details['values']['item'].items():\n",
    "    print(key, ':', value)\n",
    "targlabels = details['values']['item']"
   ]
  },
  {
   "cell_type": "code",
   "execution_count": 14,
   "id": "01f1741e",
   "metadata": {},
   "outputs": [
    {
     "data": {
      "image/png": "[encoded data removed]",
      "text/plain": [
       "<Figure size 432x288 with 1 Axes>"
      ]
     },
     "metadata": {
      "needs_background": "light"
     },
     "output_type": "display_data"
    }
   ],
   "source": [
    "# relabel values to match no insurance (0) or insurance (1)\n",
    "data_all[targetname] = data_all[targetname].replace({2:0})\n",
    "data_all[targetname].value_counts(normalize=True).plot.bar(color=['C0', 'C1'])\n",
    "sns.despine()\n",
    "plt.rc('font',size=20)\n",
    "plt.ylabel('proportion of sample')\n",
    "plt.xticks([0,1],targlabels.values())\n",
    "plt.show()"
   ]
  },
  {
   "cell_type": "code",
   "execution_count": 15,
   "id": "c00a400d",
   "metadata": {},
   "outputs": [
    {
     "data": {
      "image/png": "[encoded data removed]",
      "text/plain": [
       "<Figure size 1656x576 with 1 Axes>"
      ]
     },
     "metadata": {
      "needs_background": "light"
     },
     "output_type": "display_data"
    }
   ],
   "source": [
    "#plot percentage without by state\n",
    "for check in targlabels.values():\n",
    "    if check.__contains__('Without'):\n",
    "        ylab = check\n",
    "insdf  = data_all.groupby('STATE')[targetname].value_counts(normalize=True)\n",
    "insdf  = insdf.mul(100).rename('Percent').reset_index()\n",
    "insdf[insdf[targetname] == 0][['STATE','Percent']].sort_values('Percent',ascending=False).plot.bar(color=['C1'],x='STATE',y='Percent',figsize=(23,8))\n",
    "plt.ylabel(ylab)\n",
    "plt.show()"
   ]
  },
  {
   "cell_type": "markdown",
   "id": "4afcb3b3",
   "metadata": {},
   "source": [
    "We can drop the other health insurance related columns because they are conceptually similar to our target variable."
   ]
  },
  {
   "cell_type": "code",
   "execution_count": 16,
   "id": "9016952a",
   "metadata": {
    "scrolled": true
   },
   "outputs": [],
   "source": [
    "for column in insurance_related:\n",
    "    if column == targetname:\n",
    "        continue\n",
    "    else:\n",
    "        data_all.drop(column,axis=1,inplace=True)"
   ]
  },
  {
   "cell_type": "markdown",
   "id": "dcf53350",
   "metadata": {},
   "source": [
    "Now we can look to drop variables that have too many missing values."
   ]
  },
  {
   "cell_type": "code",
   "execution_count": 17,
   "id": "abd9242c",
   "metadata": {},
   "outputs": [],
   "source": [
    "missing_val = -1\n",
    "thresh      = .33\n",
    "for column in data_all:\n",
    "    if any(data_all[column].isin([missing_val])):\n",
    "        if data_all[column].isin([missing_val]).sum()/len(data_all[column]) > thresh:\n",
    "            dets = utils.variableDetails(column)\n",
    "            if dets['values']['item'][str(missing_val)].__contains__('N/A'):\n",
    "                data_all.drop(column,axis=1,inplace=True)           "
   ]
  },
  {
   "cell_type": "markdown",
   "id": "b6c482d5",
   "metadata": {},
   "source": [
    "We also can check if most of the data in a column is the same, with very few records deviating.\n",
    "If so, data may not be helpful/informative."
   ]
  },
  {
   "cell_type": "code",
   "execution_count": 18,
   "id": "f51080be",
   "metadata": {},
   "outputs": [],
   "source": [
    "cnt = 0\n",
    "thresh = 0.97\n",
    "for column in data_all:\n",
    "    prop = data_all[column].value_counts(normalize=True)\n",
    "    if any(prop >= thresh):\n",
    "        data_all.drop(column,axis=1,inplace=True) "
   ]
  },
  {
   "cell_type": "code",
   "execution_count": 19,
   "id": "0d1ba5a8",
   "metadata": {},
   "outputs": [
    {
     "name": "stdout",
     "output_type": "stream",
     "text": [
      "no missing values\n"
     ]
    }
   ],
   "source": [
    "# check for other null or missing values\n",
    "missing = pd.concat([data_all.isnull().sum(), 100 * data_all.isnull().mean()], axis=1)\n",
    "missing.columns=['count', '%']\n",
    "unqvals = missing['count'].unique()\n",
    "if any(unqvals > 0):\n",
    "    print('some missing values still')\n",
    "else:\n",
    "    print('no missing values')"
   ]
  },
  {
   "cell_type": "code",
   "execution_count": 20,
   "id": "62afe100",
   "metadata": {},
   "outputs": [],
   "source": [
    "# save data_all to csv file\n",
    "fname = os.path.join(datadir,'allstates_subsample' + str(nsamples) + '.csv')\n",
    "data_all.to_csv(fname)"
   ]
  }
 ],
 "metadata": {
  "kernelspec": {
   "display_name": "Python 3 (ipykernel)",
   "language": "python",
   "name": "python3"
  },
  "language_info": {
   "codemirror_mode": {
    "name": "ipython",
    "version": 3
   },
   "file_extension": ".py",
   "mimetype": "text/x-python",
   "name": "python",
   "nbconvert_exporter": "python",
   "pygments_lexer": "ipython3",
   "version": "3.9.12"
  }
 },
 "nbformat": 4,
 "nbformat_minor": 5
}
