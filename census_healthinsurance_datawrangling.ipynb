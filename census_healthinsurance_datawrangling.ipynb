{
 "cells": [
  {
   "cell_type": "markdown",
   "id": "5c9f8b5e",
   "metadata": {},
   "source": [
    "## predicting the health uninsured in the US"
   ]
  },
  {
   "cell_type": "markdown",
   "id": "1cd32d19",
   "metadata": {},
   "source": [
    "This project will call data from the American Community Survey Public Use MicroSample(PUMS) API. The most recent survey publicly availble at this API is from 2019. (Note data from 2020 are available to download in csv files).\n",
    "\n",
    "This project uses the Census Bureau Data API but is not endorsed or certified by the Census Bureau.\n",
    "\n",
    "1. American Community Survey (ACS) (census.gov).\n",
    "https://www.census.gov/programs-surveys/acs/\n",
    "2. American Community Survey Data via API (census.gov).\n",
    "https://www.census.gov/programs-surveys/acs/data/data-via-api.html\n",
    "\n",
    "The goal of this project is to predict whether an individual has health insurance (or not) based on demographic data in the PUMS. "
   ]
  },
  {
   "cell_type": "code",
   "execution_count": 1,
   "id": "43aba595",
   "metadata": {},
   "outputs": [],
   "source": [
    "# import libraries\n",
    "import os\n",
    "import glob\n",
    "import pandas as pd\n",
    "import requests\n",
    "import time\n",
    "import matplotlib.pyplot as plt\n",
    "import seaborn as sns\n",
    "from dotenv import load_dotenv"
   ]
  },
  {
   "cell_type": "markdown",
   "id": "4afcc313",
   "metadata": {},
   "source": [
    "There are hundreds of variables in the PUMS dataset. Load in the variable names (code) and their descriptions (label) from the API."
   ]
  },
  {
   "cell_type": "code",
   "execution_count": 2,
   "id": "bbb68293",
   "metadata": {},
   "outputs": [],
   "source": [
    "# load variable names from census PUMS (public use microsample) API\n",
    "load_dotenv()\n",
    "API_KEY  = os.getenv('CENSUS_API_KEY')\n",
    "host     = 'https://api.census.gov/data'\n",
    "year     = 2019\n",
    "dataset  = 'acs/acs1/pums/variables'\n",
    "base_url = \"/\".join([host, str(year), dataset]) \n",
    "r        = requests.get(base_url)\n",
    "rlists   = r.json()\n",
    "code     = [item[0] for item in rlists if item[0].isupper()] #code in API\n",
    "label    = [item[1].lower() for item in rlists if item[0].isupper()] # description for each code\n",
    "nsamples = 500\n",
    "\n",
    "codedict = {} # redudant with code, label but may make life easier later on\n",
    "count    = 0\n",
    "for lab in label:\n",
    "    codedict[code[count]] = lab\n",
    "    count += 1"
   ]
  },
  {
   "cell_type": "code",
   "execution_count": 3,
   "id": "79e8a560",
   "metadata": {},
   "outputs": [
    {
     "name": "stdout",
     "output_type": "stream",
     "text": [
      "    BST STATE\n",
      "47   53    WA\n",
      "48   54    WV\n",
      "49   55    WI\n",
      "50   56    WY\n",
      "51   72    PR\n",
      "    BST STATE\n",
      "46   51    VA\n",
      "47   53    WA\n",
      "48   54    WV\n",
      "49   55    WI\n",
      "50   56    WY\n"
     ]
    }
   ],
   "source": [
    "# this link leads to info on the codes for each state + DC which we need for our api calls\n",
    "stateinfo = pd.read_csv('https://www2.census.gov/programs-surveys/acs/tech_docs/pums/top_coded_values/2019_pums_top_and_bottom_coded_values.csv')\n",
    "stateinfo = stateinfo.loc[:, stateinfo.columns.isin(['BST','STATE'])]\n",
    "print(stateinfo.tail())\n",
    "# Drop Puerto Rico for simplicity\n",
    "stateinfo = stateinfo[stateinfo.STATE != 'PR']\n",
    "print(stateinfo.tail())"
   ]
  },
  {
   "cell_type": "markdown",
   "id": "5bf2cf3c",
   "metadata": {},
   "source": [
    "When calling the Census API, a maximum of 50 variables can be requested at one time. The data are also easily accessed state-by-state. The PUMS represents ~1% of the population. If we want to use data from all states, we could start by subsampling from availbable records. Set the number of samples (nsamples) in getCensusDataByState().\n",
    "\n",
    "One approach is to request data from a list of variables for a specific state in one call. The function callCensusAPI() below is meant to return a dataframe with variables in 'select_codes' from one state ('stateid'). A second function, getCensusDataByState() is meant to request data for all variables for one state in multiple calls and merge that data into one single dataframe for that state."
   ]
  },
  {
   "cell_type": "code",
   "execution_count": 4,
   "id": "ba650502",
   "metadata": {},
   "outputs": [],
   "source": [
    "# function to get data from Census API, Public Access MicroData Samples using list of codes (max 50), state id number \n",
    "def callCensusApi(API_KEY,year,select_codes,stateid):\n",
    "    host     = 'https://api.census.gov/data'\n",
    "    dataset  = 'acs/acs1/pums'\n",
    "    query    = '?get='\n",
    "    variable = ','.join(select_codes)\n",
    "    base_url = \"/\".join([host, str(year), dataset]) + query + variable + '&for=state:' + stateid + '&key=' + API_KEY\n",
    "    callbeg  = time.time()\n",
    "    r        = requests.get(base_url) \n",
    "    colnames = variable.split(',')\n",
    "    colnames.append('state')\n",
    "    df       = pd.DataFrame(columns=colnames, data=r.json()[1:]) \n",
    "    tElapsed = time.time()-callbeg\n",
    "    return (tElapsed,df)"
   ]
  },
  {
   "cell_type": "code",
   "execution_count": 5,
   "id": "cbfc0277",
   "metadata": {},
   "outputs": [],
   "source": [
    "# get full dataframe (all variables in code) for one state. uses callCensusAPI function above\n",
    "def getCensusDataByState(state_id):\n",
    "    max_var_call = 50\n",
    "    start_var_n  = 0\n",
    "    end_var_n = start_var_n + max_var_call\n",
    "    totalTime = 0\n",
    "    while end_var_n <= len(code): \n",
    "        tElapsed, hdf = callCensusApi(API_KEY,year,code[start_var_n:end_var_n],state_id)\n",
    "        if start_var_n == 0:\n",
    "            df = hdf.sample(nsamples)\n",
    "            rowid = df.index\n",
    "            df = df.reset_index()\n",
    "        else:\n",
    "            sub = hdf.iloc[rowid]\n",
    "            sub = sub.reset_index()\n",
    "            df = pd.merge(df,sub,how='left',on='index')\n",
    "            del sub\n",
    "        totalTime = totalTime + tElapsed\n",
    "        start_var_n = end_var_n + 1\n",
    "        end_var_n = start_var_n + max_var_call\n",
    "    if df.shape[1] < len(code):\n",
    "        tElapsed, hdf = callCensusApi(API_KEY,year,code[start_var_n:len(code)],state_id)\n",
    "        sub = hdf.iloc[rowid]\n",
    "        sub = sub.reset_index()\n",
    "        df  = pd.merge(df,sub,how='left',on='index')      \n",
    "        totalTime = totalTime + tElapsed\n",
    "        del hdf\n",
    "    return (df,totalTime)"
   ]
  },
  {
   "cell_type": "markdown",
   "id": "995f40c3",
   "metadata": {},
   "source": [
    "With the functions above, we can loop through our states of interest and save a dataframe for each if it does not exist locally yet."
   ]
  },
  {
   "cell_type": "code",
   "execution_count": 6,
   "id": "25b02dff",
   "metadata": {},
   "outputs": [
    {
     "name": "stdout",
     "output_type": "stream",
     "text": [
      "directory already exists\n"
     ]
    }
   ],
   "source": [
    "datadir = os.path.join(os.getcwd(),\"data\")\n",
    "try:\n",
    "    os.mkdir(datadir)\n",
    "except:\n",
    "    print('directory already exists')"
   ]
  },
  {
   "cell_type": "code",
   "execution_count": 7,
   "id": "8c8e53cc",
   "metadata": {},
   "outputs": [],
   "source": [
    "# call API for states in loop and save csv locally if it doesn't exist yet:\n",
    "for state in stateinfo['BST']:\n",
    "    state_id  =  f\"{state:02}\"\n",
    "    fname = os.path.join(datadir,'state' + state_id + '_subsample' + str(nsamples) + '.csv')\n",
    "    if os.path.exists(fname) == False:\n",
    "        df,totalTime = getCensusDataByState(state_id)\n",
    "        # save the data to a new csv file\n",
    "        df.to_csv(fname)\n",
    "        print('state' + state_id + ': ' + str(totalTime))\n",
    "        del df\n",
    "        del fname\n",
    "        del state_id"
   ]
  },
  {
   "cell_type": "code",
   "execution_count": 8,
   "id": "aae5be19",
   "metadata": {},
   "outputs": [],
   "source": [
    "# load saved csv files:\n",
    "filenames = glob.glob(os.path.join(datadir,'state' + '*' + str(nsamples) + '.csv'))\n",
    "data_all = pd.concat((pd.read_csv(file) for file in filenames)).reset_index(drop = True) # Import"
   ]
  },
  {
   "cell_type": "code",
   "execution_count": 9,
   "id": "ad63158f",
   "metadata": {},
   "outputs": [
    {
     "name": "stdout",
     "output_type": "stream",
     "text": [
      "shape of the subsampled dataframe: 25500 by 518\n",
      "   Unnamed: 0  index  HHLANP  FBATHP  DRIVESP  WGTP23  WGTP22  WGTP25  WGTP24  \\\n",
      "0           0  35900    9500       0        0     225      61     246      81   \n",
      "1           1  13014    9500       0        0      48      55      42      16   \n",
      "2           2  44316    9500       1        0      91     132      93     160   \n",
      "3           3  26573    9500       0        0      60      77      53      57   \n",
      "4           4  27452    9500       0        0      25      94     123      34   \n",
      "\n",
      "   RACNH  ...  FDOUTP  PERNP  SCH  state_y.4  TEL  TEN  MLPI  MLPJ  MLPK  \\\n",
      "0      0  ...       0  29200    1          1    1    3    -1    -1    -1   \n",
      "1      0  ...       0 -10001    2          1    1    1    -1    -1    -1   \n",
      "2      0  ...       0   2600    2          1    1    3    -1    -1    -1   \n",
      "3      0  ...       0      0    1          1    1    2    -1    -1    -1   \n",
      "4      0  ...       0 -10001    3          1    1    3     0     0     0   \n",
      "\n",
      "   state  \n",
      "0      1  \n",
      "1      1  \n",
      "2      1  \n",
      "3      1  \n",
      "4      1  \n",
      "\n",
      "[5 rows x 518 columns]\n"
     ]
    }
   ],
   "source": [
    "# check basic attributes of saved data:\n",
    "print('shape of the subsampled dataframe: ' + str(data_all.shape[0]) + ' by ' + str(data_all.shape[1]))\n",
    "print(data_all.head())"
   ]
  },
  {
   "cell_type": "code",
   "execution_count": 10,
   "id": "b2f7dcb5",
   "metadata": {},
   "outputs": [],
   "source": [
    "# call api for more details on a specific variable\n",
    "def variableDetails(codename):\n",
    "    base_url = \"/\".join([host, str(year), dataset, codename + '.json']) \n",
    "    r        = requests.get(base_url)\n",
    "    detail   = r.json()\n",
    "    return detail"
   ]
  },
  {
   "cell_type": "code",
   "execution_count": 11,
   "id": "1611b6c8",
   "metadata": {},
   "outputs": [
    {
     "name": "stdout",
     "output_type": "stream",
     "text": [
      "keeping Unnamed: 0\n",
      "keeping index\n",
      "keeping state_x\n",
      "keeping state_y\n",
      "keeping state\n",
      "(25500, 510)\n"
     ]
    }
   ],
   "source": [
    "# check for extra columns that may have appeared from the dataframe merger:\n",
    "for column in data_all:\n",
    "    if column not in codedict.keys():\n",
    "        if column.__contains__('.'):\n",
    "            data_all.drop(column,axis=1,inplace=True)\n",
    "        else:\n",
    "            print('keeping ' + column)\n",
    "\n",
    "print(data_all.shape)"
   ]
  },
  {
   "cell_type": "code",
   "execution_count": 12,
   "id": "a7730ac5",
   "metadata": {},
   "outputs": [],
   "source": [
    "# based on the way we merged state_x and state_y should be redundant\n",
    "if data_all['state_x'].equals(data_all['state_y']):\n",
    "    data_all.drop('state_y',inplace=True,axis=1)"
   ]
  },
  {
   "cell_type": "code",
   "execution_count": 13,
   "id": "f37cfc12",
   "metadata": {},
   "outputs": [],
   "source": [
    "# the state column should be incomplete based on the way we merged, drop if it has more missing values than 'state_x'\n",
    "if data_all['state'].isna().sum() > data_all['state_x'].isna().sum():\n",
    "    data_all.drop('state',axis=1,inplace=True)\n",
    "# drop Unnamed: 0 because it's not useful at this point (from old indices)\n",
    "data_all.drop('Unnamed: 0',axis=1,inplace=True)"
   ]
  },
  {
   "cell_type": "code",
   "execution_count": 14,
   "id": "6ef517c9",
   "metadata": {},
   "outputs": [],
   "source": [
    "# add state name from stateinfo to data_all for ease\n",
    "data_all = data_all.merge(stateinfo,left_on='state_x',right_on='BST')"
   ]
  },
  {
   "cell_type": "code",
   "execution_count": 15,
   "id": "f6bf2e9c",
   "metadata": {},
   "outputs": [],
   "source": [
    "if data_all['state'].equals(data_all['BST']):\n",
    "    data_all = data_all.drop('state',axis=1)"
   ]
  },
  {
   "cell_type": "code",
   "execution_count": 16,
   "id": "362932c0",
   "metadata": {},
   "outputs": [
    {
     "name": "stdout",
     "output_type": "stream",
     "text": [
      "PRIVCOV : private health insurance coverage recode\n",
      "HICOV : health insurance coverage recode\n",
      "FHICOVP : health insurance coverage recode allocation flag\n",
      "FPRIVCOVP : private health insurance coverage recode allocation flag\n"
     ]
    }
   ],
   "source": [
    "# check for target variable (health insured or not):\n",
    "for key, value in codedict.items():\n",
    "    if value.__contains__('health insurance'):\n",
    "        print(key + \" : \" + value)"
   ]
  },
  {
   "cell_type": "code",
   "execution_count": 17,
   "id": "c1a2e6d8",
   "metadata": {},
   "outputs": [
    {
     "name": "stdout",
     "output_type": "stream",
     "text": [
      "from HICOV : \n",
      "2 : No health insurance coverage\n",
      "1 : With health insurance coverage\n",
      "from FHICOVP : \n",
      "0 : No\n",
      "1 : Yes\n"
     ]
    }
   ],
   "source": [
    "# let's check details on health insurance coverage recode, and \"...allocation flag\"\n",
    "codename = 'HICOV'\n",
    "details = variableDetails(codename)\n",
    "print('from ' + codename + ' : ')\n",
    "for key,value in details['values']['item'].items():\n",
    "    print(key, ':', value)\n",
    "\n",
    "codename = 'FHICOVP'\n",
    "print('from ' + codename + ' : ')\n",
    "details = variableDetails(codename)\n",
    "for key,value in details['values']['item'].items():\n",
    "    print(key, ':', value)"
   ]
  },
  {
   "cell_type": "code",
   "execution_count": 18,
   "id": "9016952a",
   "metadata": {
    "scrolled": true
   },
   "outputs": [
    {
     "name": "stdout",
     "output_type": "stream",
     "text": [
      "(25500, 509)\n",
      "(25500, 508)\n"
     ]
    }
   ],
   "source": [
    "# we can drop the HICOV column, since HICOV and FHICOVP have the same info\n",
    "print(data_all.shape)\n",
    "data_all.drop('HICOV',axis=1,inplace=True)\n",
    "print(data_all.shape)"
   ]
  },
  {
   "cell_type": "code",
   "execution_count": 19,
   "id": "0d1ba5a8",
   "metadata": {},
   "outputs": [
    {
     "data": {
      "text/html": [
       "<div>\n",
       "<style scoped>\n",
       "    .dataframe tbody tr th:only-of-type {\n",
       "        vertical-align: middle;\n",
       "    }\n",
       "\n",
       "    .dataframe tbody tr th {\n",
       "        vertical-align: top;\n",
       "    }\n",
       "\n",
       "    .dataframe thead th {\n",
       "        text-align: right;\n",
       "    }\n",
       "</style>\n",
       "<table border=\"1\" class=\"dataframe\">\n",
       "  <thead>\n",
       "    <tr style=\"text-align: right;\">\n",
       "      <th></th>\n",
       "      <th>count</th>\n",
       "      <th>%</th>\n",
       "    </tr>\n",
       "  </thead>\n",
       "  <tbody>\n",
       "    <tr>\n",
       "      <th>index</th>\n",
       "      <td>0</td>\n",
       "      <td>0.0</td>\n",
       "    </tr>\n",
       "    <tr>\n",
       "      <th>HHLANP</th>\n",
       "      <td>0</td>\n",
       "      <td>0.0</td>\n",
       "    </tr>\n",
       "    <tr>\n",
       "      <th>FBATHP</th>\n",
       "      <td>0</td>\n",
       "      <td>0.0</td>\n",
       "    </tr>\n",
       "    <tr>\n",
       "      <th>DRIVESP</th>\n",
       "      <td>0</td>\n",
       "      <td>0.0</td>\n",
       "    </tr>\n",
       "    <tr>\n",
       "      <th>WGTP23</th>\n",
       "      <td>0</td>\n",
       "      <td>0.0</td>\n",
       "    </tr>\n",
       "    <tr>\n",
       "      <th>...</th>\n",
       "      <td>...</td>\n",
       "      <td>...</td>\n",
       "    </tr>\n",
       "    <tr>\n",
       "      <th>MLPI</th>\n",
       "      <td>0</td>\n",
       "      <td>0.0</td>\n",
       "    </tr>\n",
       "    <tr>\n",
       "      <th>MLPJ</th>\n",
       "      <td>0</td>\n",
       "      <td>0.0</td>\n",
       "    </tr>\n",
       "    <tr>\n",
       "      <th>MLPK</th>\n",
       "      <td>0</td>\n",
       "      <td>0.0</td>\n",
       "    </tr>\n",
       "    <tr>\n",
       "      <th>BST</th>\n",
       "      <td>0</td>\n",
       "      <td>0.0</td>\n",
       "    </tr>\n",
       "    <tr>\n",
       "      <th>STATE</th>\n",
       "      <td>0</td>\n",
       "      <td>0.0</td>\n",
       "    </tr>\n",
       "  </tbody>\n",
       "</table>\n",
       "<p>508 rows × 2 columns</p>\n",
       "</div>"
      ],
      "text/plain": [
       "         count    %\n",
       "index        0  0.0\n",
       "HHLANP       0  0.0\n",
       "FBATHP       0  0.0\n",
       "DRIVESP      0  0.0\n",
       "WGTP23       0  0.0\n",
       "...        ...  ...\n",
       "MLPI         0  0.0\n",
       "MLPJ         0  0.0\n",
       "MLPK         0  0.0\n",
       "BST          0  0.0\n",
       "STATE        0  0.0\n",
       "\n",
       "[508 rows x 2 columns]"
      ]
     },
     "execution_count": 19,
     "metadata": {},
     "output_type": "execute_result"
    }
   ],
   "source": [
    "# check for null or missing values\n",
    "missing = pd.concat([data_all.isnull().sum(), 100 * data_all.isnull().mean()], axis=1)\n",
    "missing.columns=['count', '%']\n",
    "missing.sort_values(by='count',ascending=False)\n",
    "missing"
   ]
  },
  {
   "cell_type": "markdown",
   "id": "22c3914a",
   "metadata": {},
   "source": [
    "Our subsample dataframe appears to be void of missing values. \n",
    "Now going to look more at our target variable, FHICOVP (has health insurance or does not have health insurance)"
   ]
  },
  {
   "cell_type": "code",
   "execution_count": 20,
   "id": "a913bce2",
   "metadata": {},
   "outputs": [
    {
     "data": {
      "text/plain": [
       "[Text(0, 0, 'health insured'), Text(0, 1, 'health uninsured')]"
      ]
     },
     "execution_count": 20,
     "metadata": {},
     "output_type": "execute_result"
    },
    {
     "data": {
      "image/png": "[encoded data removed]",
      "text/plain": [
       "<Figure size 432x288 with 1 Axes>"
      ]
     },
     "metadata": {
      "needs_background": "light"
     },
     "output_type": "display_data"
    }
   ],
   "source": [
    "#plot overall percentage insured and uninsured\n",
    "ax = data_all['FHICOVP'].value_counts(normalize=True).plot(kind='barh')\n",
    "plt.xlabel('proportion of sample')\n",
    "ax.set_yticks([0,1])\n",
    "ax.set_yticklabels(['health insured','health uninsured'])"
   ]
  },
  {
   "cell_type": "code",
   "execution_count": 21,
   "id": "dbeb52a5",
   "metadata": {},
   "outputs": [
    {
     "data": {
      "text/plain": [
       "(0.0, 100.0)"
      ]
     },
     "execution_count": 21,
     "metadata": {},
     "output_type": "execute_result"
    },
    {
     "data": {
      "image/png": "[encoded data removed]",
      "text/plain": [
       "<Figure size 1389.33x216 with 1 Axes>"
      ]
     },
     "metadata": {},
     "output_type": "display_data"
    }
   ],
   "source": [
    "#plot percentage insured and uninsured by state\n",
    "insdf  = data_all.groupby('STATE')['FHICOVP'].value_counts(normalize=True)\n",
    "insdf  = insdf.mul(100).rename('Percent').reset_index()\n",
    "sns.set(font_scale=1.5)\n",
    "g = sns.catplot(x='STATE', y='Percent',hue='FHICOVP', kind='bar', data=insdf, height=3,aspect=6)\n",
    "g.ax.set_ylim(0,100)"
   ]
  }
 ],
 "metadata": {
  "kernelspec": {
   "display_name": "Python 3 (ipykernel)",
   "language": "python",
   "name": "python3"
  },
  "language_info": {
   "codemirror_mode": {
    "name": "ipython",
    "version": 3
   },
   "file_extension": ".py",
   "mimetype": "text/x-python",
   "name": "python",
   "nbconvert_exporter": "python",
   "pygments_lexer": "ipython3",
   "version": "3.9.7"
  }
 },
 "nbformat": 4,
 "nbformat_minor": 5
}
