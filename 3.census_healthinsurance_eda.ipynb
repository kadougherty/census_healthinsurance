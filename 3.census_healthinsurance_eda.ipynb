{
 "cells": [
  {
   "cell_type": "markdown",
   "id": "b4884408",
   "metadata": {},
   "source": [
    "# predicting health coverage in the US"
   ]
  },
  {
   "cell_type": "markdown",
   "id": "c0ea8d50",
   "metadata": {},
   "source": [
    "This project will call data from the American Community Survey Public Use MicroSample(PUMS) API. The most recent survey publicly availble at this API is from 2019. (Note data from 2020 are available to download in csv files).\n",
    "\n",
    "This project uses the Census Bureau Data API but is not endorsed or certified by the Census Bureau.\n",
    "\n",
    "1. American Community Survey (ACS) (census.gov).\n",
    "https://www.census.gov/programs-surveys/acs/\n",
    "2. American Community Survey Data via API (census.gov).\n",
    "https://www.census.gov/programs-surveys/acs/data/data-via-api.html\n",
    "\n",
    "The goal of this project is to predict whether an individual has health insurance (or not) based on demographic data in the PUMS. "
   ]
  },
  {
   "cell_type": "code",
   "execution_count": 1,
   "id": "df6eba72",
   "metadata": {},
   "outputs": [],
   "source": [
    "# import libraries\n",
    "import os\n",
    "import glob\n",
    "import pandas as pd\n",
    "import requests\n",
    "import time\n",
    "import matplotlib.pyplot as plt\n",
    "import seaborn as sns\n",
    "import ppscore as pps\n",
    "import numpy as np\n",
    "from dotenv import load_dotenv\n",
    "from statsmodels.graphics.mosaicplot import mosaic\n",
    "import utils"
   ]
  },
  {
   "cell_type": "markdown",
   "id": "ad29b9d4",
   "metadata": {},
   "source": [
    "Load the cleaned data and the code dictionary for the column names."
   ]
  },
  {
   "cell_type": "code",
   "execution_count": 2,
   "id": "6e4dde16",
   "metadata": {},
   "outputs": [
    {
     "name": "stdout",
     "output_type": "stream",
     "text": [
      "our target variable is private health insurance coverage recode\n",
      "currently there are 448 predictors in the dataset.\n"
     ]
    }
   ],
   "source": [
    "nsamples = 500\n",
    "datadir  = os.path.join(os.getcwd(),\"data\")\n",
    "\n",
    "df_fname = os.path.join(datadir,'allstates_subsample' + str(nsamples) + '_defvars_df.pkl')\n",
    "df = pd.read_pickle(df_fname)\n",
    "\n",
    "verbdf_fname = os.path.join(datadir,'allstates_subsample' + str(nsamples) + '_defvars_verbdf.pkl')\n",
    "verbdf = pd.read_pickle(verbdf_fname)\n",
    "\n",
    "fname    = os.path.join(datadir,str(nsamples) + 'targets_oi.csv')\n",
    "targ_oi  = pd.read_csv(fname)\n",
    "\n",
    "codedict = utils.getCodeDictionary()\n",
    "target   = targ_oi['healthcodes'][1]\n",
    "\n",
    "print('our target variable is ' + codedict[target])\n",
    "print('currently there are ' + str(df.shape[1]-1) + ' predictors in the dataset.')"
   ]
  },
  {
   "cell_type": "code",
   "execution_count": 3,
   "id": "1cc4cc28",
   "metadata": {},
   "outputs": [
    {
     "data": {
      "text/html": [
       "<div>\n",
       "<style scoped>\n",
       "    .dataframe tbody tr th:only-of-type {\n",
       "        vertical-align: middle;\n",
       "    }\n",
       "\n",
       "    .dataframe tbody tr th {\n",
       "        vertical-align: top;\n",
       "    }\n",
       "\n",
       "    .dataframe thead th {\n",
       "        text-align: right;\n",
       "    }\n",
       "</style>\n",
       "<table border=\"1\" class=\"dataframe\">\n",
       "  <thead>\n",
       "    <tr style=\"text-align: right;\">\n",
       "      <th></th>\n",
       "      <th>HHLANP</th>\n",
       "      <th>FBATHP</th>\n",
       "      <th>DRIVESP</th>\n",
       "      <th>WGTP23</th>\n",
       "      <th>WGTP22</th>\n",
       "      <th>WGTP25</th>\n",
       "      <th>WGTP24</th>\n",
       "      <th>FWATP</th>\n",
       "      <th>WGTP21</th>\n",
       "      <th>WGTP20</th>\n",
       "      <th>...</th>\n",
       "      <th>FOD1P</th>\n",
       "      <th>FMARP</th>\n",
       "      <th>SOCP</th>\n",
       "      <th>FSMOCP</th>\n",
       "      <th>FDOUTP</th>\n",
       "      <th>PERNP</th>\n",
       "      <th>SCH</th>\n",
       "      <th>TEL</th>\n",
       "      <th>TEN</th>\n",
       "      <th>STATE</th>\n",
       "    </tr>\n",
       "  </thead>\n",
       "  <tbody>\n",
       "    <tr>\n",
       "      <th>0</th>\n",
       "      <td>9500</td>\n",
       "      <td>0</td>\n",
       "      <td>0</td>\n",
       "      <td>225</td>\n",
       "      <td>61</td>\n",
       "      <td>246</td>\n",
       "      <td>81</td>\n",
       "      <td>0</td>\n",
       "      <td>310</td>\n",
       "      <td>291</td>\n",
       "      <td>...</td>\n",
       "      <td>2304</td>\n",
       "      <td>0</td>\n",
       "      <td>151299</td>\n",
       "      <td>1</td>\n",
       "      <td>0</td>\n",
       "      <td>29200</td>\n",
       "      <td>1</td>\n",
       "      <td>1</td>\n",
       "      <td>3</td>\n",
       "      <td>AL</td>\n",
       "    </tr>\n",
       "    <tr>\n",
       "      <th>1</th>\n",
       "      <td>9500</td>\n",
       "      <td>0</td>\n",
       "      <td>0</td>\n",
       "      <td>48</td>\n",
       "      <td>55</td>\n",
       "      <td>42</td>\n",
       "      <td>16</td>\n",
       "      <td>0</td>\n",
       "      <td>108</td>\n",
       "      <td>51</td>\n",
       "      <td>...</td>\n",
       "      <td>1099</td>\n",
       "      <td>0</td>\n",
       "      <td>-1</td>\n",
       "      <td>0</td>\n",
       "      <td>0</td>\n",
       "      <td>-10001</td>\n",
       "      <td>2</td>\n",
       "      <td>1</td>\n",
       "      <td>1</td>\n",
       "      <td>AL</td>\n",
       "    </tr>\n",
       "    <tr>\n",
       "      <th>2</th>\n",
       "      <td>9500</td>\n",
       "      <td>1</td>\n",
       "      <td>0</td>\n",
       "      <td>91</td>\n",
       "      <td>132</td>\n",
       "      <td>93</td>\n",
       "      <td>160</td>\n",
       "      <td>1</td>\n",
       "      <td>104</td>\n",
       "      <td>176</td>\n",
       "      <td>...</td>\n",
       "      <td>1099</td>\n",
       "      <td>0</td>\n",
       "      <td>412010</td>\n",
       "      <td>0</td>\n",
       "      <td>0</td>\n",
       "      <td>2600</td>\n",
       "      <td>2</td>\n",
       "      <td>1</td>\n",
       "      <td>3</td>\n",
       "      <td>AL</td>\n",
       "    </tr>\n",
       "    <tr>\n",
       "      <th>3</th>\n",
       "      <td>9500</td>\n",
       "      <td>0</td>\n",
       "      <td>0</td>\n",
       "      <td>60</td>\n",
       "      <td>77</td>\n",
       "      <td>53</td>\n",
       "      <td>57</td>\n",
       "      <td>0</td>\n",
       "      <td>55</td>\n",
       "      <td>16</td>\n",
       "      <td>...</td>\n",
       "      <td>1099</td>\n",
       "      <td>0</td>\n",
       "      <td>-1</td>\n",
       "      <td>1</td>\n",
       "      <td>0</td>\n",
       "      <td>0</td>\n",
       "      <td>1</td>\n",
       "      <td>1</td>\n",
       "      <td>2</td>\n",
       "      <td>AL</td>\n",
       "    </tr>\n",
       "    <tr>\n",
       "      <th>4</th>\n",
       "      <td>9500</td>\n",
       "      <td>0</td>\n",
       "      <td>0</td>\n",
       "      <td>25</td>\n",
       "      <td>94</td>\n",
       "      <td>123</td>\n",
       "      <td>34</td>\n",
       "      <td>0</td>\n",
       "      <td>188</td>\n",
       "      <td>120</td>\n",
       "      <td>...</td>\n",
       "      <td>1099</td>\n",
       "      <td>0</td>\n",
       "      <td>-1</td>\n",
       "      <td>0</td>\n",
       "      <td>0</td>\n",
       "      <td>-10001</td>\n",
       "      <td>3</td>\n",
       "      <td>1</td>\n",
       "      <td>3</td>\n",
       "      <td>AL</td>\n",
       "    </tr>\n",
       "  </tbody>\n",
       "</table>\n",
       "<p>5 rows × 449 columns</p>\n",
       "</div>"
      ],
      "text/plain": [
       "  HHLANP FBATHP DRIVESP  WGTP23  WGTP22  WGTP25  WGTP24 FWATP  WGTP21  WGTP20  \\\n",
       "0   9500      0       0     225      61     246      81     0     310     291   \n",
       "1   9500      0       0      48      55      42      16     0     108      51   \n",
       "2   9500      1       0      91     132      93     160     1     104     176   \n",
       "3   9500      0       0      60      77      53      57     0      55      16   \n",
       "4   9500      0       0      25      94     123      34     0     188     120   \n",
       "\n",
       "   ...  FOD1P  FMARP    SOCP  FSMOCP FDOUTP  PERNP SCH TEL TEN STATE  \n",
       "0  ...   2304      0  151299       1      0  29200   1   1   3    AL  \n",
       "1  ...   1099      0      -1       0      0 -10001   2   1   1    AL  \n",
       "2  ...   1099      0  412010       0      0   2600   2   1   3    AL  \n",
       "3  ...   1099      0      -1       1      0      0   1   1   2    AL  \n",
       "4  ...   1099      0      -1       0      0 -10001   3   1   3    AL  \n",
       "\n",
       "[5 rows x 449 columns]"
      ]
     },
     "execution_count": 3,
     "metadata": {},
     "output_type": "execute_result"
    }
   ],
   "source": [
    "df.head()"
   ]
  },
  {
   "cell_type": "markdown",
   "id": "9f9a2b55",
   "metadata": {},
   "source": [
    "We know that there are a number of categorical variables in the dataset, as well as numerical variables. We can use the predictive power score (pps) to estimate the predictive power of each variable for our target variable. However, to use the predictive power score, we need to convert categorical variables to data type 'category.' "
   ]
  },
  {
   "cell_type": "code",
   "execution_count": 4,
   "id": "3191c6f6",
   "metadata": {},
   "outputs": [
    {
     "data": {
      "text/html": [
       "<div>\n",
       "<style scoped>\n",
       "    .dataframe tbody tr th:only-of-type {\n",
       "        vertical-align: middle;\n",
       "    }\n",
       "\n",
       "    .dataframe tbody tr th {\n",
       "        vertical-align: top;\n",
       "    }\n",
       "\n",
       "    .dataframe thead th {\n",
       "        text-align: right;\n",
       "    }\n",
       "</style>\n",
       "<table border=\"1\" class=\"dataframe\">\n",
       "  <thead>\n",
       "    <tr style=\"text-align: right;\">\n",
       "      <th></th>\n",
       "      <th>y</th>\n",
       "      <th>ppscore</th>\n",
       "      <th>case</th>\n",
       "      <th>is_valid_score</th>\n",
       "      <th>metric</th>\n",
       "      <th>baseline_score</th>\n",
       "      <th>model_score</th>\n",
       "      <th>model</th>\n",
       "    </tr>\n",
       "    <tr>\n",
       "      <th>x</th>\n",
       "      <th></th>\n",
       "      <th></th>\n",
       "      <th></th>\n",
       "      <th></th>\n",
       "      <th></th>\n",
       "      <th></th>\n",
       "      <th></th>\n",
       "      <th></th>\n",
       "    </tr>\n",
       "  </thead>\n",
       "  <tbody>\n",
       "    <tr>\n",
       "      <th>HINCP</th>\n",
       "      <td>PRIVCOV</td>\n",
       "      <td>0.240855</td>\n",
       "      <td>classification</td>\n",
       "      <td>True</td>\n",
       "      <td>weighted F1</td>\n",
       "      <td>0.5884</td>\n",
       "      <td>0.687536</td>\n",
       "      <td>DecisionTreeClassifier()</td>\n",
       "    </tr>\n",
       "    <tr>\n",
       "      <th>DIS</th>\n",
       "      <td>PRIVCOV</td>\n",
       "      <td>0.229637</td>\n",
       "      <td>classification</td>\n",
       "      <td>True</td>\n",
       "      <td>weighted F1</td>\n",
       "      <td>0.5884</td>\n",
       "      <td>0.682919</td>\n",
       "      <td>DecisionTreeClassifier()</td>\n",
       "    </tr>\n",
       "    <tr>\n",
       "      <th>FS</th>\n",
       "      <td>PRIVCOV</td>\n",
       "      <td>0.182332</td>\n",
       "      <td>classification</td>\n",
       "      <td>True</td>\n",
       "      <td>weighted F1</td>\n",
       "      <td>0.5884</td>\n",
       "      <td>0.663448</td>\n",
       "      <td>DecisionTreeClassifier()</td>\n",
       "    </tr>\n",
       "    <tr>\n",
       "      <th>VEH</th>\n",
       "      <td>PRIVCOV</td>\n",
       "      <td>0.167774</td>\n",
       "      <td>classification</td>\n",
       "      <td>True</td>\n",
       "      <td>weighted F1</td>\n",
       "      <td>0.5884</td>\n",
       "      <td>0.657456</td>\n",
       "      <td>DecisionTreeClassifier()</td>\n",
       "    </tr>\n",
       "    <tr>\n",
       "      <th>POVPIP</th>\n",
       "      <td>PRIVCOV</td>\n",
       "      <td>0.154832</td>\n",
       "      <td>classification</td>\n",
       "      <td>True</td>\n",
       "      <td>weighted F1</td>\n",
       "      <td>0.5884</td>\n",
       "      <td>0.652129</td>\n",
       "      <td>DecisionTreeClassifier()</td>\n",
       "    </tr>\n",
       "    <tr>\n",
       "      <th>WGTP37</th>\n",
       "      <td>PRIVCOV</td>\n",
       "      <td>0.151480</td>\n",
       "      <td>classification</td>\n",
       "      <td>True</td>\n",
       "      <td>weighted F1</td>\n",
       "      <td>0.5884</td>\n",
       "      <td>0.650749</td>\n",
       "      <td>DecisionTreeClassifier()</td>\n",
       "    </tr>\n",
       "    <tr>\n",
       "      <th>WGTP51</th>\n",
       "      <td>PRIVCOV</td>\n",
       "      <td>0.142115</td>\n",
       "      <td>classification</td>\n",
       "      <td>True</td>\n",
       "      <td>weighted F1</td>\n",
       "      <td>0.5884</td>\n",
       "      <td>0.646895</td>\n",
       "      <td>DecisionTreeClassifier()</td>\n",
       "    </tr>\n",
       "    <tr>\n",
       "      <th>WGTP7</th>\n",
       "      <td>PRIVCOV</td>\n",
       "      <td>0.141446</td>\n",
       "      <td>classification</td>\n",
       "      <td>True</td>\n",
       "      <td>weighted F1</td>\n",
       "      <td>0.5884</td>\n",
       "      <td>0.646619</td>\n",
       "      <td>DecisionTreeClassifier()</td>\n",
       "    </tr>\n",
       "    <tr>\n",
       "      <th>WGTP45</th>\n",
       "      <td>PRIVCOV</td>\n",
       "      <td>0.136592</td>\n",
       "      <td>classification</td>\n",
       "      <td>True</td>\n",
       "      <td>weighted F1</td>\n",
       "      <td>0.5884</td>\n",
       "      <td>0.644621</td>\n",
       "      <td>DecisionTreeClassifier()</td>\n",
       "    </tr>\n",
       "    <tr>\n",
       "      <th>WGTP57</th>\n",
       "      <td>PRIVCOV</td>\n",
       "      <td>0.135941</td>\n",
       "      <td>classification</td>\n",
       "      <td>True</td>\n",
       "      <td>weighted F1</td>\n",
       "      <td>0.5884</td>\n",
       "      <td>0.644353</td>\n",
       "      <td>DecisionTreeClassifier()</td>\n",
       "    </tr>\n",
       "  </tbody>\n",
       "</table>\n",
       "</div>"
      ],
      "text/plain": [
       "              y   ppscore            case  is_valid_score       metric  \\\n",
       "x                                                                        \n",
       "HINCP   PRIVCOV  0.240855  classification            True  weighted F1   \n",
       "DIS     PRIVCOV  0.229637  classification            True  weighted F1   \n",
       "FS      PRIVCOV  0.182332  classification            True  weighted F1   \n",
       "VEH     PRIVCOV  0.167774  classification            True  weighted F1   \n",
       "POVPIP  PRIVCOV  0.154832  classification            True  weighted F1   \n",
       "WGTP37  PRIVCOV  0.151480  classification            True  weighted F1   \n",
       "WGTP51  PRIVCOV  0.142115  classification            True  weighted F1   \n",
       "WGTP7   PRIVCOV  0.141446  classification            True  weighted F1   \n",
       "WGTP45  PRIVCOV  0.136592  classification            True  weighted F1   \n",
       "WGTP57  PRIVCOV  0.135941  classification            True  weighted F1   \n",
       "\n",
       "        baseline_score  model_score                     model  \n",
       "x                                                              \n",
       "HINCP           0.5884     0.687536  DecisionTreeClassifier()  \n",
       "DIS             0.5884     0.682919  DecisionTreeClassifier()  \n",
       "FS              0.5884     0.663448  DecisionTreeClassifier()  \n",
       "VEH             0.5884     0.657456  DecisionTreeClassifier()  \n",
       "POVPIP          0.5884     0.652129  DecisionTreeClassifier()  \n",
       "WGTP37          0.5884     0.650749  DecisionTreeClassifier()  \n",
       "WGTP51          0.5884     0.646895  DecisionTreeClassifier()  \n",
       "WGTP7           0.5884     0.646619  DecisionTreeClassifier()  \n",
       "WGTP45          0.5884     0.644621  DecisionTreeClassifier()  \n",
       "WGTP57          0.5884     0.644353  DecisionTreeClassifier()  "
      ]
     },
     "execution_count": 4,
     "metadata": {},
     "output_type": "execute_result"
    }
   ],
   "source": [
    "# use predictive power score to see if there's a relationship between our target variable and other columns\n",
    "predictors_df = pps.predictors(df, y=target,sorted=True)\n",
    "predictors_df.set_index('x',inplace=True)\n",
    "predictors_df.head(10)"
   ]
  },
  {
   "cell_type": "code",
   "execution_count": 5,
   "id": "5dac809e",
   "metadata": {},
   "outputs": [],
   "source": [
    "def ecdf(x):\n",
    "    y = list()\n",
    "    for i in x:\n",
    "        y.append(sum(x <= i)/len(x))\n",
    "    return x,y"
   ]
  },
  {
   "cell_type": "code",
   "execution_count": 6,
   "id": "cf9cdcfe",
   "metadata": {},
   "outputs": [
    {
     "data": {
      "image/png": "[encoded data removed]",
      "text/plain": [
       "<Figure size 720x432 with 1 Axes>"
      ]
     },
     "metadata": {
      "needs_background": "light"
     },
     "output_type": "display_data"
    }
   ],
   "source": [
    "fig,ax=plt.subplots(figsize=(10,6))\n",
    "\n",
    "x,y=ecdf(predictors_df['ppscore'])\n",
    "ax.plot(x,y,marker='.',linestyle='None',color='None',markerfacecolor='blue',alpha=0.3)\n",
    "sns.despine()\n",
    "sns.color_palette('hls',8)\n",
    "ax.set_xlabel('predictive power score')\n",
    "ax.set_ylabel('prop. of columns <= x (pps)')\n",
    "\n",
    "plt.show()"
   ]
  },
  {
   "cell_type": "code",
   "execution_count": 7,
   "id": "3b17d6ae",
   "metadata": {},
   "outputs": [],
   "source": [
    "# we can first just set a low threshold to get rid of columns with very low pps\n",
    "pps_0 = predictors_df[predictors_df['ppscore'] == 0].index\n",
    "predictors_df = predictors_df.drop(index=pps_0,axis=0)\n",
    "df = df.drop(pps_0,axis=1)\n",
    "verbdf = verbdf.drop(pps_0,axis=1)"
   ]
  },
  {
   "cell_type": "code",
   "execution_count": 8,
   "id": "572f9ad6",
   "metadata": {},
   "outputs": [
    {
     "data": {
      "image/png": "[encoded data removed]",
      "text/plain": [
       "<Figure size 432x288 with 1 Axes>"
      ]
     },
     "metadata": {
      "needs_background": "light"
     },
     "output_type": "display_data"
    }
   ],
   "source": [
    "from sklearn.cluster import KMeans\n",
    "from sklearn.metrics import silhouette_score\n",
    "\n",
    "pps = predictors_df[['ppscore']]\n",
    "ks = [2,3,4,5]\n",
    "silh_score = []\n",
    "for k in ks:\n",
    "    kmeans = KMeans(n_clusters=k)\n",
    "    kmeans.fit(pps)\n",
    "    silh_score.append(silhouette_score(pps,kmeans.predict(pps)))\n",
    "plt.plot(ks,silh_score,marker='D')\n",
    "plt.xlabel(\"k\")\n",
    "plt.ylabel('silhouette score')\n",
    "sns.despine()\n",
    "plt.show()"
   ]
  },
  {
   "cell_type": "code",
   "execution_count": 9,
   "id": "7dc71d79",
   "metadata": {},
   "outputs": [],
   "source": [
    "k_best = ks[silh_score.index(max(silh_score))]\n",
    "kmeans = KMeans(n_clusters=k_best)\n",
    "kmeans.fit(pps)\n",
    "clust = kmeans.labels_"
   ]
  },
  {
   "cell_type": "code",
   "execution_count": 10,
   "id": "5f825551",
   "metadata": {},
   "outputs": [
    {
     "data": {
      "image/png": "[encoded data removed]",
      "text/plain": [
       "<Figure size 1080x360 with 2 Axes>"
      ]
     },
     "metadata": {
      "needs_background": "light"
     },
     "output_type": "display_data"
    }
   ],
   "source": [
    "from matplotlib import cm\n",
    "cmap=cm.get_cmap('viridis_r', k_best)\n",
    "colors = cmap.colors\n",
    "\n",
    "fig,ax=plt.subplots(ncols=2,nrows=1,figsize=(15,5))\n",
    "x,y=ecdf(predictors_df['ppscore'])\n",
    "for i in range(len(x)):\n",
    "    ax[0].plot(x[i],y[i],marker='.',linestyle='None',color=colors[clust[i]],markerfacecolor=colors[clust[i]],alpha=0.6)\n",
    "sns.despine()\n",
    "ax[0].set_xlabel('predictive power score')\n",
    "ax[0].set_ylabel('prop. of columns <= x (pps)')\n",
    "ax[0].set_title('pps: clusters labeled')\n",
    "ax[1].hist(predictors_df['ppscore'])\n",
    "ax[1].set_xlabel('predictive power score')\n",
    "ax[1].set_ylabel('n columns')\n",
    "plt.show()"
   ]
  },
  {
   "cell_type": "code",
   "execution_count": 11,
   "id": "0d376a46",
   "metadata": {},
   "outputs": [
    {
     "data": {
      "text/html": [
       "<div>\n",
       "<style scoped>\n",
       "    .dataframe tbody tr th:only-of-type {\n",
       "        vertical-align: middle;\n",
       "    }\n",
       "\n",
       "    .dataframe tbody tr th {\n",
       "        vertical-align: top;\n",
       "    }\n",
       "\n",
       "    .dataframe thead th {\n",
       "        text-align: right;\n",
       "    }\n",
       "</style>\n",
       "<table border=\"1\" class=\"dataframe\">\n",
       "  <thead>\n",
       "    <tr style=\"text-align: right;\">\n",
       "      <th></th>\n",
       "      <th>ppscore</th>\n",
       "      <th>is_valid_score</th>\n",
       "      <th>baseline_score</th>\n",
       "      <th>model_score</th>\n",
       "    </tr>\n",
       "    <tr>\n",
       "      <th>clust</th>\n",
       "      <th></th>\n",
       "      <th></th>\n",
       "      <th></th>\n",
       "      <th></th>\n",
       "    </tr>\n",
       "  </thead>\n",
       "  <tbody>\n",
       "    <tr>\n",
       "      <th>1</th>\n",
       "      <td>0.035915</td>\n",
       "      <td>1.0</td>\n",
       "      <td>0.5884</td>\n",
       "      <td>0.603182</td>\n",
       "    </tr>\n",
       "    <tr>\n",
       "      <th>0</th>\n",
       "      <td>0.108205</td>\n",
       "      <td>1.0</td>\n",
       "      <td>0.5884</td>\n",
       "      <td>0.632937</td>\n",
       "    </tr>\n",
       "  </tbody>\n",
       "</table>\n",
       "</div>"
      ],
      "text/plain": [
       "        ppscore  is_valid_score  baseline_score  model_score\n",
       "clust                                                       \n",
       "1      0.035915             1.0          0.5884     0.603182\n",
       "0      0.108205             1.0          0.5884     0.632937"
      ]
     },
     "execution_count": 11,
     "metadata": {},
     "output_type": "execute_result"
    }
   ],
   "source": [
    "# check which cluster corresponds to higher pps\n",
    "predictors_df['clust'] = clust\n",
    "srtdf = predictors_df.groupby('clust').mean().sort_values('ppscore',ascending=True)\n",
    "srtdf"
   ]
  },
  {
   "cell_type": "code",
   "execution_count": 12,
   "id": "7ee459ba",
   "metadata": {},
   "outputs": [
    {
     "name": "stdout",
     "output_type": "stream",
     "text": [
      "now there are 201 predictors left.\n"
     ]
    }
   ],
   "source": [
    "worst_clust = srtdf.index[0]\n",
    "pps_0 = predictors_df['ppscore'][clust==worst_clust].index\n",
    "predictors_df = predictors_df.drop(index=pps_0,axis=1)\n",
    "df = df.drop(pps_0,axis=1)\n",
    "verbdf = verbdf.drop(pps_0,axis=1)\n",
    "print('now there are ' + str(df.shape[1]) + ' predictors left.')"
   ]
  },
  {
   "cell_type": "code",
   "execution_count": 13,
   "id": "735c1e53",
   "metadata": {},
   "outputs": [
    {
     "data": {
      "text/plain": [
       "category    106\n",
       "int64        95\n",
       "dtype: int64"
      ]
     },
     "execution_count": 13,
     "metadata": {},
     "output_type": "execute_result"
    }
   ],
   "source": [
    "#what kind of variables are left? \n",
    "df.dtypes.astype('str').value_counts()"
   ]
  },
  {
   "cell_type": "code",
   "execution_count": 14,
   "id": "4caa736f",
   "metadata": {
    "scrolled": true
   },
   "outputs": [
    {
     "data": {
      "image/png": "[encoded data removed]",
      "text/plain": [
       "<Figure size 432x288 with 2 Axes>"
      ]
     },
     "metadata": {
      "needs_background": "light"
     },
     "output_type": "display_data"
    }
   ],
   "source": [
    "# correlation among numerical variables\n",
    "numdf = df.select_dtypes('int')\n",
    "sns.heatmap(numdf.corr(),vmin=-1,vmax=1)\n",
    "plt.show()       "
   ]
  },
  {
   "cell_type": "markdown",
   "id": "c60829eb",
   "metadata": {},
   "source": [
    "There are some groups of variables that are highly correlated. Perhaps PCA will help take care of these relationships?"
   ]
  },
  {
   "cell_type": "code",
   "execution_count": 15,
   "id": "a11b9897",
   "metadata": {},
   "outputs": [],
   "source": [
    "# save new data frames\n",
    "new_df_fname = os.path.join(datadir,'allstates_subsample' + str(nsamples) + '_eda_df.pkl')\n",
    "df.to_pickle(new_df_fname)\n",
    "\n",
    "verbdf_fname = os.path.join(datadir,'allstates_subsample' + str(nsamples) + '_eda_verbdf.pkl')\n",
    "verbdf.to_pickle(verbdf_fname)\n",
    "\n",
    "preddf_fname = os.path.join(datadir,'allstates_subsample' + str(nsamples) + '_eda_preddf.pkl')\n",
    "predictors_df.to_pickle(preddf_fname)"
   ]
  },
  {
   "cell_type": "code",
   "execution_count": 16,
   "id": "8f813517",
   "metadata": {},
   "outputs": [],
   "source": [
    "#cs = pd.crosstab(verbdf[codedict[target]],verbdf[codedict['FBATHP']])\n",
    "#plt.rcParams[\"figure.figsize\"] = (12,9)\n",
    "#plt.rc('font', size=15)\n",
    "#mosaic(cs.stack(),gap=0)\n",
    "#plt.show()"
   ]
  }
 ],
 "metadata": {
  "kernelspec": {
   "display_name": "Python 3 (ipykernel)",
   "language": "python",
   "name": "python3"
  },
  "language_info": {
   "codemirror_mode": {
    "name": "ipython",
    "version": 3
   },
   "file_extension": ".py",
   "mimetype": "text/x-python",
   "name": "python",
   "nbconvert_exporter": "python",
   "pygments_lexer": "ipython3",
   "version": "3.9.12"
  }
 },
 "nbformat": 4,
 "nbformat_minor": 5
}
