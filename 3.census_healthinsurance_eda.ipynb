{
 "cells": [
  {
   "cell_type": "markdown",
   "id": "b4884408",
   "metadata": {},
   "source": [
    "# predicting health coverage in the US"
   ]
  },
  {
   "cell_type": "markdown",
   "id": "c0ea8d50",
   "metadata": {},
   "source": [
    "This project will call data from the American Community Survey Public Use MicroSample(PUMS) API. The most recent survey publicly availble at this API is from 2019. (Note data from 2020 are available to download in csv files).\n",
    "\n",
    "This project uses the Census Bureau Data API but is not endorsed or certified by the Census Bureau.\n",
    "\n",
    "1. American Community Survey (ACS) (census.gov).\n",
    "https://www.census.gov/programs-surveys/acs/\n",
    "2. American Community Survey Data via API (census.gov).\n",
    "https://www.census.gov/programs-surveys/acs/data/data-via-api.html\n",
    "\n",
    "The goal of this project is to predict whether an individual has health insurance (or not) based on demographic data in the PUMS. "
   ]
  },
  {
   "cell_type": "code",
   "execution_count": 1,
   "id": "df6eba72",
   "metadata": {},
   "outputs": [],
   "source": [
    "# import libraries\n",
    "import os\n",
    "import glob\n",
    "import pandas as pd\n",
    "import requests\n",
    "import time\n",
    "import matplotlib.pyplot as plt\n",
    "import seaborn as sns\n",
    "import ppscore as pps\n",
    "import numpy as np\n",
    "from dotenv import load_dotenv\n",
    "from statsmodels.graphics.mosaicplot import mosaic\n",
    "import utils"
   ]
  },
  {
   "cell_type": "markdown",
   "id": "ad29b9d4",
   "metadata": {},
   "source": [
    "Load the cleaned data and the code dictionary for the column names."
   ]
  },
  {
   "cell_type": "code",
   "execution_count": 2,
   "id": "6e4dde16",
   "metadata": {},
   "outputs": [
    {
     "name": "stdout",
     "output_type": "stream",
     "text": [
      "our target variable is private health insurance coverage recode\n",
      "currently there are 447 predictors in the dataset.\n"
     ]
    }
   ],
   "source": [
    "_,_,_,nsamples=utils.getVars()\n",
    "datadir  = os.path.join(os.getcwd(),\"small_data\")\n",
    "\n",
    "df_fname = os.path.join(datadir,'allstates_subsample' + str(nsamples) + '_defvars_df.pkl')\n",
    "df = pd.read_pickle(df_fname)\n",
    "\n",
    "verbdf_fname = os.path.join(datadir,'allstates_subsample' + str(nsamples) + '_defvars_verbdf.pkl')\n",
    "verbdf = pd.read_pickle(verbdf_fname)\n",
    "\n",
    "fname    = os.path.join(datadir,str(nsamples) + 'targets_oi.csv')\n",
    "targ_oi  = pd.read_csv(fname)\n",
    "\n",
    "codedict,_ = utils.getCodeDictionary()\n",
    "target   = targ_oi['healthcodes'][1]\n",
    "\n",
    "print('our target variable is ' + codedict[target])\n",
    "print('currently there are ' + str(df.shape[1]-1) + ' predictors in the dataset.')"
   ]
  },
  {
   "cell_type": "code",
   "execution_count": 3,
   "id": "1cc4cc28",
   "metadata": {},
   "outputs": [
    {
     "data": {
      "text/html": [
       "<div>\n",
       "<style scoped>\n",
       "    .dataframe tbody tr th:only-of-type {\n",
       "        vertical-align: middle;\n",
       "    }\n",
       "\n",
       "    .dataframe tbody tr th {\n",
       "        vertical-align: top;\n",
       "    }\n",
       "\n",
       "    .dataframe thead th {\n",
       "        text-align: right;\n",
       "    }\n",
       "</style>\n",
       "<table border=\"1\" class=\"dataframe\">\n",
       "  <thead>\n",
       "    <tr style=\"text-align: right;\">\n",
       "      <th></th>\n",
       "      <th>HHLANP</th>\n",
       "      <th>FBATHP</th>\n",
       "      <th>DRIVESP</th>\n",
       "      <th>WGTP23</th>\n",
       "      <th>WGTP22</th>\n",
       "      <th>WGTP25</th>\n",
       "      <th>WGTP24</th>\n",
       "      <th>FWATP</th>\n",
       "      <th>WGTP21</th>\n",
       "      <th>WGTP20</th>\n",
       "      <th>...</th>\n",
       "      <th>FOD1P</th>\n",
       "      <th>FMARP</th>\n",
       "      <th>SOCP</th>\n",
       "      <th>FSMOCP</th>\n",
       "      <th>FDOUTP</th>\n",
       "      <th>PERNP</th>\n",
       "      <th>SCH</th>\n",
       "      <th>TEL</th>\n",
       "      <th>TEN</th>\n",
       "      <th>STATE</th>\n",
       "    </tr>\n",
       "  </thead>\n",
       "  <tbody>\n",
       "    <tr>\n",
       "      <th>0</th>\n",
       "      <td>9500</td>\n",
       "      <td>0</td>\n",
       "      <td>0</td>\n",
       "      <td>456</td>\n",
       "      <td>284</td>\n",
       "      <td>357</td>\n",
       "      <td>362</td>\n",
       "      <td>0</td>\n",
       "      <td>275</td>\n",
       "      <td>430</td>\n",
       "      <td>...</td>\n",
       "      <td>1099</td>\n",
       "      <td>0</td>\n",
       "      <td>-1</td>\n",
       "      <td>0</td>\n",
       "      <td>1</td>\n",
       "      <td>0</td>\n",
       "      <td>1</td>\n",
       "      <td>1</td>\n",
       "      <td>1</td>\n",
       "      <td>AL</td>\n",
       "    </tr>\n",
       "    <tr>\n",
       "      <th>1</th>\n",
       "      <td>2575</td>\n",
       "      <td>0</td>\n",
       "      <td>1</td>\n",
       "      <td>23</td>\n",
       "      <td>71</td>\n",
       "      <td>119</td>\n",
       "      <td>104</td>\n",
       "      <td>0</td>\n",
       "      <td>156</td>\n",
       "      <td>27</td>\n",
       "      <td>...</td>\n",
       "      <td>1099</td>\n",
       "      <td>0</td>\n",
       "      <td>395011</td>\n",
       "      <td>1</td>\n",
       "      <td>0</td>\n",
       "      <td>60000</td>\n",
       "      <td>1</td>\n",
       "      <td>1</td>\n",
       "      <td>1</td>\n",
       "      <td>AL</td>\n",
       "    </tr>\n",
       "    <tr>\n",
       "      <th>2</th>\n",
       "      <td>9500</td>\n",
       "      <td>0</td>\n",
       "      <td>1</td>\n",
       "      <td>60</td>\n",
       "      <td>9</td>\n",
       "      <td>37</td>\n",
       "      <td>34</td>\n",
       "      <td>0</td>\n",
       "      <td>33</td>\n",
       "      <td>33</td>\n",
       "      <td>...</td>\n",
       "      <td>1099</td>\n",
       "      <td>0</td>\n",
       "      <td>259040</td>\n",
       "      <td>1</td>\n",
       "      <td>0</td>\n",
       "      <td>5000</td>\n",
       "      <td>1</td>\n",
       "      <td>1</td>\n",
       "      <td>1</td>\n",
       "      <td>AL</td>\n",
       "    </tr>\n",
       "    <tr>\n",
       "      <th>3</th>\n",
       "      <td>9500</td>\n",
       "      <td>0</td>\n",
       "      <td>0</td>\n",
       "      <td>43</td>\n",
       "      <td>50</td>\n",
       "      <td>80</td>\n",
       "      <td>12</td>\n",
       "      <td>0</td>\n",
       "      <td>54</td>\n",
       "      <td>53</td>\n",
       "      <td>...</td>\n",
       "      <td>1099</td>\n",
       "      <td>0</td>\n",
       "      <td>-1</td>\n",
       "      <td>0</td>\n",
       "      <td>0</td>\n",
       "      <td>0</td>\n",
       "      <td>1</td>\n",
       "      <td>1</td>\n",
       "      <td>3</td>\n",
       "      <td>AL</td>\n",
       "    </tr>\n",
       "    <tr>\n",
       "      <th>4</th>\n",
       "      <td>9500</td>\n",
       "      <td>0</td>\n",
       "      <td>1</td>\n",
       "      <td>48</td>\n",
       "      <td>27</td>\n",
       "      <td>8</td>\n",
       "      <td>7</td>\n",
       "      <td>0</td>\n",
       "      <td>21</td>\n",
       "      <td>19</td>\n",
       "      <td>...</td>\n",
       "      <td>5200</td>\n",
       "      <td>0</td>\n",
       "      <td>1110XX</td>\n",
       "      <td>0</td>\n",
       "      <td>0</td>\n",
       "      <td>75000</td>\n",
       "      <td>1</td>\n",
       "      <td>1</td>\n",
       "      <td>4</td>\n",
       "      <td>AL</td>\n",
       "    </tr>\n",
       "  </tbody>\n",
       "</table>\n",
       "<p>5 rows × 448 columns</p>\n",
       "</div>"
      ],
      "text/plain": [
       "  HHLANP FBATHP DRIVESP  WGTP23  WGTP22  WGTP25  WGTP24 FWATP  WGTP21  WGTP20  \\\n",
       "0   9500      0       0     456     284     357     362     0     275     430   \n",
       "1   2575      0       1      23      71     119     104     0     156      27   \n",
       "2   9500      0       1      60       9      37      34     0      33      33   \n",
       "3   9500      0       0      43      50      80      12     0      54      53   \n",
       "4   9500      0       1      48      27       8       7     0      21      19   \n",
       "\n",
       "   ...  FOD1P  FMARP    SOCP  FSMOCP FDOUTP  PERNP SCH TEL TEN STATE  \n",
       "0  ...   1099      0      -1       0      1      0   1   1   1    AL  \n",
       "1  ...   1099      0  395011       1      0  60000   1   1   1    AL  \n",
       "2  ...   1099      0  259040       1      0   5000   1   1   1    AL  \n",
       "3  ...   1099      0      -1       0      0      0   1   1   3    AL  \n",
       "4  ...   5200      0  1110XX       0      0  75000   1   1   4    AL  \n",
       "\n",
       "[5 rows x 448 columns]"
      ]
     },
     "execution_count": 3,
     "metadata": {},
     "output_type": "execute_result"
    }
   ],
   "source": [
    "df.head()"
   ]
  },
  {
   "cell_type": "markdown",
   "id": "9f9a2b55",
   "metadata": {},
   "source": [
    "We know that there are a number of categorical variables in the dataset, as well as numerical variables. We can use the predictive power score (pps) to estimate the predictive power of each variable for our target variable. However, to use the predictive power score, we need to convert categorical variables to data type 'category.' "
   ]
  },
  {
   "cell_type": "code",
   "execution_count": 4,
   "id": "3191c6f6",
   "metadata": {},
   "outputs": [
    {
     "data": {
      "text/html": [
       "<div>\n",
       "<style scoped>\n",
       "    .dataframe tbody tr th:only-of-type {\n",
       "        vertical-align: middle;\n",
       "    }\n",
       "\n",
       "    .dataframe tbody tr th {\n",
       "        vertical-align: top;\n",
       "    }\n",
       "\n",
       "    .dataframe thead th {\n",
       "        text-align: right;\n",
       "    }\n",
       "</style>\n",
       "<table border=\"1\" class=\"dataframe\">\n",
       "  <thead>\n",
       "    <tr style=\"text-align: right;\">\n",
       "      <th></th>\n",
       "      <th>y</th>\n",
       "      <th>ppscore</th>\n",
       "      <th>case</th>\n",
       "      <th>is_valid_score</th>\n",
       "      <th>metric</th>\n",
       "      <th>baseline_score</th>\n",
       "      <th>model_score</th>\n",
       "      <th>model</th>\n",
       "    </tr>\n",
       "    <tr>\n",
       "      <th>x</th>\n",
       "      <th></th>\n",
       "      <th></th>\n",
       "      <th></th>\n",
       "      <th></th>\n",
       "      <th></th>\n",
       "      <th></th>\n",
       "      <th></th>\n",
       "      <th></th>\n",
       "    </tr>\n",
       "  </thead>\n",
       "  <tbody>\n",
       "    <tr>\n",
       "      <th>HINCP</th>\n",
       "      <td>PRIVCOV</td>\n",
       "      <td>0.199202</td>\n",
       "      <td>classification</td>\n",
       "      <td>True</td>\n",
       "      <td>weighted F1</td>\n",
       "      <td>0.5904</td>\n",
       "      <td>0.671993</td>\n",
       "      <td>DecisionTreeClassifier()</td>\n",
       "    </tr>\n",
       "    <tr>\n",
       "      <th>WGTP31</th>\n",
       "      <td>PRIVCOV</td>\n",
       "      <td>0.102344</td>\n",
       "      <td>classification</td>\n",
       "      <td>True</td>\n",
       "      <td>weighted F1</td>\n",
       "      <td>0.5904</td>\n",
       "      <td>0.632320</td>\n",
       "      <td>DecisionTreeClassifier()</td>\n",
       "    </tr>\n",
       "    <tr>\n",
       "      <th>WGTP55</th>\n",
       "      <td>PRIVCOV</td>\n",
       "      <td>0.093380</td>\n",
       "      <td>classification</td>\n",
       "      <td>True</td>\n",
       "      <td>weighted F1</td>\n",
       "      <td>0.5904</td>\n",
       "      <td>0.628648</td>\n",
       "      <td>DecisionTreeClassifier()</td>\n",
       "    </tr>\n",
       "    <tr>\n",
       "      <th>WGTP52</th>\n",
       "      <td>PRIVCOV</td>\n",
       "      <td>0.093127</td>\n",
       "      <td>classification</td>\n",
       "      <td>True</td>\n",
       "      <td>weighted F1</td>\n",
       "      <td>0.5904</td>\n",
       "      <td>0.628545</td>\n",
       "      <td>DecisionTreeClassifier()</td>\n",
       "    </tr>\n",
       "    <tr>\n",
       "      <th>WGTP8</th>\n",
       "      <td>PRIVCOV</td>\n",
       "      <td>0.089876</td>\n",
       "      <td>classification</td>\n",
       "      <td>True</td>\n",
       "      <td>weighted F1</td>\n",
       "      <td>0.5904</td>\n",
       "      <td>0.627213</td>\n",
       "      <td>DecisionTreeClassifier()</td>\n",
       "    </tr>\n",
       "    <tr>\n",
       "      <th>WGTP43</th>\n",
       "      <td>PRIVCOV</td>\n",
       "      <td>0.088434</td>\n",
       "      <td>classification</td>\n",
       "      <td>True</td>\n",
       "      <td>weighted F1</td>\n",
       "      <td>0.5904</td>\n",
       "      <td>0.626623</td>\n",
       "      <td>DecisionTreeClassifier()</td>\n",
       "    </tr>\n",
       "    <tr>\n",
       "      <th>WGTP2</th>\n",
       "      <td>PRIVCOV</td>\n",
       "      <td>0.087011</td>\n",
       "      <td>classification</td>\n",
       "      <td>True</td>\n",
       "      <td>weighted F1</td>\n",
       "      <td>0.5904</td>\n",
       "      <td>0.626040</td>\n",
       "      <td>DecisionTreeClassifier()</td>\n",
       "    </tr>\n",
       "    <tr>\n",
       "      <th>WGTP57</th>\n",
       "      <td>PRIVCOV</td>\n",
       "      <td>0.086305</td>\n",
       "      <td>classification</td>\n",
       "      <td>True</td>\n",
       "      <td>weighted F1</td>\n",
       "      <td>0.5904</td>\n",
       "      <td>0.625750</td>\n",
       "      <td>DecisionTreeClassifier()</td>\n",
       "    </tr>\n",
       "    <tr>\n",
       "      <th>WGTP32</th>\n",
       "      <td>PRIVCOV</td>\n",
       "      <td>0.086169</td>\n",
       "      <td>classification</td>\n",
       "      <td>True</td>\n",
       "      <td>weighted F1</td>\n",
       "      <td>0.5904</td>\n",
       "      <td>0.625695</td>\n",
       "      <td>DecisionTreeClassifier()</td>\n",
       "    </tr>\n",
       "    <tr>\n",
       "      <th>WGTP25</th>\n",
       "      <td>PRIVCOV</td>\n",
       "      <td>0.085599</td>\n",
       "      <td>classification</td>\n",
       "      <td>True</td>\n",
       "      <td>weighted F1</td>\n",
       "      <td>0.5904</td>\n",
       "      <td>0.625461</td>\n",
       "      <td>DecisionTreeClassifier()</td>\n",
       "    </tr>\n",
       "  </tbody>\n",
       "</table>\n",
       "</div>"
      ],
      "text/plain": [
       "              y   ppscore            case  is_valid_score       metric  \\\n",
       "x                                                                        \n",
       "HINCP   PRIVCOV  0.199202  classification            True  weighted F1   \n",
       "WGTP31  PRIVCOV  0.102344  classification            True  weighted F1   \n",
       "WGTP55  PRIVCOV  0.093380  classification            True  weighted F1   \n",
       "WGTP52  PRIVCOV  0.093127  classification            True  weighted F1   \n",
       "WGTP8   PRIVCOV  0.089876  classification            True  weighted F1   \n",
       "WGTP43  PRIVCOV  0.088434  classification            True  weighted F1   \n",
       "WGTP2   PRIVCOV  0.087011  classification            True  weighted F1   \n",
       "WGTP57  PRIVCOV  0.086305  classification            True  weighted F1   \n",
       "WGTP32  PRIVCOV  0.086169  classification            True  weighted F1   \n",
       "WGTP25  PRIVCOV  0.085599  classification            True  weighted F1   \n",
       "\n",
       "        baseline_score  model_score                     model  \n",
       "x                                                              \n",
       "HINCP           0.5904     0.671993  DecisionTreeClassifier()  \n",
       "WGTP31          0.5904     0.632320  DecisionTreeClassifier()  \n",
       "WGTP55          0.5904     0.628648  DecisionTreeClassifier()  \n",
       "WGTP52          0.5904     0.628545  DecisionTreeClassifier()  \n",
       "WGTP8           0.5904     0.627213  DecisionTreeClassifier()  \n",
       "WGTP43          0.5904     0.626623  DecisionTreeClassifier()  \n",
       "WGTP2           0.5904     0.626040  DecisionTreeClassifier()  \n",
       "WGTP57          0.5904     0.625750  DecisionTreeClassifier()  \n",
       "WGTP32          0.5904     0.625695  DecisionTreeClassifier()  \n",
       "WGTP25          0.5904     0.625461  DecisionTreeClassifier()  "
      ]
     },
     "execution_count": 4,
     "metadata": {},
     "output_type": "execute_result"
    }
   ],
   "source": [
    "# use predictive power score to see if there's a relationship between our target variable and other columns\n",
    "predictors_df = pps.predictors(df, y=target,sorted=True)\n",
    "predictors_df.set_index('x',inplace=True)\n",
    "predictors_df.head(10)"
   ]
  },
  {
   "cell_type": "code",
   "execution_count": 5,
   "id": "5dac809e",
   "metadata": {},
   "outputs": [],
   "source": [
    "def ecdf(x):\n",
    "    y = list()\n",
    "    for i in x:\n",
    "        y.append(sum(x <= i)/len(x))\n",
    "    return x,y"
   ]
  },
  {
   "cell_type": "code",
   "execution_count": 6,
   "id": "cf9cdcfe",
   "metadata": {},
   "outputs": [
    {
     "data": {
      "image/png": "[encoded data removed]",
      "text/plain": [
       "<Figure size 720x432 with 1 Axes>"
      ]
     },
     "metadata": {
      "needs_background": "light"
     },
     "output_type": "display_data"
    }
   ],
   "source": [
    "fig,ax=plt.subplots(figsize=(10,6))\n",
    "\n",
    "x,y=ecdf(predictors_df['ppscore'])\n",
    "ax.plot(x,y,marker='.',linestyle='None',color='None',markerfacecolor='blue',alpha=0.3)\n",
    "sns.despine()\n",
    "sns.color_palette('hls',8)\n",
    "ax.set_xlabel('predictive power score')\n",
    "ax.set_ylabel('prop. of columns <= x (pps)')\n",
    "\n",
    "plt.show()"
   ]
  },
  {
   "cell_type": "code",
   "execution_count": 7,
   "id": "3b17d6ae",
   "metadata": {},
   "outputs": [],
   "source": [
    "# we can first just set a low threshold to get rid of columns with very low pps\n",
    "pps_0 = predictors_df[predictors_df['ppscore'] == 0].index\n",
    "predictors_df = predictors_df.drop(index=pps_0,axis=0)\n",
    "df = df.drop(pps_0,axis=1)\n",
    "verbdf = verbdf.drop(pps_0,axis=1)"
   ]
  },
  {
   "cell_type": "code",
   "execution_count": 8,
   "id": "572f9ad6",
   "metadata": {},
   "outputs": [
    {
     "data": {
      "image/png": "[encoded data removed]",
      "text/plain": [
       "<Figure size 432x288 with 1 Axes>"
      ]
     },
     "metadata": {
      "needs_background": "light"
     },
     "output_type": "display_data"
    }
   ],
   "source": [
    "from sklearn.cluster import KMeans\n",
    "from sklearn.metrics import silhouette_score\n",
    "\n",
    "pps = predictors_df[['ppscore']]\n",
    "ks = [2,3,4,5]\n",
    "silh_score = []\n",
    "for k in ks:\n",
    "    kmeans = KMeans(n_clusters=k)\n",
    "    kmeans.fit(pps)\n",
    "    silh_score.append(silhouette_score(pps,kmeans.predict(pps)))\n",
    "plt.plot(ks,silh_score,marker='D')\n",
    "plt.xlabel(\"k\")\n",
    "plt.ylabel('silhouette score')\n",
    "sns.despine()\n",
    "plt.show()"
   ]
  },
  {
   "cell_type": "code",
   "execution_count": 9,
   "id": "7dc71d79",
   "metadata": {},
   "outputs": [],
   "source": [
    "k_best = ks[silh_score.index(max(silh_score))]\n",
    "kmeans = KMeans(n_clusters=k_best)\n",
    "kmeans.fit(pps)\n",
    "clust = kmeans.labels_"
   ]
  },
  {
   "cell_type": "code",
   "execution_count": 10,
   "id": "5f825551",
   "metadata": {},
   "outputs": [
    {
     "data": {
      "image/png": "[encoded data removed]",
      "text/plain": [
       "<Figure size 1080x360 with 2 Axes>"
      ]
     },
     "metadata": {
      "needs_background": "light"
     },
     "output_type": "display_data"
    }
   ],
   "source": [
    "from matplotlib import cm\n",
    "cmap=cm.get_cmap('viridis_r', k_best)\n",
    "colors = cmap.colors\n",
    "\n",
    "fig,ax=plt.subplots(ncols=2,nrows=1,figsize=(15,5))\n",
    "x,y=ecdf(predictors_df['ppscore'])\n",
    "for i in range(len(x)):\n",
    "    ax[0].plot(x[i],y[i],marker='.',linestyle='None',color=colors[clust[i]],markerfacecolor=colors[clust[i]],alpha=0.6)\n",
    "sns.despine()\n",
    "ax[0].set_xlabel('predictive power score')\n",
    "ax[0].set_ylabel('prop. of columns <= x (pps)')\n",
    "ax[0].set_title('pps: clusters labeled')\n",
    "ax[1].hist(predictors_df['ppscore'])\n",
    "ax[1].set_xlabel('predictive power score')\n",
    "ax[1].set_ylabel('n columns')\n",
    "plt.show()"
   ]
  },
  {
   "cell_type": "code",
   "execution_count": 11,
   "id": "0d376a46",
   "metadata": {},
   "outputs": [
    {
     "data": {
      "text/html": [
       "<div>\n",
       "<style scoped>\n",
       "    .dataframe tbody tr th:only-of-type {\n",
       "        vertical-align: middle;\n",
       "    }\n",
       "\n",
       "    .dataframe tbody tr th {\n",
       "        vertical-align: top;\n",
       "    }\n",
       "\n",
       "    .dataframe thead th {\n",
       "        text-align: right;\n",
       "    }\n",
       "</style>\n",
       "<table border=\"1\" class=\"dataframe\">\n",
       "  <thead>\n",
       "    <tr style=\"text-align: right;\">\n",
       "      <th></th>\n",
       "      <th>ppscore</th>\n",
       "      <th>is_valid_score</th>\n",
       "      <th>baseline_score</th>\n",
       "      <th>model_score</th>\n",
       "    </tr>\n",
       "    <tr>\n",
       "      <th>clust</th>\n",
       "      <th></th>\n",
       "      <th></th>\n",
       "      <th></th>\n",
       "      <th></th>\n",
       "    </tr>\n",
       "  </thead>\n",
       "  <tbody>\n",
       "    <tr>\n",
       "      <th>1</th>\n",
       "      <td>0.018899</td>\n",
       "      <td>1.0</td>\n",
       "      <td>0.5904</td>\n",
       "      <td>0.598141</td>\n",
       "    </tr>\n",
       "    <tr>\n",
       "      <th>0</th>\n",
       "      <td>0.061975</td>\n",
       "      <td>1.0</td>\n",
       "      <td>0.5904</td>\n",
       "      <td>0.615785</td>\n",
       "    </tr>\n",
       "    <tr>\n",
       "      <th>2</th>\n",
       "      <td>0.199202</td>\n",
       "      <td>1.0</td>\n",
       "      <td>0.5904</td>\n",
       "      <td>0.671993</td>\n",
       "    </tr>\n",
       "  </tbody>\n",
       "</table>\n",
       "</div>"
      ],
      "text/plain": [
       "        ppscore  is_valid_score  baseline_score  model_score\n",
       "clust                                                       \n",
       "1      0.018899             1.0          0.5904     0.598141\n",
       "0      0.061975             1.0          0.5904     0.615785\n",
       "2      0.199202             1.0          0.5904     0.671993"
      ]
     },
     "execution_count": 11,
     "metadata": {},
     "output_type": "execute_result"
    }
   ],
   "source": [
    "# check which cluster corresponds to higher pps\n",
    "predictors_df['clust'] = clust\n",
    "srtdf = predictors_df.groupby('clust').mean().sort_values('ppscore',ascending=True)\n",
    "srtdf"
   ]
  },
  {
   "cell_type": "code",
   "execution_count": 12,
   "id": "7ee459ba",
   "metadata": {},
   "outputs": [
    {
     "name": "stdout",
     "output_type": "stream",
     "text": [
      "now there are 158 predictors left.\n"
     ]
    }
   ],
   "source": [
    "worst_clust = srtdf.index[0]\n",
    "pps_0 = predictors_df['ppscore'][clust==worst_clust].index\n",
    "predictors_df = predictors_df.drop(index=pps_0,axis=1)\n",
    "df = df.drop(pps_0,axis=1)\n",
    "verbdf = verbdf.drop(pps_0,axis=1)\n",
    "print('now there are ' + str(df.shape[1]) + ' predictors left.')"
   ]
  },
  {
   "cell_type": "code",
   "execution_count": 13,
   "id": "735c1e53",
   "metadata": {},
   "outputs": [
    {
     "data": {
      "text/plain": [
       "int64       81\n",
       "category    77\n",
       "dtype: int64"
      ]
     },
     "execution_count": 13,
     "metadata": {},
     "output_type": "execute_result"
    }
   ],
   "source": [
    "#what kind of variables are left? \n",
    "df.dtypes.astype('str').value_counts()"
   ]
  },
  {
   "cell_type": "code",
   "execution_count": 14,
   "id": "4caa736f",
   "metadata": {
    "scrolled": true
   },
   "outputs": [
    {
     "data": {
      "image/png": "[encoded data removed]",
      "text/plain": [
       "<Figure size 432x288 with 2 Axes>"
      ]
     },
     "metadata": {
      "needs_background": "light"
     },
     "output_type": "display_data"
    }
   ],
   "source": [
    "# correlation among numerical variables\n",
    "numdf = df.select_dtypes('int')\n",
    "sns.heatmap(numdf.corr(),vmin=-1,vmax=1)\n",
    "plt.show()       "
   ]
  },
  {
   "cell_type": "markdown",
   "id": "c60829eb",
   "metadata": {},
   "source": [
    "There are some groups of variables that are highly correlated. Perhaps PCA will help take care of these relationships?"
   ]
  },
  {
   "cell_type": "code",
   "execution_count": 15,
   "id": "a11b9897",
   "metadata": {},
   "outputs": [],
   "source": [
    "# save new data frames\n",
    "new_df_fname = os.path.join(datadir,'allstates_subsample' + str(nsamples) + '_eda_df.pkl')\n",
    "df.to_pickle(new_df_fname)\n",
    "\n",
    "verbdf_fname = os.path.join(datadir,'allstates_subsample' + str(nsamples) + '_eda_verbdf.pkl')\n",
    "verbdf.to_pickle(verbdf_fname)\n",
    "\n",
    "preddf_fname = os.path.join(datadir,'allstates_subsample' + str(nsamples) + '_eda_preddf.pkl')\n",
    "predictors_df.to_pickle(preddf_fname)"
   ]
  },
  {
   "cell_type": "code",
   "execution_count": 16,
   "id": "8f813517",
   "metadata": {},
   "outputs": [],
   "source": [
    "#cs = pd.crosstab(verbdf[codedict[target]],verbdf[codedict['FBATHP']])\n",
    "#plt.rcParams[\"figure.figsize\"] = (12,9)\n",
    "#plt.rc('font', size=15)\n",
    "#mosaic(cs.stack(),gap=0)\n",
    "#plt.show()"
   ]
  }
 ],
 "metadata": {
  "kernelspec": {
   "display_name": "Python 3 (ipykernel)",
   "language": "python",
   "name": "python3"
  },
  "language_info": {
   "codemirror_mode": {
    "name": "ipython",
    "version": 3
   },
   "file_extension": ".py",
   "mimetype": "text/x-python",
   "name": "python",
   "nbconvert_exporter": "python",
   "pygments_lexer": "ipython3",
   "version": "3.9.12"
  }
 },
 "nbformat": 4,
 "nbformat_minor": 5
}
